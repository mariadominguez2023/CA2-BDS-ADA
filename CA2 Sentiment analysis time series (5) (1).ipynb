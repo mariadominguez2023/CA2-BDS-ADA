{
 "cells": [
  {
   "cell_type": "markdown",
   "id": "93d398dd",
   "metadata": {},
   "source": [
    "## Sentiment Analysis on ProjectTweets\n",
    "\n",
    "Version control link: https://github.com/mariadominguez2023/CA2-BDS-ADA.git"
   ]
  },
  {
   "cell_type": "code",
   "execution_count": 1,
   "id": "31ff1e2a",
   "metadata": {},
   "outputs": [
    {
     "name": "stderr",
     "output_type": "stream",
     "text": [
      "[nltk_data] Downloading package stopwords to\n",
      "[nltk_data]     C:\\Users\\maria\\AppData\\Roaming\\nltk_data...\n",
      "[nltk_data]   Package stopwords is already up-to-date!\n"
     ]
    }
   ],
   "source": [
    "#Import the libraries\n",
    "import pandas as pd\n",
    "import numpy as np\n",
    "import seaborn as sns\n",
    "import re\n",
    "import string\n",
    "from string import punctuation\n",
    "import nltk\n",
    "from nltk.corpus import stopwords\n",
    "nltk.download('stopwords')\n",
    "\n",
    "\n",
    "import matplotlib.pyplot as plt\n",
    "from sklearn.model_selection import train_test_split\n",
    "from sklearn.feature_extraction.text import CountVectorizer\n",
    "from sklearn.feature_extraction.text import TfidfTransformer\n",
    "\n",
    "import tensorflow as tf\n",
    "from tensorflow.keras.models import Sequential\n",
    "from tensorflow.keras.layers import Dense, Activation, Dropout\n",
    "from tensorflow.keras.callbacks import EarlyStopping\n",
    "\n",
    "import warnings\n",
    "warnings.filterwarnings(\"ignore\")"
   ]
  },
  {
   "cell_type": "markdown",
   "id": "a10e7ce4",
   "metadata": {},
   "source": [
    "**Read data from csv file**"
   ]
  },
  {
   "cell_type": "code",
   "execution_count": 2,
   "id": "02d42b17",
   "metadata": {
    "scrolled": true
   },
   "outputs": [
    {
     "data": {
      "text/html": [
       "<div>\n",
       "<style scoped>\n",
       "    .dataframe tbody tr th:only-of-type {\n",
       "        vertical-align: middle;\n",
       "    }\n",
       "\n",
       "    .dataframe tbody tr th {\n",
       "        vertical-align: top;\n",
       "    }\n",
       "\n",
       "    .dataframe thead th {\n",
       "        text-align: right;\n",
       "    }\n",
       "</style>\n",
       "<table border=\"1\" class=\"dataframe\">\n",
       "  <thead>\n",
       "    <tr style=\"text-align: right;\">\n",
       "      <th></th>\n",
       "      <th>0</th>\n",
       "      <th>1467810369</th>\n",
       "      <th>Mon Apr 06 22:19:45 PDT 2009</th>\n",
       "      <th>NO_QUERY</th>\n",
       "      <th>_TheSpecialOne_</th>\n",
       "      <th>@switchfoot http://twitpic.com/2y1zl - Awww, that's a bummer.  You shoulda got David Carr of Third Day to do it. ;D</th>\n",
       "    </tr>\n",
       "  </thead>\n",
       "  <tbody>\n",
       "    <tr>\n",
       "      <th>0</th>\n",
       "      <td>1</td>\n",
       "      <td>1467810672</td>\n",
       "      <td>Mon Apr 06 22:19:49 PDT 2009</td>\n",
       "      <td>NO_QUERY</td>\n",
       "      <td>scotthamilton</td>\n",
       "      <td>is upset that he can't update his Facebook by ...</td>\n",
       "    </tr>\n",
       "    <tr>\n",
       "      <th>1</th>\n",
       "      <td>2</td>\n",
       "      <td>1467810917</td>\n",
       "      <td>Mon Apr 06 22:19:53 PDT 2009</td>\n",
       "      <td>NO_QUERY</td>\n",
       "      <td>mattycus</td>\n",
       "      <td>@Kenichan I dived many times for the ball. Man...</td>\n",
       "    </tr>\n",
       "    <tr>\n",
       "      <th>2</th>\n",
       "      <td>3</td>\n",
       "      <td>1467811184</td>\n",
       "      <td>Mon Apr 06 22:19:57 PDT 2009</td>\n",
       "      <td>NO_QUERY</td>\n",
       "      <td>ElleCTF</td>\n",
       "      <td>my whole body feels itchy and like its on fire</td>\n",
       "    </tr>\n",
       "    <tr>\n",
       "      <th>3</th>\n",
       "      <td>4</td>\n",
       "      <td>1467811193</td>\n",
       "      <td>Mon Apr 06 22:19:57 PDT 2009</td>\n",
       "      <td>NO_QUERY</td>\n",
       "      <td>Karoli</td>\n",
       "      <td>@nationwideclass no, it's not behaving at all....</td>\n",
       "    </tr>\n",
       "    <tr>\n",
       "      <th>4</th>\n",
       "      <td>5</td>\n",
       "      <td>1467811372</td>\n",
       "      <td>Mon Apr 06 22:20:00 PDT 2009</td>\n",
       "      <td>NO_QUERY</td>\n",
       "      <td>joy_wolf</td>\n",
       "      <td>@Kwesidei not the whole crew</td>\n",
       "    </tr>\n",
       "  </tbody>\n",
       "</table>\n",
       "</div>"
      ],
      "text/plain": [
       "   0  1467810369  Mon Apr 06 22:19:45 PDT 2009  NO_QUERY _TheSpecialOne_  \\\n",
       "0  1  1467810672  Mon Apr 06 22:19:49 PDT 2009  NO_QUERY   scotthamilton   \n",
       "1  2  1467810917  Mon Apr 06 22:19:53 PDT 2009  NO_QUERY        mattycus   \n",
       "2  3  1467811184  Mon Apr 06 22:19:57 PDT 2009  NO_QUERY         ElleCTF   \n",
       "3  4  1467811193  Mon Apr 06 22:19:57 PDT 2009  NO_QUERY          Karoli   \n",
       "4  5  1467811372  Mon Apr 06 22:20:00 PDT 2009  NO_QUERY        joy_wolf   \n",
       "\n",
       "  @switchfoot http://twitpic.com/2y1zl - Awww, that's a bummer.  You shoulda got David Carr of Third Day to do it. ;D  \n",
       "0  is upset that he can't update his Facebook by ...                                                                   \n",
       "1  @Kenichan I dived many times for the ball. Man...                                                                   \n",
       "2    my whole body feels itchy and like its on fire                                                                    \n",
       "3  @nationwideclass no, it's not behaving at all....                                                                   \n",
       "4                      @Kwesidei not the whole crew                                                                    "
      ]
     },
     "execution_count": 2,
     "metadata": {},
     "output_type": "execute_result"
    }
   ],
   "source": [
    "data = pd.read_csv('ProjectTweets.csv')\n",
    "data.head()"
   ]
  },
  {
   "cell_type": "code",
   "execution_count": 3,
   "id": "3c7f8f3a",
   "metadata": {
    "scrolled": true
   },
   "outputs": [
    {
     "data": {
      "text/plain": [
       "(1599999, 6)"
      ]
     },
     "execution_count": 3,
     "metadata": {},
     "output_type": "execute_result"
    }
   ],
   "source": [
    "#Shape of the dataframe\n",
    "data.shape"
   ]
  },
  {
   "cell_type": "code",
   "execution_count": 4,
   "id": "a9aa3868",
   "metadata": {},
   "outputs": [],
   "source": [
    "#Checking the type of data\n",
    "#data.info()"
   ]
  },
  {
   "cell_type": "code",
   "execution_count": 5,
   "id": "496a8749",
   "metadata": {
    "scrolled": true
   },
   "outputs": [
    {
     "data": {
      "text/html": [
       "<div>\n",
       "<style scoped>\n",
       "    .dataframe tbody tr th:only-of-type {\n",
       "        vertical-align: middle;\n",
       "    }\n",
       "\n",
       "    .dataframe tbody tr th {\n",
       "        vertical-align: top;\n",
       "    }\n",
       "\n",
       "    .dataframe thead th {\n",
       "        text-align: right;\n",
       "    }\n",
       "</style>\n",
       "<table border=\"1\" class=\"dataframe\">\n",
       "  <thead>\n",
       "    <tr style=\"text-align: right;\">\n",
       "      <th></th>\n",
       "      <th>0</th>\n",
       "      <th>Tweet_ID</th>\n",
       "      <th>date</th>\n",
       "      <th>NO_QUERY</th>\n",
       "      <th>Twitter_User</th>\n",
       "      <th>@switchfoot http://twitpic.com/2y1zl - Awww, that's a bummer.  You shoulda got David Carr of Third Day to do it. ;D</th>\n",
       "    </tr>\n",
       "  </thead>\n",
       "  <tbody>\n",
       "    <tr>\n",
       "      <th>0</th>\n",
       "      <td>1</td>\n",
       "      <td>1467810672</td>\n",
       "      <td>Mon Apr 06 22:19:49 PDT 2009</td>\n",
       "      <td>NO_QUERY</td>\n",
       "      <td>scotthamilton</td>\n",
       "      <td>is upset that he can't update his Facebook by ...</td>\n",
       "    </tr>\n",
       "    <tr>\n",
       "      <th>1</th>\n",
       "      <td>2</td>\n",
       "      <td>1467810917</td>\n",
       "      <td>Mon Apr 06 22:19:53 PDT 2009</td>\n",
       "      <td>NO_QUERY</td>\n",
       "      <td>mattycus</td>\n",
       "      <td>@Kenichan I dived many times for the ball. Man...</td>\n",
       "    </tr>\n",
       "    <tr>\n",
       "      <th>2</th>\n",
       "      <td>3</td>\n",
       "      <td>1467811184</td>\n",
       "      <td>Mon Apr 06 22:19:57 PDT 2009</td>\n",
       "      <td>NO_QUERY</td>\n",
       "      <td>ElleCTF</td>\n",
       "      <td>my whole body feels itchy and like its on fire</td>\n",
       "    </tr>\n",
       "    <tr>\n",
       "      <th>3</th>\n",
       "      <td>4</td>\n",
       "      <td>1467811193</td>\n",
       "      <td>Mon Apr 06 22:19:57 PDT 2009</td>\n",
       "      <td>NO_QUERY</td>\n",
       "      <td>Karoli</td>\n",
       "      <td>@nationwideclass no, it's not behaving at all....</td>\n",
       "    </tr>\n",
       "    <tr>\n",
       "      <th>4</th>\n",
       "      <td>5</td>\n",
       "      <td>1467811372</td>\n",
       "      <td>Mon Apr 06 22:20:00 PDT 2009</td>\n",
       "      <td>NO_QUERY</td>\n",
       "      <td>joy_wolf</td>\n",
       "      <td>@Kwesidei not the whole crew</td>\n",
       "    </tr>\n",
       "  </tbody>\n",
       "</table>\n",
       "</div>"
      ],
      "text/plain": [
       "   0    Tweet_ID                          date  NO_QUERY   Twitter_User  \\\n",
       "0  1  1467810672  Mon Apr 06 22:19:49 PDT 2009  NO_QUERY  scotthamilton   \n",
       "1  2  1467810917  Mon Apr 06 22:19:53 PDT 2009  NO_QUERY       mattycus   \n",
       "2  3  1467811184  Mon Apr 06 22:19:57 PDT 2009  NO_QUERY        ElleCTF   \n",
       "3  4  1467811193  Mon Apr 06 22:19:57 PDT 2009  NO_QUERY         Karoli   \n",
       "4  5  1467811372  Mon Apr 06 22:20:00 PDT 2009  NO_QUERY       joy_wolf   \n",
       "\n",
       "  @switchfoot http://twitpic.com/2y1zl - Awww, that's a bummer.  You shoulda got David Carr of Third Day to do it. ;D  \n",
       "0  is upset that he can't update his Facebook by ...                                                                   \n",
       "1  @Kenichan I dived many times for the ball. Man...                                                                   \n",
       "2    my whole body feels itchy and like its on fire                                                                    \n",
       "3  @nationwideclass no, it's not behaving at all....                                                                   \n",
       "4                      @Kwesidei not the whole crew                                                                    "
      ]
     },
     "execution_count": 5,
     "metadata": {},
     "output_type": "execute_result"
    }
   ],
   "source": [
    "# Data preparation\n",
    "# ==============================================================================\n",
    "data = data.rename(columns={'1467810369': 'Tweet_ID', 'Mon Apr 06 22:19:45 PDT 2009': 'date','_TheSpecialOne_': 'Twitter_User'})\n",
    "data.head()"
   ]
  },
  {
   "cell_type": "code",
   "execution_count": 6,
   "id": "bfab4743",
   "metadata": {},
   "outputs": [
    {
     "data": {
      "text/plain": [
       "1599999"
      ]
     },
     "execution_count": 6,
     "metadata": {},
     "output_type": "execute_result"
    }
   ],
   "source": [
    "data['NO_QUERY'].count()"
   ]
  },
  {
   "cell_type": "code",
   "execution_count": 7,
   "id": "89fdf866",
   "metadata": {},
   "outputs": [],
   "source": [
    "def format_data(data):\n",
    "\n",
    "  last_col = str(data.columns[-1])\n",
    "  #first_col = str(data.columns[0])\n",
    "\n",
    "  data.rename(columns = {last_col: 'tweet_text'}, inplace=True) \n",
    "\n",
    "  # Change 0, 2, 4 to negative, neutral and positive\n",
    " # labels = {0: 'negative', 2: 'neutral', 4: 'positive'}\n",
    "  #data['polarity'] = data['polarity'].map(labels)\n",
    "\n",
    "  # Get only the two columns\n",
    "  return data[['Tweet_ID','date','Twitter_User','tweet_text']]"
   ]
  },
  {
   "cell_type": "code",
   "execution_count": 8,
   "id": "00dd1d22",
   "metadata": {},
   "outputs": [
    {
     "data": {
      "text/html": [
       "<div>\n",
       "<style scoped>\n",
       "    .dataframe tbody tr th:only-of-type {\n",
       "        vertical-align: middle;\n",
       "    }\n",
       "\n",
       "    .dataframe tbody tr th {\n",
       "        vertical-align: top;\n",
       "    }\n",
       "\n",
       "    .dataframe thead th {\n",
       "        text-align: right;\n",
       "    }\n",
       "</style>\n",
       "<table border=\"1\" class=\"dataframe\">\n",
       "  <thead>\n",
       "    <tr style=\"text-align: right;\">\n",
       "      <th></th>\n",
       "      <th>Tweet_ID</th>\n",
       "      <th>date</th>\n",
       "      <th>Twitter_User</th>\n",
       "      <th>tweet_text</th>\n",
       "    </tr>\n",
       "  </thead>\n",
       "  <tbody>\n",
       "    <tr>\n",
       "      <th>0</th>\n",
       "      <td>1467810672</td>\n",
       "      <td>Mon Apr 06 22:19:49 PDT 2009</td>\n",
       "      <td>scotthamilton</td>\n",
       "      <td>is upset that he can't update his Facebook by ...</td>\n",
       "    </tr>\n",
       "    <tr>\n",
       "      <th>1</th>\n",
       "      <td>1467810917</td>\n",
       "      <td>Mon Apr 06 22:19:53 PDT 2009</td>\n",
       "      <td>mattycus</td>\n",
       "      <td>@Kenichan I dived many times for the ball. Man...</td>\n",
       "    </tr>\n",
       "    <tr>\n",
       "      <th>2</th>\n",
       "      <td>1467811184</td>\n",
       "      <td>Mon Apr 06 22:19:57 PDT 2009</td>\n",
       "      <td>ElleCTF</td>\n",
       "      <td>my whole body feels itchy and like its on fire</td>\n",
       "    </tr>\n",
       "    <tr>\n",
       "      <th>3</th>\n",
       "      <td>1467811193</td>\n",
       "      <td>Mon Apr 06 22:19:57 PDT 2009</td>\n",
       "      <td>Karoli</td>\n",
       "      <td>@nationwideclass no, it's not behaving at all....</td>\n",
       "    </tr>\n",
       "    <tr>\n",
       "      <th>4</th>\n",
       "      <td>1467811372</td>\n",
       "      <td>Mon Apr 06 22:20:00 PDT 2009</td>\n",
       "      <td>joy_wolf</td>\n",
       "      <td>@Kwesidei not the whole crew</td>\n",
       "    </tr>\n",
       "    <tr>\n",
       "      <th>5</th>\n",
       "      <td>1467811592</td>\n",
       "      <td>Mon Apr 06 22:20:03 PDT 2009</td>\n",
       "      <td>mybirch</td>\n",
       "      <td>Need a hug</td>\n",
       "    </tr>\n",
       "    <tr>\n",
       "      <th>6</th>\n",
       "      <td>1467811594</td>\n",
       "      <td>Mon Apr 06 22:20:03 PDT 2009</td>\n",
       "      <td>coZZ</td>\n",
       "      <td>@LOLTrish hey  long time no see! Yes.. Rains a...</td>\n",
       "    </tr>\n",
       "    <tr>\n",
       "      <th>7</th>\n",
       "      <td>1467811795</td>\n",
       "      <td>Mon Apr 06 22:20:05 PDT 2009</td>\n",
       "      <td>2Hood4Hollywood</td>\n",
       "      <td>@Tatiana_K nope they didn't have it</td>\n",
       "    </tr>\n",
       "    <tr>\n",
       "      <th>8</th>\n",
       "      <td>1467812025</td>\n",
       "      <td>Mon Apr 06 22:20:09 PDT 2009</td>\n",
       "      <td>mimismo</td>\n",
       "      <td>@twittera que me muera ?</td>\n",
       "    </tr>\n",
       "    <tr>\n",
       "      <th>9</th>\n",
       "      <td>1467812416</td>\n",
       "      <td>Mon Apr 06 22:20:16 PDT 2009</td>\n",
       "      <td>erinx3leannexo</td>\n",
       "      <td>spring break in plain city... it's snowing</td>\n",
       "    </tr>\n",
       "  </tbody>\n",
       "</table>\n",
       "</div>"
      ],
      "text/plain": [
       "     Tweet_ID                          date     Twitter_User  \\\n",
       "0  1467810672  Mon Apr 06 22:19:49 PDT 2009    scotthamilton   \n",
       "1  1467810917  Mon Apr 06 22:19:53 PDT 2009         mattycus   \n",
       "2  1467811184  Mon Apr 06 22:19:57 PDT 2009          ElleCTF   \n",
       "3  1467811193  Mon Apr 06 22:19:57 PDT 2009           Karoli   \n",
       "4  1467811372  Mon Apr 06 22:20:00 PDT 2009         joy_wolf   \n",
       "5  1467811592  Mon Apr 06 22:20:03 PDT 2009          mybirch   \n",
       "6  1467811594  Mon Apr 06 22:20:03 PDT 2009             coZZ   \n",
       "7  1467811795  Mon Apr 06 22:20:05 PDT 2009  2Hood4Hollywood   \n",
       "8  1467812025  Mon Apr 06 22:20:09 PDT 2009          mimismo   \n",
       "9  1467812416  Mon Apr 06 22:20:16 PDT 2009   erinx3leannexo   \n",
       "\n",
       "                                          tweet_text  \n",
       "0  is upset that he can't update his Facebook by ...  \n",
       "1  @Kenichan I dived many times for the ball. Man...  \n",
       "2    my whole body feels itchy and like its on fire   \n",
       "3  @nationwideclass no, it's not behaving at all....  \n",
       "4                      @Kwesidei not the whole crew   \n",
       "5                                        Need a hug   \n",
       "6  @LOLTrish hey  long time no see! Yes.. Rains a...  \n",
       "7               @Tatiana_K nope they didn't have it   \n",
       "8                          @twittera que me muera ?   \n",
       "9        spring break in plain city... it's snowing   "
      ]
     },
     "execution_count": 8,
     "metadata": {},
     "output_type": "execute_result"
    }
   ],
   "source": [
    "data = format_data(data)\n",
    "data.head(10)"
   ]
  },
  {
   "cell_type": "code",
   "execution_count": 9,
   "id": "83b9a61c",
   "metadata": {},
   "outputs": [],
   "source": [
    "#Creating a new column \"title_mod\" using lambda function\n",
    "data[\"tweet_mod\"]=data[\"tweet_text\"].apply(lambda x: \" \".join(x.lower() for x in x.split()))"
   ]
  },
  {
   "cell_type": "code",
   "execution_count": 10,
   "id": "50f89976",
   "metadata": {
    "scrolled": true
   },
   "outputs": [
    {
     "data": {
      "text/html": [
       "<div>\n",
       "<style scoped>\n",
       "    .dataframe tbody tr th:only-of-type {\n",
       "        vertical-align: middle;\n",
       "    }\n",
       "\n",
       "    .dataframe tbody tr th {\n",
       "        vertical-align: top;\n",
       "    }\n",
       "\n",
       "    .dataframe thead th {\n",
       "        text-align: right;\n",
       "    }\n",
       "</style>\n",
       "<table border=\"1\" class=\"dataframe\">\n",
       "  <thead>\n",
       "    <tr style=\"text-align: right;\">\n",
       "      <th></th>\n",
       "      <th>Tweet_ID</th>\n",
       "      <th>date</th>\n",
       "      <th>Twitter_User</th>\n",
       "      <th>tweet_text</th>\n",
       "      <th>tweet_mod</th>\n",
       "    </tr>\n",
       "  </thead>\n",
       "  <tbody>\n",
       "    <tr>\n",
       "      <th>0</th>\n",
       "      <td>1467810672</td>\n",
       "      <td>Mon Apr 06 22:19:49 PDT 2009</td>\n",
       "      <td>scotthamilton</td>\n",
       "      <td>is upset that he can't update his Facebook by ...</td>\n",
       "      <td>is upset that he can't update his facebook by ...</td>\n",
       "    </tr>\n",
       "    <tr>\n",
       "      <th>1</th>\n",
       "      <td>1467810917</td>\n",
       "      <td>Mon Apr 06 22:19:53 PDT 2009</td>\n",
       "      <td>mattycus</td>\n",
       "      <td>@Kenichan I dived many times for the ball. Man...</td>\n",
       "      <td>@kenichan i dived many times for the ball. man...</td>\n",
       "    </tr>\n",
       "    <tr>\n",
       "      <th>2</th>\n",
       "      <td>1467811184</td>\n",
       "      <td>Mon Apr 06 22:19:57 PDT 2009</td>\n",
       "      <td>ElleCTF</td>\n",
       "      <td>my whole body feels itchy and like its on fire</td>\n",
       "      <td>my whole body feels itchy and like its on fire</td>\n",
       "    </tr>\n",
       "    <tr>\n",
       "      <th>3</th>\n",
       "      <td>1467811193</td>\n",
       "      <td>Mon Apr 06 22:19:57 PDT 2009</td>\n",
       "      <td>Karoli</td>\n",
       "      <td>@nationwideclass no, it's not behaving at all....</td>\n",
       "      <td>@nationwideclass no, it's not behaving at all....</td>\n",
       "    </tr>\n",
       "    <tr>\n",
       "      <th>4</th>\n",
       "      <td>1467811372</td>\n",
       "      <td>Mon Apr 06 22:20:00 PDT 2009</td>\n",
       "      <td>joy_wolf</td>\n",
       "      <td>@Kwesidei not the whole crew</td>\n",
       "      <td>@kwesidei not the whole crew</td>\n",
       "    </tr>\n",
       "  </tbody>\n",
       "</table>\n",
       "</div>"
      ],
      "text/plain": [
       "     Tweet_ID                          date   Twitter_User  \\\n",
       "0  1467810672  Mon Apr 06 22:19:49 PDT 2009  scotthamilton   \n",
       "1  1467810917  Mon Apr 06 22:19:53 PDT 2009       mattycus   \n",
       "2  1467811184  Mon Apr 06 22:19:57 PDT 2009        ElleCTF   \n",
       "3  1467811193  Mon Apr 06 22:19:57 PDT 2009         Karoli   \n",
       "4  1467811372  Mon Apr 06 22:20:00 PDT 2009       joy_wolf   \n",
       "\n",
       "                                          tweet_text  \\\n",
       "0  is upset that he can't update his Facebook by ...   \n",
       "1  @Kenichan I dived many times for the ball. Man...   \n",
       "2    my whole body feels itchy and like its on fire    \n",
       "3  @nationwideclass no, it's not behaving at all....   \n",
       "4                      @Kwesidei not the whole crew    \n",
       "\n",
       "                                           tweet_mod  \n",
       "0  is upset that he can't update his facebook by ...  \n",
       "1  @kenichan i dived many times for the ball. man...  \n",
       "2     my whole body feels itchy and like its on fire  \n",
       "3  @nationwideclass no, it's not behaving at all....  \n",
       "4                       @kwesidei not the whole crew  "
      ]
     },
     "execution_count": 10,
     "metadata": {},
     "output_type": "execute_result"
    }
   ],
   "source": [
    "data.head()"
   ]
  },
  {
   "cell_type": "code",
   "execution_count": 11,
   "id": "55613fad",
   "metadata": {
    "scrolled": true
   },
   "outputs": [],
   "source": [
    "#Removing any special character from text\n",
    "data[\"tweet_mod\"]=data[\"tweet_mod\"].str.replace(\"[^\\w\\s]\",\"\")"
   ]
  },
  {
   "cell_type": "code",
   "execution_count": 12,
   "id": "ed94e558",
   "metadata": {
    "scrolled": true
   },
   "outputs": [
    {
     "data": {
      "text/html": [
       "<div>\n",
       "<style scoped>\n",
       "    .dataframe tbody tr th:only-of-type {\n",
       "        vertical-align: middle;\n",
       "    }\n",
       "\n",
       "    .dataframe tbody tr th {\n",
       "        vertical-align: top;\n",
       "    }\n",
       "\n",
       "    .dataframe thead th {\n",
       "        text-align: right;\n",
       "    }\n",
       "</style>\n",
       "<table border=\"1\" class=\"dataframe\">\n",
       "  <thead>\n",
       "    <tr style=\"text-align: right;\">\n",
       "      <th></th>\n",
       "      <th>Tweet_ID</th>\n",
       "      <th>date</th>\n",
       "      <th>Twitter_User</th>\n",
       "      <th>tweet_text</th>\n",
       "      <th>tweet_mod</th>\n",
       "    </tr>\n",
       "  </thead>\n",
       "  <tbody>\n",
       "    <tr>\n",
       "      <th>0</th>\n",
       "      <td>1467810672</td>\n",
       "      <td>Mon Apr 06 22:19:49 PDT 2009</td>\n",
       "      <td>scotthamilton</td>\n",
       "      <td>is upset that he can't update his Facebook by ...</td>\n",
       "      <td>is upset that he cant update his facebook by t...</td>\n",
       "    </tr>\n",
       "    <tr>\n",
       "      <th>1</th>\n",
       "      <td>1467810917</td>\n",
       "      <td>Mon Apr 06 22:19:53 PDT 2009</td>\n",
       "      <td>mattycus</td>\n",
       "      <td>@Kenichan I dived many times for the ball. Man...</td>\n",
       "      <td>kenichan i dived many times for the ball manag...</td>\n",
       "    </tr>\n",
       "    <tr>\n",
       "      <th>2</th>\n",
       "      <td>1467811184</td>\n",
       "      <td>Mon Apr 06 22:19:57 PDT 2009</td>\n",
       "      <td>ElleCTF</td>\n",
       "      <td>my whole body feels itchy and like its on fire</td>\n",
       "      <td>my whole body feels itchy and like its on fire</td>\n",
       "    </tr>\n",
       "    <tr>\n",
       "      <th>3</th>\n",
       "      <td>1467811193</td>\n",
       "      <td>Mon Apr 06 22:19:57 PDT 2009</td>\n",
       "      <td>Karoli</td>\n",
       "      <td>@nationwideclass no, it's not behaving at all....</td>\n",
       "      <td>nationwideclass no its not behaving at all im ...</td>\n",
       "    </tr>\n",
       "    <tr>\n",
       "      <th>4</th>\n",
       "      <td>1467811372</td>\n",
       "      <td>Mon Apr 06 22:20:00 PDT 2009</td>\n",
       "      <td>joy_wolf</td>\n",
       "      <td>@Kwesidei not the whole crew</td>\n",
       "      <td>kwesidei not the whole crew</td>\n",
       "    </tr>\n",
       "  </tbody>\n",
       "</table>\n",
       "</div>"
      ],
      "text/plain": [
       "     Tweet_ID                          date   Twitter_User  \\\n",
       "0  1467810672  Mon Apr 06 22:19:49 PDT 2009  scotthamilton   \n",
       "1  1467810917  Mon Apr 06 22:19:53 PDT 2009       mattycus   \n",
       "2  1467811184  Mon Apr 06 22:19:57 PDT 2009        ElleCTF   \n",
       "3  1467811193  Mon Apr 06 22:19:57 PDT 2009         Karoli   \n",
       "4  1467811372  Mon Apr 06 22:20:00 PDT 2009       joy_wolf   \n",
       "\n",
       "                                          tweet_text  \\\n",
       "0  is upset that he can't update his Facebook by ...   \n",
       "1  @Kenichan I dived many times for the ball. Man...   \n",
       "2    my whole body feels itchy and like its on fire    \n",
       "3  @nationwideclass no, it's not behaving at all....   \n",
       "4                      @Kwesidei not the whole crew    \n",
       "\n",
       "                                           tweet_mod  \n",
       "0  is upset that he cant update his facebook by t...  \n",
       "1  kenichan i dived many times for the ball manag...  \n",
       "2     my whole body feels itchy and like its on fire  \n",
       "3  nationwideclass no its not behaving at all im ...  \n",
       "4                        kwesidei not the whole crew  "
      ]
     },
     "execution_count": 12,
     "metadata": {},
     "output_type": "execute_result"
    }
   ],
   "source": [
    "data.head()"
   ]
  },
  {
   "cell_type": "code",
   "execution_count": 13,
   "id": "eb5967eb",
   "metadata": {},
   "outputs": [],
   "source": [
    "#pip install textblob"
   ]
  },
  {
   "cell_type": "code",
   "execution_count": 14,
   "id": "a4262f1b",
   "metadata": {},
   "outputs": [],
   "source": [
    "#Importing textblow library\n",
    "from textblob import TextBlob"
   ]
  },
  {
   "cell_type": "code",
   "execution_count": 15,
   "id": "2845bbad",
   "metadata": {
    "scrolled": true
   },
   "outputs": [
    {
     "data": {
      "text/plain": [
       "0       (0.0, 0.0)\n",
       "1       (0.5, 0.5)\n",
       "2       (0.2, 0.4)\n",
       "3    (-0.625, 1.0)\n",
       "4       (0.2, 0.4)\n",
       "Name: tweet_mod, dtype: object"
      ]
     },
     "execution_count": 15,
     "metadata": {},
     "output_type": "execute_result"
    }
   ],
   "source": [
    "# Extract the emotional value, the sentiment from this text\n",
    "#first number is the sentimient, second is the number times this words is talked about\n",
    "data[\"tweet_mod\"][:5].apply(lambda x : TextBlob(x).sentiment)"
   ]
  },
  {
   "cell_type": "code",
   "execution_count": 16,
   "id": "7830bfac",
   "metadata": {},
   "outputs": [],
   "source": [
    "#creating a new column \"sentiment\"\n",
    "#going through each of the comments and exgtracting the sentiment analysis stored into it\n",
    "data[\"sentiment\"]=data[\"tweet_mod\"].apply(lambda x: TextBlob(x).sentiment[0])"
   ]
  },
  {
   "cell_type": "code",
   "execution_count": 17,
   "id": "b1b20b64",
   "metadata": {
    "scrolled": true
   },
   "outputs": [
    {
     "data": {
      "text/html": [
       "<div>\n",
       "<style scoped>\n",
       "    .dataframe tbody tr th:only-of-type {\n",
       "        vertical-align: middle;\n",
       "    }\n",
       "\n",
       "    .dataframe tbody tr th {\n",
       "        vertical-align: top;\n",
       "    }\n",
       "\n",
       "    .dataframe thead th {\n",
       "        text-align: right;\n",
       "    }\n",
       "</style>\n",
       "<table border=\"1\" class=\"dataframe\">\n",
       "  <thead>\n",
       "    <tr style=\"text-align: right;\">\n",
       "      <th></th>\n",
       "      <th>Tweet_ID</th>\n",
       "      <th>date</th>\n",
       "      <th>Twitter_User</th>\n",
       "      <th>tweet_text</th>\n",
       "      <th>tweet_mod</th>\n",
       "      <th>sentiment</th>\n",
       "    </tr>\n",
       "  </thead>\n",
       "  <tbody>\n",
       "    <tr>\n",
       "      <th>0</th>\n",
       "      <td>1467810672</td>\n",
       "      <td>Mon Apr 06 22:19:49 PDT 2009</td>\n",
       "      <td>scotthamilton</td>\n",
       "      <td>is upset that he can't update his Facebook by ...</td>\n",
       "      <td>is upset that he cant update his facebook by t...</td>\n",
       "      <td>0.000</td>\n",
       "    </tr>\n",
       "    <tr>\n",
       "      <th>1</th>\n",
       "      <td>1467810917</td>\n",
       "      <td>Mon Apr 06 22:19:53 PDT 2009</td>\n",
       "      <td>mattycus</td>\n",
       "      <td>@Kenichan I dived many times for the ball. Man...</td>\n",
       "      <td>kenichan i dived many times for the ball manag...</td>\n",
       "      <td>0.500</td>\n",
       "    </tr>\n",
       "    <tr>\n",
       "      <th>2</th>\n",
       "      <td>1467811184</td>\n",
       "      <td>Mon Apr 06 22:19:57 PDT 2009</td>\n",
       "      <td>ElleCTF</td>\n",
       "      <td>my whole body feels itchy and like its on fire</td>\n",
       "      <td>my whole body feels itchy and like its on fire</td>\n",
       "      <td>0.200</td>\n",
       "    </tr>\n",
       "    <tr>\n",
       "      <th>3</th>\n",
       "      <td>1467811193</td>\n",
       "      <td>Mon Apr 06 22:19:57 PDT 2009</td>\n",
       "      <td>Karoli</td>\n",
       "      <td>@nationwideclass no, it's not behaving at all....</td>\n",
       "      <td>nationwideclass no its not behaving at all im ...</td>\n",
       "      <td>-0.625</td>\n",
       "    </tr>\n",
       "    <tr>\n",
       "      <th>4</th>\n",
       "      <td>1467811372</td>\n",
       "      <td>Mon Apr 06 22:20:00 PDT 2009</td>\n",
       "      <td>joy_wolf</td>\n",
       "      <td>@Kwesidei not the whole crew</td>\n",
       "      <td>kwesidei not the whole crew</td>\n",
       "      <td>0.200</td>\n",
       "    </tr>\n",
       "  </tbody>\n",
       "</table>\n",
       "</div>"
      ],
      "text/plain": [
       "     Tweet_ID                          date   Twitter_User  \\\n",
       "0  1467810672  Mon Apr 06 22:19:49 PDT 2009  scotthamilton   \n",
       "1  1467810917  Mon Apr 06 22:19:53 PDT 2009       mattycus   \n",
       "2  1467811184  Mon Apr 06 22:19:57 PDT 2009        ElleCTF   \n",
       "3  1467811193  Mon Apr 06 22:19:57 PDT 2009         Karoli   \n",
       "4  1467811372  Mon Apr 06 22:20:00 PDT 2009       joy_wolf   \n",
       "\n",
       "                                          tweet_text  \\\n",
       "0  is upset that he can't update his Facebook by ...   \n",
       "1  @Kenichan I dived many times for the ball. Man...   \n",
       "2    my whole body feels itchy and like its on fire    \n",
       "3  @nationwideclass no, it's not behaving at all....   \n",
       "4                      @Kwesidei not the whole crew    \n",
       "\n",
       "                                           tweet_mod  sentiment  \n",
       "0  is upset that he cant update his facebook by t...      0.000  \n",
       "1  kenichan i dived many times for the ball manag...      0.500  \n",
       "2     my whole body feels itchy and like its on fire      0.200  \n",
       "3  nationwideclass no its not behaving at all im ...     -0.625  \n",
       "4                        kwesidei not the whole crew      0.200  "
      ]
     },
     "execution_count": 17,
     "metadata": {},
     "output_type": "execute_result"
    }
   ],
   "source": [
    "data.head()"
   ]
  },
  {
   "cell_type": "code",
   "execution_count": 18,
   "id": "af5ec51e",
   "metadata": {},
   "outputs": [],
   "source": [
    "#import numpy as np\n",
    "#Applying lambda function to categorise the sentimente of the text either \"negative\" or positive.\n",
    "data['sentiment_score'] = data['sentiment'].apply(lambda x: 'Positive' if x > 0.2 else('Neutral' if x == 0.2 else 'Negative'))\n",
    "#df['Polarity_Rating'] = df['Rating'].apply(lambda x: 'Positive' if x > 3 else('Neutral' if x == 3  else 'Negative'))"
   ]
  },
  {
   "cell_type": "code",
   "execution_count": 19,
   "id": "37939940",
   "metadata": {
    "scrolled": true
   },
   "outputs": [
    {
     "data": {
      "text/html": [
       "<div>\n",
       "<style scoped>\n",
       "    .dataframe tbody tr th:only-of-type {\n",
       "        vertical-align: middle;\n",
       "    }\n",
       "\n",
       "    .dataframe tbody tr th {\n",
       "        vertical-align: top;\n",
       "    }\n",
       "\n",
       "    .dataframe thead th {\n",
       "        text-align: right;\n",
       "    }\n",
       "</style>\n",
       "<table border=\"1\" class=\"dataframe\">\n",
       "  <thead>\n",
       "    <tr style=\"text-align: right;\">\n",
       "      <th></th>\n",
       "      <th>Tweet_ID</th>\n",
       "      <th>date</th>\n",
       "      <th>Twitter_User</th>\n",
       "      <th>tweet_text</th>\n",
       "      <th>tweet_mod</th>\n",
       "      <th>sentiment</th>\n",
       "      <th>sentiment_score</th>\n",
       "    </tr>\n",
       "  </thead>\n",
       "  <tbody>\n",
       "    <tr>\n",
       "      <th>0</th>\n",
       "      <td>1467810672</td>\n",
       "      <td>Mon Apr 06 22:19:49 PDT 2009</td>\n",
       "      <td>scotthamilton</td>\n",
       "      <td>is upset that he can't update his Facebook by ...</td>\n",
       "      <td>is upset that he cant update his facebook by t...</td>\n",
       "      <td>0.000</td>\n",
       "      <td>Negative</td>\n",
       "    </tr>\n",
       "    <tr>\n",
       "      <th>1</th>\n",
       "      <td>1467810917</td>\n",
       "      <td>Mon Apr 06 22:19:53 PDT 2009</td>\n",
       "      <td>mattycus</td>\n",
       "      <td>@Kenichan I dived many times for the ball. Man...</td>\n",
       "      <td>kenichan i dived many times for the ball manag...</td>\n",
       "      <td>0.500</td>\n",
       "      <td>Positive</td>\n",
       "    </tr>\n",
       "    <tr>\n",
       "      <th>2</th>\n",
       "      <td>1467811184</td>\n",
       "      <td>Mon Apr 06 22:19:57 PDT 2009</td>\n",
       "      <td>ElleCTF</td>\n",
       "      <td>my whole body feels itchy and like its on fire</td>\n",
       "      <td>my whole body feels itchy and like its on fire</td>\n",
       "      <td>0.200</td>\n",
       "      <td>Neutral</td>\n",
       "    </tr>\n",
       "    <tr>\n",
       "      <th>3</th>\n",
       "      <td>1467811193</td>\n",
       "      <td>Mon Apr 06 22:19:57 PDT 2009</td>\n",
       "      <td>Karoli</td>\n",
       "      <td>@nationwideclass no, it's not behaving at all....</td>\n",
       "      <td>nationwideclass no its not behaving at all im ...</td>\n",
       "      <td>-0.625</td>\n",
       "      <td>Negative</td>\n",
       "    </tr>\n",
       "    <tr>\n",
       "      <th>4</th>\n",
       "      <td>1467811372</td>\n",
       "      <td>Mon Apr 06 22:20:00 PDT 2009</td>\n",
       "      <td>joy_wolf</td>\n",
       "      <td>@Kwesidei not the whole crew</td>\n",
       "      <td>kwesidei not the whole crew</td>\n",
       "      <td>0.200</td>\n",
       "      <td>Neutral</td>\n",
       "    </tr>\n",
       "  </tbody>\n",
       "</table>\n",
       "</div>"
      ],
      "text/plain": [
       "     Tweet_ID                          date   Twitter_User  \\\n",
       "0  1467810672  Mon Apr 06 22:19:49 PDT 2009  scotthamilton   \n",
       "1  1467810917  Mon Apr 06 22:19:53 PDT 2009       mattycus   \n",
       "2  1467811184  Mon Apr 06 22:19:57 PDT 2009        ElleCTF   \n",
       "3  1467811193  Mon Apr 06 22:19:57 PDT 2009         Karoli   \n",
       "4  1467811372  Mon Apr 06 22:20:00 PDT 2009       joy_wolf   \n",
       "\n",
       "                                          tweet_text  \\\n",
       "0  is upset that he can't update his Facebook by ...   \n",
       "1  @Kenichan I dived many times for the ball. Man...   \n",
       "2    my whole body feels itchy and like its on fire    \n",
       "3  @nationwideclass no, it's not behaving at all....   \n",
       "4                      @Kwesidei not the whole crew    \n",
       "\n",
       "                                           tweet_mod  sentiment  \\\n",
       "0  is upset that he cant update his facebook by t...      0.000   \n",
       "1  kenichan i dived many times for the ball manag...      0.500   \n",
       "2     my whole body feels itchy and like its on fire      0.200   \n",
       "3  nationwideclass no its not behaving at all im ...     -0.625   \n",
       "4                        kwesidei not the whole crew      0.200   \n",
       "\n",
       "  sentiment_score  \n",
       "0        Negative  \n",
       "1        Positive  \n",
       "2         Neutral  \n",
       "3        Negative  \n",
       "4         Neutral  "
      ]
     },
     "execution_count": 19,
     "metadata": {},
     "output_type": "execute_result"
    }
   ],
   "source": [
    "data.head()"
   ]
  },
  {
   "cell_type": "code",
   "execution_count": 20,
   "id": "1f9adbfa",
   "metadata": {
    "scrolled": true
   },
   "outputs": [
    {
     "data": {
      "text/html": [
       "<div>\n",
       "<style scoped>\n",
       "    .dataframe tbody tr th:only-of-type {\n",
       "        vertical-align: middle;\n",
       "    }\n",
       "\n",
       "    .dataframe tbody tr th {\n",
       "        vertical-align: top;\n",
       "    }\n",
       "\n",
       "    .dataframe thead th {\n",
       "        text-align: right;\n",
       "    }\n",
       "</style>\n",
       "<table border=\"1\" class=\"dataframe\">\n",
       "  <thead>\n",
       "    <tr style=\"text-align: right;\">\n",
       "      <th></th>\n",
       "      <th>Tweet_ID</th>\n",
       "      <th>date</th>\n",
       "      <th>Twitter_User</th>\n",
       "      <th>tweet_text</th>\n",
       "      <th>tweet_mod</th>\n",
       "      <th>sentiment</th>\n",
       "      <th>sentiment_score</th>\n",
       "    </tr>\n",
       "  </thead>\n",
       "  <tbody>\n",
       "    <tr>\n",
       "      <th>1599994</th>\n",
       "      <td>2193601966</td>\n",
       "      <td>Tue Jun 16 08:40:49 PDT 2009</td>\n",
       "      <td>AmandaMarie1028</td>\n",
       "      <td>Just woke up. Having no school is the best fee...</td>\n",
       "      <td>just woke up having no school is the best feel...</td>\n",
       "      <td>1.0000</td>\n",
       "      <td>Positive</td>\n",
       "    </tr>\n",
       "    <tr>\n",
       "      <th>1599995</th>\n",
       "      <td>2193601969</td>\n",
       "      <td>Tue Jun 16 08:40:49 PDT 2009</td>\n",
       "      <td>TheWDBoards</td>\n",
       "      <td>TheWDB.com - Very cool to hear old Walt interv...</td>\n",
       "      <td>thewdbcom  very cool to hear old walt intervie...</td>\n",
       "      <td>0.2775</td>\n",
       "      <td>Positive</td>\n",
       "    </tr>\n",
       "    <tr>\n",
       "      <th>1599996</th>\n",
       "      <td>2193601991</td>\n",
       "      <td>Tue Jun 16 08:40:49 PDT 2009</td>\n",
       "      <td>bpbabe</td>\n",
       "      <td>Are you ready for your MoJo Makeover? Ask me f...</td>\n",
       "      <td>are you ready for your mojo makeover ask me fo...</td>\n",
       "      <td>0.2000</td>\n",
       "      <td>Neutral</td>\n",
       "    </tr>\n",
       "    <tr>\n",
       "      <th>1599997</th>\n",
       "      <td>2193602064</td>\n",
       "      <td>Tue Jun 16 08:40:49 PDT 2009</td>\n",
       "      <td>tinydiamondz</td>\n",
       "      <td>Happy 38th Birthday to my boo of alll time!!! ...</td>\n",
       "      <td>happy 38th birthday to my boo of alll time tup...</td>\n",
       "      <td>0.8000</td>\n",
       "      <td>Positive</td>\n",
       "    </tr>\n",
       "    <tr>\n",
       "      <th>1599998</th>\n",
       "      <td>2193602129</td>\n",
       "      <td>Tue Jun 16 08:40:50 PDT 2009</td>\n",
       "      <td>RyanTrevMorris</td>\n",
       "      <td>happy #charitytuesday @theNSPCC @SparksCharity...</td>\n",
       "      <td>happy charitytuesday thenspcc sparkscharity sp...</td>\n",
       "      <td>0.8000</td>\n",
       "      <td>Positive</td>\n",
       "    </tr>\n",
       "  </tbody>\n",
       "</table>\n",
       "</div>"
      ],
      "text/plain": [
       "           Tweet_ID                          date     Twitter_User  \\\n",
       "1599994  2193601966  Tue Jun 16 08:40:49 PDT 2009  AmandaMarie1028   \n",
       "1599995  2193601969  Tue Jun 16 08:40:49 PDT 2009      TheWDBoards   \n",
       "1599996  2193601991  Tue Jun 16 08:40:49 PDT 2009           bpbabe   \n",
       "1599997  2193602064  Tue Jun 16 08:40:49 PDT 2009     tinydiamondz   \n",
       "1599998  2193602129  Tue Jun 16 08:40:50 PDT 2009   RyanTrevMorris   \n",
       "\n",
       "                                                tweet_text  \\\n",
       "1599994  Just woke up. Having no school is the best fee...   \n",
       "1599995  TheWDB.com - Very cool to hear old Walt interv...   \n",
       "1599996  Are you ready for your MoJo Makeover? Ask me f...   \n",
       "1599997  Happy 38th Birthday to my boo of alll time!!! ...   \n",
       "1599998  happy #charitytuesday @theNSPCC @SparksCharity...   \n",
       "\n",
       "                                                 tweet_mod  sentiment  \\\n",
       "1599994  just woke up having no school is the best feel...     1.0000   \n",
       "1599995  thewdbcom  very cool to hear old walt intervie...     0.2775   \n",
       "1599996  are you ready for your mojo makeover ask me fo...     0.2000   \n",
       "1599997  happy 38th birthday to my boo of alll time tup...     0.8000   \n",
       "1599998  happy charitytuesday thenspcc sparkscharity sp...     0.8000   \n",
       "\n",
       "        sentiment_score  \n",
       "1599994        Positive  \n",
       "1599995        Positive  \n",
       "1599996         Neutral  \n",
       "1599997        Positive  \n",
       "1599998        Positive  "
      ]
     },
     "execution_count": 20,
     "metadata": {},
     "output_type": "execute_result"
    }
   ],
   "source": [
    "data.tail()"
   ]
  },
  {
   "cell_type": "markdown",
   "id": "259bf701",
   "metadata": {},
   "source": [
    "**Plot the Sentiment_score visualization graph**"
   ]
  },
  {
   "cell_type": "code",
   "execution_count": 21,
   "id": "81db220b",
   "metadata": {
    "scrolled": false
   },
   "outputs": [
    {
     "data": {
      "text/plain": [
       "<Axes: xlabel='sentiment_score', ylabel='count'>"
      ]
     },
     "execution_count": 21,
     "metadata": {},
     "output_type": "execute_result"
    },
    {
     "data": {
      "image/png": "[encoded data removed]",
      "text/plain": [
       "<Figure size 640x480 with 1 Axes>"
      ]
     },
     "metadata": {},
     "output_type": "display_data"
    }
   ],
   "source": [
    "sns.set_style('whitegrid')\n",
    "sns.countplot(x='sentiment_score',data=data, palette='summer')"
   ]
  },
  {
   "cell_type": "markdown",
   "id": "9e9ebb38",
   "metadata": {},
   "source": [
    "**Data Preprocessing**"
   ]
  },
  {
   "cell_type": "code",
   "execution_count": 22,
   "id": "c008221f",
   "metadata": {},
   "outputs": [],
   "source": [
    "data_Positive = data[data['sentiment_score'] == 'Positive'][0:8000] \n",
    "data_Neutral = data[data['sentiment_score'] == 'Neutral']\n",
    "data_Negative = data[data['sentiment_score'] == 'Negative']"
   ]
  },
  {
   "cell_type": "markdown",
   "id": "026209d0",
   "metadata": {},
   "source": [
    "**Sample negative and neutral polarity dataset and create final dataframe**"
   ]
  },
  {
   "cell_type": "code",
   "execution_count": 23,
   "id": "ce0dabda",
   "metadata": {},
   "outputs": [],
   "source": [
    "data_Neutral_final = data_Neutral.sample(8000, replace=True)\n",
    "data_Negative_final = data_Negative.sample(8000, replace=True)\n",
    "data = pd.concat([data_Positive, data_Neutral_final, data_Negative_final], axis=0)"
   ]
  },
  {
   "cell_type": "code",
   "execution_count": 30,
   "id": "d8f13e18",
   "metadata": {},
   "outputs": [
    {
     "data": {
      "text/html": [
       "<div>\n",
       "<style scoped>\n",
       "    .dataframe tbody tr th:only-of-type {\n",
       "        vertical-align: middle;\n",
       "    }\n",
       "\n",
       "    .dataframe tbody tr th {\n",
       "        vertical-align: top;\n",
       "    }\n",
       "\n",
       "    .dataframe thead th {\n",
       "        text-align: right;\n",
       "    }\n",
       "</style>\n",
       "<table border=\"1\" class=\"dataframe\">\n",
       "  <thead>\n",
       "    <tr style=\"text-align: right;\">\n",
       "      <th></th>\n",
       "      <th>Tweet_ID</th>\n",
       "      <th>date</th>\n",
       "      <th>Twitter_User</th>\n",
       "      <th>tweet_text</th>\n",
       "      <th>tweet_mod</th>\n",
       "      <th>sentiment</th>\n",
       "      <th>sentiment_score</th>\n",
       "      <th>Project_tweets</th>\n",
       "    </tr>\n",
       "  </thead>\n",
       "  <tbody>\n",
       "    <tr>\n",
       "      <th>1</th>\n",
       "      <td>1467810917</td>\n",
       "      <td>Mon Apr 06 22:19:53 PDT 2009</td>\n",
       "      <td>mattycus</td>\n",
       "      <td>@Kenichan I dived many times for the ball. Man...</td>\n",
       "      <td>kenichan i dived many times for the ball manag...</td>\n",
       "      <td>0.500000</td>\n",
       "      <td>Positive</td>\n",
       "      <td>kenichan dived many times ball managed save 50...</td>\n",
       "    </tr>\n",
       "    <tr>\n",
       "      <th>6</th>\n",
       "      <td>1467811594</td>\n",
       "      <td>Mon Apr 06 22:20:03 PDT 2009</td>\n",
       "      <td>coZZ</td>\n",
       "      <td>@LOLTrish hey  long time no see! Yes.. Rains a...</td>\n",
       "      <td>loltrish hey long time no see yes rains a bit ...</td>\n",
       "      <td>0.273333</td>\n",
       "      <td>Positive</td>\n",
       "      <td>loltrish hey long time see yes rains bit bit l...</td>\n",
       "    </tr>\n",
       "    <tr>\n",
       "      <th>17</th>\n",
       "      <td>1467813579</td>\n",
       "      <td>Mon Apr 06 22:20:31 PDT 2009</td>\n",
       "      <td>starkissed</td>\n",
       "      <td>@LettyA ahh ive always wanted to see rent  lov...</td>\n",
       "      <td>lettya ahh ive always wanted to see rent love ...</td>\n",
       "      <td>0.500000</td>\n",
       "      <td>Positive</td>\n",
       "      <td>lettya ahh ive always wanted see rent love sou...</td>\n",
       "    </tr>\n",
       "    <tr>\n",
       "      <th>19</th>\n",
       "      <td>1467813985</td>\n",
       "      <td>Mon Apr 06 22:20:37 PDT 2009</td>\n",
       "      <td>quanvu</td>\n",
       "      <td>@alydesigns i was out most of the day so didn'...</td>\n",
       "      <td>alydesigns i was out most of the day so didnt ...</td>\n",
       "      <td>0.350000</td>\n",
       "      <td>Positive</td>\n",
       "      <td>alydesigns day didnt get much done</td>\n",
       "    </tr>\n",
       "    <tr>\n",
       "      <th>27</th>\n",
       "      <td>1467815199</td>\n",
       "      <td>Mon Apr 06 22:20:56 PDT 2009</td>\n",
       "      <td>abel209</td>\n",
       "      <td>ooooh.... LOL  that leslie.... and ok I won't ...</td>\n",
       "      <td>ooooh lol that leslie and ok i wont do it agai...</td>\n",
       "      <td>0.225000</td>\n",
       "      <td>Positive</td>\n",
       "      <td>ooooh lol leslie ok wont leslie wont get mad</td>\n",
       "    </tr>\n",
       "  </tbody>\n",
       "</table>\n",
       "</div>"
      ],
      "text/plain": [
       "      Tweet_ID                          date Twitter_User  \\\n",
       "1   1467810917  Mon Apr 06 22:19:53 PDT 2009     mattycus   \n",
       "6   1467811594  Mon Apr 06 22:20:03 PDT 2009         coZZ   \n",
       "17  1467813579  Mon Apr 06 22:20:31 PDT 2009   starkissed   \n",
       "19  1467813985  Mon Apr 06 22:20:37 PDT 2009       quanvu   \n",
       "27  1467815199  Mon Apr 06 22:20:56 PDT 2009      abel209   \n",
       "\n",
       "                                           tweet_text  \\\n",
       "1   @Kenichan I dived many times for the ball. Man...   \n",
       "6   @LOLTrish hey  long time no see! Yes.. Rains a...   \n",
       "17  @LettyA ahh ive always wanted to see rent  lov...   \n",
       "19  @alydesigns i was out most of the day so didn'...   \n",
       "27  ooooh.... LOL  that leslie.... and ok I won't ...   \n",
       "\n",
       "                                            tweet_mod  sentiment  \\\n",
       "1   kenichan i dived many times for the ball manag...   0.500000   \n",
       "6   loltrish hey long time no see yes rains a bit ...   0.273333   \n",
       "17  lettya ahh ive always wanted to see rent love ...   0.500000   \n",
       "19  alydesigns i was out most of the day so didnt ...   0.350000   \n",
       "27  ooooh lol that leslie and ok i wont do it agai...   0.225000   \n",
       "\n",
       "   sentiment_score                                     Project_tweets  \n",
       "1         Positive  kenichan dived many times ball managed save 50...  \n",
       "6         Positive  loltrish hey long time see yes rains bit bit l...  \n",
       "17        Positive  lettya ahh ive always wanted see rent love sou...  \n",
       "19        Positive                 alydesigns day didnt get much done  \n",
       "27        Positive       ooooh lol leslie ok wont leslie wont get mad  "
      ]
     },
     "execution_count": 30,
     "metadata": {},
     "output_type": "execute_result"
    }
   ],
   "source": [
    "data.head()"
   ]
  },
  {
   "cell_type": "code",
   "execution_count": 31,
   "id": "2ce11b21",
   "metadata": {},
   "outputs": [
    {
     "data": {
      "text/plain": [
       "(24000, 8)"
      ]
     },
     "execution_count": 31,
     "metadata": {},
     "output_type": "execute_result"
    }
   ],
   "source": [
    "data.shape"
   ]
  },
  {
   "cell_type": "markdown",
   "id": "bab8e43c",
   "metadata": {},
   "source": [
    "**Text Preprocessing**"
   ]
  },
  {
   "cell_type": "code",
   "execution_count": 32,
   "id": "304a3da1",
   "metadata": {},
   "outputs": [],
   "source": [
    "def get_text_processing(text):\n",
    "    stpword = stopwords.words('english')\n",
    "    no_punctuation = [char for char in text if char not in string.punctuation]\n",
    "    no_punctuation = ''.join(no_punctuation)\n",
    "    return ' '.join([word for word in no_punctuation.split() if word.lower() not in stpword])"
   ]
  },
  {
   "cell_type": "markdown",
   "id": "086acca7",
   "metadata": {},
   "source": [
    "**Apply the method \"get_text_processing\" into column review text**"
   ]
  },
  {
   "cell_type": "code",
   "execution_count": 33,
   "id": "2600dbdc",
   "metadata": {
    "scrolled": true
   },
   "outputs": [
    {
     "data": {
      "text/html": [
       "<div>\n",
       "<style scoped>\n",
       "    .dataframe tbody tr th:only-of-type {\n",
       "        vertical-align: middle;\n",
       "    }\n",
       "\n",
       "    .dataframe tbody tr th {\n",
       "        vertical-align: top;\n",
       "    }\n",
       "\n",
       "    .dataframe thead th {\n",
       "        text-align: right;\n",
       "    }\n",
       "</style>\n",
       "<table border=\"1\" class=\"dataframe\">\n",
       "  <thead>\n",
       "    <tr style=\"text-align: right;\">\n",
       "      <th></th>\n",
       "      <th>Tweet_ID</th>\n",
       "      <th>date</th>\n",
       "      <th>Twitter_User</th>\n",
       "      <th>tweet_text</th>\n",
       "      <th>tweet_mod</th>\n",
       "      <th>sentiment</th>\n",
       "      <th>sentiment_score</th>\n",
       "      <th>Project_tweets</th>\n",
       "    </tr>\n",
       "  </thead>\n",
       "  <tbody>\n",
       "    <tr>\n",
       "      <th>1</th>\n",
       "      <td>1467810917</td>\n",
       "      <td>Mon Apr 06 22:19:53 PDT 2009</td>\n",
       "      <td>mattycus</td>\n",
       "      <td>@Kenichan I dived many times for the ball. Man...</td>\n",
       "      <td>kenichan i dived many times for the ball manag...</td>\n",
       "      <td>0.500000</td>\n",
       "      <td>Positive</td>\n",
       "      <td>kenichan dived many times ball managed save 50...</td>\n",
       "    </tr>\n",
       "    <tr>\n",
       "      <th>6</th>\n",
       "      <td>1467811594</td>\n",
       "      <td>Mon Apr 06 22:20:03 PDT 2009</td>\n",
       "      <td>coZZ</td>\n",
       "      <td>@LOLTrish hey  long time no see! Yes.. Rains a...</td>\n",
       "      <td>loltrish hey long time no see yes rains a bit ...</td>\n",
       "      <td>0.273333</td>\n",
       "      <td>Positive</td>\n",
       "      <td>loltrish hey long time see yes rains bit bit l...</td>\n",
       "    </tr>\n",
       "    <tr>\n",
       "      <th>17</th>\n",
       "      <td>1467813579</td>\n",
       "      <td>Mon Apr 06 22:20:31 PDT 2009</td>\n",
       "      <td>starkissed</td>\n",
       "      <td>@LettyA ahh ive always wanted to see rent  lov...</td>\n",
       "      <td>lettya ahh ive always wanted to see rent love ...</td>\n",
       "      <td>0.500000</td>\n",
       "      <td>Positive</td>\n",
       "      <td>lettya ahh ive always wanted see rent love sou...</td>\n",
       "    </tr>\n",
       "    <tr>\n",
       "      <th>19</th>\n",
       "      <td>1467813985</td>\n",
       "      <td>Mon Apr 06 22:20:37 PDT 2009</td>\n",
       "      <td>quanvu</td>\n",
       "      <td>@alydesigns i was out most of the day so didn'...</td>\n",
       "      <td>alydesigns i was out most of the day so didnt ...</td>\n",
       "      <td>0.350000</td>\n",
       "      <td>Positive</td>\n",
       "      <td>alydesigns day didnt get much done</td>\n",
       "    </tr>\n",
       "    <tr>\n",
       "      <th>27</th>\n",
       "      <td>1467815199</td>\n",
       "      <td>Mon Apr 06 22:20:56 PDT 2009</td>\n",
       "      <td>abel209</td>\n",
       "      <td>ooooh.... LOL  that leslie.... and ok I won't ...</td>\n",
       "      <td>ooooh lol that leslie and ok i wont do it agai...</td>\n",
       "      <td>0.225000</td>\n",
       "      <td>Positive</td>\n",
       "      <td>ooooh lol leslie ok wont leslie wont get mad</td>\n",
       "    </tr>\n",
       "  </tbody>\n",
       "</table>\n",
       "</div>"
      ],
      "text/plain": [
       "      Tweet_ID                          date Twitter_User  \\\n",
       "1   1467810917  Mon Apr 06 22:19:53 PDT 2009     mattycus   \n",
       "6   1467811594  Mon Apr 06 22:20:03 PDT 2009         coZZ   \n",
       "17  1467813579  Mon Apr 06 22:20:31 PDT 2009   starkissed   \n",
       "19  1467813985  Mon Apr 06 22:20:37 PDT 2009       quanvu   \n",
       "27  1467815199  Mon Apr 06 22:20:56 PDT 2009      abel209   \n",
       "\n",
       "                                           tweet_text  \\\n",
       "1   @Kenichan I dived many times for the ball. Man...   \n",
       "6   @LOLTrish hey  long time no see! Yes.. Rains a...   \n",
       "17  @LettyA ahh ive always wanted to see rent  lov...   \n",
       "19  @alydesigns i was out most of the day so didn'...   \n",
       "27  ooooh.... LOL  that leslie.... and ok I won't ...   \n",
       "\n",
       "                                            tweet_mod  sentiment  \\\n",
       "1   kenichan i dived many times for the ball manag...   0.500000   \n",
       "6   loltrish hey long time no see yes rains a bit ...   0.273333   \n",
       "17  lettya ahh ive always wanted to see rent love ...   0.500000   \n",
       "19  alydesigns i was out most of the day so didnt ...   0.350000   \n",
       "27  ooooh lol that leslie and ok i wont do it agai...   0.225000   \n",
       "\n",
       "   sentiment_score                                     Project_tweets  \n",
       "1         Positive  kenichan dived many times ball managed save 50...  \n",
       "6         Positive  loltrish hey long time see yes rains bit bit l...  \n",
       "17        Positive  lettya ahh ive always wanted see rent love sou...  \n",
       "19        Positive                 alydesigns day didnt get much done  \n",
       "27        Positive       ooooh lol leslie ok wont leslie wont get mad  "
      ]
     },
     "execution_count": 33,
     "metadata": {},
     "output_type": "execute_result"
    }
   ],
   "source": [
    "data['Project_tweets'] = data['tweet_mod'].apply(get_text_processing)\n",
    "data.head()"
   ]
  },
  {
   "cell_type": "markdown",
   "id": "5e56799f",
   "metadata": {},
   "source": [
    "**Visualize Project tweets with sentiment score**"
   ]
  },
  {
   "cell_type": "code",
   "execution_count": 34,
   "id": "c6d7785e",
   "metadata": {
    "scrolled": true
   },
   "outputs": [
    {
     "data": {
      "text/html": [
       "<div>\n",
       "<style scoped>\n",
       "    .dataframe tbody tr th:only-of-type {\n",
       "        vertical-align: middle;\n",
       "    }\n",
       "\n",
       "    .dataframe tbody tr th {\n",
       "        vertical-align: top;\n",
       "    }\n",
       "\n",
       "    .dataframe thead th {\n",
       "        text-align: right;\n",
       "    }\n",
       "</style>\n",
       "<table border=\"1\" class=\"dataframe\">\n",
       "  <thead>\n",
       "    <tr style=\"text-align: right;\">\n",
       "      <th></th>\n",
       "      <th>Project_tweets</th>\n",
       "      <th>sentiment_score</th>\n",
       "    </tr>\n",
       "  </thead>\n",
       "  <tbody>\n",
       "    <tr>\n",
       "      <th>1</th>\n",
       "      <td>kenichan dived many times ball managed save 50...</td>\n",
       "      <td>Positive</td>\n",
       "    </tr>\n",
       "    <tr>\n",
       "      <th>6</th>\n",
       "      <td>loltrish hey long time see yes rains bit bit l...</td>\n",
       "      <td>Positive</td>\n",
       "    </tr>\n",
       "    <tr>\n",
       "      <th>17</th>\n",
       "      <td>lettya ahh ive always wanted see rent love sou...</td>\n",
       "      <td>Positive</td>\n",
       "    </tr>\n",
       "    <tr>\n",
       "      <th>19</th>\n",
       "      <td>alydesigns day didnt get much done</td>\n",
       "      <td>Positive</td>\n",
       "    </tr>\n",
       "    <tr>\n",
       "      <th>27</th>\n",
       "      <td>ooooh lol leslie ok wont leslie wont get mad</td>\n",
       "      <td>Positive</td>\n",
       "    </tr>\n",
       "  </tbody>\n",
       "</table>\n",
       "</div>"
      ],
      "text/plain": [
       "                                       Project_tweets sentiment_score\n",
       "1   kenichan dived many times ball managed save 50...        Positive\n",
       "6   loltrish hey long time see yes rains bit bit l...        Positive\n",
       "17  lettya ahh ive always wanted see rent love sou...        Positive\n",
       "19                 alydesigns day didnt get much done        Positive\n",
       "27       ooooh lol leslie ok wont leslie wont get mad        Positive"
      ]
     },
     "execution_count": 34,
     "metadata": {},
     "output_type": "execute_result"
    }
   ],
   "source": [
    "data_new = data[['Project_tweets', 'sentiment_score']]\n",
    "data_new.head()"
   ]
  },
  {
   "cell_type": "markdown",
   "id": "029cb185",
   "metadata": {},
   "source": [
    "**Apply One hot encoding on negative, neutral, and positive**"
   ]
  },
  {
   "cell_type": "code",
   "execution_count": 35,
   "id": "a3af017a",
   "metadata": {
    "scrolled": true
   },
   "outputs": [
    {
     "data": {
      "text/html": [
       "<div>\n",
       "<style scoped>\n",
       "    .dataframe tbody tr th:only-of-type {\n",
       "        vertical-align: middle;\n",
       "    }\n",
       "\n",
       "    .dataframe tbody tr th {\n",
       "        vertical-align: top;\n",
       "    }\n",
       "\n",
       "    .dataframe thead th {\n",
       "        text-align: right;\n",
       "    }\n",
       "</style>\n",
       "<table border=\"1\" class=\"dataframe\">\n",
       "  <thead>\n",
       "    <tr style=\"text-align: right;\">\n",
       "      <th></th>\n",
       "      <th>Project_tweets</th>\n",
       "      <th>Negative</th>\n",
       "      <th>Neutral</th>\n",
       "      <th>Positive</th>\n",
       "    </tr>\n",
       "  </thead>\n",
       "  <tbody>\n",
       "    <tr>\n",
       "      <th>1</th>\n",
       "      <td>kenichan dived many times ball managed save 50...</td>\n",
       "      <td>0</td>\n",
       "      <td>0</td>\n",
       "      <td>1</td>\n",
       "    </tr>\n",
       "    <tr>\n",
       "      <th>6</th>\n",
       "      <td>loltrish hey long time see yes rains bit bit l...</td>\n",
       "      <td>0</td>\n",
       "      <td>0</td>\n",
       "      <td>1</td>\n",
       "    </tr>\n",
       "    <tr>\n",
       "      <th>17</th>\n",
       "      <td>lettya ahh ive always wanted see rent love sou...</td>\n",
       "      <td>0</td>\n",
       "      <td>0</td>\n",
       "      <td>1</td>\n",
       "    </tr>\n",
       "    <tr>\n",
       "      <th>19</th>\n",
       "      <td>alydesigns day didnt get much done</td>\n",
       "      <td>0</td>\n",
       "      <td>0</td>\n",
       "      <td>1</td>\n",
       "    </tr>\n",
       "    <tr>\n",
       "      <th>27</th>\n",
       "      <td>ooooh lol leslie ok wont leslie wont get mad</td>\n",
       "      <td>0</td>\n",
       "      <td>0</td>\n",
       "      <td>1</td>\n",
       "    </tr>\n",
       "  </tbody>\n",
       "</table>\n",
       "</div>"
      ],
      "text/plain": [
       "                                       Project_tweets  Negative  Neutral  \\\n",
       "1   kenichan dived many times ball managed save 50...         0        0   \n",
       "6   loltrish hey long time see yes rains bit bit l...         0        0   \n",
       "17  lettya ahh ive always wanted see rent love sou...         0        0   \n",
       "19                 alydesigns day didnt get much done         0        0   \n",
       "27       ooooh lol leslie ok wont leslie wont get mad         0        0   \n",
       "\n",
       "    Positive  \n",
       "1          1  \n",
       "6          1  \n",
       "17         1  \n",
       "19         1  \n",
       "27         1  "
      ]
     },
     "execution_count": 35,
     "metadata": {},
     "output_type": "execute_result"
    }
   ],
   "source": [
    "one_hot = pd.get_dummies(data[\"sentiment_score\"])\n",
    "data_new.drop(['sentiment_score'],axis=1,inplace=True)\n",
    "data_score = pd.concat([data_new,one_hot],axis=1)\n",
    "data_score.head()"
   ]
  },
  {
   "cell_type": "markdown",
   "id": "c90a6dee",
   "metadata": {},
   "source": [
    "**Apply Train Test Split**"
   ]
  },
  {
   "cell_type": "code",
   "execution_count": 36,
   "id": "f0bcbfa2",
   "metadata": {},
   "outputs": [],
   "source": [
    "X = data_score['Project_tweets'].values\n",
    "y = data_score.drop('Project_tweets', axis=1).values\n",
    "X_train, X_test, y_train, y_test = train_test_split(X, y, test_size=0.30, random_state=42)"
   ]
  },
  {
   "cell_type": "code",
   "execution_count": 37,
   "id": "410d5c06",
   "metadata": {
    "scrolled": true
   },
   "outputs": [
    {
     "data": {
      "text/plain": [
       "array(['kenichan dived many times ball managed save 50 rest go bounds',\n",
       "       'loltrish hey long time see yes rains bit bit lol im fine thanks hows',\n",
       "       'lettya ahh ive always wanted see rent love soundtrack', ...,\n",
       "       'jon kate make saaadd everyone needs stop tlkn',\n",
       "       'going try hand chicken korma tonight wish luck',\n",
       "       'alexstarcher dont come back im going miss'], dtype=object)"
      ]
     },
     "execution_count": 37,
     "metadata": {},
     "output_type": "execute_result"
    }
   ],
   "source": [
    "X"
   ]
  },
  {
   "cell_type": "code",
   "execution_count": 38,
   "id": "d8386d4f",
   "metadata": {},
   "outputs": [],
   "source": [
    "#y"
   ]
  },
  {
   "cell_type": "markdown",
   "id": "0f1d4653",
   "metadata": {},
   "source": [
    "**Apply vectorization**"
   ]
  },
  {
   "cell_type": "code",
   "execution_count": 39,
   "id": "7cecb2de",
   "metadata": {},
   "outputs": [],
   "source": [
    "vect = CountVectorizer()\n",
    "X_train = vect.fit_transform(X_train)\n",
    "X_test = vect.transform(X_test)"
   ]
  },
  {
   "cell_type": "markdown",
   "id": "0e9eb8c3",
   "metadata": {},
   "source": [
    "**Apply frequency, inverse document frequency:**"
   ]
  },
  {
   "cell_type": "code",
   "execution_count": 40,
   "id": "3c60d40d",
   "metadata": {},
   "outputs": [],
   "source": [
    "tfidf = TfidfTransformer()\n",
    "X_train = tfidf.fit_transform(X_train)\n",
    "X_test = tfidf.transform(X_test)\n",
    "X_train = X_train.toarray()\n",
    "X_test = X_test.toarray()"
   ]
  },
  {
   "cell_type": "markdown",
   "id": "55970741",
   "metadata": {},
   "source": [
    "**Build Neural Network model by adding different layers**"
   ]
  },
  {
   "cell_type": "code",
   "execution_count": 41,
   "id": "ced603b6",
   "metadata": {},
   "outputs": [],
   "source": [
    "model = Sequential()\n",
    "\n",
    "model.add(Dense(units=1000,activation='relu'))\n",
    "model.add(Dropout(0.5))\n",
    "\n",
    "model.add(Dense(units=4000,activation='relu'))\n",
    "model.add(Dropout(0.5))\n",
    "\n",
    "model.add(Dense(units=500,activation='relu'))\n",
    "model.add(Dropout(0.5))\n",
    "\n",
    "model.add(Dense(units=3, activation='softmax'))\n",
    "\n",
    "opt=tf.keras.optimizers.Adam(learning_rate=0.001)\n",
    "model.compile(loss='categorical_crossentropy', optimizer=opt, metrics=['accuracy'])\n",
    "\n",
    "early_stop = EarlyStopping(monitor='val_loss', mode='min', verbose=1, patience=2)"
   ]
  },
  {
   "cell_type": "markdown",
   "id": "88ad8d96",
   "metadata": {},
   "source": [
    "**Fit the Model**"
   ]
  },
  {
   "cell_type": "code",
   "execution_count": 42,
   "id": "50920a16",
   "metadata": {},
   "outputs": [
    {
     "name": "stdout",
     "output_type": "stream",
     "text": [
      "Epoch 3: early stopping\n"
     ]
    },
    {
     "data": {
      "text/plain": [
       "<keras.src.callbacks.History at 0x1e5d5b26fd0>"
      ]
     },
     "execution_count": 42,
     "metadata": {},
     "output_type": "execute_result"
    }
   ],
   "source": [
    "model.fit(x=X_train, y=y_train, batch_size=256, epochs=100, validation_data=(X_test, y_test), verbose=0, callbacks=early_stop)"
   ]
  },
  {
   "cell_type": "markdown",
   "id": "decd977a",
   "metadata": {},
   "source": [
    "**Evaluation of Model**"
   ]
  },
  {
   "cell_type": "code",
   "execution_count": 43,
   "id": "faa70a5a",
   "metadata": {},
   "outputs": [
    {
     "name": "stdout",
     "output_type": "stream",
     "text": [
      "Test accuracy: 0.8043055534362793\n"
     ]
    }
   ],
   "source": [
    "model_score = model.evaluate(X_test, y_test, batch_size=64, verbose=0)\n",
    "print('Test accuracy:', model_score[1])"
   ]
  },
  {
   "cell_type": "markdown",
   "id": "0ca3afee",
   "metadata": {},
   "source": [
    "**Prediction**"
   ]
  },
  {
   "cell_type": "code",
   "execution_count": 44,
   "id": "118bad38",
   "metadata": {},
   "outputs": [
    {
     "name": "stdout",
     "output_type": "stream",
     "text": [
      "225/225 [==============================] - 5s 22ms/step\n"
     ]
    },
    {
     "data": {
      "text/plain": [
       "array([[6.3289903e-02, 3.0948353e-01, 6.2722653e-01],\n",
       "       [9.8301297e-01, 5.5560945e-03, 1.1430963e-02],\n",
       "       [6.6932201e-02, 9.2781776e-01, 5.2500628e-03],\n",
       "       ...,\n",
       "       [2.6744625e-03, 1.9539215e-03, 9.9537164e-01],\n",
       "       [3.6807131e-04, 1.4885864e-03, 9.9814332e-01],\n",
       "       [2.3333393e-03, 3.0114441e-04, 9.9736553e-01]], dtype=float32)"
      ]
     },
     "execution_count": 44,
     "metadata": {},
     "output_type": "execute_result"
    }
   ],
   "source": [
    "preds = model.predict(X_test)\n",
    "preds"
   ]
  },
  {
   "cell_type": "markdown",
   "id": "3f9b42d3",
   "metadata": {},
   "source": [
    "## **Times Series section**"
   ]
  },
  {
   "cell_type": "code",
   "execution_count": 45,
   "id": "ca151884",
   "metadata": {},
   "outputs": [
    {
     "data": {
      "text/html": [
       "<div>\n",
       "<style scoped>\n",
       "    .dataframe tbody tr th:only-of-type {\n",
       "        vertical-align: middle;\n",
       "    }\n",
       "\n",
       "    .dataframe tbody tr th {\n",
       "        vertical-align: top;\n",
       "    }\n",
       "\n",
       "    .dataframe thead th {\n",
       "        text-align: right;\n",
       "    }\n",
       "</style>\n",
       "<table border=\"1\" class=\"dataframe\">\n",
       "  <thead>\n",
       "    <tr style=\"text-align: right;\">\n",
       "      <th></th>\n",
       "      <th>Tweet_ID</th>\n",
       "      <th>date</th>\n",
       "      <th>Twitter_User</th>\n",
       "      <th>tweet_text</th>\n",
       "      <th>tweet_mod</th>\n",
       "      <th>sentiment</th>\n",
       "      <th>sentiment_score</th>\n",
       "      <th>Project_tweets</th>\n",
       "    </tr>\n",
       "  </thead>\n",
       "  <tbody>\n",
       "    <tr>\n",
       "      <th>1</th>\n",
       "      <td>1467810917</td>\n",
       "      <td>Mon Apr 06 22:19:53 PDT 2009</td>\n",
       "      <td>mattycus</td>\n",
       "      <td>@Kenichan I dived many times for the ball. Man...</td>\n",
       "      <td>kenichan i dived many times for the ball manag...</td>\n",
       "      <td>0.500000</td>\n",
       "      <td>Positive</td>\n",
       "      <td>kenichan dived many times ball managed save 50...</td>\n",
       "    </tr>\n",
       "    <tr>\n",
       "      <th>6</th>\n",
       "      <td>1467811594</td>\n",
       "      <td>Mon Apr 06 22:20:03 PDT 2009</td>\n",
       "      <td>coZZ</td>\n",
       "      <td>@LOLTrish hey  long time no see! Yes.. Rains a...</td>\n",
       "      <td>loltrish hey long time no see yes rains a bit ...</td>\n",
       "      <td>0.273333</td>\n",
       "      <td>Positive</td>\n",
       "      <td>loltrish hey long time see yes rains bit bit l...</td>\n",
       "    </tr>\n",
       "    <tr>\n",
       "      <th>17</th>\n",
       "      <td>1467813579</td>\n",
       "      <td>Mon Apr 06 22:20:31 PDT 2009</td>\n",
       "      <td>starkissed</td>\n",
       "      <td>@LettyA ahh ive always wanted to see rent  lov...</td>\n",
       "      <td>lettya ahh ive always wanted to see rent love ...</td>\n",
       "      <td>0.500000</td>\n",
       "      <td>Positive</td>\n",
       "      <td>lettya ahh ive always wanted see rent love sou...</td>\n",
       "    </tr>\n",
       "    <tr>\n",
       "      <th>19</th>\n",
       "      <td>1467813985</td>\n",
       "      <td>Mon Apr 06 22:20:37 PDT 2009</td>\n",
       "      <td>quanvu</td>\n",
       "      <td>@alydesigns i was out most of the day so didn'...</td>\n",
       "      <td>alydesigns i was out most of the day so didnt ...</td>\n",
       "      <td>0.350000</td>\n",
       "      <td>Positive</td>\n",
       "      <td>alydesigns day didnt get much done</td>\n",
       "    </tr>\n",
       "    <tr>\n",
       "      <th>27</th>\n",
       "      <td>1467815199</td>\n",
       "      <td>Mon Apr 06 22:20:56 PDT 2009</td>\n",
       "      <td>abel209</td>\n",
       "      <td>ooooh.... LOL  that leslie.... and ok I won't ...</td>\n",
       "      <td>ooooh lol that leslie and ok i wont do it agai...</td>\n",
       "      <td>0.225000</td>\n",
       "      <td>Positive</td>\n",
       "      <td>ooooh lol leslie ok wont leslie wont get mad</td>\n",
       "    </tr>\n",
       "  </tbody>\n",
       "</table>\n",
       "</div>"
      ],
      "text/plain": [
       "      Tweet_ID                          date Twitter_User  \\\n",
       "1   1467810917  Mon Apr 06 22:19:53 PDT 2009     mattycus   \n",
       "6   1467811594  Mon Apr 06 22:20:03 PDT 2009         coZZ   \n",
       "17  1467813579  Mon Apr 06 22:20:31 PDT 2009   starkissed   \n",
       "19  1467813985  Mon Apr 06 22:20:37 PDT 2009       quanvu   \n",
       "27  1467815199  Mon Apr 06 22:20:56 PDT 2009      abel209   \n",
       "\n",
       "                                           tweet_text  \\\n",
       "1   @Kenichan I dived many times for the ball. Man...   \n",
       "6   @LOLTrish hey  long time no see! Yes.. Rains a...   \n",
       "17  @LettyA ahh ive always wanted to see rent  lov...   \n",
       "19  @alydesigns i was out most of the day so didn'...   \n",
       "27  ooooh.... LOL  that leslie.... and ok I won't ...   \n",
       "\n",
       "                                            tweet_mod  sentiment  \\\n",
       "1   kenichan i dived many times for the ball manag...   0.500000   \n",
       "6   loltrish hey long time no see yes rains a bit ...   0.273333   \n",
       "17  lettya ahh ive always wanted to see rent love ...   0.500000   \n",
       "19  alydesigns i was out most of the day so didnt ...   0.350000   \n",
       "27  ooooh lol that leslie and ok i wont do it agai...   0.225000   \n",
       "\n",
       "   sentiment_score                                     Project_tweets  \n",
       "1         Positive  kenichan dived many times ball managed save 50...  \n",
       "6         Positive  loltrish hey long time see yes rains bit bit l...  \n",
       "17        Positive  lettya ahh ive always wanted see rent love sou...  \n",
       "19        Positive                 alydesigns day didnt get much done  \n",
       "27        Positive       ooooh lol leslie ok wont leslie wont get mad  "
      ]
     },
     "execution_count": 45,
     "metadata": {},
     "output_type": "execute_result"
    }
   ],
   "source": [
    "data.head()"
   ]
  },
  {
   "cell_type": "code",
   "execution_count": 47,
   "id": "587d2640",
   "metadata": {},
   "outputs": [
    {
     "data": {
      "text/plain": [
       "(24000, 8)"
      ]
     },
     "execution_count": 47,
     "metadata": {},
     "output_type": "execute_result"
    }
   ],
   "source": [
    "data.shape"
   ]
  },
  {
   "cell_type": "code",
   "execution_count": 48,
   "id": "a23a0569",
   "metadata": {},
   "outputs": [
    {
     "data": {
      "text/html": [
       "<div>\n",
       "<style scoped>\n",
       "    .dataframe tbody tr th:only-of-type {\n",
       "        vertical-align: middle;\n",
       "    }\n",
       "\n",
       "    .dataframe tbody tr th {\n",
       "        vertical-align: top;\n",
       "    }\n",
       "\n",
       "    .dataframe thead th {\n",
       "        text-align: right;\n",
       "    }\n",
       "</style>\n",
       "<table border=\"1\" class=\"dataframe\">\n",
       "  <thead>\n",
       "    <tr style=\"text-align: right;\">\n",
       "      <th></th>\n",
       "      <th>Tweet_ID</th>\n",
       "      <th>date</th>\n",
       "      <th>Twitter_User</th>\n",
       "      <th>tweet_text</th>\n",
       "      <th>tweet_mod</th>\n",
       "      <th>sentiment</th>\n",
       "      <th>sentiment_score</th>\n",
       "      <th>Project_tweets</th>\n",
       "    </tr>\n",
       "  </thead>\n",
       "  <tbody>\n",
       "    <tr>\n",
       "      <th>1</th>\n",
       "      <td>1467810917</td>\n",
       "      <td>2009-04-06 22:19:53</td>\n",
       "      <td>mattycus</td>\n",
       "      <td>@Kenichan I dived many times for the ball. Man...</td>\n",
       "      <td>kenichan i dived many times for the ball manag...</td>\n",
       "      <td>0.500000</td>\n",
       "      <td>Positive</td>\n",
       "      <td>kenichan dived many times ball managed save 50...</td>\n",
       "    </tr>\n",
       "    <tr>\n",
       "      <th>6</th>\n",
       "      <td>1467811594</td>\n",
       "      <td>2009-04-06 22:20:03</td>\n",
       "      <td>coZZ</td>\n",
       "      <td>@LOLTrish hey  long time no see! Yes.. Rains a...</td>\n",
       "      <td>loltrish hey long time no see yes rains a bit ...</td>\n",
       "      <td>0.273333</td>\n",
       "      <td>Positive</td>\n",
       "      <td>loltrish hey long time see yes rains bit bit l...</td>\n",
       "    </tr>\n",
       "    <tr>\n",
       "      <th>17</th>\n",
       "      <td>1467813579</td>\n",
       "      <td>2009-04-06 22:20:31</td>\n",
       "      <td>starkissed</td>\n",
       "      <td>@LettyA ahh ive always wanted to see rent  lov...</td>\n",
       "      <td>lettya ahh ive always wanted to see rent love ...</td>\n",
       "      <td>0.500000</td>\n",
       "      <td>Positive</td>\n",
       "      <td>lettya ahh ive always wanted see rent love sou...</td>\n",
       "    </tr>\n",
       "    <tr>\n",
       "      <th>19</th>\n",
       "      <td>1467813985</td>\n",
       "      <td>2009-04-06 22:20:37</td>\n",
       "      <td>quanvu</td>\n",
       "      <td>@alydesigns i was out most of the day so didn'...</td>\n",
       "      <td>alydesigns i was out most of the day so didnt ...</td>\n",
       "      <td>0.350000</td>\n",
       "      <td>Positive</td>\n",
       "      <td>alydesigns day didnt get much done</td>\n",
       "    </tr>\n",
       "    <tr>\n",
       "      <th>27</th>\n",
       "      <td>1467815199</td>\n",
       "      <td>2009-04-06 22:20:56</td>\n",
       "      <td>abel209</td>\n",
       "      <td>ooooh.... LOL  that leslie.... and ok I won't ...</td>\n",
       "      <td>ooooh lol that leslie and ok i wont do it agai...</td>\n",
       "      <td>0.225000</td>\n",
       "      <td>Positive</td>\n",
       "      <td>ooooh lol leslie ok wont leslie wont get mad</td>\n",
       "    </tr>\n",
       "  </tbody>\n",
       "</table>\n",
       "</div>"
      ],
      "text/plain": [
       "      Tweet_ID                date Twitter_User  \\\n",
       "1   1467810917 2009-04-06 22:19:53     mattycus   \n",
       "6   1467811594 2009-04-06 22:20:03         coZZ   \n",
       "17  1467813579 2009-04-06 22:20:31   starkissed   \n",
       "19  1467813985 2009-04-06 22:20:37       quanvu   \n",
       "27  1467815199 2009-04-06 22:20:56      abel209   \n",
       "\n",
       "                                           tweet_text  \\\n",
       "1   @Kenichan I dived many times for the ball. Man...   \n",
       "6   @LOLTrish hey  long time no see! Yes.. Rains a...   \n",
       "17  @LettyA ahh ive always wanted to see rent  lov...   \n",
       "19  @alydesigns i was out most of the day so didn'...   \n",
       "27  ooooh.... LOL  that leslie.... and ok I won't ...   \n",
       "\n",
       "                                            tweet_mod  sentiment  \\\n",
       "1   kenichan i dived many times for the ball manag...   0.500000   \n",
       "6   loltrish hey long time no see yes rains a bit ...   0.273333   \n",
       "17  lettya ahh ive always wanted to see rent love ...   0.500000   \n",
       "19  alydesigns i was out most of the day so didnt ...   0.350000   \n",
       "27  ooooh lol that leslie and ok i wont do it agai...   0.225000   \n",
       "\n",
       "   sentiment_score                                     Project_tweets  \n",
       "1         Positive  kenichan dived many times ball managed save 50...  \n",
       "6         Positive  loltrish hey long time see yes rains bit bit l...  \n",
       "17        Positive  lettya ahh ive always wanted see rent love sou...  \n",
       "19        Positive                 alydesigns day didnt get much done  \n",
       "27        Positive       ooooh lol leslie ok wont leslie wont get mad  "
      ]
     },
     "execution_count": 48,
     "metadata": {},
     "output_type": "execute_result"
    }
   ],
   "source": [
    "data['date'] = data.date.astype('datetime64[ns]')\n",
    "#data = data.set_index('date')\n",
    "#data = data.sort_index()\n",
    "data.head()"
   ]
  },
  {
   "cell_type": "code",
   "execution_count": 50,
   "id": "0cd2b0ed",
   "metadata": {},
   "outputs": [],
   "source": [
    "# plot the dataset\n",
    "#ax = data.plot()\n",
    "#ax.set_ylabel('sentiment')\n",
    "#plt.show()"
   ]
  },
  {
   "cell_type": "code",
   "execution_count": 49,
   "id": "9105f752",
   "metadata": {},
   "outputs": [
    {
     "data": {
      "text/html": [
       "<div>\n",
       "<style scoped>\n",
       "    .dataframe tbody tr th:only-of-type {\n",
       "        vertical-align: middle;\n",
       "    }\n",
       "\n",
       "    .dataframe tbody tr th {\n",
       "        vertical-align: top;\n",
       "    }\n",
       "\n",
       "    .dataframe thead th {\n",
       "        text-align: right;\n",
       "    }\n",
       "</style>\n",
       "<table border=\"1\" class=\"dataframe\">\n",
       "  <thead>\n",
       "    <tr style=\"text-align: right;\">\n",
       "      <th></th>\n",
       "      <th>Tweet_ID</th>\n",
       "      <th>Twitter_User</th>\n",
       "      <th>tweet_text</th>\n",
       "      <th>tweet_mod</th>\n",
       "      <th>sentiment</th>\n",
       "      <th>sentiment_score</th>\n",
       "      <th>Project_tweets</th>\n",
       "    </tr>\n",
       "    <tr>\n",
       "      <th>date</th>\n",
       "      <th></th>\n",
       "      <th></th>\n",
       "      <th></th>\n",
       "      <th></th>\n",
       "      <th></th>\n",
       "      <th></th>\n",
       "      <th></th>\n",
       "    </tr>\n",
       "  </thead>\n",
       "  <tbody>\n",
       "    <tr>\n",
       "      <th>2009-04-06 22:19:53</th>\n",
       "      <td>1467810917</td>\n",
       "      <td>mattycus</td>\n",
       "      <td>@Kenichan I dived many times for the ball. Man...</td>\n",
       "      <td>kenichan i dived many times for the ball manag...</td>\n",
       "      <td>0.500000</td>\n",
       "      <td>Positive</td>\n",
       "      <td>kenichan dived many times ball managed save 50...</td>\n",
       "    </tr>\n",
       "    <tr>\n",
       "      <th>2009-04-06 22:20:03</th>\n",
       "      <td>1467811594</td>\n",
       "      <td>coZZ</td>\n",
       "      <td>@LOLTrish hey  long time no see! Yes.. Rains a...</td>\n",
       "      <td>loltrish hey long time no see yes rains a bit ...</td>\n",
       "      <td>0.273333</td>\n",
       "      <td>Positive</td>\n",
       "      <td>loltrish hey long time see yes rains bit bit l...</td>\n",
       "    </tr>\n",
       "    <tr>\n",
       "      <th>2009-04-06 22:20:31</th>\n",
       "      <td>1467813579</td>\n",
       "      <td>starkissed</td>\n",
       "      <td>@LettyA ahh ive always wanted to see rent  lov...</td>\n",
       "      <td>lettya ahh ive always wanted to see rent love ...</td>\n",
       "      <td>0.500000</td>\n",
       "      <td>Positive</td>\n",
       "      <td>lettya ahh ive always wanted see rent love sou...</td>\n",
       "    </tr>\n",
       "    <tr>\n",
       "      <th>2009-04-06 22:20:37</th>\n",
       "      <td>1467813985</td>\n",
       "      <td>quanvu</td>\n",
       "      <td>@alydesigns i was out most of the day so didn'...</td>\n",
       "      <td>alydesigns i was out most of the day so didnt ...</td>\n",
       "      <td>0.350000</td>\n",
       "      <td>Positive</td>\n",
       "      <td>alydesigns day didnt get much done</td>\n",
       "    </tr>\n",
       "    <tr>\n",
       "      <th>2009-04-06 22:20:56</th>\n",
       "      <td>1467815199</td>\n",
       "      <td>abel209</td>\n",
       "      <td>ooooh.... LOL  that leslie.... and ok I won't ...</td>\n",
       "      <td>ooooh lol that leslie and ok i wont do it agai...</td>\n",
       "      <td>0.225000</td>\n",
       "      <td>Positive</td>\n",
       "      <td>ooooh lol leslie ok wont leslie wont get mad</td>\n",
       "    </tr>\n",
       "  </tbody>\n",
       "</table>\n",
       "</div>"
      ],
      "text/plain": [
       "                       Tweet_ID Twitter_User  \\\n",
       "date                                           \n",
       "2009-04-06 22:19:53  1467810917     mattycus   \n",
       "2009-04-06 22:20:03  1467811594         coZZ   \n",
       "2009-04-06 22:20:31  1467813579   starkissed   \n",
       "2009-04-06 22:20:37  1467813985       quanvu   \n",
       "2009-04-06 22:20:56  1467815199      abel209   \n",
       "\n",
       "                                                            tweet_text  \\\n",
       "date                                                                     \n",
       "2009-04-06 22:19:53  @Kenichan I dived many times for the ball. Man...   \n",
       "2009-04-06 22:20:03  @LOLTrish hey  long time no see! Yes.. Rains a...   \n",
       "2009-04-06 22:20:31  @LettyA ahh ive always wanted to see rent  lov...   \n",
       "2009-04-06 22:20:37  @alydesigns i was out most of the day so didn'...   \n",
       "2009-04-06 22:20:56  ooooh.... LOL  that leslie.... and ok I won't ...   \n",
       "\n",
       "                                                             tweet_mod  \\\n",
       "date                                                                     \n",
       "2009-04-06 22:19:53  kenichan i dived many times for the ball manag...   \n",
       "2009-04-06 22:20:03  loltrish hey long time no see yes rains a bit ...   \n",
       "2009-04-06 22:20:31  lettya ahh ive always wanted to see rent love ...   \n",
       "2009-04-06 22:20:37  alydesigns i was out most of the day so didnt ...   \n",
       "2009-04-06 22:20:56  ooooh lol that leslie and ok i wont do it agai...   \n",
       "\n",
       "                     sentiment sentiment_score  \\\n",
       "date                                             \n",
       "2009-04-06 22:19:53   0.500000        Positive   \n",
       "2009-04-06 22:20:03   0.273333        Positive   \n",
       "2009-04-06 22:20:31   0.500000        Positive   \n",
       "2009-04-06 22:20:37   0.350000        Positive   \n",
       "2009-04-06 22:20:56   0.225000        Positive   \n",
       "\n",
       "                                                        Project_tweets  \n",
       "date                                                                    \n",
       "2009-04-06 22:19:53  kenichan dived many times ball managed save 50...  \n",
       "2009-04-06 22:20:03  loltrish hey long time see yes rains bit bit l...  \n",
       "2009-04-06 22:20:31  lettya ahh ive always wanted see rent love sou...  \n",
       "2009-04-06 22:20:37                 alydesigns day didnt get much done  \n",
       "2009-04-06 22:20:56       ooooh lol leslie ok wont leslie wont get mad  "
      ]
     },
     "execution_count": 49,
     "metadata": {},
     "output_type": "execute_result"
    }
   ],
   "source": [
    "#indexeddata.index\n",
    "data = data.set_index('date')\n",
    "#data = data.asfreq('MS')\n",
    "data = data.sort_index()\n",
    "data.head()"
   ]
  },
  {
   "cell_type": "code",
   "execution_count": 50,
   "id": "9fe6828b",
   "metadata": {},
   "outputs": [],
   "source": [
    "daily_tweet_count = data['Tweet_ID'].resample('D').count()"
   ]
  },
  {
   "cell_type": "code",
   "execution_count": 68,
   "id": "493f4324",
   "metadata": {},
   "outputs": [],
   "source": [
    "#daily_tweet_count.head()"
   ]
  },
  {
   "cell_type": "code",
   "execution_count": 51,
   "id": "c9eaef78",
   "metadata": {
    "scrolled": false
   },
   "outputs": [
    {
     "data": {
      "image/png": "[encoded data removed]",
      "text/plain": [
       "<Figure size 1000x600 with 1 Axes>"
      ]
     },
     "metadata": {},
     "output_type": "display_data"
    }
   ],
   "source": [
    "# Plot the time series of daily tweet count\n",
    "plt.figure(figsize=(10, 6))\n",
    "daily_tweet_count.plot()\n",
    "plt.xlabel('Date')\n",
    "plt.ylabel('Tweet Count')\n",
    "plt.title('Daily sentiment Count')\n",
    "plt.show()"
   ]
  },
  {
   "cell_type": "code",
   "execution_count": 52,
   "id": "bec16ff7",
   "metadata": {
    "scrolled": true
   },
   "outputs": [
    {
     "data": {
      "text/html": [
       "<div>\n",
       "<style scoped>\n",
       "    .dataframe tbody tr th:only-of-type {\n",
       "        vertical-align: middle;\n",
       "    }\n",
       "\n",
       "    .dataframe tbody tr th {\n",
       "        vertical-align: top;\n",
       "    }\n",
       "\n",
       "    .dataframe thead th {\n",
       "        text-align: right;\n",
       "    }\n",
       "</style>\n",
       "<table border=\"1\" class=\"dataframe\">\n",
       "  <thead>\n",
       "    <tr style=\"text-align: right;\">\n",
       "      <th></th>\n",
       "      <th>Tweet_ID</th>\n",
       "      <th>Twitter_User</th>\n",
       "      <th>tweet_text</th>\n",
       "      <th>tweet_mod</th>\n",
       "      <th>sentiment</th>\n",
       "      <th>sentiment_score</th>\n",
       "      <th>Project_tweets</th>\n",
       "    </tr>\n",
       "    <tr>\n",
       "      <th>date</th>\n",
       "      <th></th>\n",
       "      <th></th>\n",
       "      <th></th>\n",
       "      <th></th>\n",
       "      <th></th>\n",
       "      <th></th>\n",
       "      <th></th>\n",
       "    </tr>\n",
       "  </thead>\n",
       "  <tbody>\n",
       "    <tr>\n",
       "      <th>2009-04-06 22:19:53</th>\n",
       "      <td>1467810917</td>\n",
       "      <td>mattycus</td>\n",
       "      <td>@Kenichan I dived many times for the ball. Man...</td>\n",
       "      <td>kenichan i dived many times for the ball manag...</td>\n",
       "      <td>0.500000</td>\n",
       "      <td>Positive</td>\n",
       "      <td>kenichan dived many times ball managed save 50...</td>\n",
       "    </tr>\n",
       "    <tr>\n",
       "      <th>2009-04-06 22:20:03</th>\n",
       "      <td>1467811594</td>\n",
       "      <td>coZZ</td>\n",
       "      <td>@LOLTrish hey  long time no see! Yes.. Rains a...</td>\n",
       "      <td>loltrish hey long time no see yes rains a bit ...</td>\n",
       "      <td>0.273333</td>\n",
       "      <td>Positive</td>\n",
       "      <td>loltrish hey long time see yes rains bit bit l...</td>\n",
       "    </tr>\n",
       "    <tr>\n",
       "      <th>2009-04-06 22:20:31</th>\n",
       "      <td>1467813579</td>\n",
       "      <td>starkissed</td>\n",
       "      <td>@LettyA ahh ive always wanted to see rent  lov...</td>\n",
       "      <td>lettya ahh ive always wanted to see rent love ...</td>\n",
       "      <td>0.500000</td>\n",
       "      <td>Positive</td>\n",
       "      <td>lettya ahh ive always wanted see rent love sou...</td>\n",
       "    </tr>\n",
       "    <tr>\n",
       "      <th>2009-04-06 22:20:37</th>\n",
       "      <td>1467813985</td>\n",
       "      <td>quanvu</td>\n",
       "      <td>@alydesigns i was out most of the day so didn'...</td>\n",
       "      <td>alydesigns i was out most of the day so didnt ...</td>\n",
       "      <td>0.350000</td>\n",
       "      <td>Positive</td>\n",
       "      <td>alydesigns day didnt get much done</td>\n",
       "    </tr>\n",
       "    <tr>\n",
       "      <th>2009-04-06 22:20:56</th>\n",
       "      <td>1467815199</td>\n",
       "      <td>abel209</td>\n",
       "      <td>ooooh.... LOL  that leslie.... and ok I won't ...</td>\n",
       "      <td>ooooh lol that leslie and ok i wont do it agai...</td>\n",
       "      <td>0.225000</td>\n",
       "      <td>Positive</td>\n",
       "      <td>ooooh lol leslie ok wont leslie wont get mad</td>\n",
       "    </tr>\n",
       "  </tbody>\n",
       "</table>\n",
       "</div>"
      ],
      "text/plain": [
       "                       Tweet_ID Twitter_User  \\\n",
       "date                                           \n",
       "2009-04-06 22:19:53  1467810917     mattycus   \n",
       "2009-04-06 22:20:03  1467811594         coZZ   \n",
       "2009-04-06 22:20:31  1467813579   starkissed   \n",
       "2009-04-06 22:20:37  1467813985       quanvu   \n",
       "2009-04-06 22:20:56  1467815199      abel209   \n",
       "\n",
       "                                                            tweet_text  \\\n",
       "date                                                                     \n",
       "2009-04-06 22:19:53  @Kenichan I dived many times for the ball. Man...   \n",
       "2009-04-06 22:20:03  @LOLTrish hey  long time no see! Yes.. Rains a...   \n",
       "2009-04-06 22:20:31  @LettyA ahh ive always wanted to see rent  lov...   \n",
       "2009-04-06 22:20:37  @alydesigns i was out most of the day so didn'...   \n",
       "2009-04-06 22:20:56  ooooh.... LOL  that leslie.... and ok I won't ...   \n",
       "\n",
       "                                                             tweet_mod  \\\n",
       "date                                                                     \n",
       "2009-04-06 22:19:53  kenichan i dived many times for the ball manag...   \n",
       "2009-04-06 22:20:03  loltrish hey long time no see yes rains a bit ...   \n",
       "2009-04-06 22:20:31  lettya ahh ive always wanted to see rent love ...   \n",
       "2009-04-06 22:20:37  alydesigns i was out most of the day so didnt ...   \n",
       "2009-04-06 22:20:56  ooooh lol that leslie and ok i wont do it agai...   \n",
       "\n",
       "                     sentiment sentiment_score  \\\n",
       "date                                             \n",
       "2009-04-06 22:19:53   0.500000        Positive   \n",
       "2009-04-06 22:20:03   0.273333        Positive   \n",
       "2009-04-06 22:20:31   0.500000        Positive   \n",
       "2009-04-06 22:20:37   0.350000        Positive   \n",
       "2009-04-06 22:20:56   0.225000        Positive   \n",
       "\n",
       "                                                        Project_tweets  \n",
       "date                                                                    \n",
       "2009-04-06 22:19:53  kenichan dived many times ball managed save 50...  \n",
       "2009-04-06 22:20:03  loltrish hey long time see yes rains bit bit l...  \n",
       "2009-04-06 22:20:31  lettya ahh ive always wanted see rent love sou...  \n",
       "2009-04-06 22:20:37                 alydesigns day didnt get much done  \n",
       "2009-04-06 22:20:56       ooooh lol leslie ok wont leslie wont get mad  "
      ]
     },
     "execution_count": 52,
     "metadata": {},
     "output_type": "execute_result"
    }
   ],
   "source": [
    "#data = data[['date', 'sentiment']]\n",
    "data.head()"
   ]
  },
  {
   "cell_type": "code",
   "execution_count": 53,
   "id": "fd109f7a",
   "metadata": {},
   "outputs": [
    {
     "data": {
      "text/html": [
       "<div>\n",
       "<style scoped>\n",
       "    .dataframe tbody tr th:only-of-type {\n",
       "        vertical-align: middle;\n",
       "    }\n",
       "\n",
       "    .dataframe tbody tr th {\n",
       "        vertical-align: top;\n",
       "    }\n",
       "\n",
       "    .dataframe thead th {\n",
       "        text-align: right;\n",
       "    }\n",
       "</style>\n",
       "<table border=\"1\" class=\"dataframe\">\n",
       "  <thead>\n",
       "    <tr style=\"text-align: right;\">\n",
       "      <th></th>\n",
       "      <th>sentiment</th>\n",
       "    </tr>\n",
       "    <tr>\n",
       "      <th>date</th>\n",
       "      <th></th>\n",
       "    </tr>\n",
       "  </thead>\n",
       "  <tbody>\n",
       "    <tr>\n",
       "      <th>2009-04-06 22:19:53</th>\n",
       "      <td>0.500000</td>\n",
       "    </tr>\n",
       "    <tr>\n",
       "      <th>2009-04-06 22:20:03</th>\n",
       "      <td>0.273333</td>\n",
       "    </tr>\n",
       "    <tr>\n",
       "      <th>2009-04-06 22:20:31</th>\n",
       "      <td>0.500000</td>\n",
       "    </tr>\n",
       "    <tr>\n",
       "      <th>2009-04-06 22:20:37</th>\n",
       "      <td>0.350000</td>\n",
       "    </tr>\n",
       "    <tr>\n",
       "      <th>2009-04-06 22:20:56</th>\n",
       "      <td>0.225000</td>\n",
       "    </tr>\n",
       "  </tbody>\n",
       "</table>\n",
       "</div>"
      ],
      "text/plain": [
       "                     sentiment\n",
       "date                          \n",
       "2009-04-06 22:19:53   0.500000\n",
       "2009-04-06 22:20:03   0.273333\n",
       "2009-04-06 22:20:31   0.500000\n",
       "2009-04-06 22:20:37   0.350000\n",
       "2009-04-06 22:20:56   0.225000"
      ]
     },
     "execution_count": 53,
     "metadata": {},
     "output_type": "execute_result"
    }
   ],
   "source": [
    "data = data[['sentiment']]\n",
    "data.head()"
   ]
  },
  {
   "cell_type": "code",
   "execution_count": 58,
   "id": "f5410a51",
   "metadata": {},
   "outputs": [],
   "source": [
    "#pip install hvplot"
   ]
  },
  {
   "cell_type": "code",
   "execution_count": 54,
   "id": "4aab6388",
   "metadata": {},
   "outputs": [],
   "source": [
    "from matplotlib.figure import Figure\n",
    "from matplotlib.backends.backend_agg import FigureCanvas\n",
    "\n",
    "%matplotlib inline\n",
    "\n",
    "def mpl_plot(avg, highlight):\n",
    "    fig = Figure()\n",
    "    FigureCanvas(fig) # not needed in mpl >= 3.1\n",
    "    ax = fig.add_subplot()\n",
    "    avg.plot(ax=ax)\n",
    "    if len(highlight): highlight.plot(style='o', ax=ax)\n",
    "    return fig\n",
    "\n",
    "def find_outliers(variable='sentiment', window=30, sigma=10, view_fn=mpl_plot):\n",
    "    avg = data[variable].rolling(window=window).mean()\n",
    "    residual = data[variable] - avg\n",
    "    std = residual.rolling(window=window).std()\n",
    "    outliers = (np.abs(residual) > std * sigma)\n",
    "    return view_fn(avg, avg[outliers])"
   ]
  },
  {
   "cell_type": "code",
   "execution_count": 55,
   "id": "f1245701",
   "metadata": {},
   "outputs": [
    {
     "data": {
      "image/png": "[encoded data removed]",
      "text/plain": [
       "<Figure size 640x480 with 1 Axes>"
      ]
     },
     "execution_count": 55,
     "metadata": {},
     "output_type": "execute_result"
    }
   ],
   "source": [
    "find_outliers(variable='sentiment', window=20, sigma=10)"
   ]
  },
  {
   "cell_type": "code",
   "execution_count": 56,
   "id": "dab5a04e",
   "metadata": {},
   "outputs": [],
   "source": [
    "import panel as pn\n",
    "#pn.extension()\n",
    "\n",
    "#pn.interact(find_outliers)"
   ]
  },
  {
   "cell_type": "code",
   "execution_count": 57,
   "id": "77c7b9a0",
   "metadata": {},
   "outputs": [
    {
     "name": "stdout",
     "output_type": "stream",
     "text": [
      "Column\n",
      "    [0] Column\n",
      "        [0] Select(name='variable', options=['sentiment'], value='sentiment')\n",
      "        [1] IntSlider(end=60, name='window', start=1, value=30)\n",
      "        [2] IntSlider(end=20, name='sigma', start=1, value=10)\n",
      "    [1] Row\n",
      "        [0] Matplotlib(Figure, name='interactive00108')\n"
     ]
    },
    {
     "name": "stderr",
     "output_type": "stream",
     "text": [
      "C:\\Users\\maria\\AppData\\Local\\Temp\\ipykernel_7032\\3798767153.py:3: PanelDeprecationWarning: 'Column.pprint' is deprecated and will be removed in version 1.3, use 'print' instead.\n",
      "  i.pprint()\n"
     ]
    }
   ],
   "source": [
    "kw = dict(window=(1, 60), variable=sorted(list(data.columns)), sigma=(1, 20))\n",
    "i = pn.interact(find_outliers, **kw)\n",
    "i.pprint()"
   ]
  },
  {
   "cell_type": "code",
   "execution_count": 58,
   "id": "3ff8b72d",
   "metadata": {},
   "outputs": [
    {
     "data": {
      "text/plain": [
       "Sentiment(name='Sentiment00140', sigma=10, variable='sentiment', window=10)"
      ]
     },
     "execution_count": 58,
     "metadata": {},
     "output_type": "execute_result"
    }
   ],
   "source": [
    "import param\n",
    "\n",
    "class Sentiment(param.Parameterized):\n",
    "    variable  = param.Selector(objects=list(data.columns))\n",
    "    window    = param.Integer(default=10, bounds=(1, 20))\n",
    "    sigma     = param.Number(default=10, bounds=(0, 20))\n",
    "\n",
    "    def view(self):\n",
    "        return find_outliers(self.variable, self.window, self.sigma)\n",
    "    \n",
    "obj = Sentiment()\n",
    "obj"
   ]
  },
  {
   "cell_type": "code",
   "execution_count": 59,
   "id": "a4e1b716",
   "metadata": {},
   "outputs": [],
   "source": [
    "#pn.Row(obj.param, obj.view)"
   ]
  },
  {
   "cell_type": "code",
   "execution_count": 60,
   "id": "2b0c1a44",
   "metadata": {},
   "outputs": [],
   "source": [
    "#text = \"<br>\\n# Room Occupancy\\nSelect the variable, and the time window for smoothing\"\n",
    "\n",
    "#p = pn.Row(i[1][0], pn.Column(text, i[0][0], i[0][1]))\n",
    "#p"
   ]
  },
  {
   "cell_type": "code",
   "execution_count": 61,
   "id": "b30cca45",
   "metadata": {},
   "outputs": [
    {
     "data": {
      "application/javascript": [
       "(function(root) {\n",
       "  function now() {\n",
       "    return new Date();\n",
       "  }\n",
       "\n",
       "  var force = true;\n",
       "  var py_version = '3.2.1'.replace('rc', '-rc.').replace('.dev', '-dev.');\n",
       "  var is_dev = py_version.indexOf(\"+\") !== -1 || py_version.indexOf(\"-\") !== -1;\n",
       "  var reloading = false;\n",
       "  var Bokeh = root.Bokeh;\n",
       "  var bokeh_loaded = Bokeh != null && (Bokeh.version === py_version || (Bokeh.versions !== undefined && Bokeh.versions.has(py_version)));\n",
       "\n",
       "  if (typeof (root._bokeh_timeout) === \"undefined\" || force) {\n",
       "    root._bokeh_timeout = Date.now() + 5000;\n",
       "    root._bokeh_failed_load = false;\n",
       "  }\n",
       "\n",
       "  function run_callbacks() {\n",
       "    try {\n",
       "      root._bokeh_onload_callbacks.forEach(function(callback) {\n",
       "        if (callback != null)\n",
       "          callback();\n",
       "      });\n",
       "    } finally {\n",
       "      delete root._bokeh_onload_callbacks;\n",
       "    }\n",
       "    console.debug(\"Bokeh: all callbacks have finished\");\n",
       "  }\n",
       "\n",
       "  function load_libs(css_urls, js_urls, js_modules, js_exports, callback) {\n",
       "    if (css_urls == null) css_urls = [];\n",
       "    if (js_urls == null) js_urls = [];\n",
       "    if (js_modules == null) js_modules = [];\n",
       "    if (js_exports == null) js_exports = {};\n",
       "\n",
       "    root._bokeh_onload_callbacks.push(callback);\n",
       "\n",
       "    if (root._bokeh_is_loading > 0) {\n",
       "      console.debug(\"Bokeh: BokehJS is being loaded, scheduling callback at\", now());\n",
       "      return null;\n",
       "    }\n",
       "    if (js_urls.length === 0 && js_modules.length === 0 && Object.keys(js_exports).length === 0) {\n",
       "      run_callbacks();\n",
       "      return null;\n",
       "    }\n",
       "    if (!reloading) {\n",
       "      console.debug(\"Bokeh: BokehJS not loaded, scheduling load and callback at\", now());\n",
       "    }\n",
       "\n",
       "    function on_load() {\n",
       "      root._bokeh_is_loading--;\n",
       "      if (root._bokeh_is_loading === 0) {\n",
       "        console.debug(\"Bokeh: all BokehJS libraries/stylesheets loaded\");\n",
       "        run_callbacks()\n",
       "      }\n",
       "    }\n",
       "    window._bokeh_on_load = on_load\n",
       "\n",
       "    function on_error() {\n",
       "      console.error(\"failed to load \" + url);\n",
       "    }\n",
       "\n",
       "    var skip = [];\n",
       "    if (window.requirejs) {\n",
       "      window.requirejs.config({'packages': {}, 'paths': {'jspanel': 'https://cdn.jsdelivr.net/npm/jspanel4@4.12.0/dist/jspanel', 'jspanel-modal': 'https://cdn.jsdelivr.net/npm/jspanel4@4.12.0/dist/extensions/modal/jspanel.modal', 'jspanel-tooltip': 'https://cdn.jsdelivr.net/npm/jspanel4@4.12.0/dist/extensions/tooltip/jspanel.tooltip', 'jspanel-hint': 'https://cdn.jsdelivr.net/npm/jspanel4@4.12.0/dist/extensions/hint/jspanel.hint', 'jspanel-layout': 'https://cdn.jsdelivr.net/npm/jspanel4@4.12.0/dist/extensions/layout/jspanel.layout', 'jspanel-contextmenu': 'https://cdn.jsdelivr.net/npm/jspanel4@4.12.0/dist/extensions/contextmenu/jspanel.contextmenu', 'jspanel-dock': 'https://cdn.jsdelivr.net/npm/jspanel4@4.12.0/dist/extensions/dock/jspanel.dock', 'gridstack': 'https://cdn.jsdelivr.net/npm/gridstack@7.2.3/dist/gridstack-all', 'notyf': 'https://cdn.jsdelivr.net/npm/notyf@3/notyf.min'}, 'shim': {'jspanel': {'exports': 'jsPanel'}, 'gridstack': {'exports': 'GridStack'}}});\n",
       "      require([\"jspanel\"], function(jsPanel) {\n",
       "\twindow.jsPanel = jsPanel\n",
       "\ton_load()\n",
       "      })\n",
       "      require([\"jspanel-modal\"], function() {\n",
       "\ton_load()\n",
       "      })\n",
       "      require([\"jspanel-tooltip\"], function() {\n",
       "\ton_load()\n",
       "      })\n",
       "      require([\"jspanel-hint\"], function() {\n",
       "\ton_load()\n",
       "      })\n",
       "      require([\"jspanel-layout\"], function() {\n",
       "\ton_load()\n",
       "      })\n",
       "      require([\"jspanel-contextmenu\"], function() {\n",
       "\ton_load()\n",
       "      })\n",
       "      require([\"jspanel-dock\"], function() {\n",
       "\ton_load()\n",
       "      })\n",
       "      require([\"gridstack\"], function(GridStack) {\n",
       "\twindow.GridStack = GridStack\n",
       "\ton_load()\n",
       "      })\n",
       "      require([\"notyf\"], function() {\n",
       "\ton_load()\n",
       "      })\n",
       "      root._bokeh_is_loading = css_urls.length + 9;\n",
       "    } else {\n",
       "      root._bokeh_is_loading = css_urls.length + js_urls.length + js_modules.length + Object.keys(js_exports).length;\n",
       "    }\n",
       "\n",
       "    var existing_stylesheets = []\n",
       "    var links = document.getElementsByTagName('link')\n",
       "    for (var i = 0; i < links.length; i++) {\n",
       "      var link = links[i]\n",
       "      if (link.href != null) {\n",
       "\texisting_stylesheets.push(link.href)\n",
       "      }\n",
       "    }\n",
       "    for (var i = 0; i < css_urls.length; i++) {\n",
       "      var url = css_urls[i];\n",
       "      if (existing_stylesheets.indexOf(url) !== -1) {\n",
       "\ton_load()\n",
       "\tcontinue;\n",
       "      }\n",
       "      const element = document.createElement(\"link\");\n",
       "      element.onload = on_load;\n",
       "      element.onerror = on_error;\n",
       "      element.rel = \"stylesheet\";\n",
       "      element.type = \"text/css\";\n",
       "      element.href = url;\n",
       "      console.debug(\"Bokeh: injecting link tag for BokehJS stylesheet: \", url);\n",
       "      document.body.appendChild(element);\n",
       "    }    if (((window['jsPanel'] !== undefined) && (!(window['jsPanel'] instanceof HTMLElement))) || window.requirejs) {\n",
       "      var urls = ['https://cdn.holoviz.org/panel/1.2.1/dist/bundled/floatpanel/jspanel4@4.12.0/dist/jspanel.js', 'https://cdn.holoviz.org/panel/1.2.1/dist/bundled/floatpanel/jspanel4@4.12.0/dist/extensions/modal/jspanel.modal.js', 'https://cdn.holoviz.org/panel/1.2.1/dist/bundled/floatpanel/jspanel4@4.12.0/dist/extensions/tooltip/jspanel.tooltip.js', 'https://cdn.holoviz.org/panel/1.2.1/dist/bundled/floatpanel/jspanel4@4.12.0/dist/extensions/hint/jspanel.hint.js', 'https://cdn.holoviz.org/panel/1.2.1/dist/bundled/floatpanel/jspanel4@4.12.0/dist/extensions/layout/jspanel.layout.js', 'https://cdn.holoviz.org/panel/1.2.1/dist/bundled/floatpanel/jspanel4@4.12.0/dist/extensions/contextmenu/jspanel.contextmenu.js', 'https://cdn.holoviz.org/panel/1.2.1/dist/bundled/floatpanel/jspanel4@4.12.0/dist/extensions/dock/jspanel.dock.js'];\n",
       "      for (var i = 0; i < urls.length; i++) {\n",
       "        skip.push(urls[i])\n",
       "      }\n",
       "    }    if (((window['GridStack'] !== undefined) && (!(window['GridStack'] instanceof HTMLElement))) || window.requirejs) {\n",
       "      var urls = ['https://cdn.holoviz.org/panel/1.2.1/dist/bundled/gridstack/gridstack@7.2.3/dist/gridstack-all.js'];\n",
       "      for (var i = 0; i < urls.length; i++) {\n",
       "        skip.push(urls[i])\n",
       "      }\n",
       "    }    if (((window['Notyf'] !== undefined) && (!(window['Notyf'] instanceof HTMLElement))) || window.requirejs) {\n",
       "      var urls = ['https://cdn.holoviz.org/panel/1.2.1/dist/bundled/notificationarea/notyf@3/notyf.min.js'];\n",
       "      for (var i = 0; i < urls.length; i++) {\n",
       "        skip.push(urls[i])\n",
       "      }\n",
       "    }    var existing_scripts = []\n",
       "    var scripts = document.getElementsByTagName('script')\n",
       "    for (var i = 0; i < scripts.length; i++) {\n",
       "      var script = scripts[i]\n",
       "      if (script.src != null) {\n",
       "\texisting_scripts.push(script.src)\n",
       "      }\n",
       "    }\n",
       "    for (var i = 0; i < js_urls.length; i++) {\n",
       "      var url = js_urls[i];\n",
       "      if (skip.indexOf(url) !== -1 || existing_scripts.indexOf(url) !== -1) {\n",
       "\tif (!window.requirejs) {\n",
       "\t  on_load();\n",
       "\t}\n",
       "\tcontinue;\n",
       "      }\n",
       "      var element = document.createElement('script');\n",
       "      element.onload = on_load;\n",
       "      element.onerror = on_error;\n",
       "      element.async = false;\n",
       "      element.src = url;\n",
       "      console.debug(\"Bokeh: injecting script tag for BokehJS library: \", url);\n",
       "      document.head.appendChild(element);\n",
       "    }\n",
       "    for (var i = 0; i < js_modules.length; i++) {\n",
       "      var url = js_modules[i];\n",
       "      if (skip.indexOf(url) !== -1 || existing_scripts.indexOf(url) !== -1) {\n",
       "\tif (!window.requirejs) {\n",
       "\t  on_load();\n",
       "\t}\n",
       "\tcontinue;\n",
       "      }\n",
       "      var element = document.createElement('script');\n",
       "      element.onload = on_load;\n",
       "      element.onerror = on_error;\n",
       "      element.async = false;\n",
       "      element.src = url;\n",
       "      element.type = \"module\";\n",
       "      console.debug(\"Bokeh: injecting script tag for BokehJS library: \", url);\n",
       "      document.head.appendChild(element);\n",
       "    }\n",
       "    for (const name in js_exports) {\n",
       "      var url = js_exports[name];\n",
       "      if (skip.indexOf(url) >= 0 || root[name] != null) {\n",
       "\tif (!window.requirejs) {\n",
       "\t  on_load();\n",
       "\t}\n",
       "\tcontinue;\n",
       "      }\n",
       "      var element = document.createElement('script');\n",
       "      element.onerror = on_error;\n",
       "      element.async = false;\n",
       "      element.type = \"module\";\n",
       "      console.debug(\"Bokeh: injecting script tag for BokehJS library: \", url);\n",
       "      element.textContent = `\n",
       "      import ${name} from \"${url}\"\n",
       "      window.${name} = ${name}\n",
       "      window._bokeh_on_load()\n",
       "      `\n",
       "      document.head.appendChild(element);\n",
       "    }\n",
       "    if (!js_urls.length && !js_modules.length) {\n",
       "      on_load()\n",
       "    }\n",
       "  };\n",
       "\n",
       "  function inject_raw_css(css) {\n",
       "    const element = document.createElement(\"style\");\n",
       "    element.appendChild(document.createTextNode(css));\n",
       "    document.body.appendChild(element);\n",
       "  }\n",
       "\n",
       "  var js_urls = [\"https://cdn.bokeh.org/bokeh/release/bokeh-3.2.1.min.js\", \"https://cdn.bokeh.org/bokeh/release/bokeh-gl-3.2.1.min.js\", \"https://cdn.bokeh.org/bokeh/release/bokeh-widgets-3.2.1.min.js\", \"https://cdn.bokeh.org/bokeh/release/bokeh-tables-3.2.1.min.js\", \"https://cdn.holoviz.org/panel/1.2.1/dist/panel.min.js\"];\n",
       "  var js_modules = [];\n",
       "  var js_exports = {};\n",
       "  var css_urls = [];\n",
       "  var inline_js = [    function(Bokeh) {\n",
       "      Bokeh.set_log_level(\"info\");\n",
       "    },\n",
       "function(Bokeh) {} // ensure no trailing comma for IE\n",
       "  ];\n",
       "\n",
       "  function run_inline_js() {\n",
       "    if ((root.Bokeh !== undefined) || (force === true)) {\n",
       "      for (var i = 0; i < inline_js.length; i++) {\n",
       "        inline_js[i].call(root, root.Bokeh);\n",
       "      }\n",
       "      // Cache old bokeh versions\n",
       "      if (Bokeh != undefined && !reloading) {\n",
       "\tvar NewBokeh = root.Bokeh;\n",
       "\tif (Bokeh.versions === undefined) {\n",
       "\t  Bokeh.versions = new Map();\n",
       "\t}\n",
       "\tif (NewBokeh.version !== Bokeh.version) {\n",
       "\t  Bokeh.versions.set(NewBokeh.version, NewBokeh)\n",
       "\t}\n",
       "\troot.Bokeh = Bokeh;\n",
       "      }} else if (Date.now() < root._bokeh_timeout) {\n",
       "      setTimeout(run_inline_js, 100);\n",
       "    } else if (!root._bokeh_failed_load) {\n",
       "      console.log(\"Bokeh: BokehJS failed to load within specified timeout.\");\n",
       "      root._bokeh_failed_load = true;\n",
       "    }\n",
       "    root._bokeh_is_initializing = false\n",
       "  }\n",
       "\n",
       "  function load_or_wait() {\n",
       "    // Implement a backoff loop that tries to ensure we do not load multiple\n",
       "    // versions of Bokeh and its dependencies at the same time.\n",
       "    // In recent versions we use the root._bokeh_is_initializing flag\n",
       "    // to determine whether there is an ongoing attempt to initialize\n",
       "    // bokeh, however for backward compatibility we also try to ensure\n",
       "    // that we do not start loading a newer (Panel>=1.0 and Bokeh>3) version\n",
       "    // before older versions are fully initialized.\n",
       "    if (root._bokeh_is_initializing && Date.now() > root._bokeh_timeout) {\n",
       "      root._bokeh_is_initializing = false;\n",
       "      root._bokeh_onload_callbacks = undefined;\n",
       "      console.log(\"Bokeh: BokehJS was loaded multiple times but one version failed to initialize.\");\n",
       "      load_or_wait();\n",
       "    } else if (root._bokeh_is_initializing || (typeof root._bokeh_is_initializing === \"undefined\" && root._bokeh_onload_callbacks !== undefined)) {\n",
       "      setTimeout(load_or_wait, 100);\n",
       "    } else {\n",
       "      Bokeh = root.Bokeh;\n",
       "      bokeh_loaded = Bokeh != null && (Bokeh.version === py_version || (Bokeh.versions !== undefined && Bokeh.versions.has(py_version)));\n",
       "      root._bokeh_is_initializing = true\n",
       "      root._bokeh_onload_callbacks = []\n",
       "      if (!reloading && (!bokeh_loaded || is_dev)) {\n",
       "\troot.Bokeh = undefined;\n",
       "      }\n",
       "      load_libs(css_urls, js_urls, js_modules, js_exports, function() {\n",
       "\tconsole.debug(\"Bokeh: BokehJS plotting callback run at\", now());\n",
       "\trun_inline_js();\n",
       "      });\n",
       "    }\n",
       "  }\n",
       "  // Give older versions of the autoload script a head-start to ensure\n",
       "  // they initialize before we start loading newer version.\n",
       "  setTimeout(load_or_wait, 100)\n",
       "}(window));"
      ],
      "application/vnd.holoviews_load.v0+json": "(function(root) {\n  function now() {\n    return new Date();\n  }\n\n  var force = true;\n  var py_version = '3.2.1'.replace('rc', '-rc.').replace('.dev', '-dev.');\n  var is_dev = py_version.indexOf(\"+\") !== -1 || py_version.indexOf(\"-\") !== -1;\n  var reloading = false;\n  var Bokeh = root.Bokeh;\n  var bokeh_loaded = Bokeh != null && (Bokeh.version === py_version || (Bokeh.versions !== undefined && Bokeh.versions.has(py_version)));\n\n  if (typeof (root._bokeh_timeout) === \"undefined\" || force) {\n    root._bokeh_timeout = Date.now() + 5000;\n    root._bokeh_failed_load = false;\n  }\n\n  function run_callbacks() {\n    try {\n      root._bokeh_onload_callbacks.forEach(function(callback) {\n        if (callback != null)\n          callback();\n      });\n    } finally {\n      delete root._bokeh_onload_callbacks;\n    }\n    console.debug(\"Bokeh: all callbacks have finished\");\n  }\n\n  function load_libs(css_urls, js_urls, js_modules, js_exports, callback) {\n    if (css_urls == null) css_urls = [];\n    if (js_urls == null) js_urls = [];\n    if (js_modules == null) js_modules = [];\n    if (js_exports == null) js_exports = {};\n\n    root._bokeh_onload_callbacks.push(callback);\n\n    if (root._bokeh_is_loading > 0) {\n      console.debug(\"Bokeh: BokehJS is being loaded, scheduling callback at\", now());\n      return null;\n    }\n    if (js_urls.length === 0 && js_modules.length === 0 && Object.keys(js_exports).length === 0) {\n      run_callbacks();\n      return null;\n    }\n    if (!reloading) {\n      console.debug(\"Bokeh: BokehJS not loaded, scheduling load and callback at\", now());\n    }\n\n    function on_load() {\n      root._bokeh_is_loading--;\n      if (root._bokeh_is_loading === 0) {\n        console.debug(\"Bokeh: all BokehJS libraries/stylesheets loaded\");\n        run_callbacks()\n      }\n    }\n    window._bokeh_on_load = on_load\n\n    function on_error() {\n      console.error(\"failed to load \" + url);\n    }\n\n    var skip = [];\n    if (window.requirejs) {\n      window.requirejs.config({'packages': {}, 'paths': {'jspanel': 'https://cdn.jsdelivr.net/npm/jspanel4@4.12.0/dist/jspanel', 'jspanel-modal': 'https://cdn.jsdelivr.net/npm/jspanel4@4.12.0/dist/extensions/modal/jspanel.modal', 'jspanel-tooltip': 'https://cdn.jsdelivr.net/npm/jspanel4@4.12.0/dist/extensions/tooltip/jspanel.tooltip', 'jspanel-hint': 'https://cdn.jsdelivr.net/npm/jspanel4@4.12.0/dist/extensions/hint/jspanel.hint', 'jspanel-layout': 'https://cdn.jsdelivr.net/npm/jspanel4@4.12.0/dist/extensions/layout/jspanel.layout', 'jspanel-contextmenu': 'https://cdn.jsdelivr.net/npm/jspanel4@4.12.0/dist/extensions/contextmenu/jspanel.contextmenu', 'jspanel-dock': 'https://cdn.jsdelivr.net/npm/jspanel4@4.12.0/dist/extensions/dock/jspanel.dock', 'gridstack': 'https://cdn.jsdelivr.net/npm/gridstack@7.2.3/dist/gridstack-all', 'notyf': 'https://cdn.jsdelivr.net/npm/notyf@3/notyf.min'}, 'shim': {'jspanel': {'exports': 'jsPanel'}, 'gridstack': {'exports': 'GridStack'}}});\n      require([\"jspanel\"], function(jsPanel) {\n\twindow.jsPanel = jsPanel\n\ton_load()\n      })\n      require([\"jspanel-modal\"], function() {\n\ton_load()\n      })\n      require([\"jspanel-tooltip\"], function() {\n\ton_load()\n      })\n      require([\"jspanel-hint\"], function() {\n\ton_load()\n      })\n      require([\"jspanel-layout\"], function() {\n\ton_load()\n      })\n      require([\"jspanel-contextmenu\"], function() {\n\ton_load()\n      })\n      require([\"jspanel-dock\"], function() {\n\ton_load()\n      })\n      require([\"gridstack\"], function(GridStack) {\n\twindow.GridStack = GridStack\n\ton_load()\n      })\n      require([\"notyf\"], function() {\n\ton_load()\n      })\n      root._bokeh_is_loading = css_urls.length + 9;\n    } else {\n      root._bokeh_is_loading = css_urls.length + js_urls.length + js_modules.length + Object.keys(js_exports).length;\n    }\n\n    var existing_stylesheets = []\n    var links = document.getElementsByTagName('link')\n    for (var i = 0; i < links.length; i++) {\n      var link = links[i]\n      if (link.href != null) {\n\texisting_stylesheets.push(link.href)\n      }\n    }\n    for (var i = 0; i < css_urls.length; i++) {\n      var url = css_urls[i];\n      if (existing_stylesheets.indexOf(url) !== -1) {\n\ton_load()\n\tcontinue;\n      }\n      const element = document.createElement(\"link\");\n      element.onload = on_load;\n      element.onerror = on_error;\n      element.rel = \"stylesheet\";\n      element.type = \"text/css\";\n      element.href = url;\n      console.debug(\"Bokeh: injecting link tag for BokehJS stylesheet: \", url);\n      document.body.appendChild(element);\n    }    if (((window['jsPanel'] !== undefined) && (!(window['jsPanel'] instanceof HTMLElement))) || window.requirejs) {\n      var urls = ['https://cdn.holoviz.org/panel/1.2.1/dist/bundled/floatpanel/jspanel4@4.12.0/dist/jspanel.js', 'https://cdn.holoviz.org/panel/1.2.1/dist/bundled/floatpanel/jspanel4@4.12.0/dist/extensions/modal/jspanel.modal.js', 'https://cdn.holoviz.org/panel/1.2.1/dist/bundled/floatpanel/jspanel4@4.12.0/dist/extensions/tooltip/jspanel.tooltip.js', 'https://cdn.holoviz.org/panel/1.2.1/dist/bundled/floatpanel/jspanel4@4.12.0/dist/extensions/hint/jspanel.hint.js', 'https://cdn.holoviz.org/panel/1.2.1/dist/bundled/floatpanel/jspanel4@4.12.0/dist/extensions/layout/jspanel.layout.js', 'https://cdn.holoviz.org/panel/1.2.1/dist/bundled/floatpanel/jspanel4@4.12.0/dist/extensions/contextmenu/jspanel.contextmenu.js', 'https://cdn.holoviz.org/panel/1.2.1/dist/bundled/floatpanel/jspanel4@4.12.0/dist/extensions/dock/jspanel.dock.js'];\n      for (var i = 0; i < urls.length; i++) {\n        skip.push(urls[i])\n      }\n    }    if (((window['GridStack'] !== undefined) && (!(window['GridStack'] instanceof HTMLElement))) || window.requirejs) {\n      var urls = ['https://cdn.holoviz.org/panel/1.2.1/dist/bundled/gridstack/gridstack@7.2.3/dist/gridstack-all.js'];\n      for (var i = 0; i < urls.length; i++) {\n        skip.push(urls[i])\n      }\n    }    if (((window['Notyf'] !== undefined) && (!(window['Notyf'] instanceof HTMLElement))) || window.requirejs) {\n      var urls = ['https://cdn.holoviz.org/panel/1.2.1/dist/bundled/notificationarea/notyf@3/notyf.min.js'];\n      for (var i = 0; i < urls.length; i++) {\n        skip.push(urls[i])\n      }\n    }    var existing_scripts = []\n    var scripts = document.getElementsByTagName('script')\n    for (var i = 0; i < scripts.length; i++) {\n      var script = scripts[i]\n      if (script.src != null) {\n\texisting_scripts.push(script.src)\n      }\n    }\n    for (var i = 0; i < js_urls.length; i++) {\n      var url = js_urls[i];\n      if (skip.indexOf(url) !== -1 || existing_scripts.indexOf(url) !== -1) {\n\tif (!window.requirejs) {\n\t  on_load();\n\t}\n\tcontinue;\n      }\n      var element = document.createElement('script');\n      element.onload = on_load;\n      element.onerror = on_error;\n      element.async = false;\n      element.src = url;\n      console.debug(\"Bokeh: injecting script tag for BokehJS library: \", url);\n      document.head.appendChild(element);\n    }\n    for (var i = 0; i < js_modules.length; i++) {\n      var url = js_modules[i];\n      if (skip.indexOf(url) !== -1 || existing_scripts.indexOf(url) !== -1) {\n\tif (!window.requirejs) {\n\t  on_load();\n\t}\n\tcontinue;\n      }\n      var element = document.createElement('script');\n      element.onload = on_load;\n      element.onerror = on_error;\n      element.async = false;\n      element.src = url;\n      element.type = \"module\";\n      console.debug(\"Bokeh: injecting script tag for BokehJS library: \", url);\n      document.head.appendChild(element);\n    }\n    for (const name in js_exports) {\n      var url = js_exports[name];\n      if (skip.indexOf(url) >= 0 || root[name] != null) {\n\tif (!window.requirejs) {\n\t  on_load();\n\t}\n\tcontinue;\n      }\n      var element = document.createElement('script');\n      element.onerror = on_error;\n      element.async = false;\n      element.type = \"module\";\n      console.debug(\"Bokeh: injecting script tag for BokehJS library: \", url);\n      element.textContent = `\n      import ${name} from \"${url}\"\n      window.${name} = ${name}\n      window._bokeh_on_load()\n      `\n      document.head.appendChild(element);\n    }\n    if (!js_urls.length && !js_modules.length) {\n      on_load()\n    }\n  };\n\n  function inject_raw_css(css) {\n    const element = document.createElement(\"style\");\n    element.appendChild(document.createTextNode(css));\n    document.body.appendChild(element);\n  }\n\n  var js_urls = [\"https://cdn.bokeh.org/bokeh/release/bokeh-3.2.1.min.js\", \"https://cdn.bokeh.org/bokeh/release/bokeh-gl-3.2.1.min.js\", \"https://cdn.bokeh.org/bokeh/release/bokeh-widgets-3.2.1.min.js\", \"https://cdn.bokeh.org/bokeh/release/bokeh-tables-3.2.1.min.js\", \"https://cdn.holoviz.org/panel/1.2.1/dist/panel.min.js\"];\n  var js_modules = [];\n  var js_exports = {};\n  var css_urls = [];\n  var inline_js = [    function(Bokeh) {\n      Bokeh.set_log_level(\"info\");\n    },\nfunction(Bokeh) {} // ensure no trailing comma for IE\n  ];\n\n  function run_inline_js() {\n    if ((root.Bokeh !== undefined) || (force === true)) {\n      for (var i = 0; i < inline_js.length; i++) {\n        inline_js[i].call(root, root.Bokeh);\n      }\n      // Cache old bokeh versions\n      if (Bokeh != undefined && !reloading) {\n\tvar NewBokeh = root.Bokeh;\n\tif (Bokeh.versions === undefined) {\n\t  Bokeh.versions = new Map();\n\t}\n\tif (NewBokeh.version !== Bokeh.version) {\n\t  Bokeh.versions.set(NewBokeh.version, NewBokeh)\n\t}\n\troot.Bokeh = Bokeh;\n      }} else if (Date.now() < root._bokeh_timeout) {\n      setTimeout(run_inline_js, 100);\n    } else if (!root._bokeh_failed_load) {\n      console.log(\"Bokeh: BokehJS failed to load within specified timeout.\");\n      root._bokeh_failed_load = true;\n    }\n    root._bokeh_is_initializing = false\n  }\n\n  function load_or_wait() {\n    // Implement a backoff loop that tries to ensure we do not load multiple\n    // versions of Bokeh and its dependencies at the same time.\n    // In recent versions we use the root._bokeh_is_initializing flag\n    // to determine whether there is an ongoing attempt to initialize\n    // bokeh, however for backward compatibility we also try to ensure\n    // that we do not start loading a newer (Panel>=1.0 and Bokeh>3) version\n    // before older versions are fully initialized.\n    if (root._bokeh_is_initializing && Date.now() > root._bokeh_timeout) {\n      root._bokeh_is_initializing = false;\n      root._bokeh_onload_callbacks = undefined;\n      console.log(\"Bokeh: BokehJS was loaded multiple times but one version failed to initialize.\");\n      load_or_wait();\n    } else if (root._bokeh_is_initializing || (typeof root._bokeh_is_initializing === \"undefined\" && root._bokeh_onload_callbacks !== undefined)) {\n      setTimeout(load_or_wait, 100);\n    } else {\n      Bokeh = root.Bokeh;\n      bokeh_loaded = Bokeh != null && (Bokeh.version === py_version || (Bokeh.versions !== undefined && Bokeh.versions.has(py_version)));\n      root._bokeh_is_initializing = true\n      root._bokeh_onload_callbacks = []\n      if (!reloading && (!bokeh_loaded || is_dev)) {\n\troot.Bokeh = undefined;\n      }\n      load_libs(css_urls, js_urls, js_modules, js_exports, function() {\n\tconsole.debug(\"Bokeh: BokehJS plotting callback run at\", now());\n\trun_inline_js();\n      });\n    }\n  }\n  // Give older versions of the autoload script a head-start to ensure\n  // they initialize before we start loading newer version.\n  setTimeout(load_or_wait, 100)\n}(window));"
     },
     "metadata": {},
     "output_type": "display_data"
    },
    {
     "data": {
      "application/javascript": [
       "\n",
       "if ((window.PyViz === undefined) || (window.PyViz instanceof HTMLElement)) {\n",
       "  window.PyViz = {comms: {}, comm_status:{}, kernels:{}, receivers: {}, plot_index: []}\n",
       "}\n",
       "\n",
       "\n",
       "    function JupyterCommManager() {\n",
       "    }\n",
       "\n",
       "    JupyterCommManager.prototype.register_target = function(plot_id, comm_id, msg_handler) {\n",
       "      if (window.comm_manager || ((window.Jupyter !== undefined) && (Jupyter.notebook.kernel != null))) {\n",
       "        var comm_manager = window.comm_manager || Jupyter.notebook.kernel.comm_manager;\n",
       "        comm_manager.register_target(comm_id, function(comm) {\n",
       "          comm.on_msg(msg_handler);\n",
       "        });\n",
       "      } else if ((plot_id in window.PyViz.kernels) && (window.PyViz.kernels[plot_id])) {\n",
       "        window.PyViz.kernels[plot_id].registerCommTarget(comm_id, function(comm) {\n",
       "          comm.onMsg = msg_handler;\n",
       "        });\n",
       "      } else if (typeof google != 'undefined' && google.colab.kernel != null) {\n",
       "        google.colab.kernel.comms.registerTarget(comm_id, (comm) => {\n",
       "          var messages = comm.messages[Symbol.asyncIterator]();\n",
       "          function processIteratorResult(result) {\n",
       "            var message = result.value;\n",
       "            console.log(message)\n",
       "            var content = {data: message.data, comm_id};\n",
       "            var buffers = []\n",
       "            for (var buffer of message.buffers || []) {\n",
       "              buffers.push(new DataView(buffer))\n",
       "            }\n",
       "            var metadata = message.metadata || {};\n",
       "            var msg = {content, buffers, metadata}\n",
       "            msg_handler(msg);\n",
       "            return messages.next().then(processIteratorResult);\n",
       "          }\n",
       "          return messages.next().then(processIteratorResult);\n",
       "        })\n",
       "      }\n",
       "    }\n",
       "\n",
       "    JupyterCommManager.prototype.get_client_comm = function(plot_id, comm_id, msg_handler) {\n",
       "      if (comm_id in window.PyViz.comms) {\n",
       "        return window.PyViz.comms[comm_id];\n",
       "      } else if (window.comm_manager || ((window.Jupyter !== undefined) && (Jupyter.notebook.kernel != null))) {\n",
       "        var comm_manager = window.comm_manager || Jupyter.notebook.kernel.comm_manager;\n",
       "        var comm = comm_manager.new_comm(comm_id, {}, {}, {}, comm_id);\n",
       "        if (msg_handler) {\n",
       "          comm.on_msg(msg_handler);\n",
       "        }\n",
       "      } else if ((plot_id in window.PyViz.kernels) && (window.PyViz.kernels[plot_id])) {\n",
       "        var comm = window.PyViz.kernels[plot_id].connectToComm(comm_id);\n",
       "        comm.open();\n",
       "        if (msg_handler) {\n",
       "          comm.onMsg = msg_handler;\n",
       "        }\n",
       "      } else if (typeof google != 'undefined' && google.colab.kernel != null) {\n",
       "        var comm_promise = google.colab.kernel.comms.open(comm_id)\n",
       "        comm_promise.then((comm) => {\n",
       "          window.PyViz.comms[comm_id] = comm;\n",
       "          if (msg_handler) {\n",
       "            var messages = comm.messages[Symbol.asyncIterator]();\n",
       "            function processIteratorResult(result) {\n",
       "              var message = result.value;\n",
       "              var content = {data: message.data};\n",
       "              var metadata = message.metadata || {comm_id};\n",
       "              var msg = {content, metadata}\n",
       "              msg_handler(msg);\n",
       "              return messages.next().then(processIteratorResult);\n",
       "            }\n",
       "            return messages.next().then(processIteratorResult);\n",
       "          }\n",
       "        }) \n",
       "        var sendClosure = (data, metadata, buffers, disposeOnDone) => {\n",
       "          return comm_promise.then((comm) => {\n",
       "            comm.send(data, metadata, buffers, disposeOnDone);\n",
       "          });\n",
       "        };\n",
       "        var comm = {\n",
       "          send: sendClosure\n",
       "        };\n",
       "      }\n",
       "      window.PyViz.comms[comm_id] = comm;\n",
       "      return comm;\n",
       "    }\n",
       "    window.PyViz.comm_manager = new JupyterCommManager();\n",
       "    \n",
       "\n",
       "\n",
       "var JS_MIME_TYPE = 'application/javascript';\n",
       "var HTML_MIME_TYPE = 'text/html';\n",
       "var EXEC_MIME_TYPE = 'application/vnd.holoviews_exec.v0+json';\n",
       "var CLASS_NAME = 'output';\n",
       "\n",
       "/**\n",
       " * Render data to the DOM node\n",
       " */\n",
       "function render(props, node) {\n",
       "  var div = document.createElement(\"div\");\n",
       "  var script = document.createElement(\"script\");\n",
       "  node.appendChild(div);\n",
       "  node.appendChild(script);\n",
       "}\n",
       "\n",
       "/**\n",
       " * Handle when a new output is added\n",
       " */\n",
       "function handle_add_output(event, handle) {\n",
       "  var output_area = handle.output_area;\n",
       "  var output = handle.output;\n",
       "  if ((output.data == undefined) || (!output.data.hasOwnProperty(EXEC_MIME_TYPE))) {\n",
       "    return\n",
       "  }\n",
       "  var id = output.metadata[EXEC_MIME_TYPE][\"id\"];\n",
       "  var toinsert = output_area.element.find(\".\" + CLASS_NAME.split(' ')[0]);\n",
       "  if (id !== undefined) {\n",
       "    var nchildren = toinsert.length;\n",
       "    var html_node = toinsert[nchildren-1].children[0];\n",
       "    html_node.innerHTML = output.data[HTML_MIME_TYPE];\n",
       "    var scripts = [];\n",
       "    var nodelist = html_node.querySelectorAll(\"script\");\n",
       "    for (var i in nodelist) {\n",
       "      if (nodelist.hasOwnProperty(i)) {\n",
       "        scripts.push(nodelist[i])\n",
       "      }\n",
       "    }\n",
       "\n",
       "    scripts.forEach( function (oldScript) {\n",
       "      var newScript = document.createElement(\"script\");\n",
       "      var attrs = [];\n",
       "      var nodemap = oldScript.attributes;\n",
       "      for (var j in nodemap) {\n",
       "        if (nodemap.hasOwnProperty(j)) {\n",
       "          attrs.push(nodemap[j])\n",
       "        }\n",
       "      }\n",
       "      attrs.forEach(function(attr) { newScript.setAttribute(attr.name, attr.value) });\n",
       "      newScript.appendChild(document.createTextNode(oldScript.innerHTML));\n",
       "      oldScript.parentNode.replaceChild(newScript, oldScript);\n",
       "    });\n",
       "    if (JS_MIME_TYPE in output.data) {\n",
       "      toinsert[nchildren-1].children[1].textContent = output.data[JS_MIME_TYPE];\n",
       "    }\n",
       "    output_area._hv_plot_id = id;\n",
       "    if ((window.Bokeh !== undefined) && (id in Bokeh.index)) {\n",
       "      window.PyViz.plot_index[id] = Bokeh.index[id];\n",
       "    } else {\n",
       "      window.PyViz.plot_index[id] = null;\n",
       "    }\n",
       "  } else if (output.metadata[EXEC_MIME_TYPE][\"server_id\"] !== undefined) {\n",
       "    var bk_div = document.createElement(\"div\");\n",
       "    bk_div.innerHTML = output.data[HTML_MIME_TYPE];\n",
       "    var script_attrs = bk_div.children[0].attributes;\n",
       "    for (var i = 0; i < script_attrs.length; i++) {\n",
       "      toinsert[toinsert.length - 1].childNodes[1].setAttribute(script_attrs[i].name, script_attrs[i].value);\n",
       "    }\n",
       "    // store reference to server id on output_area\n",
       "    output_area._bokeh_server_id = output.metadata[EXEC_MIME_TYPE][\"server_id\"];\n",
       "  }\n",
       "}\n",
       "\n",
       "/**\n",
       " * Handle when an output is cleared or removed\n",
       " */\n",
       "function handle_clear_output(event, handle) {\n",
       "  var id = handle.cell.output_area._hv_plot_id;\n",
       "  var server_id = handle.cell.output_area._bokeh_server_id;\n",
       "  if (((id === undefined) || !(id in PyViz.plot_index)) && (server_id !== undefined)) { return; }\n",
       "  var comm = window.PyViz.comm_manager.get_client_comm(\"hv-extension-comm\", \"hv-extension-comm\", function () {});\n",
       "  if (server_id !== null) {\n",
       "    comm.send({event_type: 'server_delete', 'id': server_id});\n",
       "    return;\n",
       "  } else if (comm !== null) {\n",
       "    comm.send({event_type: 'delete', 'id': id});\n",
       "  }\n",
       "  delete PyViz.plot_index[id];\n",
       "  if ((window.Bokeh !== undefined) & (id in window.Bokeh.index)) {\n",
       "    var doc = window.Bokeh.index[id].model.document\n",
       "    doc.clear();\n",
       "    const i = window.Bokeh.documents.indexOf(doc);\n",
       "    if (i > -1) {\n",
       "      window.Bokeh.documents.splice(i, 1);\n",
       "    }\n",
       "  }\n",
       "}\n",
       "\n",
       "/**\n",
       " * Handle kernel restart event\n",
       " */\n",
       "function handle_kernel_cleanup(event, handle) {\n",
       "  delete PyViz.comms[\"hv-extension-comm\"];\n",
       "  window.PyViz.plot_index = {}\n",
       "}\n",
       "\n",
       "/**\n",
       " * Handle update_display_data messages\n",
       " */\n",
       "function handle_update_output(event, handle) {\n",
       "  handle_clear_output(event, {cell: {output_area: handle.output_area}})\n",
       "  handle_add_output(event, handle)\n",
       "}\n",
       "\n",
       "function register_renderer(events, OutputArea) {\n",
       "  function append_mime(data, metadata, element) {\n",
       "    // create a DOM node to render to\n",
       "    var toinsert = this.create_output_subarea(\n",
       "    metadata,\n",
       "    CLASS_NAME,\n",
       "    EXEC_MIME_TYPE\n",
       "    );\n",
       "    this.keyboard_manager.register_events(toinsert);\n",
       "    // Render to node\n",
       "    var props = {data: data, metadata: metadata[EXEC_MIME_TYPE]};\n",
       "    render(props, toinsert[0]);\n",
       "    element.append(toinsert);\n",
       "    return toinsert\n",
       "  }\n",
       "\n",
       "  events.on('output_added.OutputArea', handle_add_output);\n",
       "  events.on('output_updated.OutputArea', handle_update_output);\n",
       "  events.on('clear_output.CodeCell', handle_clear_output);\n",
       "  events.on('delete.Cell', handle_clear_output);\n",
       "  events.on('kernel_ready.Kernel', handle_kernel_cleanup);\n",
       "\n",
       "  OutputArea.prototype.register_mime_type(EXEC_MIME_TYPE, append_mime, {\n",
       "    safe: true,\n",
       "    index: 0\n",
       "  });\n",
       "}\n",
       "\n",
       "if (window.Jupyter !== undefined) {\n",
       "  try {\n",
       "    var events = require('base/js/events');\n",
       "    var OutputArea = require('notebook/js/outputarea').OutputArea;\n",
       "    if (OutputArea.prototype.mime_types().indexOf(EXEC_MIME_TYPE) == -1) {\n",
       "      register_renderer(events, OutputArea);\n",
       "    }\n",
       "  } catch(err) {\n",
       "  }\n",
       "}\n"
      ],
      "application/vnd.holoviews_load.v0+json": "\nif ((window.PyViz === undefined) || (window.PyViz instanceof HTMLElement)) {\n  window.PyViz = {comms: {}, comm_status:{}, kernels:{}, receivers: {}, plot_index: []}\n}\n\n\n    function JupyterCommManager() {\n    }\n\n    JupyterCommManager.prototype.register_target = function(plot_id, comm_id, msg_handler) {\n      if (window.comm_manager || ((window.Jupyter !== undefined) && (Jupyter.notebook.kernel != null))) {\n        var comm_manager = window.comm_manager || Jupyter.notebook.kernel.comm_manager;\n        comm_manager.register_target(comm_id, function(comm) {\n          comm.on_msg(msg_handler);\n        });\n      } else if ((plot_id in window.PyViz.kernels) && (window.PyViz.kernels[plot_id])) {\n        window.PyViz.kernels[plot_id].registerCommTarget(comm_id, function(comm) {\n          comm.onMsg = msg_handler;\n        });\n      } else if (typeof google != 'undefined' && google.colab.kernel != null) {\n        google.colab.kernel.comms.registerTarget(comm_id, (comm) => {\n          var messages = comm.messages[Symbol.asyncIterator]();\n          function processIteratorResult(result) {\n            var message = result.value;\n            console.log(message)\n            var content = {data: message.data, comm_id};\n            var buffers = []\n            for (var buffer of message.buffers || []) {\n              buffers.push(new DataView(buffer))\n            }\n            var metadata = message.metadata || {};\n            var msg = {content, buffers, metadata}\n            msg_handler(msg);\n            return messages.next().then(processIteratorResult);\n          }\n          return messages.next().then(processIteratorResult);\n        })\n      }\n    }\n\n    JupyterCommManager.prototype.get_client_comm = function(plot_id, comm_id, msg_handler) {\n      if (comm_id in window.PyViz.comms) {\n        return window.PyViz.comms[comm_id];\n      } else if (window.comm_manager || ((window.Jupyter !== undefined) && (Jupyter.notebook.kernel != null))) {\n        var comm_manager = window.comm_manager || Jupyter.notebook.kernel.comm_manager;\n        var comm = comm_manager.new_comm(comm_id, {}, {}, {}, comm_id);\n        if (msg_handler) {\n          comm.on_msg(msg_handler);\n        }\n      } else if ((plot_id in window.PyViz.kernels) && (window.PyViz.kernels[plot_id])) {\n        var comm = window.PyViz.kernels[plot_id].connectToComm(comm_id);\n        comm.open();\n        if (msg_handler) {\n          comm.onMsg = msg_handler;\n        }\n      } else if (typeof google != 'undefined' && google.colab.kernel != null) {\n        var comm_promise = google.colab.kernel.comms.open(comm_id)\n        comm_promise.then((comm) => {\n          window.PyViz.comms[comm_id] = comm;\n          if (msg_handler) {\n            var messages = comm.messages[Symbol.asyncIterator]();\n            function processIteratorResult(result) {\n              var message = result.value;\n              var content = {data: message.data};\n              var metadata = message.metadata || {comm_id};\n              var msg = {content, metadata}\n              msg_handler(msg);\n              return messages.next().then(processIteratorResult);\n            }\n            return messages.next().then(processIteratorResult);\n          }\n        }) \n        var sendClosure = (data, metadata, buffers, disposeOnDone) => {\n          return comm_promise.then((comm) => {\n            comm.send(data, metadata, buffers, disposeOnDone);\n          });\n        };\n        var comm = {\n          send: sendClosure\n        };\n      }\n      window.PyViz.comms[comm_id] = comm;\n      return comm;\n    }\n    window.PyViz.comm_manager = new JupyterCommManager();\n    \n\n\nvar JS_MIME_TYPE = 'application/javascript';\nvar HTML_MIME_TYPE = 'text/html';\nvar EXEC_MIME_TYPE = 'application/vnd.holoviews_exec.v0+json';\nvar CLASS_NAME = 'output';\n\n/**\n * Render data to the DOM node\n */\nfunction render(props, node) {\n  var div = document.createElement(\"div\");\n  var script = document.createElement(\"script\");\n  node.appendChild(div);\n  node.appendChild(script);\n}\n\n/**\n * Handle when a new output is added\n */\nfunction handle_add_output(event, handle) {\n  var output_area = handle.output_area;\n  var output = handle.output;\n  if ((output.data == undefined) || (!output.data.hasOwnProperty(EXEC_MIME_TYPE))) {\n    return\n  }\n  var id = output.metadata[EXEC_MIME_TYPE][\"id\"];\n  var toinsert = output_area.element.find(\".\" + CLASS_NAME.split(' ')[0]);\n  if (id !== undefined) {\n    var nchildren = toinsert.length;\n    var html_node = toinsert[nchildren-1].children[0];\n    html_node.innerHTML = output.data[HTML_MIME_TYPE];\n    var scripts = [];\n    var nodelist = html_node.querySelectorAll(\"script\");\n    for (var i in nodelist) {\n      if (nodelist.hasOwnProperty(i)) {\n        scripts.push(nodelist[i])\n      }\n    }\n\n    scripts.forEach( function (oldScript) {\n      var newScript = document.createElement(\"script\");\n      var attrs = [];\n      var nodemap = oldScript.attributes;\n      for (var j in nodemap) {\n        if (nodemap.hasOwnProperty(j)) {\n          attrs.push(nodemap[j])\n        }\n      }\n      attrs.forEach(function(attr) { newScript.setAttribute(attr.name, attr.value) });\n      newScript.appendChild(document.createTextNode(oldScript.innerHTML));\n      oldScript.parentNode.replaceChild(newScript, oldScript);\n    });\n    if (JS_MIME_TYPE in output.data) {\n      toinsert[nchildren-1].children[1].textContent = output.data[JS_MIME_TYPE];\n    }\n    output_area._hv_plot_id = id;\n    if ((window.Bokeh !== undefined) && (id in Bokeh.index)) {\n      window.PyViz.plot_index[id] = Bokeh.index[id];\n    } else {\n      window.PyViz.plot_index[id] = null;\n    }\n  } else if (output.metadata[EXEC_MIME_TYPE][\"server_id\"] !== undefined) {\n    var bk_div = document.createElement(\"div\");\n    bk_div.innerHTML = output.data[HTML_MIME_TYPE];\n    var script_attrs = bk_div.children[0].attributes;\n    for (var i = 0; i < script_attrs.length; i++) {\n      toinsert[toinsert.length - 1].childNodes[1].setAttribute(script_attrs[i].name, script_attrs[i].value);\n    }\n    // store reference to server id on output_area\n    output_area._bokeh_server_id = output.metadata[EXEC_MIME_TYPE][\"server_id\"];\n  }\n}\n\n/**\n * Handle when an output is cleared or removed\n */\nfunction handle_clear_output(event, handle) {\n  var id = handle.cell.output_area._hv_plot_id;\n  var server_id = handle.cell.output_area._bokeh_server_id;\n  if (((id === undefined) || !(id in PyViz.plot_index)) && (server_id !== undefined)) { return; }\n  var comm = window.PyViz.comm_manager.get_client_comm(\"hv-extension-comm\", \"hv-extension-comm\", function () {});\n  if (server_id !== null) {\n    comm.send({event_type: 'server_delete', 'id': server_id});\n    return;\n  } else if (comm !== null) {\n    comm.send({event_type: 'delete', 'id': id});\n  }\n  delete PyViz.plot_index[id];\n  if ((window.Bokeh !== undefined) & (id in window.Bokeh.index)) {\n    var doc = window.Bokeh.index[id].model.document\n    doc.clear();\n    const i = window.Bokeh.documents.indexOf(doc);\n    if (i > -1) {\n      window.Bokeh.documents.splice(i, 1);\n    }\n  }\n}\n\n/**\n * Handle kernel restart event\n */\nfunction handle_kernel_cleanup(event, handle) {\n  delete PyViz.comms[\"hv-extension-comm\"];\n  window.PyViz.plot_index = {}\n}\n\n/**\n * Handle update_display_data messages\n */\nfunction handle_update_output(event, handle) {\n  handle_clear_output(event, {cell: {output_area: handle.output_area}})\n  handle_add_output(event, handle)\n}\n\nfunction register_renderer(events, OutputArea) {\n  function append_mime(data, metadata, element) {\n    // create a DOM node to render to\n    var toinsert = this.create_output_subarea(\n    metadata,\n    CLASS_NAME,\n    EXEC_MIME_TYPE\n    );\n    this.keyboard_manager.register_events(toinsert);\n    // Render to node\n    var props = {data: data, metadata: metadata[EXEC_MIME_TYPE]};\n    render(props, toinsert[0]);\n    element.append(toinsert);\n    return toinsert\n  }\n\n  events.on('output_added.OutputArea', handle_add_output);\n  events.on('output_updated.OutputArea', handle_update_output);\n  events.on('clear_output.CodeCell', handle_clear_output);\n  events.on('delete.Cell', handle_clear_output);\n  events.on('kernel_ready.Kernel', handle_kernel_cleanup);\n\n  OutputArea.prototype.register_mime_type(EXEC_MIME_TYPE, append_mime, {\n    safe: true,\n    index: 0\n  });\n}\n\nif (window.Jupyter !== undefined) {\n  try {\n    var events = require('base/js/events');\n    var OutputArea = require('notebook/js/outputarea').OutputArea;\n    if (OutputArea.prototype.mime_types().indexOf(EXEC_MIME_TYPE) == -1) {\n      register_renderer(events, OutputArea);\n    }\n  } catch(err) {\n  }\n}\n"
     },
     "metadata": {},
     "output_type": "display_data"
    },
    {
     "data": {
      "text/html": [
       "<style>*[data-root-id],\n",
       "*[data-root-id] > * {\n",
       "  box-sizing: border-box;\n",
       "  font-family: var(--jp-ui-font-family);\n",
       "  font-size: var(--jp-ui-font-size1);\n",
       "  color: var(--vscode-editor-foreground, var(--jp-ui-font-color1));\n",
       "}\n",
       "\n",
       "/* Override VSCode background color */\n",
       ".cell-output-ipywidget-background:has(\n",
       "    > .cell-output-ipywidget-background > .lm-Widget > *[data-root-id]\n",
       "  ),\n",
       ".cell-output-ipywidget-background:has(> .lm-Widget > *[data-root-id]) {\n",
       "  background-color: transparent !important;\n",
       "}\n",
       "</style>"
      ]
     },
     "metadata": {},
     "output_type": "display_data"
    },
    {
     "data": {},
     "metadata": {},
     "output_type": "display_data"
    },
    {
     "data": {},
     "metadata": {},
     "output_type": "display_data"
    },
    {
     "data": {
      "application/vnd.holoviews_exec.v0+json": "",
      "text/html": [
       "<div id='p1002'>\n",
       "  <div id=\"d8ae9539-afce-4a27-b389-70784b53ae3c\" data-root-id=\"p1002\" style=\"display: contents;\"></div>\n",
       "</div>\n",
       "<script type=\"application/javascript\">(function(root) {\n",
       "  var docs_json = {\"d0e7e8fc-d812-4c0f-9f82-66b1d56c0f31\":{\"version\":\"3.2.1\",\"title\":\"Bokeh Application\",\"roots\":[{\"type\":\"object\",\"name\":\"Column\",\"id\":\"p1002\",\"attributes\":{\"name\":\"Column01030\",\"stylesheets\":[\"\\n:host(.pn-loading.pn-arc):before, .pn-loading.pn-arc:before {\\n  background-image: url(\\\"data:image/svg+xml;base64,PHN2ZyB4bWxucz0iaHR0cDovL3d3dy53My5vcmcvMjAwMC9zdmciIHN0eWxlPSJtYXJnaW46IGF1dG87IGJhY2tncm91bmQ6IG5vbmU7IGRpc3BsYXk6IGJsb2NrOyBzaGFwZS1yZW5kZXJpbmc6IGF1dG87IiB2aWV3Qm94PSIwIDAgMTAwIDEwMCIgcHJlc2VydmVBc3BlY3RSYXRpbz0ieE1pZFlNaWQiPiAgPGNpcmNsZSBjeD0iNTAiIGN5PSI1MCIgZmlsbD0ibm9uZSIgc3Ryb2tlPSIjYzNjM2MzIiBzdHJva2Utd2lkdGg9IjEwIiByPSIzNSIgc3Ryb2tlLWRhc2hhcnJheT0iMTY0LjkzMzYxNDMxMzQ2NDE1IDU2Ljk3Nzg3MTQzNzgyMTM4Ij4gICAgPGFuaW1hdGVUcmFuc2Zvcm0gYXR0cmlidXRlTmFtZT0idHJhbnNmb3JtIiB0eXBlPSJyb3RhdGUiIHJlcGVhdENvdW50PSJpbmRlZmluaXRlIiBkdXI9IjFzIiB2YWx1ZXM9IjAgNTAgNTA7MzYwIDUwIDUwIiBrZXlUaW1lcz0iMDsxIj48L2FuaW1hdGVUcmFuc2Zvcm0+ICA8L2NpcmNsZT48L3N2Zz4=\\\");\\n  background-size: auto calc(min(50%, 400px));\\n}\",{\"type\":\"object\",\"name\":\"ImportedStyleSheet\",\"id\":\"p1006\",\"attributes\":{\"url\":\"https://cdn.holoviz.org/panel/1.2.1/dist/css/loading.css\"}},{\"type\":\"object\",\"name\":\"ImportedStyleSheet\",\"id\":\"p1018\",\"attributes\":{\"url\":\"https://cdn.holoviz.org/panel/1.2.1/dist/css/listpanel.css\"}},{\"type\":\"object\",\"name\":\"ImportedStyleSheet\",\"id\":\"p1004\",\"attributes\":{\"url\":\"https://cdn.holoviz.org/panel/1.2.1/dist/bundled/theme/default.css\"}},{\"type\":\"object\",\"name\":\"ImportedStyleSheet\",\"id\":\"p1005\",\"attributes\":{\"url\":\"https://cdn.holoviz.org/panel/1.2.1/dist/bundled/theme/native.css\"}}],\"margin\":0,\"align\":\"start\",\"children\":[{\"type\":\"object\",\"name\":\"Row\",\"id\":\"p1003\",\"attributes\":{\"name\":\"Row01027\",\"stylesheets\":[\"\\n:host(.pn-loading.pn-arc):before, .pn-loading.pn-arc:before {\\n  background-image: url(\\\"data:image/svg+xml;base64,PHN2ZyB4bWxucz0iaHR0cDovL3d3dy53My5vcmcvMjAwMC9zdmciIHN0eWxlPSJtYXJnaW46IGF1dG87IGJhY2tncm91bmQ6IG5vbmU7IGRpc3BsYXk6IGJsb2NrOyBzaGFwZS1yZW5kZXJpbmc6IGF1dG87IiB2aWV3Qm94PSIwIDAgMTAwIDEwMCIgcHJlc2VydmVBc3BlY3RSYXRpbz0ieE1pZFlNaWQiPiAgPGNpcmNsZSBjeD0iNTAiIGN5PSI1MCIgZmlsbD0ibm9uZSIgc3Ryb2tlPSIjYzNjM2MzIiBzdHJva2Utd2lkdGg9IjEwIiByPSIzNSIgc3Ryb2tlLWRhc2hhcnJheT0iMTY0LjkzMzYxNDMxMzQ2NDE1IDU2Ljk3Nzg3MTQzNzgyMTM4Ij4gICAgPGFuaW1hdGVUcmFuc2Zvcm0gYXR0cmlidXRlTmFtZT0idHJhbnNmb3JtIiB0eXBlPSJyb3RhdGUiIHJlcGVhdENvdW50PSJpbmRlZmluaXRlIiBkdXI9IjFzIiB2YWx1ZXM9IjAgNTAgNTA7MzYwIDUwIDUwIiBrZXlUaW1lcz0iMDsxIj48L2FuaW1hdGVUcmFuc2Zvcm0+ICA8L2NpcmNsZT48L3N2Zz4=\\\");\\n  background-size: auto calc(min(50%, 400px));\\n}\",{\"id\":\"p1006\"},{\"id\":\"p1018\"},{\"id\":\"p1004\"},{\"id\":\"p1005\"}],\"margin\":0,\"align\":\"start\",\"children\":[{\"type\":\"object\",\"name\":\"panel.models.markup.HTML\",\"id\":\"p1008\",\"attributes\":{\"css_classes\":[\"markdown\"],\"stylesheets\":[\"\\n:host(.pn-loading.pn-arc):before, .pn-loading.pn-arc:before {\\n  background-image: url(\\\"data:image/svg+xml;base64,PHN2ZyB4bWxucz0iaHR0cDovL3d3dy53My5vcmcvMjAwMC9zdmciIHN0eWxlPSJtYXJnaW46IGF1dG87IGJhY2tncm91bmQ6IG5vbmU7IGRpc3BsYXk6IGJsb2NrOyBzaGFwZS1yZW5kZXJpbmc6IGF1dG87IiB2aWV3Qm94PSIwIDAgMTAwIDEwMCIgcHJlc2VydmVBc3BlY3RSYXRpbz0ieE1pZFlNaWQiPiAgPGNpcmNsZSBjeD0iNTAiIGN5PSI1MCIgZmlsbD0ibm9uZSIgc3Ryb2tlPSIjYzNjM2MzIiBzdHJva2Utd2lkdGg9IjEwIiByPSIzNSIgc3Ryb2tlLWRhc2hhcnJheT0iMTY0LjkzMzYxNDMxMzQ2NDE1IDU2Ljk3Nzg3MTQzNzgyMTM4Ij4gICAgPGFuaW1hdGVUcmFuc2Zvcm0gYXR0cmlidXRlTmFtZT0idHJhbnNmb3JtIiB0eXBlPSJyb3RhdGUiIHJlcGVhdENvdW50PSJpbmRlZmluaXRlIiBkdXI9IjFzIiB2YWx1ZXM9IjAgNTAgNTA7MzYwIDUwIDUwIiBrZXlUaW1lcz0iMDsxIj48L2FuaW1hdGVUcmFuc2Zvcm0+ICA8L2NpcmNsZT48L3N2Zz4=\\\");\\n  background-size: auto calc(min(50%, 400px));\\n}\",{\"id\":\"p1006\"},{\"type\":\"object\",\"name\":\"ImportedStyleSheet\",\"id\":\"p1007\",\"attributes\":{\"url\":\"https://cdn.holoviz.org/panel/1.2.1/dist/css/markdown.css\"}},{\"id\":\"p1004\"},{\"id\":\"p1005\"}],\"width\":400,\"min_width\":400,\"margin\":[5,10],\"align\":\"start\",\"text\":\"&lt;h2 id=&quot;sentiment&quot;&gt;Sentiment &lt;a class=&quot;header-anchor&quot; href=&quot;#sentiment&quot;&gt;\\u00b6&lt;/a&gt;&lt;/h2&gt;\\n&lt;p&gt;Select the variable and the smoothing values&lt;/p&gt;\\n\"}},{\"type\":\"object\",\"name\":\"Column\",\"id\":\"p1009\",\"attributes\":{\"name\":\"Column01018\",\"stylesheets\":[\"\\n:host(.pn-loading.pn-arc):before, .pn-loading.pn-arc:before {\\n  background-image: url(\\\"data:image/svg+xml;base64,PHN2ZyB4bWxucz0iaHR0cDovL3d3dy53My5vcmcvMjAwMC9zdmciIHN0eWxlPSJtYXJnaW46IGF1dG87IGJhY2tncm91bmQ6IG5vbmU7IGRpc3BsYXk6IGJsb2NrOyBzaGFwZS1yZW5kZXJpbmc6IGF1dG87IiB2aWV3Qm94PSIwIDAgMTAwIDEwMCIgcHJlc2VydmVBc3BlY3RSYXRpbz0ieE1pZFlNaWQiPiAgPGNpcmNsZSBjeD0iNTAiIGN5PSI1MCIgZmlsbD0ibm9uZSIgc3Ryb2tlPSIjYzNjM2MzIiBzdHJva2Utd2lkdGg9IjEwIiByPSIzNSIgc3Ryb2tlLWRhc2hhcnJheT0iMTY0LjkzMzYxNDMxMzQ2NDE1IDU2Ljk3Nzg3MTQzNzgyMTM4Ij4gICAgPGFuaW1hdGVUcmFuc2Zvcm0gYXR0cmlidXRlTmFtZT0idHJhbnNmb3JtIiB0eXBlPSJyb3RhdGUiIHJlcGVhdENvdW50PSJpbmRlZmluaXRlIiBkdXI9IjFzIiB2YWx1ZXM9IjAgNTAgNTA7MzYwIDUwIDUwIiBrZXlUaW1lcz0iMDsxIj48L2FuaW1hdGVUcmFuc2Zvcm0+ICA8L2NpcmNsZT48L3N2Zz4=\\\");\\n  background-size: auto calc(min(50%, 400px));\\n}\",{\"id\":\"p1006\"},{\"id\":\"p1018\"},{\"id\":\"p1004\"},{\"id\":\"p1005\"}],\"margin\":0,\"align\":\"start\",\"children\":[{\"type\":\"object\",\"name\":\"panel.models.widgets.CustomSelect\",\"id\":\"p1012\",\"attributes\":{\"stylesheets\":[\"\\n:host(.pn-loading.pn-arc):before, .pn-loading.pn-arc:before {\\n  background-image: url(\\\"data:image/svg+xml;base64,PHN2ZyB4bWxucz0iaHR0cDovL3d3dy53My5vcmcvMjAwMC9zdmciIHN0eWxlPSJtYXJnaW46IGF1dG87IGJhY2tncm91bmQ6IG5vbmU7IGRpc3BsYXk6IGJsb2NrOyBzaGFwZS1yZW5kZXJpbmc6IGF1dG87IiB2aWV3Qm94PSIwIDAgMTAwIDEwMCIgcHJlc2VydmVBc3BlY3RSYXRpbz0ieE1pZFlNaWQiPiAgPGNpcmNsZSBjeD0iNTAiIGN5PSI1MCIgZmlsbD0ibm9uZSIgc3Ryb2tlPSIjYzNjM2MzIiBzdHJva2Utd2lkdGg9IjEwIiByPSIzNSIgc3Ryb2tlLWRhc2hhcnJheT0iMTY0LjkzMzYxNDMxMzQ2NDE1IDU2Ljk3Nzg3MTQzNzgyMTM4Ij4gICAgPGFuaW1hdGVUcmFuc2Zvcm0gYXR0cmlidXRlTmFtZT0idHJhbnNmb3JtIiB0eXBlPSJyb3RhdGUiIHJlcGVhdENvdW50PSJpbmRlZmluaXRlIiBkdXI9IjFzIiB2YWx1ZXM9IjAgNTAgNTA7MzYwIDUwIDUwIiBrZXlUaW1lcz0iMDsxIj48L2FuaW1hdGVUcmFuc2Zvcm0+ICA8L2NpcmNsZT48L3N2Zz4=\\\");\\n  background-size: auto calc(min(50%, 400px));\\n}\",{\"id\":\"p1006\"},{\"type\":\"object\",\"name\":\"ImportedStyleSheet\",\"id\":\"p1011\",\"attributes\":{\"url\":\"https://cdn.holoviz.org/panel/1.2.1/dist/css/select.css\"}},{\"id\":\"p1004\"},{\"id\":\"p1005\"}],\"width\":300,\"min_width\":300,\"margin\":[5,10],\"align\":\"start\",\"title\":\"variable\",\"options\":[\"sentiment\"],\"value\":\"sentiment\"}},{\"type\":\"object\",\"name\":\"Slider\",\"id\":\"p1014\",\"attributes\":{\"stylesheets\":[\"\\n:host(.pn-loading.pn-arc):before, .pn-loading.pn-arc:before {\\n  background-image: url(\\\"data:image/svg+xml;base64,PHN2ZyB4bWxucz0iaHR0cDovL3d3dy53My5vcmcvMjAwMC9zdmciIHN0eWxlPSJtYXJnaW46IGF1dG87IGJhY2tncm91bmQ6IG5vbmU7IGRpc3BsYXk6IGJsb2NrOyBzaGFwZS1yZW5kZXJpbmc6IGF1dG87IiB2aWV3Qm94PSIwIDAgMTAwIDEwMCIgcHJlc2VydmVBc3BlY3RSYXRpbz0ieE1pZFlNaWQiPiAgPGNpcmNsZSBjeD0iNTAiIGN5PSI1MCIgZmlsbD0ibm9uZSIgc3Ryb2tlPSIjYzNjM2MzIiBzdHJva2Utd2lkdGg9IjEwIiByPSIzNSIgc3Ryb2tlLWRhc2hhcnJheT0iMTY0LjkzMzYxNDMxMzQ2NDE1IDU2Ljk3Nzg3MTQzNzgyMTM4Ij4gICAgPGFuaW1hdGVUcmFuc2Zvcm0gYXR0cmlidXRlTmFtZT0idHJhbnNmb3JtIiB0eXBlPSJyb3RhdGUiIHJlcGVhdENvdW50PSJpbmRlZmluaXRlIiBkdXI9IjFzIiB2YWx1ZXM9IjAgNTAgNTA7MzYwIDUwIDUwIiBrZXlUaW1lcz0iMDsxIj48L2FuaW1hdGVUcmFuc2Zvcm0+ICA8L2NpcmNsZT48L3N2Zz4=\\\");\\n  background-size: auto calc(min(50%, 400px));\\n}\",{\"id\":\"p1006\"},{\"id\":\"p1004\"},{\"id\":\"p1005\"}],\"margin\":[5,10],\"align\":\"start\",\"title\":\"window\",\"start\":1,\"end\":60,\"value\":30}},{\"type\":\"object\",\"name\":\"Slider\",\"id\":\"p1016\",\"attributes\":{\"stylesheets\":[\"\\n:host(.pn-loading.pn-arc):before, .pn-loading.pn-arc:before {\\n  background-image: url(\\\"data:image/svg+xml;base64,PHN2ZyB4bWxucz0iaHR0cDovL3d3dy53My5vcmcvMjAwMC9zdmciIHN0eWxlPSJtYXJnaW46IGF1dG87IGJhY2tncm91bmQ6IG5vbmU7IGRpc3BsYXk6IGJsb2NrOyBzaGFwZS1yZW5kZXJpbmc6IGF1dG87IiB2aWV3Qm94PSIwIDAgMTAwIDEwMCIgcHJlc2VydmVBc3BlY3RSYXRpbz0ieE1pZFlNaWQiPiAgPGNpcmNsZSBjeD0iNTAiIGN5PSI1MCIgZmlsbD0ibm9uZSIgc3Ryb2tlPSIjYzNjM2MzIiBzdHJva2Utd2lkdGg9IjEwIiByPSIzNSIgc3Ryb2tlLWRhc2hhcnJheT0iMTY0LjkzMzYxNDMxMzQ2NDE1IDU2Ljk3Nzg3MTQzNzgyMTM4Ij4gICAgPGFuaW1hdGVUcmFuc2Zvcm0gYXR0cmlidXRlTmFtZT0idHJhbnNmb3JtIiB0eXBlPSJyb3RhdGUiIHJlcGVhdENvdW50PSJpbmRlZmluaXRlIiBkdXI9IjFzIiB2YWx1ZXM9IjAgNTAgNTA7MzYwIDUwIDUwIiBrZXlUaW1lcz0iMDsxIj48L2FuaW1hdGVUcmFuc2Zvcm0+ICA8L2NpcmNsZT48L3N2Zz4=\\\");\\n  background-size: auto calc(min(50%, 400px));\\n}\",{\"id\":\"p1006\"},{\"id\":\"p1004\"},{\"id\":\"p1005\"}],\"margin\":[5,10],\"align\":\"start\",\"title\":\"sigma\",\"start\":1,\"end\":20,\"value\":10}}]}}]}},{\"type\":\"object\",\"name\":\"Row\",\"id\":\"p1021\",\"attributes\":{\"name\":\"Row01015\",\"stylesheets\":[\"\\n:host(.pn-loading.pn-arc):before, .pn-loading.pn-arc:before {\\n  background-image: url(\\\"data:image/svg+xml;base64,PHN2ZyB4bWxucz0iaHR0cDovL3d3dy53My5vcmcvMjAwMC9zdmciIHN0eWxlPSJtYXJnaW46IGF1dG87IGJhY2tncm91bmQ6IG5vbmU7IGRpc3BsYXk6IGJsb2NrOyBzaGFwZS1yZW5kZXJpbmc6IGF1dG87IiB2aWV3Qm94PSIwIDAgMTAwIDEwMCIgcHJlc2VydmVBc3BlY3RSYXRpbz0ieE1pZFlNaWQiPiAgPGNpcmNsZSBjeD0iNTAiIGN5PSI1MCIgZmlsbD0ibm9uZSIgc3Ryb2tlPSIjYzNjM2MzIiBzdHJva2Utd2lkdGg9IjEwIiByPSIzNSIgc3Ryb2tlLWRhc2hhcnJheT0iMTY0LjkzMzYxNDMxMzQ2NDE1IDU2Ljk3Nzg3MTQzNzgyMTM4Ij4gICAgPGFuaW1hdGVUcmFuc2Zvcm0gYXR0cmlidXRlTmFtZT0idHJhbnNmb3JtIiB0eXBlPSJyb3RhdGUiIHJlcGVhdENvdW50PSJpbmRlZmluaXRlIiBkdXI9IjFzIiB2YWx1ZXM9IjAgNTAgNTA7MzYwIDUwIDUwIiBrZXlUaW1lcz0iMDsxIj48L2FuaW1hdGVUcmFuc2Zvcm0+ICA8L2NpcmNsZT48L3N2Zz4=\\\");\\n  background-size: auto calc(min(50%, 400px));\\n}\",{\"id\":\"p1006\"},{\"id\":\"p1018\"},{\"id\":\"p1004\"},{\"id\":\"p1005\"}],\"margin\":0,\"sizing_mode\":\"fixed\",\"align\":\"start\",\"children\":[{\"type\":\"object\",\"name\":\"Figure\",\"id\":\"p1032\",\"attributes\":{\"name\":\"interactive00821\",\"width\":700,\"height\":200,\"margin\":[5,10],\"sizing_mode\":\"fixed\",\"align\":\"start\",\"x_range\":{\"type\":\"object\",\"name\":\"Range1d\",\"id\":\"p1022\",\"attributes\":{\"tags\":[[[\"date\",\"date\",null]],[]],\"start\":1238860141714.286,\"end\":1246121439285.714,\"reset_start\":1238860141714.286,\"reset_end\":1246121439285.714}},\"y_range\":{\"type\":\"object\",\"name\":\"Range1d\",\"id\":\"p1023\",\"attributes\":{\"tags\":[[[\"sentiment\",\"sentiment\",null]],{\"type\":\"map\",\"entries\":[[\"invert_yaxis\",false],[\"autorange\",false]]}],\"start\":-0.25994949494949493,\"end\":0.6265873015873016,\"reset_start\":-0.25994949494949493,\"reset_end\":0.6265873015873016}},\"x_scale\":{\"type\":\"object\",\"name\":\"LinearScale\",\"id\":\"p1042\"},\"y_scale\":{\"type\":\"object\",\"name\":\"LinearScale\",\"id\":\"p1043\"},\"title\":{\"type\":\"object\",\"name\":\"Title\",\"id\":\"p1035\",\"attributes\":{\"text\":\"sentiment\",\"text_color\":\"black\",\"text_font_size\":\"12pt\"}},\"renderers\":[{\"type\":\"object\",\"name\":\"GlyphRenderer\",\"id\":\"p1080\",\"attributes\":{\"name\":\"sentiment\",\"data_source\":{\"type\":\"object\",\"name\":\"ColumnDataSource\",\"id\":\"p1071\",\"attributes\":{\"selected\":{\"type\":\"object\",\"name\":\"Selection\",\"id\":\"p1072\",\"attributes\":{\"indices\":[],\"line_indices\":[]}},\"selection_policy\":{\"type\":\"object\",\"name\":\"UnionRenderers\",\"id\":\"p1073\"},\"data\":{\"type\":\"map\",\"entries\":[[\"date\",{\"type\":\"ndarray\",\"array\":{\"type\":\"bytes\",\"data\":\"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\"},\"shape\":[24000],\"dtype\":\"float64\",\"order\":\"little\"}],[\"sentiment\",{\"type\":\"ndarray\",\"array\":{\"type\":\"bytes\",\"data\":\"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\"},\"shape\":[24000],\"dtype\":\"float64\",\"order\":\"little\"}]]}}},\"view\":{\"type\":\"object\",\"name\":\"CDSView\",\"id\":\"p1081\",\"attributes\":{\"filter\":{\"type\":\"object\",\"name\":\"AllIndices\",\"id\":\"p1082\"}}},\"glyph\":{\"type\":\"object\",\"name\":\"Line\",\"id\":\"p1077\",\"attributes\":{\"tags\":[\"apply_ranges\"],\"x\":{\"type\":\"field\",\"field\":\"date\"},\"y\":{\"type\":\"field\",\"field\":\"sentiment\"},\"line_color\":\"#30a2da\",\"line_width\":2}},\"selection_glyph\":{\"type\":\"object\",\"name\":\"Line\",\"id\":\"p1085\",\"attributes\":{\"tags\":[\"apply_ranges\"],\"x\":{\"type\":\"field\",\"field\":\"date\"},\"y\":{\"type\":\"field\",\"field\":\"sentiment\"},\"line_color\":\"#30a2da\",\"line_width\":2}},\"nonselection_glyph\":{\"type\":\"object\",\"name\":\"Line\",\"id\":\"p1078\",\"attributes\":{\"tags\":[\"apply_ranges\"],\"x\":{\"type\":\"field\",\"field\":\"date\"},\"y\":{\"type\":\"field\",\"field\":\"sentiment\"},\"line_color\":\"#30a2da\",\"line_alpha\":0.1,\"line_width\":2}},\"muted_glyph\":{\"type\":\"object\",\"name\":\"Line\",\"id\":\"p1079\",\"attributes\":{\"tags\":[\"apply_ranges\"],\"x\":{\"type\":\"field\",\"field\":\"date\"},\"y\":{\"type\":\"field\",\"field\":\"sentiment\"},\"line_color\":\"#30a2da\",\"line_alpha\":0.2,\"line_width\":2}}}},{\"type\":\"object\",\"name\":\"GlyphRenderer\",\"id\":\"p1095\",\"attributes\":{\"name\":\"sentiment\",\"data_source\":{\"type\":\"object\",\"name\":\"ColumnDataSource\",\"id\":\"p1086\",\"attributes\":{\"selected\":{\"type\":\"object\",\"name\":\"Selection\",\"id\":\"p1087\",\"attributes\":{\"indices\":[],\"line_indices\":[]}},\"selection_policy\":{\"type\":\"object\",\"name\":\"UnionRenderers\",\"id\":\"p1088\"},\"data\":{\"type\":\"map\",\"entries\":[[\"date\",{\"type\":\"ndarray\",\"array\":{\"type\":\"bytes\",\"data\":\"\"},\"shape\":[0],\"dtype\":\"float64\",\"order\":\"little\"}],[\"sentiment\",{\"type\":\"ndarray\",\"array\":{\"type\":\"bytes\",\"data\":\"\"},\"shape\":[0],\"dtype\":\"float64\",\"order\":\"little\"}]]}}},\"view\":{\"type\":\"object\",\"name\":\"CDSView\",\"id\":\"p1096\",\"attributes\":{\"filter\":{\"type\":\"object\",\"name\":\"AllIndices\",\"id\":\"p1097\"}}},\"glyph\":{\"type\":\"object\",\"name\":\"Scatter\",\"id\":\"p1092\",\"attributes\":{\"tags\":[\"apply_ranges\"],\"x\":{\"type\":\"field\",\"field\":\"date\"},\"y\":{\"type\":\"field\",\"field\":\"sentiment\"},\"size\":{\"type\":\"value\",\"value\":5.477225575051661},\"line_color\":{\"type\":\"value\",\"value\":\"orange\"},\"fill_color\":{\"type\":\"value\",\"value\":\"orange\"},\"hatch_color\":{\"type\":\"value\",\"value\":\"orange\"}}},\"selection_glyph\":{\"type\":\"object\",\"name\":\"Scatter\",\"id\":\"p1098\",\"attributes\":{\"tags\":[\"apply_ranges\"],\"x\":{\"type\":\"field\",\"field\":\"date\"},\"y\":{\"type\":\"field\",\"field\":\"sentiment\"},\"size\":{\"type\":\"value\",\"value\":5.477225575051661},\"angle\":{\"type\":\"value\",\"value\":0.0},\"line_color\":{\"type\":\"value\",\"value\":\"orange\"},\"line_alpha\":{\"type\":\"value\",\"value\":1.0},\"line_width\":{\"type\":\"value\",\"value\":1},\"line_join\":{\"type\":\"value\",\"value\":\"bevel\"},\"line_cap\":{\"type\":\"value\",\"value\":\"butt\"},\"line_dash\":{\"type\":\"value\",\"value\":[]},\"line_dash_offset\":{\"type\":\"value\",\"value\":0},\"fill_color\":{\"type\":\"value\",\"value\":\"orange\"},\"fill_alpha\":{\"type\":\"value\",\"value\":1.0},\"hatch_color\":{\"type\":\"value\",\"value\":\"orange\"},\"hatch_alpha\":{\"type\":\"value\",\"value\":1.0},\"hatch_scale\":{\"type\":\"value\",\"value\":12.0},\"hatch_pattern\":{\"type\":\"value\",\"value\":null},\"hatch_weight\":{\"type\":\"value\",\"value\":1.0},\"marker\":{\"type\":\"value\",\"value\":\"circle\"}}},\"nonselection_glyph\":{\"type\":\"object\",\"name\":\"Scatter\",\"id\":\"p1093\",\"attributes\":{\"tags\":[\"apply_ranges\"],\"x\":{\"type\":\"field\",\"field\":\"date\"},\"y\":{\"type\":\"field\",\"field\":\"sentiment\"},\"size\":{\"type\":\"value\",\"value\":5.477225575051661},\"line_color\":{\"type\":\"value\",\"value\":\"orange\"},\"line_alpha\":{\"type\":\"value\",\"value\":0.1},\"fill_color\":{\"type\":\"value\",\"value\":\"orange\"},\"fill_alpha\":{\"type\":\"value\",\"value\":0.1},\"hatch_color\":{\"type\":\"value\",\"value\":\"orange\"},\"hatch_alpha\":{\"type\":\"value\",\"value\":0.1}}},\"muted_glyph\":{\"type\":\"object\",\"name\":\"Scatter\",\"id\":\"p1094\",\"attributes\":{\"tags\":[\"apply_ranges\"],\"x\":{\"type\":\"field\",\"field\":\"date\"},\"y\":{\"type\":\"field\",\"field\":\"sentiment\"},\"size\":{\"type\":\"value\",\"value\":5.477225575051661},\"line_color\":{\"type\":\"value\",\"value\":\"orange\"},\"line_alpha\":{\"type\":\"value\",\"value\":0.2},\"fill_color\":{\"type\":\"value\",\"value\":\"orange\"},\"fill_alpha\":{\"type\":\"value\",\"value\":0.2},\"hatch_color\":{\"type\":\"value\",\"value\":\"orange\"},\"hatch_alpha\":{\"type\":\"value\",\"value\":0.2}}}}}],\"toolbar\":{\"type\":\"object\",\"name\":\"Toolbar\",\"id\":\"p1041\",\"attributes\":{\"tools\":[{\"type\":\"object\",\"name\":\"WheelZoomTool\",\"id\":\"p1027\",\"attributes\":{\"tags\":[\"hv_created\"],\"zoom_together\":\"none\"}},{\"type\":\"object\",\"name\":\"HoverTool\",\"id\":\"p1028\",\"attributes\":{\"tags\":[\"hv_created\"],\"renderers\":[{\"id\":\"p1080\"},{\"id\":\"p1095\"}],\"tooltips\":[[\"date\",\"@{date}{%F %T}\"],[\"sentiment\",\"@{sentiment}\"]],\"formatters\":{\"type\":\"map\",\"entries\":[[\"@{date}\",\"datetime\"]]}}},{\"type\":\"object\",\"name\":\"SaveTool\",\"id\":\"p1066\"},{\"type\":\"object\",\"name\":\"PanTool\",\"id\":\"p1067\"},{\"type\":\"object\",\"name\":\"BoxZoomTool\",\"id\":\"p1068\",\"attributes\":{\"overlay\":{\"type\":\"object\",\"name\":\"BoxAnnotation\",\"id\":\"p1069\",\"attributes\":{\"syncable\":false,\"level\":\"overlay\",\"visible\":false,\"left_units\":\"canvas\",\"right_units\":\"canvas\",\"bottom_units\":\"canvas\",\"top_units\":\"canvas\",\"line_color\":\"black\",\"line_alpha\":1.0,\"line_width\":2,\"line_dash\":[4,4],\"fill_color\":\"lightgrey\",\"fill_alpha\":0.5}}}},{\"type\":\"object\",\"name\":\"ResetTool\",\"id\":\"p1070\"}],\"active_drag\":{\"id\":\"p1067\"},\"active_scroll\":{\"id\":\"p1027\"}}},\"left\":[{\"type\":\"object\",\"name\":\"LinearAxis\",\"id\":\"p1061\",\"attributes\":{\"ticker\":{\"type\":\"object\",\"name\":\"BasicTicker\",\"id\":\"p1062\",\"attributes\":{\"mantissas\":[1,2,5]}},\"formatter\":{\"type\":\"object\",\"name\":\"BasicTickFormatter\",\"id\":\"p1063\"},\"axis_label\":\"\",\"major_label_policy\":{\"type\":\"object\",\"name\":\"AllLabels\",\"id\":\"p1064\"}}}],\"right\":[{\"type\":\"object\",\"name\":\"Legend\",\"id\":\"p1083\",\"attributes\":{\"location\":[0,0],\"click_policy\":\"mute\",\"items\":[{\"type\":\"object\",\"name\":\"LegendItem\",\"id\":\"p1084\",\"attributes\":{\"label\":{\"type\":\"value\",\"value\":\"sentiment\"},\"renderers\":[{\"id\":\"p1080\"},{\"id\":\"p1095\"}]}}]}}],\"below\":[{\"type\":\"object\",\"name\":\"DatetimeAxis\",\"id\":\"p1044\",\"attributes\":{\"ticker\":{\"type\":\"object\",\"name\":\"DatetimeTicker\",\"id\":\"p1045\",\"attributes\":{\"num_minor_ticks\":5,\"tickers\":[{\"type\":\"object\",\"name\":\"AdaptiveTicker\",\"id\":\"p1046\",\"attributes\":{\"num_minor_ticks\":0,\"mantissas\":[1,2,5],\"max_interval\":500.0}},{\"type\":\"object\",\"name\":\"AdaptiveTicker\",\"id\":\"p1047\",\"attributes\":{\"num_minor_ticks\":0,\"base\":60,\"mantissas\":[1,2,5,10,15,20,30],\"min_interval\":1000.0,\"max_interval\":1800000.0}},{\"type\":\"object\",\"name\":\"AdaptiveTicker\",\"id\":\"p1048\",\"attributes\":{\"num_minor_ticks\":0,\"base\":24,\"mantissas\":[1,2,4,6,8,12],\"min_interval\":3600000.0,\"max_interval\":43200000.0}},{\"type\":\"object\",\"name\":\"DaysTicker\",\"id\":\"p1049\",\"attributes\":{\"days\":[1,2,3,4,5,6,7,8,9,10,11,12,13,14,15,16,17,18,19,20,21,22,23,24,25,26,27,28,29,30,31]}},{\"type\":\"object\",\"name\":\"DaysTicker\",\"id\":\"p1050\",\"attributes\":{\"days\":[1,4,7,10,13,16,19,22,25,28]}},{\"type\":\"object\",\"name\":\"DaysTicker\",\"id\":\"p1051\",\"attributes\":{\"days\":[1,8,15,22]}},{\"type\":\"object\",\"name\":\"DaysTicker\",\"id\":\"p1052\",\"attributes\":{\"days\":[1,15]}},{\"type\":\"object\",\"name\":\"MonthsTicker\",\"id\":\"p1053\",\"attributes\":{\"months\":[0,1,2,3,4,5,6,7,8,9,10,11]}},{\"type\":\"object\",\"name\":\"MonthsTicker\",\"id\":\"p1054\",\"attributes\":{\"months\":[0,2,4,6,8,10]}},{\"type\":\"object\",\"name\":\"MonthsTicker\",\"id\":\"p1055\",\"attributes\":{\"months\":[0,4,8]}},{\"type\":\"object\",\"name\":\"MonthsTicker\",\"id\":\"p1056\",\"attributes\":{\"months\":[0,6]}},{\"type\":\"object\",\"name\":\"YearsTicker\",\"id\":\"p1057\"}]}},\"formatter\":{\"type\":\"object\",\"name\":\"DatetimeTickFormatter\",\"id\":\"p1058\"},\"axis_label\":\"date\",\"major_label_policy\":{\"type\":\"object\",\"name\":\"AllLabels\",\"id\":\"p1059\"}}}],\"center\":[{\"type\":\"object\",\"name\":\"Grid\",\"id\":\"p1060\",\"attributes\":{\"axis\":{\"id\":\"p1044\"},\"grid_line_color\":null}},{\"type\":\"object\",\"name\":\"Grid\",\"id\":\"p1065\",\"attributes\":{\"dimension\":1,\"axis\":{\"id\":\"p1061\"},\"grid_line_color\":null}}],\"min_border_top\":10,\"min_border_bottom\":10,\"min_border_left\":10,\"min_border_right\":10,\"output_backend\":\"webgl\"}}]}}]}},{\"type\":\"object\",\"name\":\"panel.models.comm_manager.CommManager\",\"id\":\"p1105\",\"attributes\":{\"plot_id\":\"p1002\",\"comm_id\":\"f10128dfd00b4d37b8f7ee74cbffaae5\",\"client_comm_id\":\"25baf15730f74d4d94b441b0ebd64145\"}},{\"type\":\"object\",\"name\":\"panel.models.location.Location\",\"id\":\"p1106\",\"attributes\":{\"reload\":false}}],\"defs\":[{\"type\":\"model\",\"name\":\"ReactiveHTML1\"},{\"type\":\"model\",\"name\":\"FlexBox1\",\"properties\":[{\"name\":\"align_content\",\"kind\":\"Any\",\"default\":\"flex-start\"},{\"name\":\"align_items\",\"kind\":\"Any\",\"default\":\"flex-start\"},{\"name\":\"flex_direction\",\"kind\":\"Any\",\"default\":\"row\"},{\"name\":\"flex_wrap\",\"kind\":\"Any\",\"default\":\"wrap\"},{\"name\":\"justify_content\",\"kind\":\"Any\",\"default\":\"flex-start\"}]},{\"type\":\"model\",\"name\":\"FloatPanel1\",\"properties\":[{\"name\":\"config\",\"kind\":\"Any\",\"default\":{\"type\":\"map\"}},{\"name\":\"contained\",\"kind\":\"Any\",\"default\":true},{\"name\":\"position\",\"kind\":\"Any\",\"default\":\"right-top\"},{\"name\":\"offsetx\",\"kind\":\"Any\",\"default\":null},{\"name\":\"offsety\",\"kind\":\"Any\",\"default\":null},{\"name\":\"theme\",\"kind\":\"Any\",\"default\":\"primary\"},{\"name\":\"status\",\"kind\":\"Any\",\"default\":\"normalized\"}]},{\"type\":\"model\",\"name\":\"GridStack1\",\"properties\":[{\"name\":\"mode\",\"kind\":\"Any\",\"default\":\"warn\"},{\"name\":\"ncols\",\"kind\":\"Any\",\"default\":null},{\"name\":\"nrows\",\"kind\":\"Any\",\"default\":null},{\"name\":\"allow_resize\",\"kind\":\"Any\",\"default\":true},{\"name\":\"allow_drag\",\"kind\":\"Any\",\"default\":true},{\"name\":\"state\",\"kind\":\"Any\",\"default\":[]}]},{\"type\":\"model\",\"name\":\"drag1\",\"properties\":[{\"name\":\"slider_width\",\"kind\":\"Any\",\"default\":5},{\"name\":\"slider_color\",\"kind\":\"Any\",\"default\":\"black\"},{\"name\":\"value\",\"kind\":\"Any\",\"default\":50}]},{\"type\":\"model\",\"name\":\"click1\",\"properties\":[{\"name\":\"terminal_output\",\"kind\":\"Any\",\"default\":\"\"},{\"name\":\"debug_name\",\"kind\":\"Any\",\"default\":\"\"},{\"name\":\"clears\",\"kind\":\"Any\",\"default\":0}]},{\"type\":\"model\",\"name\":\"FastWrapper1\",\"properties\":[{\"name\":\"object\",\"kind\":\"Any\",\"default\":null},{\"name\":\"style\",\"kind\":\"Any\",\"default\":null}]},{\"type\":\"model\",\"name\":\"NotificationAreaBase1\",\"properties\":[{\"name\":\"js_events\",\"kind\":\"Any\",\"default\":{\"type\":\"map\"}},{\"name\":\"position\",\"kind\":\"Any\",\"default\":\"bottom-right\"},{\"name\":\"_clear\",\"kind\":\"Any\",\"default\":0}]},{\"type\":\"model\",\"name\":\"NotificationArea1\",\"properties\":[{\"name\":\"js_events\",\"kind\":\"Any\",\"default\":{\"type\":\"map\"}},{\"name\":\"notifications\",\"kind\":\"Any\",\"default\":[]},{\"name\":\"position\",\"kind\":\"Any\",\"default\":\"bottom-right\"},{\"name\":\"_clear\",\"kind\":\"Any\",\"default\":0},{\"name\":\"types\",\"kind\":\"Any\",\"default\":[{\"type\":\"map\",\"entries\":[[\"type\",\"warning\"],[\"background\",\"#ffc107\"],[\"icon\",{\"type\":\"map\",\"entries\":[[\"className\",\"fas fa-exclamation-triangle\"],[\"tagName\",\"i\"],[\"color\",\"white\"]]}]]},{\"type\":\"map\",\"entries\":[[\"type\",\"info\"],[\"background\",\"#007bff\"],[\"icon\",{\"type\":\"map\",\"entries\":[[\"className\",\"fas fa-info-circle\"],[\"tagName\",\"i\"],[\"color\",\"white\"]]}]]}]}]},{\"type\":\"model\",\"name\":\"Notification\",\"properties\":[{\"name\":\"background\",\"kind\":\"Any\",\"default\":null},{\"name\":\"duration\",\"kind\":\"Any\",\"default\":3000},{\"name\":\"icon\",\"kind\":\"Any\",\"default\":null},{\"name\":\"message\",\"kind\":\"Any\",\"default\":\"\"},{\"name\":\"notification_type\",\"kind\":\"Any\",\"default\":null},{\"name\":\"_destroyed\",\"kind\":\"Any\",\"default\":false}]},{\"type\":\"model\",\"name\":\"TemplateActions1\",\"properties\":[{\"name\":\"open_modal\",\"kind\":\"Any\",\"default\":0},{\"name\":\"close_modal\",\"kind\":\"Any\",\"default\":0}]},{\"type\":\"model\",\"name\":\"BootstrapTemplateActions1\",\"properties\":[{\"name\":\"open_modal\",\"kind\":\"Any\",\"default\":0},{\"name\":\"close_modal\",\"kind\":\"Any\",\"default\":0}]},{\"type\":\"model\",\"name\":\"MaterialTemplateActions1\",\"properties\":[{\"name\":\"open_modal\",\"kind\":\"Any\",\"default\":0},{\"name\":\"close_modal\",\"kind\":\"Any\",\"default\":0}]}]}};\n",
       "  var render_items = [{\"docid\":\"d0e7e8fc-d812-4c0f-9f82-66b1d56c0f31\",\"roots\":{\"p1002\":\"d8ae9539-afce-4a27-b389-70784b53ae3c\"},\"root_ids\":[\"p1002\"]}];\n",
       "  var docs = Object.values(docs_json)\n",
       "  if (!docs) {\n",
       "    return\n",
       "  }\n",
       "  const py_version = docs[0].version.replace('rc', '-rc.').replace('.dev', '-dev.')\n",
       "  const is_dev = py_version.indexOf(\"+\") !== -1 || py_version.indexOf(\"-\") !== -1\n",
       "  function embed_document(root) {\n",
       "    var Bokeh = get_bokeh(root)\n",
       "    Bokeh.embed.embed_items_notebook(docs_json, render_items);\n",
       "    for (const render_item of render_items) {\n",
       "      for (const root_id of render_item.root_ids) {\n",
       "\tconst id_el = document.getElementById(root_id)\n",
       "\tif (id_el.children.length && (id_el.children[0].className === 'bk-root')) {\n",
       "\t  const root_el = id_el.children[0]\n",
       "\t  root_el.id = root_el.id + '-rendered'\n",
       "\t}\n",
       "      }\n",
       "    }\n",
       "  }\n",
       "  function get_bokeh(root) {\n",
       "    if (root.Bokeh === undefined) {\n",
       "      return null\n",
       "    } else if (root.Bokeh.version !== py_version && !is_dev) {\n",
       "      if (root.Bokeh.versions === undefined || !root.Bokeh.versions.has(py_version)) {\n",
       "\treturn null\n",
       "      }\n",
       "      return root.Bokeh.versions.get(py_version);\n",
       "    } else if (root.Bokeh.version === py_version) {\n",
       "      return root.Bokeh\n",
       "    }\n",
       "    return null\n",
       "  }\n",
       "  function is_loaded(root) {\n",
       "    var Bokeh = get_bokeh(root)\n",
       "    return (Bokeh != null && Bokeh.Panel !== undefined)\n",
       "  }\n",
       "  if (is_loaded(root)) {\n",
       "    embed_document(root);\n",
       "  } else {\n",
       "    var attempts = 0;\n",
       "    var timer = setInterval(function(root) {\n",
       "      if (is_loaded(root)) {\n",
       "        clearInterval(timer);\n",
       "        embed_document(root);\n",
       "      } else if (document.readyState == \"complete\") {\n",
       "        attempts++;\n",
       "        if (attempts > 200) {\n",
       "          clearInterval(timer);\n",
       "\t  var Bokeh = get_bokeh(root)\n",
       "\t  if (Bokeh == null || Bokeh.Panel == null) {\n",
       "            console.warn(\"Panel: ERROR: Unable to run Panel code because Bokeh or Panel library is missing\");\n",
       "\t  } else {\n",
       "\t    console.warn(\"Panel: WARNING: Attempting to render but not all required libraries could be resolved.\")\n",
       "\t    embed_document(root)\n",
       "\t  }\n",
       "        }\n",
       "      }\n",
       "    }, 25, root)\n",
       "  }\n",
       "})(window);</script>"
      ],
      "text/plain": [
       "Column\n",
       "    [0] Row\n",
       "        [0] Markdown(str, width=400)\n",
       "        [1] Column\n",
       "            [0] Select(name='variable', options=['sentiment'], value='sentiment')\n",
       "            [1] IntSlider(end=60, name='window', start=1, value=30)\n",
       "            [2] IntSlider(end=20, name='sigma', start=1, value=10)\n",
       "    [1] Row(sizing_mode='fixed')\n",
       "        [0] HoloViews(Overlay, height=200, name='interactive00821', sizing_mode='fixed', width=700)"
      ]
     },
     "execution_count": 61,
     "metadata": {
      "application/vnd.holoviews_exec.v0+json": {
       "id": "p1002"
      }
     },
     "output_type": "execute_result"
    }
   ],
   "source": [
    "import hvplot.pandas\n",
    "\n",
    "def hvplot(avg, highlight):\n",
    "    return avg.hvplot(height=200) * highlight.hvplot.scatter(color='orange', padding=0.1)\n",
    "\n",
    "text2 = \"## Sentiment\\nSelect the variable and the smoothing values\"\n",
    "hvp   = pn.interact(find_outliers, view_fn=hvplot, **kw)\n",
    "pn.Column(pn.Row(pn.panel(text2, width=400), hvp[0]), hvp[1]).servable(\"sentiment\")"
   ]
  },
  {
   "cell_type": "code",
   "execution_count": 62,
   "id": "ca944f54",
   "metadata": {},
   "outputs": [],
   "source": [
    "#indexeddata.index\n",
    "#data = data.set_index('date')\n",
    "#data = data.asfreq('MS')\n",
    "#data = data.sort_index()\n",
    "#data.head()"
   ]
  },
  {
   "cell_type": "code",
   "execution_count": 63,
   "id": "4421bc1a",
   "metadata": {},
   "outputs": [
    {
     "name": "stdout",
     "output_type": "stream",
     "text": [
      "Number of rows with missing values: 0.0\n"
     ]
    }
   ],
   "source": [
    "#Checking null values\n",
    "print(f'Number of rows with missing values: {data.isnull().any(axis=1).mean()}')"
   ]
  },
  {
   "cell_type": "code",
   "execution_count": 64,
   "id": "a0b8dcb3",
   "metadata": {},
   "outputs": [
    {
     "data": {
      "text/plain": [
       "sentiment    0\n",
       "dtype: int64"
      ]
     },
     "execution_count": 64,
     "metadata": {},
     "output_type": "execute_result"
    }
   ],
   "source": [
    "#We still have null values on my dataset\n",
    "data.isnull().sum()"
   ]
  },
  {
   "cell_type": "code",
   "execution_count": 65,
   "id": "642ec6a4",
   "metadata": {},
   "outputs": [
    {
     "data": {
      "text/plain": [
       "DatetimeIndex(['2009-04-06 22:19:53', '2009-04-06 22:20:03',\n",
       "               '2009-04-06 22:20:31', '2009-04-06 22:20:37',\n",
       "               '2009-04-06 22:20:56', '2009-04-06 22:21:11',\n",
       "               '2009-04-06 22:21:39', '2009-04-06 22:22:05',\n",
       "               '2009-04-06 22:22:07', '2009-04-06 22:22:49',\n",
       "               ...\n",
       "               '2009-06-25 09:49:24', '2009-06-25 09:53:53',\n",
       "               '2009-06-25 10:04:00', '2009-06-25 10:04:06',\n",
       "               '2009-06-25 10:05:56', '2009-06-25 10:08:07',\n",
       "               '2009-06-25 10:11:34', '2009-06-25 10:13:44',\n",
       "               '2009-06-25 10:18:09', '2009-06-25 10:19:48'],\n",
       "              dtype='datetime64[ns]', name='date', length=24000, freq=None)"
      ]
     },
     "execution_count": 65,
     "metadata": {},
     "output_type": "execute_result"
    }
   ],
   "source": [
    "data.index"
   ]
  },
  {
   "cell_type": "code",
   "execution_count": 66,
   "id": "43fc1263",
   "metadata": {},
   "outputs": [
    {
     "name": "stdout",
     "output_type": "stream",
     "text": [
      "                     sentiment\n",
      "date                          \n",
      "2009-04-06 22:28:45       0.40\n",
      "2009-04-06 22:33:32       0.25\n",
      "2009-04-06 23:13:25       0.25\n",
      "2009-04-06 23:37:44       0.20\n",
      "2009-04-06 23:43:08       0.20\n",
      "...                        ...\n",
      "2009-06-25 07:09:15       0.20\n",
      "2009-06-25 07:09:15       0.20\n",
      "2009-06-25 08:10:19       0.20\n",
      "2009-06-25 08:33:20       0.20\n",
      "2009-06-25 09:41:19       0.20\n",
      "\n",
      "[1132 rows x 1 columns]\n"
     ]
    }
   ],
   "source": [
    "#Checking for duplicates\n",
    "duplicate_index = data[data.index.duplicated(keep='first')]\n",
    "print(duplicate_index)"
   ]
  },
  {
   "cell_type": "code",
   "execution_count": 67,
   "id": "8e2207a8",
   "metadata": {},
   "outputs": [],
   "source": [
    "data = data[~data.index.duplicated(keep='first')]"
   ]
  },
  {
   "cell_type": "code",
   "execution_count": 68,
   "id": "307f740a",
   "metadata": {},
   "outputs": [
    {
     "name": "stdout",
     "output_type": "stream",
     "text": [
      "Empty DataFrame\n",
      "Columns: [sentiment]\n",
      "Index: []\n"
     ]
    }
   ],
   "source": [
    "duplicate_index = data[data.index.duplicated(keep='first')]\n",
    "print(duplicate_index)"
   ]
  },
  {
   "cell_type": "code",
   "execution_count": 69,
   "id": "46d2a807",
   "metadata": {
    "scrolled": true
   },
   "outputs": [
    {
     "data": {
      "text/plain": [
       "DatetimeIndex(['2009-04-06 22:19:53', '2009-04-06 22:20:03',\n",
       "               '2009-04-06 22:20:31', '2009-04-06 22:20:37',\n",
       "               '2009-04-06 22:20:56', '2009-04-06 22:21:11',\n",
       "               '2009-04-06 22:21:39', '2009-04-06 22:22:05',\n",
       "               '2009-04-06 22:22:07', '2009-04-06 22:22:49',\n",
       "               ...\n",
       "               '2009-06-25 09:49:24', '2009-06-25 09:53:53',\n",
       "               '2009-06-25 10:04:00', '2009-06-25 10:04:06',\n",
       "               '2009-06-25 10:05:56', '2009-06-25 10:08:07',\n",
       "               '2009-06-25 10:11:34', '2009-06-25 10:13:44',\n",
       "               '2009-06-25 10:18:09', '2009-06-25 10:19:48'],\n",
       "              dtype='datetime64[ns]', name='date', length=22868, freq=None)"
      ]
     },
     "execution_count": 69,
     "metadata": {},
     "output_type": "execute_result"
    }
   ],
   "source": [
    "data.index"
   ]
  },
  {
   "cell_type": "code",
   "execution_count": 70,
   "id": "9f14026a",
   "metadata": {},
   "outputs": [
    {
     "data": {
      "text/plain": [
       "(22868, 1)"
      ]
     },
     "execution_count": 70,
     "metadata": {},
     "output_type": "execute_result"
    }
   ],
   "source": [
    "data.shape"
   ]
  },
  {
   "cell_type": "code",
   "execution_count": 97,
   "id": "eecf23ad",
   "metadata": {},
   "outputs": [],
   "source": [
    "#Visualizing the data\n",
    "#plt.xlabel('date')\n",
    "#plt.ylabel('sentiment')\n",
    "#plt.plot(data)\n",
    "#It can be seen that data is increasing over time"
   ]
  },
  {
   "cell_type": "code",
   "execution_count": 75,
   "id": "e4b5d1f1",
   "metadata": {},
   "outputs": [
    {
     "data": {
      "text/plain": [
       "DatetimeIndex(['2009-05-03 22:19:53', '2009-05-04 22:19:53',\n",
       "               '2009-05-05 22:19:53', '2009-05-06 22:19:53',\n",
       "               '2009-05-07 22:19:53', '2009-05-08 22:19:53',\n",
       "               '2009-05-09 22:19:53', '2009-05-10 22:19:53',\n",
       "               '2009-05-11 22:19:53', '2009-05-12 22:19:53',\n",
       "               '2009-05-13 22:19:53', '2009-05-14 22:19:53',\n",
       "               '2009-05-15 22:19:53', '2009-05-16 22:19:53',\n",
       "               '2009-05-17 22:19:53', '2009-05-18 22:19:53',\n",
       "               '2009-05-19 22:19:53', '2009-05-20 22:19:53',\n",
       "               '2009-05-21 22:19:53', '2009-05-22 22:19:53',\n",
       "               '2009-05-23 22:19:53', '2009-05-24 22:19:53',\n",
       "               '2009-05-25 22:19:53', '2009-05-26 22:19:53',\n",
       "               '2009-05-27 22:19:53', '2009-05-28 22:19:53',\n",
       "               '2009-05-29 22:19:53', '2009-05-30 22:19:53',\n",
       "               '2009-05-31 22:19:53'],\n",
       "              dtype='datetime64[ns]', name='date', freq='D')"
      ]
     },
     "execution_count": 75,
     "metadata": {},
     "output_type": "execute_result"
    }
   ],
   "source": [
    "data = data.asfreq('D')\n",
    "#data = data.sort_index()\n",
    "data.index"
   ]
  },
  {
   "cell_type": "code",
   "execution_count": 78,
   "id": "18dbb70c",
   "metadata": {},
   "outputs": [],
   "source": [
    "#data.head()"
   ]
  },
  {
   "cell_type": "code",
   "execution_count": 85,
   "id": "f5c02e31",
   "metadata": {},
   "outputs": [],
   "source": [
    "#Sorting And Feature Engineering\n",
    "#sorted_data = data.sort_values(by='date')\n",
    "#sorted_data=data.copy()\n",
    "#sorted_data['date'] = pd.to_datetime(data['date']).data.date\n",
    "\n",
    "#sorted_data['year']         = pd.DatetimeIndex(sorted_data['date']).year\n",
    "#sorted_data['month']        = pd.DatetimeIndex(sorted_data['date']).month\n",
    "#sorted_data['day']          = pd.DatetimeIndex(sorted_data['date']).day"
   ]
  },
  {
   "cell_type": "code",
   "execution_count": 86,
   "id": "e9781792",
   "metadata": {},
   "outputs": [],
   "source": [
    "#data['date'].duplicated()"
   ]
  },
  {
   "cell_type": "code",
   "execution_count": 87,
   "id": "7e3f78ac",
   "metadata": {},
   "outputs": [],
   "source": [
    "#data['date'] = pd.to_datetime(data['date'],infer_datetime_format=True)\n",
    "#indexeddata = data.set_index(['date'])\n",
    "#indexeddata.head(5)"
   ]
  },
  {
   "cell_type": "code",
   "execution_count": 88,
   "id": "6880b22b",
   "metadata": {},
   "outputs": [],
   "source": [
    "#Rename the dependent variable\n",
    "#indexeddata = data.rename(columns = {'sentiment' : 'y'})\n",
    "#indexeddata.head(5)"
   ]
  },
  {
   "cell_type": "code",
   "execution_count": 89,
   "id": "7689df8e",
   "metadata": {},
   "outputs": [],
   "source": [
    "#Visualizing the data\n",
    "#plt.xlabel('date')\n",
    "#plt.ylabel('y')\n",
    "#plt.plot(indexeddata)\n",
    "#It can be seen that data is increasing over time"
   ]
  },
  {
   "cell_type": "code",
   "execution_count": 91,
   "id": "09ad35c9",
   "metadata": {},
   "outputs": [],
   "source": [
    "#data['date'] = pd.to_datetime(data['date']).dt.strftime('%Y-%m-%d %H:%M:%S') # '%Y-%m-%d %H:%M:%S'\n",
    "#indexeddata = data.set_index('date')\n",
    "#indexeddata.head()"
   ]
  },
  {
   "cell_type": "code",
   "execution_count": 92,
   "id": "439ed56c",
   "metadata": {},
   "outputs": [],
   "source": [
    "#Rename the dependent variable\n",
    "#indexeddata = data.rename(columns = {'sentiment' : 'y'})\n",
    "#indexeddata.head(5)"
   ]
  },
  {
   "cell_type": "code",
   "execution_count": 93,
   "id": "c81bdcf0",
   "metadata": {},
   "outputs": [],
   "source": [
    "#indexeddata.index\n",
    "#data = data.set_index('date')\n",
    "#data = data.asfreq('MS')\n",
    "#data = data.sort_index()\n",
    "#data.head()"
   ]
  },
  {
   "cell_type": "code",
   "execution_count": 94,
   "id": "13280aec",
   "metadata": {},
   "outputs": [],
   "source": [
    "#data = data.asfreq('D')\n",
    "#data = data.sort_index()\n",
    "#data.head()"
   ]
  },
  {
   "cell_type": "code",
   "execution_count": 101,
   "id": "40d671de",
   "metadata": {},
   "outputs": [],
   "source": [
    "#Visualizing the data\n",
    "#plt.xlabel('date')\n",
    "#plt.ylabel('y')\n",
    "#plt.plot(indexeddata)\n",
    "#It can be seen that data is increasing over time"
   ]
  },
  {
   "cell_type": "code",
   "execution_count": 102,
   "id": "355e54a2",
   "metadata": {},
   "outputs": [],
   "source": [
    "#data = data.asfreq('D')\n",
    "#data.index"
   ]
  }
 ],
 "metadata": {
  "kernelspec": {
   "display_name": "Python 3 (ipykernel)",
   "language": "python",
   "name": "python3"
  },
  "language_info": {
   "codemirror_mode": {
    "name": "ipython",
    "version": 3
   },
   "file_extension": ".py",
   "mimetype": "text/x-python",
   "name": "python",
   "nbconvert_exporter": "python",
   "pygments_lexer": "ipython3",
   "version": "3.11.4"
  }
 },
 "nbformat": 4,
 "nbformat_minor": 5
}
