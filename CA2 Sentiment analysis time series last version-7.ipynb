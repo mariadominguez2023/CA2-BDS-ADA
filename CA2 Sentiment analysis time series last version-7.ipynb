{
 "cells": [
  {
   "cell_type": "markdown",
   "id": "93d398dd",
   "metadata": {},
   "source": [
    "## Sentiment and Time Series on ProjectTweets dataset.\n",
    "\n",
    "Version control link: https://github.com/mariadominguez2023/CA2-BDS-ADA.git"
   ]
  },
  {
   "cell_type": "code",
   "execution_count": 1,
   "id": "31ff1e2a",
   "metadata": {},
   "outputs": [
    {
     "name": "stderr",
     "output_type": "stream",
     "text": [
      "[nltk_data] Downloading package stopwords to\n",
      "[nltk_data]     C:\\Users\\maria\\AppData\\Roaming\\nltk_data...\n",
      "[nltk_data]   Package stopwords is already up-to-date!\n"
     ]
    }
   ],
   "source": [
    "#Import the libraries\n",
    "import pandas as pd\n",
    "import numpy as np\n",
    "import seaborn as sns\n",
    "import re\n",
    "import string\n",
    "from string import punctuation\n",
    "import nltk\n",
    "from nltk.corpus import stopwords\n",
    "nltk.download('stopwords')\n",
    "import datetime\n",
    "\n",
    "import matplotlib as mpl\n",
    "import matplotlib.pyplot as plt\n",
    "plt.style.use('fivethirtyeight')\n",
    "plt.rcParams['lines.linewidth'] = 1.5\n",
    "%matplotlib inline\n",
    "\n",
    "#Sentiment Analysis libraries\n",
    "import matplotlib.pyplot as plt\n",
    "from sklearn.model_selection import train_test_split\n",
    "from sklearn.feature_extraction.text import CountVectorizer\n",
    "from sklearn.feature_extraction.text import TfidfTransformer\n",
    "\n",
    "import tensorflow as tf\n",
    "from tensorflow.keras.models import Sequential\n",
    "from tensorflow.keras.layers import Dense, Activation, Dropout\n",
    "from tensorflow.keras.callbacks import EarlyStopping\n",
    "\n",
    "#Time series and forecasting libraries\n",
    "from skforecast.ForecasterAutoreg import ForecasterAutoreg\n",
    "from skforecast.ForecasterAutoregCustom import ForecasterAutoregCustom\n",
    "from sklearn.ensemble import RandomForestRegressor\n",
    "from sklearn.metrics import mean_squared_error\n",
    "from skforecast.model_selection import grid_search_forecaster\n",
    "\n",
    "\n",
    "import warnings\n",
    "warnings.filterwarnings(\"ignore\")"
   ]
  },
  {
   "cell_type": "markdown",
   "id": "a10e7ce4",
   "metadata": {},
   "source": [
    "**Read data from csv file**"
   ]
  },
  {
   "cell_type": "code",
   "execution_count": 2,
   "id": "02d42b17",
   "metadata": {
    "scrolled": true
   },
   "outputs": [
    {
     "data": {
      "text/html": [
       "<div>\n",
       "<style scoped>\n",
       "    .dataframe tbody tr th:only-of-type {\n",
       "        vertical-align: middle;\n",
       "    }\n",
       "\n",
       "    .dataframe tbody tr th {\n",
       "        vertical-align: top;\n",
       "    }\n",
       "\n",
       "    .dataframe thead th {\n",
       "        text-align: right;\n",
       "    }\n",
       "</style>\n",
       "<table border=\"1\" class=\"dataframe\">\n",
       "  <thead>\n",
       "    <tr style=\"text-align: right;\">\n",
       "      <th></th>\n",
       "      <th>0</th>\n",
       "      <th>1467810369</th>\n",
       "      <th>Mon Apr 06 22:19:45 PDT 2009</th>\n",
       "      <th>NO_QUERY</th>\n",
       "      <th>_TheSpecialOne_</th>\n",
       "      <th>@switchfoot http://twitpic.com/2y1zl - Awww, that's a bummer.  You shoulda got David Carr of Third Day to do it. ;D</th>\n",
       "    </tr>\n",
       "  </thead>\n",
       "  <tbody>\n",
       "    <tr>\n",
       "      <th>0</th>\n",
       "      <td>1</td>\n",
       "      <td>1467810672</td>\n",
       "      <td>Mon Apr 06 22:19:49 PDT 2009</td>\n",
       "      <td>NO_QUERY</td>\n",
       "      <td>scotthamilton</td>\n",
       "      <td>is upset that he can't update his Facebook by ...</td>\n",
       "    </tr>\n",
       "    <tr>\n",
       "      <th>1</th>\n",
       "      <td>2</td>\n",
       "      <td>1467810917</td>\n",
       "      <td>Mon Apr 06 22:19:53 PDT 2009</td>\n",
       "      <td>NO_QUERY</td>\n",
       "      <td>mattycus</td>\n",
       "      <td>@Kenichan I dived many times for the ball. Man...</td>\n",
       "    </tr>\n",
       "    <tr>\n",
       "      <th>2</th>\n",
       "      <td>3</td>\n",
       "      <td>1467811184</td>\n",
       "      <td>Mon Apr 06 22:19:57 PDT 2009</td>\n",
       "      <td>NO_QUERY</td>\n",
       "      <td>ElleCTF</td>\n",
       "      <td>my whole body feels itchy and like its on fire</td>\n",
       "    </tr>\n",
       "    <tr>\n",
       "      <th>3</th>\n",
       "      <td>4</td>\n",
       "      <td>1467811193</td>\n",
       "      <td>Mon Apr 06 22:19:57 PDT 2009</td>\n",
       "      <td>NO_QUERY</td>\n",
       "      <td>Karoli</td>\n",
       "      <td>@nationwideclass no, it's not behaving at all....</td>\n",
       "    </tr>\n",
       "    <tr>\n",
       "      <th>4</th>\n",
       "      <td>5</td>\n",
       "      <td>1467811372</td>\n",
       "      <td>Mon Apr 06 22:20:00 PDT 2009</td>\n",
       "      <td>NO_QUERY</td>\n",
       "      <td>joy_wolf</td>\n",
       "      <td>@Kwesidei not the whole crew</td>\n",
       "    </tr>\n",
       "  </tbody>\n",
       "</table>\n",
       "</div>"
      ],
      "text/plain": [
       "   0  1467810369  Mon Apr 06 22:19:45 PDT 2009  NO_QUERY _TheSpecialOne_  \\\n",
       "0  1  1467810672  Mon Apr 06 22:19:49 PDT 2009  NO_QUERY   scotthamilton   \n",
       "1  2  1467810917  Mon Apr 06 22:19:53 PDT 2009  NO_QUERY        mattycus   \n",
       "2  3  1467811184  Mon Apr 06 22:19:57 PDT 2009  NO_QUERY         ElleCTF   \n",
       "3  4  1467811193  Mon Apr 06 22:19:57 PDT 2009  NO_QUERY          Karoli   \n",
       "4  5  1467811372  Mon Apr 06 22:20:00 PDT 2009  NO_QUERY        joy_wolf   \n",
       "\n",
       "  @switchfoot http://twitpic.com/2y1zl - Awww, that's a bummer.  You shoulda got David Carr of Third Day to do it. ;D  \n",
       "0  is upset that he can't update his Facebook by ...                                                                   \n",
       "1  @Kenichan I dived many times for the ball. Man...                                                                   \n",
       "2    my whole body feels itchy and like its on fire                                                                    \n",
       "3  @nationwideclass no, it's not behaving at all....                                                                   \n",
       "4                      @Kwesidei not the whole crew                                                                    "
      ]
     },
     "execution_count": 2,
     "metadata": {},
     "output_type": "execute_result"
    }
   ],
   "source": [
    "data = pd.read_csv('ProjectTweets.csv')\n",
    "data.head()"
   ]
  },
  {
   "cell_type": "code",
   "execution_count": 3,
   "id": "3c7f8f3a",
   "metadata": {
    "scrolled": true
   },
   "outputs": [
    {
     "data": {
      "text/plain": [
       "(1599999, 6)"
      ]
     },
     "execution_count": 3,
     "metadata": {},
     "output_type": "execute_result"
    }
   ],
   "source": [
    "#Shape of the dataframe\n",
    "data.shape"
   ]
  },
  {
   "cell_type": "code",
   "execution_count": 4,
   "id": "69814452",
   "metadata": {},
   "outputs": [],
   "source": [
    "#Checking the type of data\n",
    "#data.info()"
   ]
  },
  {
   "cell_type": "code",
   "execution_count": 5,
   "id": "496a8749",
   "metadata": {
    "scrolled": true
   },
   "outputs": [
    {
     "data": {
      "text/html": [
       "<div>\n",
       "<style scoped>\n",
       "    .dataframe tbody tr th:only-of-type {\n",
       "        vertical-align: middle;\n",
       "    }\n",
       "\n",
       "    .dataframe tbody tr th {\n",
       "        vertical-align: top;\n",
       "    }\n",
       "\n",
       "    .dataframe thead th {\n",
       "        text-align: right;\n",
       "    }\n",
       "</style>\n",
       "<table border=\"1\" class=\"dataframe\">\n",
       "  <thead>\n",
       "    <tr style=\"text-align: right;\">\n",
       "      <th></th>\n",
       "      <th>0</th>\n",
       "      <th>Tweet_ID</th>\n",
       "      <th>date</th>\n",
       "      <th>NO_QUERY</th>\n",
       "      <th>Twitter_User</th>\n",
       "      <th>@switchfoot http://twitpic.com/2y1zl - Awww, that's a bummer.  You shoulda got David Carr of Third Day to do it. ;D</th>\n",
       "    </tr>\n",
       "  </thead>\n",
       "  <tbody>\n",
       "    <tr>\n",
       "      <th>0</th>\n",
       "      <td>1</td>\n",
       "      <td>1467810672</td>\n",
       "      <td>Mon Apr 06 22:19:49 PDT 2009</td>\n",
       "      <td>NO_QUERY</td>\n",
       "      <td>scotthamilton</td>\n",
       "      <td>is upset that he can't update his Facebook by ...</td>\n",
       "    </tr>\n",
       "    <tr>\n",
       "      <th>1</th>\n",
       "      <td>2</td>\n",
       "      <td>1467810917</td>\n",
       "      <td>Mon Apr 06 22:19:53 PDT 2009</td>\n",
       "      <td>NO_QUERY</td>\n",
       "      <td>mattycus</td>\n",
       "      <td>@Kenichan I dived many times for the ball. Man...</td>\n",
       "    </tr>\n",
       "    <tr>\n",
       "      <th>2</th>\n",
       "      <td>3</td>\n",
       "      <td>1467811184</td>\n",
       "      <td>Mon Apr 06 22:19:57 PDT 2009</td>\n",
       "      <td>NO_QUERY</td>\n",
       "      <td>ElleCTF</td>\n",
       "      <td>my whole body feels itchy and like its on fire</td>\n",
       "    </tr>\n",
       "    <tr>\n",
       "      <th>3</th>\n",
       "      <td>4</td>\n",
       "      <td>1467811193</td>\n",
       "      <td>Mon Apr 06 22:19:57 PDT 2009</td>\n",
       "      <td>NO_QUERY</td>\n",
       "      <td>Karoli</td>\n",
       "      <td>@nationwideclass no, it's not behaving at all....</td>\n",
       "    </tr>\n",
       "    <tr>\n",
       "      <th>4</th>\n",
       "      <td>5</td>\n",
       "      <td>1467811372</td>\n",
       "      <td>Mon Apr 06 22:20:00 PDT 2009</td>\n",
       "      <td>NO_QUERY</td>\n",
       "      <td>joy_wolf</td>\n",
       "      <td>@Kwesidei not the whole crew</td>\n",
       "    </tr>\n",
       "  </tbody>\n",
       "</table>\n",
       "</div>"
      ],
      "text/plain": [
       "   0    Tweet_ID                          date  NO_QUERY   Twitter_User  \\\n",
       "0  1  1467810672  Mon Apr 06 22:19:49 PDT 2009  NO_QUERY  scotthamilton   \n",
       "1  2  1467810917  Mon Apr 06 22:19:53 PDT 2009  NO_QUERY       mattycus   \n",
       "2  3  1467811184  Mon Apr 06 22:19:57 PDT 2009  NO_QUERY        ElleCTF   \n",
       "3  4  1467811193  Mon Apr 06 22:19:57 PDT 2009  NO_QUERY         Karoli   \n",
       "4  5  1467811372  Mon Apr 06 22:20:00 PDT 2009  NO_QUERY       joy_wolf   \n",
       "\n",
       "  @switchfoot http://twitpic.com/2y1zl - Awww, that's a bummer.  You shoulda got David Carr of Third Day to do it. ;D  \n",
       "0  is upset that he can't update his Facebook by ...                                                                   \n",
       "1  @Kenichan I dived many times for the ball. Man...                                                                   \n",
       "2    my whole body feels itchy and like its on fire                                                                    \n",
       "3  @nationwideclass no, it's not behaving at all....                                                                   \n",
       "4                      @Kwesidei not the whole crew                                                                    "
      ]
     },
     "execution_count": 5,
     "metadata": {},
     "output_type": "execute_result"
    }
   ],
   "source": [
    "# Data preparation\n",
    "# ==============================================================================\n",
    "data = data.rename(columns={'1467810369': 'Tweet_ID', 'Mon Apr 06 22:19:45 PDT 2009': 'date','_TheSpecialOne_': 'Twitter_User'})\n",
    "data.head()"
   ]
  },
  {
   "cell_type": "code",
   "execution_count": 6,
   "id": "f79022aa",
   "metadata": {},
   "outputs": [
    {
     "data": {
      "text/plain": [
       "1599999"
      ]
     },
     "execution_count": 6,
     "metadata": {},
     "output_type": "execute_result"
    }
   ],
   "source": [
    "data['NO_QUERY'].count()"
   ]
  },
  {
   "cell_type": "code",
   "execution_count": 7,
   "id": "89fdf866",
   "metadata": {},
   "outputs": [],
   "source": [
    "def format_data(data):\n",
    "\n",
    "  last_col = str(data.columns[-1])\n",
    "  #first_col = str(data.columns[0])\n",
    "\n",
    "  data.rename(columns = {last_col: 'tweet_text'}, inplace=True) \n",
    "\n",
    "  # Change 0, 2, 4 to negative, neutral and positive\n",
    " # labels = {0: 'negative', 2: 'neutral', 4: 'positive'}\n",
    "  #data['polarity'] = data['polarity'].map(labels)\n",
    "\n",
    "  # Get only the two columns\n",
    "  return data[['Tweet_ID','date','Twitter_User','tweet_text']]"
   ]
  },
  {
   "cell_type": "code",
   "execution_count": 8,
   "id": "00dd1d22",
   "metadata": {},
   "outputs": [
    {
     "data": {
      "text/html": [
       "<div>\n",
       "<style scoped>\n",
       "    .dataframe tbody tr th:only-of-type {\n",
       "        vertical-align: middle;\n",
       "    }\n",
       "\n",
       "    .dataframe tbody tr th {\n",
       "        vertical-align: top;\n",
       "    }\n",
       "\n",
       "    .dataframe thead th {\n",
       "        text-align: right;\n",
       "    }\n",
       "</style>\n",
       "<table border=\"1\" class=\"dataframe\">\n",
       "  <thead>\n",
       "    <tr style=\"text-align: right;\">\n",
       "      <th></th>\n",
       "      <th>Tweet_ID</th>\n",
       "      <th>date</th>\n",
       "      <th>Twitter_User</th>\n",
       "      <th>tweet_text</th>\n",
       "    </tr>\n",
       "  </thead>\n",
       "  <tbody>\n",
       "    <tr>\n",
       "      <th>0</th>\n",
       "      <td>1467810672</td>\n",
       "      <td>Mon Apr 06 22:19:49 PDT 2009</td>\n",
       "      <td>scotthamilton</td>\n",
       "      <td>is upset that he can't update his Facebook by ...</td>\n",
       "    </tr>\n",
       "    <tr>\n",
       "      <th>1</th>\n",
       "      <td>1467810917</td>\n",
       "      <td>Mon Apr 06 22:19:53 PDT 2009</td>\n",
       "      <td>mattycus</td>\n",
       "      <td>@Kenichan I dived many times for the ball. Man...</td>\n",
       "    </tr>\n",
       "    <tr>\n",
       "      <th>2</th>\n",
       "      <td>1467811184</td>\n",
       "      <td>Mon Apr 06 22:19:57 PDT 2009</td>\n",
       "      <td>ElleCTF</td>\n",
       "      <td>my whole body feels itchy and like its on fire</td>\n",
       "    </tr>\n",
       "    <tr>\n",
       "      <th>3</th>\n",
       "      <td>1467811193</td>\n",
       "      <td>Mon Apr 06 22:19:57 PDT 2009</td>\n",
       "      <td>Karoli</td>\n",
       "      <td>@nationwideclass no, it's not behaving at all....</td>\n",
       "    </tr>\n",
       "    <tr>\n",
       "      <th>4</th>\n",
       "      <td>1467811372</td>\n",
       "      <td>Mon Apr 06 22:20:00 PDT 2009</td>\n",
       "      <td>joy_wolf</td>\n",
       "      <td>@Kwesidei not the whole crew</td>\n",
       "    </tr>\n",
       "    <tr>\n",
       "      <th>5</th>\n",
       "      <td>1467811592</td>\n",
       "      <td>Mon Apr 06 22:20:03 PDT 2009</td>\n",
       "      <td>mybirch</td>\n",
       "      <td>Need a hug</td>\n",
       "    </tr>\n",
       "    <tr>\n",
       "      <th>6</th>\n",
       "      <td>1467811594</td>\n",
       "      <td>Mon Apr 06 22:20:03 PDT 2009</td>\n",
       "      <td>coZZ</td>\n",
       "      <td>@LOLTrish hey  long time no see! Yes.. Rains a...</td>\n",
       "    </tr>\n",
       "    <tr>\n",
       "      <th>7</th>\n",
       "      <td>1467811795</td>\n",
       "      <td>Mon Apr 06 22:20:05 PDT 2009</td>\n",
       "      <td>2Hood4Hollywood</td>\n",
       "      <td>@Tatiana_K nope they didn't have it</td>\n",
       "    </tr>\n",
       "    <tr>\n",
       "      <th>8</th>\n",
       "      <td>1467812025</td>\n",
       "      <td>Mon Apr 06 22:20:09 PDT 2009</td>\n",
       "      <td>mimismo</td>\n",
       "      <td>@twittera que me muera ?</td>\n",
       "    </tr>\n",
       "    <tr>\n",
       "      <th>9</th>\n",
       "      <td>1467812416</td>\n",
       "      <td>Mon Apr 06 22:20:16 PDT 2009</td>\n",
       "      <td>erinx3leannexo</td>\n",
       "      <td>spring break in plain city... it's snowing</td>\n",
       "    </tr>\n",
       "  </tbody>\n",
       "</table>\n",
       "</div>"
      ],
      "text/plain": [
       "     Tweet_ID                          date     Twitter_User  \\\n",
       "0  1467810672  Mon Apr 06 22:19:49 PDT 2009    scotthamilton   \n",
       "1  1467810917  Mon Apr 06 22:19:53 PDT 2009         mattycus   \n",
       "2  1467811184  Mon Apr 06 22:19:57 PDT 2009          ElleCTF   \n",
       "3  1467811193  Mon Apr 06 22:19:57 PDT 2009           Karoli   \n",
       "4  1467811372  Mon Apr 06 22:20:00 PDT 2009         joy_wolf   \n",
       "5  1467811592  Mon Apr 06 22:20:03 PDT 2009          mybirch   \n",
       "6  1467811594  Mon Apr 06 22:20:03 PDT 2009             coZZ   \n",
       "7  1467811795  Mon Apr 06 22:20:05 PDT 2009  2Hood4Hollywood   \n",
       "8  1467812025  Mon Apr 06 22:20:09 PDT 2009          mimismo   \n",
       "9  1467812416  Mon Apr 06 22:20:16 PDT 2009   erinx3leannexo   \n",
       "\n",
       "                                          tweet_text  \n",
       "0  is upset that he can't update his Facebook by ...  \n",
       "1  @Kenichan I dived many times for the ball. Man...  \n",
       "2    my whole body feels itchy and like its on fire   \n",
       "3  @nationwideclass no, it's not behaving at all....  \n",
       "4                      @Kwesidei not the whole crew   \n",
       "5                                        Need a hug   \n",
       "6  @LOLTrish hey  long time no see! Yes.. Rains a...  \n",
       "7               @Tatiana_K nope they didn't have it   \n",
       "8                          @twittera que me muera ?   \n",
       "9        spring break in plain city... it's snowing   "
      ]
     },
     "execution_count": 8,
     "metadata": {},
     "output_type": "execute_result"
    }
   ],
   "source": [
    "data = format_data(data)\n",
    "data.head(10)"
   ]
  },
  {
   "cell_type": "code",
   "execution_count": 9,
   "id": "83b9a61c",
   "metadata": {},
   "outputs": [],
   "source": [
    "#Creating a new column \"title_mod\" using lambda function\n",
    "data[\"tweet_mod\"]=data[\"tweet_text\"].apply(lambda x: \" \".join(x.lower() for x in x.split()))"
   ]
  },
  {
   "cell_type": "code",
   "execution_count": 10,
   "id": "50f89976",
   "metadata": {
    "scrolled": true
   },
   "outputs": [
    {
     "data": {
      "text/html": [
       "<div>\n",
       "<style scoped>\n",
       "    .dataframe tbody tr th:only-of-type {\n",
       "        vertical-align: middle;\n",
       "    }\n",
       "\n",
       "    .dataframe tbody tr th {\n",
       "        vertical-align: top;\n",
       "    }\n",
       "\n",
       "    .dataframe thead th {\n",
       "        text-align: right;\n",
       "    }\n",
       "</style>\n",
       "<table border=\"1\" class=\"dataframe\">\n",
       "  <thead>\n",
       "    <tr style=\"text-align: right;\">\n",
       "      <th></th>\n",
       "      <th>Tweet_ID</th>\n",
       "      <th>date</th>\n",
       "      <th>Twitter_User</th>\n",
       "      <th>tweet_text</th>\n",
       "      <th>tweet_mod</th>\n",
       "    </tr>\n",
       "  </thead>\n",
       "  <tbody>\n",
       "    <tr>\n",
       "      <th>0</th>\n",
       "      <td>1467810672</td>\n",
       "      <td>Mon Apr 06 22:19:49 PDT 2009</td>\n",
       "      <td>scotthamilton</td>\n",
       "      <td>is upset that he can't update his Facebook by ...</td>\n",
       "      <td>is upset that he can't update his facebook by ...</td>\n",
       "    </tr>\n",
       "    <tr>\n",
       "      <th>1</th>\n",
       "      <td>1467810917</td>\n",
       "      <td>Mon Apr 06 22:19:53 PDT 2009</td>\n",
       "      <td>mattycus</td>\n",
       "      <td>@Kenichan I dived many times for the ball. Man...</td>\n",
       "      <td>@kenichan i dived many times for the ball. man...</td>\n",
       "    </tr>\n",
       "    <tr>\n",
       "      <th>2</th>\n",
       "      <td>1467811184</td>\n",
       "      <td>Mon Apr 06 22:19:57 PDT 2009</td>\n",
       "      <td>ElleCTF</td>\n",
       "      <td>my whole body feels itchy and like its on fire</td>\n",
       "      <td>my whole body feels itchy and like its on fire</td>\n",
       "    </tr>\n",
       "    <tr>\n",
       "      <th>3</th>\n",
       "      <td>1467811193</td>\n",
       "      <td>Mon Apr 06 22:19:57 PDT 2009</td>\n",
       "      <td>Karoli</td>\n",
       "      <td>@nationwideclass no, it's not behaving at all....</td>\n",
       "      <td>@nationwideclass no, it's not behaving at all....</td>\n",
       "    </tr>\n",
       "    <tr>\n",
       "      <th>4</th>\n",
       "      <td>1467811372</td>\n",
       "      <td>Mon Apr 06 22:20:00 PDT 2009</td>\n",
       "      <td>joy_wolf</td>\n",
       "      <td>@Kwesidei not the whole crew</td>\n",
       "      <td>@kwesidei not the whole crew</td>\n",
       "    </tr>\n",
       "  </tbody>\n",
       "</table>\n",
       "</div>"
      ],
      "text/plain": [
       "     Tweet_ID                          date   Twitter_User  \\\n",
       "0  1467810672  Mon Apr 06 22:19:49 PDT 2009  scotthamilton   \n",
       "1  1467810917  Mon Apr 06 22:19:53 PDT 2009       mattycus   \n",
       "2  1467811184  Mon Apr 06 22:19:57 PDT 2009        ElleCTF   \n",
       "3  1467811193  Mon Apr 06 22:19:57 PDT 2009         Karoli   \n",
       "4  1467811372  Mon Apr 06 22:20:00 PDT 2009       joy_wolf   \n",
       "\n",
       "                                          tweet_text  \\\n",
       "0  is upset that he can't update his Facebook by ...   \n",
       "1  @Kenichan I dived many times for the ball. Man...   \n",
       "2    my whole body feels itchy and like its on fire    \n",
       "3  @nationwideclass no, it's not behaving at all....   \n",
       "4                      @Kwesidei not the whole crew    \n",
       "\n",
       "                                           tweet_mod  \n",
       "0  is upset that he can't update his facebook by ...  \n",
       "1  @kenichan i dived many times for the ball. man...  \n",
       "2     my whole body feels itchy and like its on fire  \n",
       "3  @nationwideclass no, it's not behaving at all....  \n",
       "4                       @kwesidei not the whole crew  "
      ]
     },
     "execution_count": 10,
     "metadata": {},
     "output_type": "execute_result"
    }
   ],
   "source": [
    "data.head()"
   ]
  },
  {
   "cell_type": "code",
   "execution_count": 11,
   "id": "55613fad",
   "metadata": {
    "scrolled": true
   },
   "outputs": [],
   "source": [
    "#Removing any special character from text\n",
    "data[\"tweet_mod\"]=data[\"tweet_mod\"].str.replace(\"[^\\w\\s]\",\"\")"
   ]
  },
  {
   "cell_type": "code",
   "execution_count": 12,
   "id": "ed94e558",
   "metadata": {
    "scrolled": true
   },
   "outputs": [
    {
     "data": {
      "text/html": [
       "<div>\n",
       "<style scoped>\n",
       "    .dataframe tbody tr th:only-of-type {\n",
       "        vertical-align: middle;\n",
       "    }\n",
       "\n",
       "    .dataframe tbody tr th {\n",
       "        vertical-align: top;\n",
       "    }\n",
       "\n",
       "    .dataframe thead th {\n",
       "        text-align: right;\n",
       "    }\n",
       "</style>\n",
       "<table border=\"1\" class=\"dataframe\">\n",
       "  <thead>\n",
       "    <tr style=\"text-align: right;\">\n",
       "      <th></th>\n",
       "      <th>Tweet_ID</th>\n",
       "      <th>date</th>\n",
       "      <th>Twitter_User</th>\n",
       "      <th>tweet_text</th>\n",
       "      <th>tweet_mod</th>\n",
       "    </tr>\n",
       "  </thead>\n",
       "  <tbody>\n",
       "    <tr>\n",
       "      <th>0</th>\n",
       "      <td>1467810672</td>\n",
       "      <td>Mon Apr 06 22:19:49 PDT 2009</td>\n",
       "      <td>scotthamilton</td>\n",
       "      <td>is upset that he can't update his Facebook by ...</td>\n",
       "      <td>is upset that he cant update his facebook by t...</td>\n",
       "    </tr>\n",
       "    <tr>\n",
       "      <th>1</th>\n",
       "      <td>1467810917</td>\n",
       "      <td>Mon Apr 06 22:19:53 PDT 2009</td>\n",
       "      <td>mattycus</td>\n",
       "      <td>@Kenichan I dived many times for the ball. Man...</td>\n",
       "      <td>kenichan i dived many times for the ball manag...</td>\n",
       "    </tr>\n",
       "    <tr>\n",
       "      <th>2</th>\n",
       "      <td>1467811184</td>\n",
       "      <td>Mon Apr 06 22:19:57 PDT 2009</td>\n",
       "      <td>ElleCTF</td>\n",
       "      <td>my whole body feels itchy and like its on fire</td>\n",
       "      <td>my whole body feels itchy and like its on fire</td>\n",
       "    </tr>\n",
       "    <tr>\n",
       "      <th>3</th>\n",
       "      <td>1467811193</td>\n",
       "      <td>Mon Apr 06 22:19:57 PDT 2009</td>\n",
       "      <td>Karoli</td>\n",
       "      <td>@nationwideclass no, it's not behaving at all....</td>\n",
       "      <td>nationwideclass no its not behaving at all im ...</td>\n",
       "    </tr>\n",
       "    <tr>\n",
       "      <th>4</th>\n",
       "      <td>1467811372</td>\n",
       "      <td>Mon Apr 06 22:20:00 PDT 2009</td>\n",
       "      <td>joy_wolf</td>\n",
       "      <td>@Kwesidei not the whole crew</td>\n",
       "      <td>kwesidei not the whole crew</td>\n",
       "    </tr>\n",
       "  </tbody>\n",
       "</table>\n",
       "</div>"
      ],
      "text/plain": [
       "     Tweet_ID                          date   Twitter_User  \\\n",
       "0  1467810672  Mon Apr 06 22:19:49 PDT 2009  scotthamilton   \n",
       "1  1467810917  Mon Apr 06 22:19:53 PDT 2009       mattycus   \n",
       "2  1467811184  Mon Apr 06 22:19:57 PDT 2009        ElleCTF   \n",
       "3  1467811193  Mon Apr 06 22:19:57 PDT 2009         Karoli   \n",
       "4  1467811372  Mon Apr 06 22:20:00 PDT 2009       joy_wolf   \n",
       "\n",
       "                                          tweet_text  \\\n",
       "0  is upset that he can't update his Facebook by ...   \n",
       "1  @Kenichan I dived many times for the ball. Man...   \n",
       "2    my whole body feels itchy and like its on fire    \n",
       "3  @nationwideclass no, it's not behaving at all....   \n",
       "4                      @Kwesidei not the whole crew    \n",
       "\n",
       "                                           tweet_mod  \n",
       "0  is upset that he cant update his facebook by t...  \n",
       "1  kenichan i dived many times for the ball manag...  \n",
       "2     my whole body feels itchy and like its on fire  \n",
       "3  nationwideclass no its not behaving at all im ...  \n",
       "4                        kwesidei not the whole crew  "
      ]
     },
     "execution_count": 12,
     "metadata": {},
     "output_type": "execute_result"
    }
   ],
   "source": [
    "data.head()"
   ]
  },
  {
   "cell_type": "code",
   "execution_count": 13,
   "id": "eb5967eb",
   "metadata": {},
   "outputs": [],
   "source": [
    "#pip install textblob"
   ]
  },
  {
   "cell_type": "code",
   "execution_count": 14,
   "id": "a4262f1b",
   "metadata": {},
   "outputs": [],
   "source": [
    "#Importing textblow library\n",
    "from textblob import TextBlob"
   ]
  },
  {
   "cell_type": "code",
   "execution_count": 15,
   "id": "2845bbad",
   "metadata": {
    "scrolled": true
   },
   "outputs": [
    {
     "data": {
      "text/plain": [
       "0       (0.0, 0.0)\n",
       "1       (0.5, 0.5)\n",
       "2       (0.2, 0.4)\n",
       "3    (-0.625, 1.0)\n",
       "4       (0.2, 0.4)\n",
       "Name: tweet_mod, dtype: object"
      ]
     },
     "execution_count": 15,
     "metadata": {},
     "output_type": "execute_result"
    }
   ],
   "source": [
    "# Extract the emotional value, the sentiment from this text\n",
    "#first number is the sentimient, second is the number times this words is talked about\n",
    "data[\"tweet_mod\"][:5].apply(lambda x : TextBlob(x).sentiment)"
   ]
  },
  {
   "cell_type": "code",
   "execution_count": 16,
   "id": "7830bfac",
   "metadata": {},
   "outputs": [],
   "source": [
    "#creating a new column \"sentiment\"\n",
    "#going through each of the comments and exgtracting the sentiment analysis stored into it\n",
    "data[\"sentiment\"]=data[\"tweet_mod\"].apply(lambda x: TextBlob(x).sentiment[0])"
   ]
  },
  {
   "cell_type": "code",
   "execution_count": 17,
   "id": "b1b20b64",
   "metadata": {
    "scrolled": true
   },
   "outputs": [
    {
     "data": {
      "text/html": [
       "<div>\n",
       "<style scoped>\n",
       "    .dataframe tbody tr th:only-of-type {\n",
       "        vertical-align: middle;\n",
       "    }\n",
       "\n",
       "    .dataframe tbody tr th {\n",
       "        vertical-align: top;\n",
       "    }\n",
       "\n",
       "    .dataframe thead th {\n",
       "        text-align: right;\n",
       "    }\n",
       "</style>\n",
       "<table border=\"1\" class=\"dataframe\">\n",
       "  <thead>\n",
       "    <tr style=\"text-align: right;\">\n",
       "      <th></th>\n",
       "      <th>Tweet_ID</th>\n",
       "      <th>date</th>\n",
       "      <th>Twitter_User</th>\n",
       "      <th>tweet_text</th>\n",
       "      <th>tweet_mod</th>\n",
       "      <th>sentiment</th>\n",
       "    </tr>\n",
       "  </thead>\n",
       "  <tbody>\n",
       "    <tr>\n",
       "      <th>0</th>\n",
       "      <td>1467810672</td>\n",
       "      <td>Mon Apr 06 22:19:49 PDT 2009</td>\n",
       "      <td>scotthamilton</td>\n",
       "      <td>is upset that he can't update his Facebook by ...</td>\n",
       "      <td>is upset that he cant update his facebook by t...</td>\n",
       "      <td>0.000</td>\n",
       "    </tr>\n",
       "    <tr>\n",
       "      <th>1</th>\n",
       "      <td>1467810917</td>\n",
       "      <td>Mon Apr 06 22:19:53 PDT 2009</td>\n",
       "      <td>mattycus</td>\n",
       "      <td>@Kenichan I dived many times for the ball. Man...</td>\n",
       "      <td>kenichan i dived many times for the ball manag...</td>\n",
       "      <td>0.500</td>\n",
       "    </tr>\n",
       "    <tr>\n",
       "      <th>2</th>\n",
       "      <td>1467811184</td>\n",
       "      <td>Mon Apr 06 22:19:57 PDT 2009</td>\n",
       "      <td>ElleCTF</td>\n",
       "      <td>my whole body feels itchy and like its on fire</td>\n",
       "      <td>my whole body feels itchy and like its on fire</td>\n",
       "      <td>0.200</td>\n",
       "    </tr>\n",
       "    <tr>\n",
       "      <th>3</th>\n",
       "      <td>1467811193</td>\n",
       "      <td>Mon Apr 06 22:19:57 PDT 2009</td>\n",
       "      <td>Karoli</td>\n",
       "      <td>@nationwideclass no, it's not behaving at all....</td>\n",
       "      <td>nationwideclass no its not behaving at all im ...</td>\n",
       "      <td>-0.625</td>\n",
       "    </tr>\n",
       "    <tr>\n",
       "      <th>4</th>\n",
       "      <td>1467811372</td>\n",
       "      <td>Mon Apr 06 22:20:00 PDT 2009</td>\n",
       "      <td>joy_wolf</td>\n",
       "      <td>@Kwesidei not the whole crew</td>\n",
       "      <td>kwesidei not the whole crew</td>\n",
       "      <td>0.200</td>\n",
       "    </tr>\n",
       "  </tbody>\n",
       "</table>\n",
       "</div>"
      ],
      "text/plain": [
       "     Tweet_ID                          date   Twitter_User  \\\n",
       "0  1467810672  Mon Apr 06 22:19:49 PDT 2009  scotthamilton   \n",
       "1  1467810917  Mon Apr 06 22:19:53 PDT 2009       mattycus   \n",
       "2  1467811184  Mon Apr 06 22:19:57 PDT 2009        ElleCTF   \n",
       "3  1467811193  Mon Apr 06 22:19:57 PDT 2009         Karoli   \n",
       "4  1467811372  Mon Apr 06 22:20:00 PDT 2009       joy_wolf   \n",
       "\n",
       "                                          tweet_text  \\\n",
       "0  is upset that he can't update his Facebook by ...   \n",
       "1  @Kenichan I dived many times for the ball. Man...   \n",
       "2    my whole body feels itchy and like its on fire    \n",
       "3  @nationwideclass no, it's not behaving at all....   \n",
       "4                      @Kwesidei not the whole crew    \n",
       "\n",
       "                                           tweet_mod  sentiment  \n",
       "0  is upset that he cant update his facebook by t...      0.000  \n",
       "1  kenichan i dived many times for the ball manag...      0.500  \n",
       "2     my whole body feels itchy and like its on fire      0.200  \n",
       "3  nationwideclass no its not behaving at all im ...     -0.625  \n",
       "4                        kwesidei not the whole crew      0.200  "
      ]
     },
     "execution_count": 17,
     "metadata": {},
     "output_type": "execute_result"
    }
   ],
   "source": [
    "data.head()"
   ]
  },
  {
   "cell_type": "code",
   "execution_count": 73,
   "id": "af5ec51e",
   "metadata": {},
   "outputs": [],
   "source": [
    "#import numpy as np\n",
    "#Applying lambda function to categorise the sentimente of the text either \"negative\" or positive.\n",
    "data['sentiment_score'] = data['sentiment'].apply(lambda x: 'Positive' if x > 0.2 else('Neutral' if x == 0.2 else 'Negative'))\n",
    "#df['Polarity_Rating'] = df['Rating'].apply(lambda x: 'Positive' if x > 3 else('Neutral' if x == 3  else 'Negative'))"
   ]
  },
  {
   "cell_type": "code",
   "execution_count": 74,
   "id": "37939940",
   "metadata": {
    "scrolled": true
   },
   "outputs": [
    {
     "data": {
      "text/html": [
       "<div>\n",
       "<style scoped>\n",
       "    .dataframe tbody tr th:only-of-type {\n",
       "        vertical-align: middle;\n",
       "    }\n",
       "\n",
       "    .dataframe tbody tr th {\n",
       "        vertical-align: top;\n",
       "    }\n",
       "\n",
       "    .dataframe thead th {\n",
       "        text-align: right;\n",
       "    }\n",
       "</style>\n",
       "<table border=\"1\" class=\"dataframe\">\n",
       "  <thead>\n",
       "    <tr style=\"text-align: right;\">\n",
       "      <th></th>\n",
       "      <th>Tweet_ID</th>\n",
       "      <th>date</th>\n",
       "      <th>Twitter_User</th>\n",
       "      <th>tweet_text</th>\n",
       "      <th>tweet_mod</th>\n",
       "      <th>sentiment</th>\n",
       "      <th>sentiment_score</th>\n",
       "    </tr>\n",
       "  </thead>\n",
       "  <tbody>\n",
       "    <tr>\n",
       "      <th>0</th>\n",
       "      <td>1467810672</td>\n",
       "      <td>Mon Apr 06 22:19:49 PDT 2009</td>\n",
       "      <td>scotthamilton</td>\n",
       "      <td>is upset that he can't update his Facebook by ...</td>\n",
       "      <td>is upset that he cant update his facebook by t...</td>\n",
       "      <td>0.000</td>\n",
       "      <td>Negative</td>\n",
       "    </tr>\n",
       "    <tr>\n",
       "      <th>1</th>\n",
       "      <td>1467810917</td>\n",
       "      <td>Mon Apr 06 22:19:53 PDT 2009</td>\n",
       "      <td>mattycus</td>\n",
       "      <td>@Kenichan I dived many times for the ball. Man...</td>\n",
       "      <td>kenichan i dived many times for the ball manag...</td>\n",
       "      <td>0.500</td>\n",
       "      <td>Positive</td>\n",
       "    </tr>\n",
       "    <tr>\n",
       "      <th>2</th>\n",
       "      <td>1467811184</td>\n",
       "      <td>Mon Apr 06 22:19:57 PDT 2009</td>\n",
       "      <td>ElleCTF</td>\n",
       "      <td>my whole body feels itchy and like its on fire</td>\n",
       "      <td>my whole body feels itchy and like its on fire</td>\n",
       "      <td>0.200</td>\n",
       "      <td>Neutral</td>\n",
       "    </tr>\n",
       "    <tr>\n",
       "      <th>3</th>\n",
       "      <td>1467811193</td>\n",
       "      <td>Mon Apr 06 22:19:57 PDT 2009</td>\n",
       "      <td>Karoli</td>\n",
       "      <td>@nationwideclass no, it's not behaving at all....</td>\n",
       "      <td>nationwideclass no its not behaving at all im ...</td>\n",
       "      <td>-0.625</td>\n",
       "      <td>Negative</td>\n",
       "    </tr>\n",
       "    <tr>\n",
       "      <th>4</th>\n",
       "      <td>1467811372</td>\n",
       "      <td>Mon Apr 06 22:20:00 PDT 2009</td>\n",
       "      <td>joy_wolf</td>\n",
       "      <td>@Kwesidei not the whole crew</td>\n",
       "      <td>kwesidei not the whole crew</td>\n",
       "      <td>0.200</td>\n",
       "      <td>Neutral</td>\n",
       "    </tr>\n",
       "  </tbody>\n",
       "</table>\n",
       "</div>"
      ],
      "text/plain": [
       "     Tweet_ID                          date   Twitter_User  \\\n",
       "0  1467810672  Mon Apr 06 22:19:49 PDT 2009  scotthamilton   \n",
       "1  1467810917  Mon Apr 06 22:19:53 PDT 2009       mattycus   \n",
       "2  1467811184  Mon Apr 06 22:19:57 PDT 2009        ElleCTF   \n",
       "3  1467811193  Mon Apr 06 22:19:57 PDT 2009         Karoli   \n",
       "4  1467811372  Mon Apr 06 22:20:00 PDT 2009       joy_wolf   \n",
       "\n",
       "                                          tweet_text  \\\n",
       "0  is upset that he can't update his Facebook by ...   \n",
       "1  @Kenichan I dived many times for the ball. Man...   \n",
       "2    my whole body feels itchy and like its on fire    \n",
       "3  @nationwideclass no, it's not behaving at all....   \n",
       "4                      @Kwesidei not the whole crew    \n",
       "\n",
       "                                           tweet_mod  sentiment  \\\n",
       "0  is upset that he cant update his facebook by t...      0.000   \n",
       "1  kenichan i dived many times for the ball manag...      0.500   \n",
       "2     my whole body feels itchy and like its on fire      0.200   \n",
       "3  nationwideclass no its not behaving at all im ...     -0.625   \n",
       "4                        kwesidei not the whole crew      0.200   \n",
       "\n",
       "  sentiment_score  \n",
       "0        Negative  \n",
       "1        Positive  \n",
       "2         Neutral  \n",
       "3        Negative  \n",
       "4         Neutral  "
      ]
     },
     "execution_count": 74,
     "metadata": {},
     "output_type": "execute_result"
    }
   ],
   "source": [
    "data.head()"
   ]
  },
  {
   "cell_type": "code",
   "execution_count": 18,
   "id": "1f9adbfa",
   "metadata": {
    "scrolled": true
   },
   "outputs": [
    {
     "data": {
      "text/html": [
       "<div>\n",
       "<style scoped>\n",
       "    .dataframe tbody tr th:only-of-type {\n",
       "        vertical-align: middle;\n",
       "    }\n",
       "\n",
       "    .dataframe tbody tr th {\n",
       "        vertical-align: top;\n",
       "    }\n",
       "\n",
       "    .dataframe thead th {\n",
       "        text-align: right;\n",
       "    }\n",
       "</style>\n",
       "<table border=\"1\" class=\"dataframe\">\n",
       "  <thead>\n",
       "    <tr style=\"text-align: right;\">\n",
       "      <th></th>\n",
       "      <th>Tweet_ID</th>\n",
       "      <th>date</th>\n",
       "      <th>Twitter_User</th>\n",
       "      <th>tweet_text</th>\n",
       "      <th>tweet_mod</th>\n",
       "      <th>sentiment</th>\n",
       "    </tr>\n",
       "  </thead>\n",
       "  <tbody>\n",
       "    <tr>\n",
       "      <th>1599994</th>\n",
       "      <td>2193601966</td>\n",
       "      <td>Tue Jun 16 08:40:49 PDT 2009</td>\n",
       "      <td>AmandaMarie1028</td>\n",
       "      <td>Just woke up. Having no school is the best fee...</td>\n",
       "      <td>just woke up having no school is the best feel...</td>\n",
       "      <td>1.0000</td>\n",
       "    </tr>\n",
       "    <tr>\n",
       "      <th>1599995</th>\n",
       "      <td>2193601969</td>\n",
       "      <td>Tue Jun 16 08:40:49 PDT 2009</td>\n",
       "      <td>TheWDBoards</td>\n",
       "      <td>TheWDB.com - Very cool to hear old Walt interv...</td>\n",
       "      <td>thewdbcom  very cool to hear old walt intervie...</td>\n",
       "      <td>0.2775</td>\n",
       "    </tr>\n",
       "    <tr>\n",
       "      <th>1599996</th>\n",
       "      <td>2193601991</td>\n",
       "      <td>Tue Jun 16 08:40:49 PDT 2009</td>\n",
       "      <td>bpbabe</td>\n",
       "      <td>Are you ready for your MoJo Makeover? Ask me f...</td>\n",
       "      <td>are you ready for your mojo makeover ask me fo...</td>\n",
       "      <td>0.2000</td>\n",
       "    </tr>\n",
       "    <tr>\n",
       "      <th>1599997</th>\n",
       "      <td>2193602064</td>\n",
       "      <td>Tue Jun 16 08:40:49 PDT 2009</td>\n",
       "      <td>tinydiamondz</td>\n",
       "      <td>Happy 38th Birthday to my boo of alll time!!! ...</td>\n",
       "      <td>happy 38th birthday to my boo of alll time tup...</td>\n",
       "      <td>0.8000</td>\n",
       "    </tr>\n",
       "    <tr>\n",
       "      <th>1599998</th>\n",
       "      <td>2193602129</td>\n",
       "      <td>Tue Jun 16 08:40:50 PDT 2009</td>\n",
       "      <td>RyanTrevMorris</td>\n",
       "      <td>happy #charitytuesday @theNSPCC @SparksCharity...</td>\n",
       "      <td>happy charitytuesday thenspcc sparkscharity sp...</td>\n",
       "      <td>0.8000</td>\n",
       "    </tr>\n",
       "  </tbody>\n",
       "</table>\n",
       "</div>"
      ],
      "text/plain": [
       "           Tweet_ID                          date     Twitter_User  \\\n",
       "1599994  2193601966  Tue Jun 16 08:40:49 PDT 2009  AmandaMarie1028   \n",
       "1599995  2193601969  Tue Jun 16 08:40:49 PDT 2009      TheWDBoards   \n",
       "1599996  2193601991  Tue Jun 16 08:40:49 PDT 2009           bpbabe   \n",
       "1599997  2193602064  Tue Jun 16 08:40:49 PDT 2009     tinydiamondz   \n",
       "1599998  2193602129  Tue Jun 16 08:40:50 PDT 2009   RyanTrevMorris   \n",
       "\n",
       "                                                tweet_text  \\\n",
       "1599994  Just woke up. Having no school is the best fee...   \n",
       "1599995  TheWDB.com - Very cool to hear old Walt interv...   \n",
       "1599996  Are you ready for your MoJo Makeover? Ask me f...   \n",
       "1599997  Happy 38th Birthday to my boo of alll time!!! ...   \n",
       "1599998  happy #charitytuesday @theNSPCC @SparksCharity...   \n",
       "\n",
       "                                                 tweet_mod  sentiment  \n",
       "1599994  just woke up having no school is the best feel...     1.0000  \n",
       "1599995  thewdbcom  very cool to hear old walt intervie...     0.2775  \n",
       "1599996  are you ready for your mojo makeover ask me fo...     0.2000  \n",
       "1599997  happy 38th birthday to my boo of alll time tup...     0.8000  \n",
       "1599998  happy charitytuesday thenspcc sparkscharity sp...     0.8000  "
      ]
     },
     "execution_count": 18,
     "metadata": {},
     "output_type": "execute_result"
    }
   ],
   "source": [
    "data.tail()"
   ]
  },
  {
   "cell_type": "markdown",
   "id": "259bf701",
   "metadata": {},
   "source": [
    "**Plot the Sentiment_score visualization graph**"
   ]
  },
  {
   "cell_type": "code",
   "execution_count": 76,
   "id": "81db220b",
   "metadata": {
    "scrolled": false
   },
   "outputs": [
    {
     "data": {
      "text/plain": [
       "<Axes: xlabel='sentiment_score', ylabel='count'>"
      ]
     },
     "execution_count": 76,
     "metadata": {},
     "output_type": "execute_result"
    },
    {
     "data": {
      "image/png": "[encoded data removed]",
      "text/plain": [
       "<Figure size 640x480 with 1 Axes>"
      ]
     },
     "metadata": {},
     "output_type": "display_data"
    }
   ],
   "source": [
    "sns.set_style('whitegrid')\n",
    "sns.countplot(x='sentiment_score',data=data, palette='summer')"
   ]
  },
  {
   "cell_type": "markdown",
   "id": "9e9ebb38",
   "metadata": {},
   "source": [
    "**Data Preprocessing**"
   ]
  },
  {
   "cell_type": "code",
   "execution_count": 77,
   "id": "c008221f",
   "metadata": {},
   "outputs": [],
   "source": [
    "data_Positive = data[data['sentiment_score'] == 'Positive'][0:8000] \n",
    "data_Neutral = data[data['sentiment_score'] == 'Neutral']\n",
    "data_Negative = data[data['sentiment_score'] == 'Negative']"
   ]
  },
  {
   "cell_type": "markdown",
   "id": "026209d0",
   "metadata": {},
   "source": [
    "**Sample negative and neutral polarity dataset and create final dataframe**"
   ]
  },
  {
   "cell_type": "code",
   "execution_count": 78,
   "id": "ce0dabda",
   "metadata": {},
   "outputs": [],
   "source": [
    "data_Neutral_final = data_Neutral.sample(8000, replace=True)\n",
    "data_Negative_final = data_Negative.sample(8000, replace=True)\n",
    "data_sample = pd.concat([data_Positive, data_Neutral_final, data_Negative_final], axis=0)"
   ]
  },
  {
   "cell_type": "code",
   "execution_count": 79,
   "id": "d8f13e18",
   "metadata": {},
   "outputs": [
    {
     "data": {
      "text/html": [
       "<div>\n",
       "<style scoped>\n",
       "    .dataframe tbody tr th:only-of-type {\n",
       "        vertical-align: middle;\n",
       "    }\n",
       "\n",
       "    .dataframe tbody tr th {\n",
       "        vertical-align: top;\n",
       "    }\n",
       "\n",
       "    .dataframe thead th {\n",
       "        text-align: right;\n",
       "    }\n",
       "</style>\n",
       "<table border=\"1\" class=\"dataframe\">\n",
       "  <thead>\n",
       "    <tr style=\"text-align: right;\">\n",
       "      <th></th>\n",
       "      <th>Tweet_ID</th>\n",
       "      <th>date</th>\n",
       "      <th>Twitter_User</th>\n",
       "      <th>tweet_text</th>\n",
       "      <th>tweet_mod</th>\n",
       "      <th>sentiment</th>\n",
       "      <th>sentiment_score</th>\n",
       "    </tr>\n",
       "  </thead>\n",
       "  <tbody>\n",
       "    <tr>\n",
       "      <th>1</th>\n",
       "      <td>1467810917</td>\n",
       "      <td>Mon Apr 06 22:19:53 PDT 2009</td>\n",
       "      <td>mattycus</td>\n",
       "      <td>@Kenichan I dived many times for the ball. Man...</td>\n",
       "      <td>kenichan i dived many times for the ball manag...</td>\n",
       "      <td>0.500000</td>\n",
       "      <td>Positive</td>\n",
       "    </tr>\n",
       "    <tr>\n",
       "      <th>6</th>\n",
       "      <td>1467811594</td>\n",
       "      <td>Mon Apr 06 22:20:03 PDT 2009</td>\n",
       "      <td>coZZ</td>\n",
       "      <td>@LOLTrish hey  long time no see! Yes.. Rains a...</td>\n",
       "      <td>loltrish hey long time no see yes rains a bit ...</td>\n",
       "      <td>0.273333</td>\n",
       "      <td>Positive</td>\n",
       "    </tr>\n",
       "    <tr>\n",
       "      <th>17</th>\n",
       "      <td>1467813579</td>\n",
       "      <td>Mon Apr 06 22:20:31 PDT 2009</td>\n",
       "      <td>starkissed</td>\n",
       "      <td>@LettyA ahh ive always wanted to see rent  lov...</td>\n",
       "      <td>lettya ahh ive always wanted to see rent love ...</td>\n",
       "      <td>0.500000</td>\n",
       "      <td>Positive</td>\n",
       "    </tr>\n",
       "    <tr>\n",
       "      <th>19</th>\n",
       "      <td>1467813985</td>\n",
       "      <td>Mon Apr 06 22:20:37 PDT 2009</td>\n",
       "      <td>quanvu</td>\n",
       "      <td>@alydesigns i was out most of the day so didn'...</td>\n",
       "      <td>alydesigns i was out most of the day so didnt ...</td>\n",
       "      <td>0.350000</td>\n",
       "      <td>Positive</td>\n",
       "    </tr>\n",
       "    <tr>\n",
       "      <th>27</th>\n",
       "      <td>1467815199</td>\n",
       "      <td>Mon Apr 06 22:20:56 PDT 2009</td>\n",
       "      <td>abel209</td>\n",
       "      <td>ooooh.... LOL  that leslie.... and ok I won't ...</td>\n",
       "      <td>ooooh lol that leslie and ok i wont do it agai...</td>\n",
       "      <td>0.225000</td>\n",
       "      <td>Positive</td>\n",
       "    </tr>\n",
       "  </tbody>\n",
       "</table>\n",
       "</div>"
      ],
      "text/plain": [
       "      Tweet_ID                          date Twitter_User  \\\n",
       "1   1467810917  Mon Apr 06 22:19:53 PDT 2009     mattycus   \n",
       "6   1467811594  Mon Apr 06 22:20:03 PDT 2009         coZZ   \n",
       "17  1467813579  Mon Apr 06 22:20:31 PDT 2009   starkissed   \n",
       "19  1467813985  Mon Apr 06 22:20:37 PDT 2009       quanvu   \n",
       "27  1467815199  Mon Apr 06 22:20:56 PDT 2009      abel209   \n",
       "\n",
       "                                           tweet_text  \\\n",
       "1   @Kenichan I dived many times for the ball. Man...   \n",
       "6   @LOLTrish hey  long time no see! Yes.. Rains a...   \n",
       "17  @LettyA ahh ive always wanted to see rent  lov...   \n",
       "19  @alydesigns i was out most of the day so didn'...   \n",
       "27  ooooh.... LOL  that leslie.... and ok I won't ...   \n",
       "\n",
       "                                            tweet_mod  sentiment  \\\n",
       "1   kenichan i dived many times for the ball manag...   0.500000   \n",
       "6   loltrish hey long time no see yes rains a bit ...   0.273333   \n",
       "17  lettya ahh ive always wanted to see rent love ...   0.500000   \n",
       "19  alydesigns i was out most of the day so didnt ...   0.350000   \n",
       "27  ooooh lol that leslie and ok i wont do it agai...   0.225000   \n",
       "\n",
       "   sentiment_score  \n",
       "1         Positive  \n",
       "6         Positive  \n",
       "17        Positive  \n",
       "19        Positive  \n",
       "27        Positive  "
      ]
     },
     "execution_count": 79,
     "metadata": {},
     "output_type": "execute_result"
    }
   ],
   "source": [
    "data_sample.head()"
   ]
  },
  {
   "cell_type": "code",
   "execution_count": 80,
   "id": "2ce11b21",
   "metadata": {},
   "outputs": [
    {
     "data": {
      "text/plain": [
       "(24000, 7)"
      ]
     },
     "execution_count": 80,
     "metadata": {},
     "output_type": "execute_result"
    }
   ],
   "source": [
    "data_sample.shape"
   ]
  },
  {
   "cell_type": "markdown",
   "id": "bab8e43c",
   "metadata": {},
   "source": [
    "**Text Preprocessing**"
   ]
  },
  {
   "cell_type": "code",
   "execution_count": 81,
   "id": "304a3da1",
   "metadata": {},
   "outputs": [],
   "source": [
    "def get_text_processing(text):\n",
    "    stpword = stopwords.words('english')\n",
    "    no_punctuation = [char for char in text if char not in string.punctuation]\n",
    "    no_punctuation = ''.join(no_punctuation)\n",
    "    return ' '.join([word for word in no_punctuation.split() if word.lower() not in stpword])"
   ]
  },
  {
   "cell_type": "markdown",
   "id": "086acca7",
   "metadata": {},
   "source": [
    "**Apply the method \"get_text_processing\" into column review text**"
   ]
  },
  {
   "cell_type": "code",
   "execution_count": 82,
   "id": "2600dbdc",
   "metadata": {
    "scrolled": true
   },
   "outputs": [
    {
     "data": {
      "text/html": [
       "<div>\n",
       "<style scoped>\n",
       "    .dataframe tbody tr th:only-of-type {\n",
       "        vertical-align: middle;\n",
       "    }\n",
       "\n",
       "    .dataframe tbody tr th {\n",
       "        vertical-align: top;\n",
       "    }\n",
       "\n",
       "    .dataframe thead th {\n",
       "        text-align: right;\n",
       "    }\n",
       "</style>\n",
       "<table border=\"1\" class=\"dataframe\">\n",
       "  <thead>\n",
       "    <tr style=\"text-align: right;\">\n",
       "      <th></th>\n",
       "      <th>Tweet_ID</th>\n",
       "      <th>date</th>\n",
       "      <th>Twitter_User</th>\n",
       "      <th>tweet_text</th>\n",
       "      <th>tweet_mod</th>\n",
       "      <th>sentiment</th>\n",
       "      <th>sentiment_score</th>\n",
       "      <th>Project_tweets</th>\n",
       "    </tr>\n",
       "  </thead>\n",
       "  <tbody>\n",
       "    <tr>\n",
       "      <th>1</th>\n",
       "      <td>1467810917</td>\n",
       "      <td>Mon Apr 06 22:19:53 PDT 2009</td>\n",
       "      <td>mattycus</td>\n",
       "      <td>@Kenichan I dived many times for the ball. Man...</td>\n",
       "      <td>kenichan i dived many times for the ball manag...</td>\n",
       "      <td>0.500000</td>\n",
       "      <td>Positive</td>\n",
       "      <td>kenichan dived many times ball managed save 50...</td>\n",
       "    </tr>\n",
       "    <tr>\n",
       "      <th>6</th>\n",
       "      <td>1467811594</td>\n",
       "      <td>Mon Apr 06 22:20:03 PDT 2009</td>\n",
       "      <td>coZZ</td>\n",
       "      <td>@LOLTrish hey  long time no see! Yes.. Rains a...</td>\n",
       "      <td>loltrish hey long time no see yes rains a bit ...</td>\n",
       "      <td>0.273333</td>\n",
       "      <td>Positive</td>\n",
       "      <td>loltrish hey long time see yes rains bit bit l...</td>\n",
       "    </tr>\n",
       "    <tr>\n",
       "      <th>17</th>\n",
       "      <td>1467813579</td>\n",
       "      <td>Mon Apr 06 22:20:31 PDT 2009</td>\n",
       "      <td>starkissed</td>\n",
       "      <td>@LettyA ahh ive always wanted to see rent  lov...</td>\n",
       "      <td>lettya ahh ive always wanted to see rent love ...</td>\n",
       "      <td>0.500000</td>\n",
       "      <td>Positive</td>\n",
       "      <td>lettya ahh ive always wanted see rent love sou...</td>\n",
       "    </tr>\n",
       "    <tr>\n",
       "      <th>19</th>\n",
       "      <td>1467813985</td>\n",
       "      <td>Mon Apr 06 22:20:37 PDT 2009</td>\n",
       "      <td>quanvu</td>\n",
       "      <td>@alydesigns i was out most of the day so didn'...</td>\n",
       "      <td>alydesigns i was out most of the day so didnt ...</td>\n",
       "      <td>0.350000</td>\n",
       "      <td>Positive</td>\n",
       "      <td>alydesigns day didnt get much done</td>\n",
       "    </tr>\n",
       "    <tr>\n",
       "      <th>27</th>\n",
       "      <td>1467815199</td>\n",
       "      <td>Mon Apr 06 22:20:56 PDT 2009</td>\n",
       "      <td>abel209</td>\n",
       "      <td>ooooh.... LOL  that leslie.... and ok I won't ...</td>\n",
       "      <td>ooooh lol that leslie and ok i wont do it agai...</td>\n",
       "      <td>0.225000</td>\n",
       "      <td>Positive</td>\n",
       "      <td>ooooh lol leslie ok wont leslie wont get mad</td>\n",
       "    </tr>\n",
       "  </tbody>\n",
       "</table>\n",
       "</div>"
      ],
      "text/plain": [
       "      Tweet_ID                          date Twitter_User  \\\n",
       "1   1467810917  Mon Apr 06 22:19:53 PDT 2009     mattycus   \n",
       "6   1467811594  Mon Apr 06 22:20:03 PDT 2009         coZZ   \n",
       "17  1467813579  Mon Apr 06 22:20:31 PDT 2009   starkissed   \n",
       "19  1467813985  Mon Apr 06 22:20:37 PDT 2009       quanvu   \n",
       "27  1467815199  Mon Apr 06 22:20:56 PDT 2009      abel209   \n",
       "\n",
       "                                           tweet_text  \\\n",
       "1   @Kenichan I dived many times for the ball. Man...   \n",
       "6   @LOLTrish hey  long time no see! Yes.. Rains a...   \n",
       "17  @LettyA ahh ive always wanted to see rent  lov...   \n",
       "19  @alydesigns i was out most of the day so didn'...   \n",
       "27  ooooh.... LOL  that leslie.... and ok I won't ...   \n",
       "\n",
       "                                            tweet_mod  sentiment  \\\n",
       "1   kenichan i dived many times for the ball manag...   0.500000   \n",
       "6   loltrish hey long time no see yes rains a bit ...   0.273333   \n",
       "17  lettya ahh ive always wanted to see rent love ...   0.500000   \n",
       "19  alydesigns i was out most of the day so didnt ...   0.350000   \n",
       "27  ooooh lol that leslie and ok i wont do it agai...   0.225000   \n",
       "\n",
       "   sentiment_score                                     Project_tweets  \n",
       "1         Positive  kenichan dived many times ball managed save 50...  \n",
       "6         Positive  loltrish hey long time see yes rains bit bit l...  \n",
       "17        Positive  lettya ahh ive always wanted see rent love sou...  \n",
       "19        Positive                 alydesigns day didnt get much done  \n",
       "27        Positive       ooooh lol leslie ok wont leslie wont get mad  "
      ]
     },
     "execution_count": 82,
     "metadata": {},
     "output_type": "execute_result"
    }
   ],
   "source": [
    "data_sample['Project_tweets'] = data_sample['tweet_mod'].apply(get_text_processing)\n",
    "data_sample.head()"
   ]
  },
  {
   "cell_type": "markdown",
   "id": "5e56799f",
   "metadata": {},
   "source": [
    "**Visualize Project tweets with sentiment score**"
   ]
  },
  {
   "cell_type": "code",
   "execution_count": 83,
   "id": "c6d7785e",
   "metadata": {
    "scrolled": true
   },
   "outputs": [
    {
     "data": {
      "text/html": [
       "<div>\n",
       "<style scoped>\n",
       "    .dataframe tbody tr th:only-of-type {\n",
       "        vertical-align: middle;\n",
       "    }\n",
       "\n",
       "    .dataframe tbody tr th {\n",
       "        vertical-align: top;\n",
       "    }\n",
       "\n",
       "    .dataframe thead th {\n",
       "        text-align: right;\n",
       "    }\n",
       "</style>\n",
       "<table border=\"1\" class=\"dataframe\">\n",
       "  <thead>\n",
       "    <tr style=\"text-align: right;\">\n",
       "      <th></th>\n",
       "      <th>Project_tweets</th>\n",
       "      <th>sentiment_score</th>\n",
       "    </tr>\n",
       "  </thead>\n",
       "  <tbody>\n",
       "    <tr>\n",
       "      <th>1</th>\n",
       "      <td>kenichan dived many times ball managed save 50...</td>\n",
       "      <td>Positive</td>\n",
       "    </tr>\n",
       "    <tr>\n",
       "      <th>6</th>\n",
       "      <td>loltrish hey long time see yes rains bit bit l...</td>\n",
       "      <td>Positive</td>\n",
       "    </tr>\n",
       "    <tr>\n",
       "      <th>17</th>\n",
       "      <td>lettya ahh ive always wanted see rent love sou...</td>\n",
       "      <td>Positive</td>\n",
       "    </tr>\n",
       "    <tr>\n",
       "      <th>19</th>\n",
       "      <td>alydesigns day didnt get much done</td>\n",
       "      <td>Positive</td>\n",
       "    </tr>\n",
       "    <tr>\n",
       "      <th>27</th>\n",
       "      <td>ooooh lol leslie ok wont leslie wont get mad</td>\n",
       "      <td>Positive</td>\n",
       "    </tr>\n",
       "  </tbody>\n",
       "</table>\n",
       "</div>"
      ],
      "text/plain": [
       "                                       Project_tweets sentiment_score\n",
       "1   kenichan dived many times ball managed save 50...        Positive\n",
       "6   loltrish hey long time see yes rains bit bit l...        Positive\n",
       "17  lettya ahh ive always wanted see rent love sou...        Positive\n",
       "19                 alydesigns day didnt get much done        Positive\n",
       "27       ooooh lol leslie ok wont leslie wont get mad        Positive"
      ]
     },
     "execution_count": 83,
     "metadata": {},
     "output_type": "execute_result"
    }
   ],
   "source": [
    "data_new = data_sample[['Project_tweets', 'sentiment_score']]\n",
    "data_new.head()"
   ]
  },
  {
   "cell_type": "markdown",
   "id": "029cb185",
   "metadata": {},
   "source": [
    "**Apply One hot encoding on negative, neutral, and positive**"
   ]
  },
  {
   "cell_type": "code",
   "execution_count": 84,
   "id": "a3af017a",
   "metadata": {
    "scrolled": true
   },
   "outputs": [
    {
     "data": {
      "text/html": [
       "<div>\n",
       "<style scoped>\n",
       "    .dataframe tbody tr th:only-of-type {\n",
       "        vertical-align: middle;\n",
       "    }\n",
       "\n",
       "    .dataframe tbody tr th {\n",
       "        vertical-align: top;\n",
       "    }\n",
       "\n",
       "    .dataframe thead th {\n",
       "        text-align: right;\n",
       "    }\n",
       "</style>\n",
       "<table border=\"1\" class=\"dataframe\">\n",
       "  <thead>\n",
       "    <tr style=\"text-align: right;\">\n",
       "      <th></th>\n",
       "      <th>Project_tweets</th>\n",
       "      <th>Negative</th>\n",
       "      <th>Neutral</th>\n",
       "      <th>Positive</th>\n",
       "    </tr>\n",
       "  </thead>\n",
       "  <tbody>\n",
       "    <tr>\n",
       "      <th>1</th>\n",
       "      <td>kenichan dived many times ball managed save 50...</td>\n",
       "      <td>0</td>\n",
       "      <td>0</td>\n",
       "      <td>1</td>\n",
       "    </tr>\n",
       "    <tr>\n",
       "      <th>6</th>\n",
       "      <td>loltrish hey long time see yes rains bit bit l...</td>\n",
       "      <td>0</td>\n",
       "      <td>0</td>\n",
       "      <td>1</td>\n",
       "    </tr>\n",
       "    <tr>\n",
       "      <th>17</th>\n",
       "      <td>lettya ahh ive always wanted see rent love sou...</td>\n",
       "      <td>0</td>\n",
       "      <td>0</td>\n",
       "      <td>1</td>\n",
       "    </tr>\n",
       "    <tr>\n",
       "      <th>19</th>\n",
       "      <td>alydesigns day didnt get much done</td>\n",
       "      <td>0</td>\n",
       "      <td>0</td>\n",
       "      <td>1</td>\n",
       "    </tr>\n",
       "    <tr>\n",
       "      <th>27</th>\n",
       "      <td>ooooh lol leslie ok wont leslie wont get mad</td>\n",
       "      <td>0</td>\n",
       "      <td>0</td>\n",
       "      <td>1</td>\n",
       "    </tr>\n",
       "  </tbody>\n",
       "</table>\n",
       "</div>"
      ],
      "text/plain": [
       "                                       Project_tweets  Negative  Neutral  \\\n",
       "1   kenichan dived many times ball managed save 50...         0        0   \n",
       "6   loltrish hey long time see yes rains bit bit l...         0        0   \n",
       "17  lettya ahh ive always wanted see rent love sou...         0        0   \n",
       "19                 alydesigns day didnt get much done         0        0   \n",
       "27       ooooh lol leslie ok wont leslie wont get mad         0        0   \n",
       "\n",
       "    Positive  \n",
       "1          1  \n",
       "6          1  \n",
       "17         1  \n",
       "19         1  \n",
       "27         1  "
      ]
     },
     "execution_count": 84,
     "metadata": {},
     "output_type": "execute_result"
    }
   ],
   "source": [
    "one_hot = pd.get_dummies(data_sample[\"sentiment_score\"])\n",
    "data_new.drop(['sentiment_score'],axis=1,inplace=True)\n",
    "data_score = pd.concat([data_new,one_hot],axis=1)\n",
    "data_score.head()"
   ]
  },
  {
   "cell_type": "markdown",
   "id": "c90a6dee",
   "metadata": {},
   "source": [
    "**Apply Train Test Split**"
   ]
  },
  {
   "cell_type": "code",
   "execution_count": 85,
   "id": "f0bcbfa2",
   "metadata": {},
   "outputs": [],
   "source": [
    "X = data_score['Project_tweets'].values\n",
    "y = data_score.drop('Project_tweets', axis=1).values\n",
    "X_train, X_test, y_train, y_test = train_test_split(X, y, test_size=0.30, random_state=42)"
   ]
  },
  {
   "cell_type": "code",
   "execution_count": 86,
   "id": "410d5c06",
   "metadata": {
    "scrolled": true
   },
   "outputs": [
    {
     "data": {
      "text/plain": [
       "array(['kenichan dived many times ball managed save 50 rest go bounds',\n",
       "       'loltrish hey long time see yes rains bit bit lol im fine thanks hows',\n",
       "       'lettya ahh ive always wanted see rent love soundtrack', ...,\n",
       "       'kezzawezz want 2 dinna hink itll get shown elgin n got nae1 2 go withn',\n",
       "       'shoutout boys jalapeno assiting class today jyr8 holding kids thats',\n",
       "       'aaronwall rustybrick got hit wonder next httpbitlyabn5u'],\n",
       "      dtype=object)"
      ]
     },
     "execution_count": 86,
     "metadata": {},
     "output_type": "execute_result"
    }
   ],
   "source": [
    "X"
   ]
  },
  {
   "cell_type": "code",
   "execution_count": 87,
   "id": "d8386d4f",
   "metadata": {},
   "outputs": [],
   "source": [
    "#y"
   ]
  },
  {
   "cell_type": "markdown",
   "id": "0f1d4653",
   "metadata": {},
   "source": [
    "**Apply vectorization**"
   ]
  },
  {
   "cell_type": "code",
   "execution_count": 88,
   "id": "7cecb2de",
   "metadata": {},
   "outputs": [],
   "source": [
    "vect = CountVectorizer()\n",
    "X_train = vect.fit_transform(X_train)\n",
    "X_test = vect.transform(X_test)"
   ]
  },
  {
   "cell_type": "markdown",
   "id": "0e9eb8c3",
   "metadata": {},
   "source": [
    "**Apply frequency, inverse document frequency:**"
   ]
  },
  {
   "cell_type": "code",
   "execution_count": 89,
   "id": "3c60d40d",
   "metadata": {},
   "outputs": [],
   "source": [
    "tfidf = TfidfTransformer()\n",
    "X_train = tfidf.fit_transform(X_train)\n",
    "X_test = tfidf.transform(X_test)\n",
    "X_train = X_train.toarray()\n",
    "X_test = X_test.toarray()"
   ]
  },
  {
   "cell_type": "markdown",
   "id": "55970741",
   "metadata": {},
   "source": [
    "**Build Neural Network model by adding different layers**"
   ]
  },
  {
   "cell_type": "code",
   "execution_count": 90,
   "id": "ced603b6",
   "metadata": {},
   "outputs": [],
   "source": [
    "model = Sequential()\n",
    "\n",
    "model.add(Dense(units=1000,activation='relu'))\n",
    "model.add(Dropout(0.5))\n",
    "\n",
    "model.add(Dense(units=4000,activation='relu'))\n",
    "model.add(Dropout(0.5))\n",
    "\n",
    "model.add(Dense(units=500,activation='relu'))\n",
    "model.add(Dropout(0.5))\n",
    "\n",
    "model.add(Dense(units=3, activation='softmax'))\n",
    "\n",
    "opt=tf.keras.optimizers.Adam(learning_rate=0.001)\n",
    "model.compile(loss='categorical_crossentropy', optimizer=opt, metrics=['accuracy'])\n",
    "\n",
    "early_stop = EarlyStopping(monitor='val_loss', mode='min', verbose=1, patience=2)"
   ]
  },
  {
   "cell_type": "markdown",
   "id": "88ad8d96",
   "metadata": {},
   "source": [
    "**Fit the Model**"
   ]
  },
  {
   "cell_type": "code",
   "execution_count": 91,
   "id": "50920a16",
   "metadata": {},
   "outputs": [
    {
     "name": "stdout",
     "output_type": "stream",
     "text": [
      "Epoch 3: early stopping\n"
     ]
    },
    {
     "data": {
      "text/plain": [
       "<keras.src.callbacks.History at 0x1b28eecb6d0>"
      ]
     },
     "execution_count": 91,
     "metadata": {},
     "output_type": "execute_result"
    }
   ],
   "source": [
    "model.fit(x=X_train, y=y_train, batch_size=256, epochs=100, validation_data=(X_test, y_test), verbose=0, callbacks=early_stop)"
   ]
  },
  {
   "cell_type": "markdown",
   "id": "decd977a",
   "metadata": {},
   "source": [
    "**Evaluation of Model**"
   ]
  },
  {
   "cell_type": "code",
   "execution_count": 92,
   "id": "faa70a5a",
   "metadata": {},
   "outputs": [
    {
     "name": "stdout",
     "output_type": "stream",
     "text": [
      "Test accuracy: 0.8109722137451172\n"
     ]
    }
   ],
   "source": [
    "model_score = model.evaluate(X_test, y_test, batch_size=64, verbose=0)\n",
    "print('Test accuracy:', model_score[1])"
   ]
  },
  {
   "cell_type": "markdown",
   "id": "0ca3afee",
   "metadata": {},
   "source": [
    "**Prediction**"
   ]
  },
  {
   "cell_type": "code",
   "execution_count": 93,
   "id": "118bad38",
   "metadata": {},
   "outputs": [
    {
     "name": "stdout",
     "output_type": "stream",
     "text": [
      "225/225 [==============================] - 6s 26ms/step\n"
     ]
    },
    {
     "data": {
      "text/plain": [
       "array([[0.5165794 , 0.01167173, 0.47174883],\n",
       "       [0.9667382 , 0.01776323, 0.01549853],\n",
       "       [0.8904234 , 0.01111596, 0.0984605 ],\n",
       "       ...,\n",
       "       [0.97600096, 0.0089475 , 0.01505157],\n",
       "       [0.00944598, 0.01810429, 0.9724497 ],\n",
       "       [0.00952599, 0.00293891, 0.9875351 ]], dtype=float32)"
      ]
     },
     "execution_count": 93,
     "metadata": {},
     "output_type": "execute_result"
    }
   ],
   "source": [
    "preds = model.predict(X_test)\n",
    "preds"
   ]
  },
  {
   "cell_type": "markdown",
   "id": "3f9b42d3",
   "metadata": {},
   "source": [
    "## **Times Series section**"
   ]
  },
  {
   "cell_type": "code",
   "execution_count": 18,
   "id": "ca151884",
   "metadata": {},
   "outputs": [
    {
     "data": {
      "text/html": [
       "<div>\n",
       "<style scoped>\n",
       "    .dataframe tbody tr th:only-of-type {\n",
       "        vertical-align: middle;\n",
       "    }\n",
       "\n",
       "    .dataframe tbody tr th {\n",
       "        vertical-align: top;\n",
       "    }\n",
       "\n",
       "    .dataframe thead th {\n",
       "        text-align: right;\n",
       "    }\n",
       "</style>\n",
       "<table border=\"1\" class=\"dataframe\">\n",
       "  <thead>\n",
       "    <tr style=\"text-align: right;\">\n",
       "      <th></th>\n",
       "      <th>Tweet_ID</th>\n",
       "      <th>date</th>\n",
       "      <th>Twitter_User</th>\n",
       "      <th>tweet_text</th>\n",
       "      <th>tweet_mod</th>\n",
       "      <th>sentiment</th>\n",
       "    </tr>\n",
       "  </thead>\n",
       "  <tbody>\n",
       "    <tr>\n",
       "      <th>0</th>\n",
       "      <td>1467810672</td>\n",
       "      <td>Mon Apr 06 22:19:49 PDT 2009</td>\n",
       "      <td>scotthamilton</td>\n",
       "      <td>is upset that he can't update his Facebook by ...</td>\n",
       "      <td>is upset that he cant update his facebook by t...</td>\n",
       "      <td>0.000</td>\n",
       "    </tr>\n",
       "    <tr>\n",
       "      <th>1</th>\n",
       "      <td>1467810917</td>\n",
       "      <td>Mon Apr 06 22:19:53 PDT 2009</td>\n",
       "      <td>mattycus</td>\n",
       "      <td>@Kenichan I dived many times for the ball. Man...</td>\n",
       "      <td>kenichan i dived many times for the ball manag...</td>\n",
       "      <td>0.500</td>\n",
       "    </tr>\n",
       "    <tr>\n",
       "      <th>2</th>\n",
       "      <td>1467811184</td>\n",
       "      <td>Mon Apr 06 22:19:57 PDT 2009</td>\n",
       "      <td>ElleCTF</td>\n",
       "      <td>my whole body feels itchy and like its on fire</td>\n",
       "      <td>my whole body feels itchy and like its on fire</td>\n",
       "      <td>0.200</td>\n",
       "    </tr>\n",
       "    <tr>\n",
       "      <th>3</th>\n",
       "      <td>1467811193</td>\n",
       "      <td>Mon Apr 06 22:19:57 PDT 2009</td>\n",
       "      <td>Karoli</td>\n",
       "      <td>@nationwideclass no, it's not behaving at all....</td>\n",
       "      <td>nationwideclass no its not behaving at all im ...</td>\n",
       "      <td>-0.625</td>\n",
       "    </tr>\n",
       "    <tr>\n",
       "      <th>4</th>\n",
       "      <td>1467811372</td>\n",
       "      <td>Mon Apr 06 22:20:00 PDT 2009</td>\n",
       "      <td>joy_wolf</td>\n",
       "      <td>@Kwesidei not the whole crew</td>\n",
       "      <td>kwesidei not the whole crew</td>\n",
       "      <td>0.200</td>\n",
       "    </tr>\n",
       "  </tbody>\n",
       "</table>\n",
       "</div>"
      ],
      "text/plain": [
       "     Tweet_ID                          date   Twitter_User  \\\n",
       "0  1467810672  Mon Apr 06 22:19:49 PDT 2009  scotthamilton   \n",
       "1  1467810917  Mon Apr 06 22:19:53 PDT 2009       mattycus   \n",
       "2  1467811184  Mon Apr 06 22:19:57 PDT 2009        ElleCTF   \n",
       "3  1467811193  Mon Apr 06 22:19:57 PDT 2009         Karoli   \n",
       "4  1467811372  Mon Apr 06 22:20:00 PDT 2009       joy_wolf   \n",
       "\n",
       "                                          tweet_text  \\\n",
       "0  is upset that he can't update his Facebook by ...   \n",
       "1  @Kenichan I dived many times for the ball. Man...   \n",
       "2    my whole body feels itchy and like its on fire    \n",
       "3  @nationwideclass no, it's not behaving at all....   \n",
       "4                      @Kwesidei not the whole crew    \n",
       "\n",
       "                                           tweet_mod  sentiment  \n",
       "0  is upset that he cant update his facebook by t...      0.000  \n",
       "1  kenichan i dived many times for the ball manag...      0.500  \n",
       "2     my whole body feels itchy and like its on fire      0.200  \n",
       "3  nationwideclass no its not behaving at all im ...     -0.625  \n",
       "4                        kwesidei not the whole crew      0.200  "
      ]
     },
     "execution_count": 18,
     "metadata": {},
     "output_type": "execute_result"
    }
   ],
   "source": [
    "#checking data head to start the time series analysis\n",
    "data.head()"
   ]
  },
  {
   "cell_type": "code",
   "execution_count": 19,
   "id": "a7133238",
   "metadata": {},
   "outputs": [
    {
     "data": {
      "text/plain": [
       "(1599999, 6)"
      ]
     },
     "execution_count": 19,
     "metadata": {},
     "output_type": "execute_result"
    }
   ],
   "source": [
    "#verify the shape of the data\n",
    "data.shape"
   ]
  },
  {
   "cell_type": "code",
   "execution_count": 20,
   "id": "91fbb7d1",
   "metadata": {},
   "outputs": [],
   "source": [
    "#data.info()"
   ]
  },
  {
   "cell_type": "code",
   "execution_count": 21,
   "id": "4aa79265",
   "metadata": {},
   "outputs": [
    {
     "name": "stdout",
     "output_type": "stream",
     "text": [
      "Number of rows with missing values: 0.0\n"
     ]
    }
   ],
   "source": [
    "#Checking null values\n",
    "print(f'Number of rows with missing values: {data.isnull().any(axis=1).mean()}')"
   ]
  },
  {
   "cell_type": "code",
   "execution_count": 22,
   "id": "8b5276b7",
   "metadata": {},
   "outputs": [
    {
     "data": {
      "text/plain": [
       "Tweet_ID        0\n",
       "date            0\n",
       "Twitter_User    0\n",
       "tweet_text      0\n",
       "tweet_mod       0\n",
       "sentiment       0\n",
       "dtype: int64"
      ]
     },
     "execution_count": 22,
     "metadata": {},
     "output_type": "execute_result"
    }
   ],
   "source": [
    "#We still have null values on my dataset\n",
    "data.isnull().sum()"
   ]
  },
  {
   "cell_type": "code",
   "execution_count": 23,
   "id": "a23a0569",
   "metadata": {},
   "outputs": [
    {
     "data": {
      "text/html": [
       "<div>\n",
       "<style scoped>\n",
       "    .dataframe tbody tr th:only-of-type {\n",
       "        vertical-align: middle;\n",
       "    }\n",
       "\n",
       "    .dataframe tbody tr th {\n",
       "        vertical-align: top;\n",
       "    }\n",
       "\n",
       "    .dataframe thead th {\n",
       "        text-align: right;\n",
       "    }\n",
       "</style>\n",
       "<table border=\"1\" class=\"dataframe\">\n",
       "  <thead>\n",
       "    <tr style=\"text-align: right;\">\n",
       "      <th></th>\n",
       "      <th>Tweet_ID</th>\n",
       "      <th>date</th>\n",
       "      <th>Twitter_User</th>\n",
       "      <th>tweet_text</th>\n",
       "      <th>tweet_mod</th>\n",
       "      <th>sentiment</th>\n",
       "    </tr>\n",
       "  </thead>\n",
       "  <tbody>\n",
       "    <tr>\n",
       "      <th>0</th>\n",
       "      <td>1467810672</td>\n",
       "      <td>2009-04-06 22:19:49</td>\n",
       "      <td>scotthamilton</td>\n",
       "      <td>is upset that he can't update his Facebook by ...</td>\n",
       "      <td>is upset that he cant update his facebook by t...</td>\n",
       "      <td>0.000</td>\n",
       "    </tr>\n",
       "    <tr>\n",
       "      <th>1</th>\n",
       "      <td>1467810917</td>\n",
       "      <td>2009-04-06 22:19:53</td>\n",
       "      <td>mattycus</td>\n",
       "      <td>@Kenichan I dived many times for the ball. Man...</td>\n",
       "      <td>kenichan i dived many times for the ball manag...</td>\n",
       "      <td>0.500</td>\n",
       "    </tr>\n",
       "    <tr>\n",
       "      <th>2</th>\n",
       "      <td>1467811184</td>\n",
       "      <td>2009-04-06 22:19:57</td>\n",
       "      <td>ElleCTF</td>\n",
       "      <td>my whole body feels itchy and like its on fire</td>\n",
       "      <td>my whole body feels itchy and like its on fire</td>\n",
       "      <td>0.200</td>\n",
       "    </tr>\n",
       "    <tr>\n",
       "      <th>3</th>\n",
       "      <td>1467811193</td>\n",
       "      <td>2009-04-06 22:19:57</td>\n",
       "      <td>Karoli</td>\n",
       "      <td>@nationwideclass no, it's not behaving at all....</td>\n",
       "      <td>nationwideclass no its not behaving at all im ...</td>\n",
       "      <td>-0.625</td>\n",
       "    </tr>\n",
       "    <tr>\n",
       "      <th>4</th>\n",
       "      <td>1467811372</td>\n",
       "      <td>2009-04-06 22:20:00</td>\n",
       "      <td>joy_wolf</td>\n",
       "      <td>@Kwesidei not the whole crew</td>\n",
       "      <td>kwesidei not the whole crew</td>\n",
       "      <td>0.200</td>\n",
       "    </tr>\n",
       "  </tbody>\n",
       "</table>\n",
       "</div>"
      ],
      "text/plain": [
       "     Tweet_ID                date   Twitter_User  \\\n",
       "0  1467810672 2009-04-06 22:19:49  scotthamilton   \n",
       "1  1467810917 2009-04-06 22:19:53       mattycus   \n",
       "2  1467811184 2009-04-06 22:19:57        ElleCTF   \n",
       "3  1467811193 2009-04-06 22:19:57         Karoli   \n",
       "4  1467811372 2009-04-06 22:20:00       joy_wolf   \n",
       "\n",
       "                                          tweet_text  \\\n",
       "0  is upset that he can't update his Facebook by ...   \n",
       "1  @Kenichan I dived many times for the ball. Man...   \n",
       "2    my whole body feels itchy and like its on fire    \n",
       "3  @nationwideclass no, it's not behaving at all....   \n",
       "4                      @Kwesidei not the whole crew    \n",
       "\n",
       "                                           tweet_mod  sentiment  \n",
       "0  is upset that he cant update his facebook by t...      0.000  \n",
       "1  kenichan i dived many times for the ball manag...      0.500  \n",
       "2     my whole body feels itchy and like its on fire      0.200  \n",
       "3  nationwideclass no its not behaving at all im ...     -0.625  \n",
       "4                        kwesidei not the whole crew      0.200  "
      ]
     },
     "execution_count": 23,
     "metadata": {},
     "output_type": "execute_result"
    }
   ],
   "source": [
    "data['date'] = data.date.astype('datetime64[ns]')\n",
    "#data = data.set_index('date')\n",
    "#data = data.sort_index()\n",
    "data.head()"
   ]
  },
  {
   "cell_type": "code",
   "execution_count": 24,
   "id": "3bd48f2e",
   "metadata": {},
   "outputs": [
    {
     "data": {
      "text/plain": [
       "Tweet_ID                 int64\n",
       "date            datetime64[ns]\n",
       "Twitter_User            object\n",
       "tweet_text              object\n",
       "tweet_mod               object\n",
       "sentiment              float64\n",
       "dtype: object"
      ]
     },
     "execution_count": 24,
     "metadata": {},
     "output_type": "execute_result"
    }
   ],
   "source": [
    "#Checking data types on this dataframe\n",
    "data.dtypes"
   ]
  },
  {
   "cell_type": "code",
   "execution_count": 25,
   "id": "ee45ed61",
   "metadata": {
    "scrolled": true
   },
   "outputs": [
    {
     "data": {
      "text/html": [
       "<div>\n",
       "<style scoped>\n",
       "    .dataframe tbody tr th:only-of-type {\n",
       "        vertical-align: middle;\n",
       "    }\n",
       "\n",
       "    .dataframe tbody tr th {\n",
       "        vertical-align: top;\n",
       "    }\n",
       "\n",
       "    .dataframe thead th {\n",
       "        text-align: right;\n",
       "    }\n",
       "</style>\n",
       "<table border=\"1\" class=\"dataframe\">\n",
       "  <thead>\n",
       "    <tr style=\"text-align: right;\">\n",
       "      <th></th>\n",
       "      <th>date</th>\n",
       "      <th>sentiment</th>\n",
       "    </tr>\n",
       "  </thead>\n",
       "  <tbody>\n",
       "    <tr>\n",
       "      <th>0</th>\n",
       "      <td>2009-04-06 22:19:49</td>\n",
       "      <td>0.000</td>\n",
       "    </tr>\n",
       "    <tr>\n",
       "      <th>1</th>\n",
       "      <td>2009-04-06 22:19:53</td>\n",
       "      <td>0.500</td>\n",
       "    </tr>\n",
       "    <tr>\n",
       "      <th>2</th>\n",
       "      <td>2009-04-06 22:19:57</td>\n",
       "      <td>0.200</td>\n",
       "    </tr>\n",
       "    <tr>\n",
       "      <th>3</th>\n",
       "      <td>2009-04-06 22:19:57</td>\n",
       "      <td>-0.625</td>\n",
       "    </tr>\n",
       "    <tr>\n",
       "      <th>4</th>\n",
       "      <td>2009-04-06 22:20:00</td>\n",
       "      <td>0.200</td>\n",
       "    </tr>\n",
       "  </tbody>\n",
       "</table>\n",
       "</div>"
      ],
      "text/plain": [
       "                 date  sentiment\n",
       "0 2009-04-06 22:19:49      0.000\n",
       "1 2009-04-06 22:19:53      0.500\n",
       "2 2009-04-06 22:19:57      0.200\n",
       "3 2009-04-06 22:19:57     -0.625\n",
       "4 2009-04-06 22:20:00      0.200"
      ]
     },
     "execution_count": 25,
     "metadata": {},
     "output_type": "execute_result"
    }
   ],
   "source": [
    "data = data[['date', 'sentiment']]\n",
    "data.head()"
   ]
  },
  {
   "cell_type": "code",
   "execution_count": 26,
   "id": "d5dc6fb4",
   "metadata": {},
   "outputs": [],
   "source": [
    "#Boxplot of Month-wise (Seasonal) \n",
    "# Draw Plot\n",
    "#You can group the data at seasonal intervals and see how the values are distributed within a given year or month and how it compares over time.\n",
    "\n",
    "# Prepare data\n",
    "#data['year'] = [d.year for d in data.date]\n",
    "#data['month'] = [d.strftime('%b') for d in data.date]\n",
    "#years = data['year'].unique()\n",
    "\n",
    "#fig, axes = plt.subplots(1, 2, figsize=(20,7), dpi= 80)\n",
    "#sns.boxplot(x='year', y='sentiment', data=data, ax=axes[0])\n",
    "#sns.boxplot(x='month', y='sentiment', data=data.loc[~data.year.isin([2009]), :])\n",
    "\n",
    "# Set Title\n",
    "#axes[0].set_title('Year-wise Box Plot\\n(The Trend)', fontsize=18); \n",
    "#axes[1].set_title('Month-wise Box Plot\\n(The Seasonality)', fontsize=18)\n",
    "#plt.show()"
   ]
  },
  {
   "cell_type": "code",
   "execution_count": 27,
   "id": "8388a79e",
   "metadata": {},
   "outputs": [
    {
     "data": {
      "text/html": [
       "<div>\n",
       "<style scoped>\n",
       "    .dataframe tbody tr th:only-of-type {\n",
       "        vertical-align: middle;\n",
       "    }\n",
       "\n",
       "    .dataframe tbody tr th {\n",
       "        vertical-align: top;\n",
       "    }\n",
       "\n",
       "    .dataframe thead th {\n",
       "        text-align: right;\n",
       "    }\n",
       "</style>\n",
       "<table border=\"1\" class=\"dataframe\">\n",
       "  <thead>\n",
       "    <tr style=\"text-align: right;\">\n",
       "      <th></th>\n",
       "      <th>date</th>\n",
       "      <th>y</th>\n",
       "    </tr>\n",
       "  </thead>\n",
       "  <tbody>\n",
       "    <tr>\n",
       "      <th>0</th>\n",
       "      <td>2009-04-06 22:19:49</td>\n",
       "      <td>0.000</td>\n",
       "    </tr>\n",
       "    <tr>\n",
       "      <th>1</th>\n",
       "      <td>2009-04-06 22:19:53</td>\n",
       "      <td>0.500</td>\n",
       "    </tr>\n",
       "    <tr>\n",
       "      <th>2</th>\n",
       "      <td>2009-04-06 22:19:57</td>\n",
       "      <td>0.200</td>\n",
       "    </tr>\n",
       "    <tr>\n",
       "      <th>3</th>\n",
       "      <td>2009-04-06 22:19:57</td>\n",
       "      <td>-0.625</td>\n",
       "    </tr>\n",
       "    <tr>\n",
       "      <th>4</th>\n",
       "      <td>2009-04-06 22:20:00</td>\n",
       "      <td>0.200</td>\n",
       "    </tr>\n",
       "  </tbody>\n",
       "</table>\n",
       "</div>"
      ],
      "text/plain": [
       "                 date      y\n",
       "0 2009-04-06 22:19:49  0.000\n",
       "1 2009-04-06 22:19:53  0.500\n",
       "2 2009-04-06 22:19:57  0.200\n",
       "3 2009-04-06 22:19:57 -0.625\n",
       "4 2009-04-06 22:20:00  0.200"
      ]
     },
     "execution_count": 27,
     "metadata": {},
     "output_type": "execute_result"
    }
   ],
   "source": [
    "#Rename the dependent variable\n",
    "data = data.rename(columns = {'sentiment' : 'y'})\n",
    "data.head(5)"
   ]
  },
  {
   "cell_type": "code",
   "execution_count": 28,
   "id": "4586b62a",
   "metadata": {},
   "outputs": [],
   "source": [
    "#data['date'] = pd.to_datetime(data['date']).dt.strftime('%Y-%m-%d')# %H:%M:%S') # '%Y-%m-%d %H:%M:%S'\n",
    "#data = data.set_index('date')\n",
    "#data = data.asfreq('MS')\n",
    "#data = data.sort_index()\n",
    "#data.head()"
   ]
  },
  {
   "cell_type": "code",
   "execution_count": 29,
   "id": "f4b2d96e",
   "metadata": {},
   "outputs": [],
   "source": [
    "#data = pd.to_datetime(data['date'], format='%Y-%m-%d')\n",
    "#data.head()"
   ]
  },
  {
   "cell_type": "code",
   "execution_count": 30,
   "id": "50c768ec",
   "metadata": {},
   "outputs": [],
   "source": [
    "data = data.drop_duplicates('date').sort_values(by=['date'], ascending=True)"
   ]
  },
  {
   "cell_type": "code",
   "execution_count": 31,
   "id": "46a997f1",
   "metadata": {},
   "outputs": [
    {
     "data": {
      "text/plain": [
       "(774362, 2)"
      ]
     },
     "execution_count": 31,
     "metadata": {},
     "output_type": "execute_result"
    }
   ],
   "source": [
    "data.shape"
   ]
  },
  {
   "cell_type": "code",
   "execution_count": 32,
   "id": "ded5f324",
   "metadata": {},
   "outputs": [
    {
     "data": {
      "text/html": [
       "<div>\n",
       "<style scoped>\n",
       "    .dataframe tbody tr th:only-of-type {\n",
       "        vertical-align: middle;\n",
       "    }\n",
       "\n",
       "    .dataframe tbody tr th {\n",
       "        vertical-align: top;\n",
       "    }\n",
       "\n",
       "    .dataframe thead th {\n",
       "        text-align: right;\n",
       "    }\n",
       "</style>\n",
       "<table border=\"1\" class=\"dataframe\">\n",
       "  <thead>\n",
       "    <tr style=\"text-align: right;\">\n",
       "      <th></th>\n",
       "      <th>y</th>\n",
       "    </tr>\n",
       "    <tr>\n",
       "      <th>date</th>\n",
       "      <th></th>\n",
       "    </tr>\n",
       "  </thead>\n",
       "  <tbody>\n",
       "    <tr>\n",
       "      <th>2009-04-06 22:19:49</th>\n",
       "      <td>0.0</td>\n",
       "    </tr>\n",
       "    <tr>\n",
       "      <th>2009-04-06 22:19:53</th>\n",
       "      <td>0.5</td>\n",
       "    </tr>\n",
       "    <tr>\n",
       "      <th>2009-04-06 22:19:57</th>\n",
       "      <td>0.2</td>\n",
       "    </tr>\n",
       "    <tr>\n",
       "      <th>2009-04-06 22:20:00</th>\n",
       "      <td>0.2</td>\n",
       "    </tr>\n",
       "    <tr>\n",
       "      <th>2009-04-06 22:20:03</th>\n",
       "      <td>0.0</td>\n",
       "    </tr>\n",
       "  </tbody>\n",
       "</table>\n",
       "</div>"
      ],
      "text/plain": [
       "                       y\n",
       "date                    \n",
       "2009-04-06 22:19:49  0.0\n",
       "2009-04-06 22:19:53  0.5\n",
       "2009-04-06 22:19:57  0.2\n",
       "2009-04-06 22:20:00  0.2\n",
       "2009-04-06 22:20:03  0.0"
      ]
     },
     "execution_count": 32,
     "metadata": {},
     "output_type": "execute_result"
    }
   ],
   "source": [
    "data = data.set_index('date')\n",
    "data = data.sort_index()\n",
    "data.head()"
   ]
  },
  {
   "cell_type": "code",
   "execution_count": 33,
   "id": "c86e6db3",
   "metadata": {},
   "outputs": [],
   "source": [
    "data = data['y'].resample('D').count()\n",
    "#print(data)"
   ]
  },
  {
   "cell_type": "code",
   "execution_count": 34,
   "id": "d0fcbc74",
   "metadata": {
    "scrolled": false
   },
   "outputs": [
    {
     "data": {
      "text/plain": [
       "DatetimeIndex(['2009-04-06', '2009-04-07', '2009-04-08', '2009-04-09',\n",
       "               '2009-04-10', '2009-04-11', '2009-04-12', '2009-04-13',\n",
       "               '2009-04-14', '2009-04-15', '2009-04-16', '2009-04-17',\n",
       "               '2009-04-18', '2009-04-19', '2009-04-20', '2009-04-21',\n",
       "               '2009-04-22', '2009-04-23', '2009-04-24', '2009-04-25',\n",
       "               '2009-04-26', '2009-04-27', '2009-04-28', '2009-04-29',\n",
       "               '2009-04-30', '2009-05-01', '2009-05-02', '2009-05-03',\n",
       "               '2009-05-04', '2009-05-05', '2009-05-06', '2009-05-07',\n",
       "               '2009-05-08', '2009-05-09', '2009-05-10', '2009-05-11',\n",
       "               '2009-05-12', '2009-05-13', '2009-05-14', '2009-05-15',\n",
       "               '2009-05-16', '2009-05-17', '2009-05-18', '2009-05-19',\n",
       "               '2009-05-20', '2009-05-21', '2009-05-22', '2009-05-23',\n",
       "               '2009-05-24', '2009-05-25', '2009-05-26', '2009-05-27',\n",
       "               '2009-05-28', '2009-05-29', '2009-05-30', '2009-05-31',\n",
       "               '2009-06-01', '2009-06-02', '2009-06-03', '2009-06-04',\n",
       "               '2009-06-05', '2009-06-06', '2009-06-07', '2009-06-08',\n",
       "               '2009-06-09', '2009-06-10', '2009-06-11', '2009-06-12',\n",
       "               '2009-06-13', '2009-06-14', '2009-06-15', '2009-06-16',\n",
       "               '2009-06-17', '2009-06-18', '2009-06-19', '2009-06-20',\n",
       "               '2009-06-21', '2009-06-22', '2009-06-23', '2009-06-24',\n",
       "               '2009-06-25'],\n",
       "              dtype='datetime64[ns]', name='date', freq='D')"
      ]
     },
     "execution_count": 34,
     "metadata": {},
     "output_type": "execute_result"
    }
   ],
   "source": [
    "#daily_data = daily_data.set_index('date')\n",
    "#daily_data = daily_data.sort_index()\n",
    "data.index"
   ]
  },
  {
   "cell_type": "code",
   "execution_count": 35,
   "id": "45ce0886",
   "metadata": {},
   "outputs": [
    {
     "data": {
      "image/png": "[encoded data removed]",
      "text/plain": [
       "<Figure size 800x400 with 1 Axes>"
      ]
     },
     "metadata": {},
     "output_type": "display_data"
    }
   ],
   "source": [
    "# Plot the time series of daily tweet count\n",
    "plt.figure(figsize=(8, 4))\n",
    "data.plot()\n",
    "plt.xlabel('Date')\n",
    "plt.ylabel('Sentiment')\n",
    "plt.title('Daily sentiment Count')\n",
    "plt.show()"
   ]
  },
  {
   "cell_type": "code",
   "execution_count": 36,
   "id": "2640320e",
   "metadata": {
    "scrolled": true
   },
   "outputs": [],
   "source": [
    "#Visualizing the data\n",
    "#plt.xlabel('date')\n",
    "#plt.ylabel('sentiment')\n",
    "#plt.plot(date)"
   ]
  },
  {
   "cell_type": "code",
   "execution_count": 37,
   "id": "3110dc9b",
   "metadata": {
    "scrolled": true
   },
   "outputs": [
    {
     "data": {
      "text/plain": [
       "<bound method NDFrame.head of date\n",
       "2009-04-06     2039\n",
       "2009-04-07    10029\n",
       "2009-04-08        0\n",
       "2009-04-09        0\n",
       "2009-04-10        0\n",
       "              ...  \n",
       "2009-06-21    12909\n",
       "2009-06-22     7718\n",
       "2009-06-23    11195\n",
       "2009-06-24     4584\n",
       "2009-06-25    14293\n",
       "Freq: D, Name: y, Length: 81, dtype: int64>"
      ]
     },
     "execution_count": 37,
     "metadata": {},
     "output_type": "execute_result"
    }
   ],
   "source": [
    "data.head"
   ]
  },
  {
   "cell_type": "code",
   "execution_count": 38,
   "id": "1dccf297",
   "metadata": {
    "scrolled": true
   },
   "outputs": [
    {
     "name": "stdout",
     "output_type": "stream",
     "text": [
      "date\n",
      "2009-04-06     2039\n",
      "2009-04-07    10029\n",
      "2009-04-08        0\n",
      "2009-04-09        0\n",
      "2009-04-10        0\n",
      "              ...  \n",
      "2009-06-21    12909\n",
      "2009-06-22     7718\n",
      "2009-06-23    11195\n",
      "2009-06-24     4584\n",
      "2009-06-25    14293\n",
      "Freq: D, Name: y, Length: 81, dtype: int64\n"
     ]
    }
   ],
   "source": [
    "data = pd.DataFrame(data)\n",
    "print(data.get(\"y\"))"
   ]
  },
  {
   "cell_type": "code",
   "execution_count": 39,
   "id": "79d30b45",
   "metadata": {},
   "outputs": [
    {
     "name": "stdout",
     "output_type": "stream",
     "text": [
      "Dickey Fuller p-value: 0.000613\n"
     ]
    }
   ],
   "source": [
    "#Stationarity\n",
    "from statsmodels.tsa.stattools import adfuller\n",
    "stationarity = adfuller(data['y'])\n",
    "#stationarity\n",
    "print('Dickey Fuller p-value: %F' % stationarity[1])"
   ]
  },
  {
   "cell_type": "markdown",
   "id": "1651f0fc",
   "metadata": {},
   "source": [
    "α = 0.05\n",
    "\n",
    "H0 : the data is not stationary\n",
    "\n",
    "H1: the data is stationary  there is a pattern\n",
    "\n",
    "How do we know if we accept or reject the hypothesis? To reject the hypothesis, p-value must be less than α, which as a default is 0.05.\n",
    "\n",
    "P-value is less than α. Ho is rejected and H1 is accepted as data is stationary"
   ]
  },
  {
   "cell_type": "code",
   "execution_count": 40,
   "id": "b80226e0",
   "metadata": {},
   "outputs": [
    {
     "data": {
      "text/plain": [
       "True"
      ]
     },
     "execution_count": 40,
     "metadata": {},
     "output_type": "execute_result"
    }
   ],
   "source": [
    "# Verify that a temporary index is complete\n",
    "# ==============================================================================\n",
    "(data.index == pd.date_range(start=data.index.min(),\n",
    "                             end=data.index.max(),\n",
    "                             freq=data.index.freq)).all()"
   ]
  },
  {
   "cell_type": "code",
   "execution_count": 41,
   "id": "f87ae1f0",
   "metadata": {
    "scrolled": false
   },
   "outputs": [
    {
     "name": "stdout",
     "output_type": "stream",
     "text": [
      "Train dates : 2009-04-06 00:00:00 --- 2009-06-18 00:00:00  (n=74)\n",
      "Test dates  : 2009-06-19 00:00:00 --- 2009-06-25 00:00:00  (n=7)\n"
     ]
    },
    {
     "data": {
      "image/png": "[encoded data removed]",
      "text/plain": [
       "<Figure size 900x400 with 1 Axes>"
      ]
     },
     "metadata": {},
     "output_type": "display_data"
    }
   ],
   "source": [
    "# Split data into train-test\n",
    "# ==============================================================================\n",
    "steps = 7 # 7 days to predict the 8 day \n",
    "data_train = data[:-steps]\n",
    "data_test  = data[-steps:]\n",
    "\n",
    "print(f\"Train dates : {data_train.index.min()} --- {data_train.index.max()}  (n={len(data_train)})\")\n",
    "print(f\"Test dates  : {data_test.index.min()} --- {data_test.index.max()}  (n={len(data_test)})\")\n",
    "\n",
    "fig, ax=plt.subplots(figsize=(9, 4))\n",
    "data_train['y'].plot(ax=ax, label='train')\n",
    "data_test['y'].plot(ax=ax, label='test')\n",
    "ax.legend();"
   ]
  },
  {
   "cell_type": "code",
   "execution_count": 42,
   "id": "d0927569",
   "metadata": {},
   "outputs": [],
   "source": [
    "#pip install skforecast --user"
   ]
  },
  {
   "cell_type": "code",
   "execution_count": 43,
   "id": "120629a4",
   "metadata": {
    "scrolled": false
   },
   "outputs": [
    {
     "data": {
      "text/plain": [
       "================= \n",
       "ForecasterAutoreg \n",
       "================= \n",
       "Regressor: RandomForestRegressor(random_state=123) \n",
       "Lags: [1 2 3 4 5 6 7] \n",
       "Transformer for y: None \n",
       "Transformer for exog: None \n",
       "Window size: 7 \n",
       "Weight function included: False \n",
       "Differentiation order: None \n",
       "Exogenous included: False \n",
       "Type of exogenous variable: None \n",
       "Exogenous variables names: None \n",
       "Training range: [Timestamp('2009-04-06 00:00:00'), Timestamp('2009-06-18 00:00:00')] \n",
       "Training index type: DatetimeIndex \n",
       "Training index frequency: D \n",
       "Regressor parameters: {'bootstrap': True, 'ccp_alpha': 0.0, 'criterion': 'squared_error', 'max_depth': None, 'max_features': 1.0, 'max_leaf_nodes': None, 'max_samples': None, 'min_impurity_decrease': 0.0, 'min_samples_leaf': 1, 'min_samples_split': 2, 'min_weight_fraction_leaf': 0.0, 'n_estimators': 100, 'n_jobs': None, 'oob_score': False, 'random_state': 123, 'verbose': 0, 'warm_start': False} \n",
       "fit_kwargs: {} \n",
       "Creation date: 2023-11-07 13:24:31 \n",
       "Last fit date: 2023-11-07 13:24:31 \n",
       "Skforecast version: 0.10.1 \n",
       "Python version: 3.11.4 \n",
       "Forecaster id: None "
      ]
     },
     "execution_count": 43,
     "metadata": {},
     "output_type": "execute_result"
    }
   ],
   "source": [
    "# Create and train forecaster\n",
    "# ==============================================================================\n",
    "forecaster = ForecasterAutoreg(\n",
    "                regressor = RandomForestRegressor(random_state=123),\n",
    "                lags =7 # 6 months to predict the 7 month \n",
    "                )\n",
    "\n",
    "forecaster.fit(y=data_train['y'])\n",
    "forecaster"
   ]
  },
  {
   "cell_type": "code",
   "execution_count": 44,
   "id": "9ec90e2f",
   "metadata": {},
   "outputs": [
    {
     "data": {
      "text/plain": [
       "2009-06-19    32530.64\n",
       "2009-06-20    36840.95\n",
       "2009-06-21    36468.56\n",
       "2009-06-22    32802.15\n",
       "2009-06-23    28418.00\n",
       "Freq: D, Name: pred, dtype: float64"
      ]
     },
     "execution_count": 44,
     "metadata": {},
     "output_type": "execute_result"
    }
   ],
   "source": [
    "# Predictions\n",
    "# ==============================================================================\n",
    "steps = 7 # 36 months into the future\n",
    "predictions = forecaster.predict(steps=steps)\n",
    "predictions.head(5)"
   ]
  },
  {
   "cell_type": "code",
   "execution_count": 45,
   "id": "07c8089d",
   "metadata": {
    "scrolled": false
   },
   "outputs": [
    {
     "data": {
      "image/png": "[encoded data removed]",
      "text/plain": [
       "<Figure size 800x400 with 1 Axes>"
      ]
     },
     "metadata": {},
     "output_type": "display_data"
    }
   ],
   "source": [
    "# Plot\n",
    "# ==============================================================================\n",
    "fig, ax = plt.subplots(figsize=(8, 4))\n",
    "data_train['y'].plot(ax=ax, label='train')\n",
    "data_test['y'].plot(ax=ax, label='test')\n",
    "predictions.plot(ax=ax, label='predictions')\n",
    "ax.legend();"
   ]
  },
  {
   "cell_type": "code",
   "execution_count": 46,
   "id": "f1669afc",
   "metadata": {},
   "outputs": [
    {
     "name": "stdout",
     "output_type": "stream",
     "text": [
      "Test error (mse): 345044715.56962854\n"
     ]
    }
   ],
   "source": [
    "# Test error\n",
    "# ==============================================================================\n",
    "error_mse = mean_squared_error(\n",
    "                y_true = data_test['y'],\n",
    "                y_pred = predictions\n",
    "            )\n",
    "\n",
    "print(f\"Test error (mse): {error_mse}\")"
   ]
  },
  {
   "cell_type": "code",
   "execution_count": 47,
   "id": "f6645516",
   "metadata": {
    "scrolled": false
   },
   "outputs": [
    {
     "name": "stdout",
     "output_type": "stream",
     "text": [
      "Number of models compared: 12.\n"
     ]
    },
    {
     "data": {
      "application/vnd.jupyter.widget-view+json": {
       "model_id": "578d35e3be1247c48304dcbb33d5b091",
       "version_major": 2,
       "version_minor": 0
      },
      "text/plain": [
       "lags grid:   0%|          | 0/2 [00:00<?, ?it/s]"
      ]
     },
     "metadata": {},
     "output_type": "display_data"
    },
    {
     "data": {
      "application/vnd.jupyter.widget-view+json": {
       "model_id": "",
       "version_major": 2,
       "version_minor": 0
      },
      "text/plain": [
       "params grid:   0%|          | 0/6 [00:00<?, ?it/s]"
      ]
     },
     "metadata": {},
     "output_type": "display_data"
    },
    {
     "name": "stdout",
     "output_type": "stream",
     "text": [
      "`Forecaster` refitted using the best-found lags and parameters, and the whole data set: \n",
      "  Lags: [ 1  2  3  4  5  6  7  8  9 10 11 12 13 14 15 16 17 18 19 20] \n",
      "  Parameters: {'max_depth': 5, 'n_estimators': 500}\n",
      "  Backtesting metric: 296605786.134648\n",
      "\n"
     ]
    }
   ],
   "source": [
    "# Hyperparameter Grid search\n",
    "# ==============================================================================\n",
    "steps = 7\n",
    "forecaster = ForecasterAutoreg(\n",
    "                regressor = RandomForestRegressor(random_state=123),\n",
    "                lags      = 10 # This value will be replaced in the grid search\n",
    "             )\n",
    "\n",
    "# Lags used as predictors\n",
    "lags_grid = [10, 20]\n",
    "\n",
    "# Regressor's hyperparameters\n",
    "param_grid = {'n_estimators': [100, 500], # number of trees\n",
    "              'max_depth': [3, 5, 10]}  #depth of the tree\n",
    "\n",
    "results_grid = grid_search_forecaster(\n",
    "                        forecaster         = forecaster,\n",
    "                        y                  = data_train['y'],\n",
    "                        param_grid         = param_grid,\n",
    "                        lags_grid          = lags_grid,\n",
    "                        steps              = steps,\n",
    "                        refit              = True,\n",
    "                        metric             = 'mean_squared_error',\n",
    "                        initial_train_size = int(len(data_train)*0.5),\n",
    "                        fixed_train_size   = False,\n",
    "                        return_best        = True,\n",
    "                        verbose            = False\n",
    "               )"
   ]
  },
  {
   "cell_type": "code",
   "execution_count": 48,
   "id": "c753c3dc",
   "metadata": {
    "scrolled": false
   },
   "outputs": [
    {
     "data": {
      "text/html": [
       "<div>\n",
       "<style scoped>\n",
       "    .dataframe tbody tr th:only-of-type {\n",
       "        vertical-align: middle;\n",
       "    }\n",
       "\n",
       "    .dataframe tbody tr th {\n",
       "        vertical-align: top;\n",
       "    }\n",
       "\n",
       "    .dataframe thead th {\n",
       "        text-align: right;\n",
       "    }\n",
       "</style>\n",
       "<table border=\"1\" class=\"dataframe\">\n",
       "  <thead>\n",
       "    <tr style=\"text-align: right;\">\n",
       "      <th></th>\n",
       "      <th>lags</th>\n",
       "      <th>params</th>\n",
       "      <th>mean_squared_error</th>\n",
       "      <th>max_depth</th>\n",
       "      <th>n_estimators</th>\n",
       "    </tr>\n",
       "  </thead>\n",
       "  <tbody>\n",
       "    <tr>\n",
       "      <th>9</th>\n",
       "      <td>[1, 2, 3, 4, 5, 6, 7, 8, 9, 10, 11, 12, 13, 14...</td>\n",
       "      <td>{'max_depth': 5, 'n_estimators': 500}</td>\n",
       "      <td>2.966058e+08</td>\n",
       "      <td>5</td>\n",
       "      <td>500</td>\n",
       "    </tr>\n",
       "    <tr>\n",
       "      <th>10</th>\n",
       "      <td>[1, 2, 3, 4, 5, 6, 7, 8, 9, 10, 11, 12, 13, 14...</td>\n",
       "      <td>{'max_depth': 10, 'n_estimators': 100}</td>\n",
       "      <td>3.076627e+08</td>\n",
       "      <td>10</td>\n",
       "      <td>100</td>\n",
       "    </tr>\n",
       "    <tr>\n",
       "      <th>7</th>\n",
       "      <td>[1, 2, 3, 4, 5, 6, 7, 8, 9, 10, 11, 12, 13, 14...</td>\n",
       "      <td>{'max_depth': 3, 'n_estimators': 500}</td>\n",
       "      <td>3.085480e+08</td>\n",
       "      <td>3</td>\n",
       "      <td>500</td>\n",
       "    </tr>\n",
       "    <tr>\n",
       "      <th>6</th>\n",
       "      <td>[1, 2, 3, 4, 5, 6, 7, 8, 9, 10, 11, 12, 13, 14...</td>\n",
       "      <td>{'max_depth': 3, 'n_estimators': 100}</td>\n",
       "      <td>3.094522e+08</td>\n",
       "      <td>3</td>\n",
       "      <td>100</td>\n",
       "    </tr>\n",
       "    <tr>\n",
       "      <th>8</th>\n",
       "      <td>[1, 2, 3, 4, 5, 6, 7, 8, 9, 10, 11, 12, 13, 14...</td>\n",
       "      <td>{'max_depth': 5, 'n_estimators': 100}</td>\n",
       "      <td>3.096213e+08</td>\n",
       "      <td>5</td>\n",
       "      <td>100</td>\n",
       "    </tr>\n",
       "    <tr>\n",
       "      <th>11</th>\n",
       "      <td>[1, 2, 3, 4, 5, 6, 7, 8, 9, 10, 11, 12, 13, 14...</td>\n",
       "      <td>{'max_depth': 10, 'n_estimators': 500}</td>\n",
       "      <td>3.153480e+08</td>\n",
       "      <td>10</td>\n",
       "      <td>500</td>\n",
       "    </tr>\n",
       "    <tr>\n",
       "      <th>0</th>\n",
       "      <td>[1, 2, 3, 4, 5, 6, 7, 8, 9, 10]</td>\n",
       "      <td>{'max_depth': 3, 'n_estimators': 100}</td>\n",
       "      <td>3.491654e+08</td>\n",
       "      <td>3</td>\n",
       "      <td>100</td>\n",
       "    </tr>\n",
       "    <tr>\n",
       "      <th>1</th>\n",
       "      <td>[1, 2, 3, 4, 5, 6, 7, 8, 9, 10]</td>\n",
       "      <td>{'max_depth': 3, 'n_estimators': 500}</td>\n",
       "      <td>3.572623e+08</td>\n",
       "      <td>3</td>\n",
       "      <td>500</td>\n",
       "    </tr>\n",
       "    <tr>\n",
       "      <th>4</th>\n",
       "      <td>[1, 2, 3, 4, 5, 6, 7, 8, 9, 10]</td>\n",
       "      <td>{'max_depth': 10, 'n_estimators': 100}</td>\n",
       "      <td>3.684135e+08</td>\n",
       "      <td>10</td>\n",
       "      <td>100</td>\n",
       "    </tr>\n",
       "    <tr>\n",
       "      <th>3</th>\n",
       "      <td>[1, 2, 3, 4, 5, 6, 7, 8, 9, 10]</td>\n",
       "      <td>{'max_depth': 5, 'n_estimators': 500}</td>\n",
       "      <td>3.743440e+08</td>\n",
       "      <td>5</td>\n",
       "      <td>500</td>\n",
       "    </tr>\n",
       "    <tr>\n",
       "      <th>5</th>\n",
       "      <td>[1, 2, 3, 4, 5, 6, 7, 8, 9, 10]</td>\n",
       "      <td>{'max_depth': 10, 'n_estimators': 500}</td>\n",
       "      <td>3.751270e+08</td>\n",
       "      <td>10</td>\n",
       "      <td>500</td>\n",
       "    </tr>\n",
       "    <tr>\n",
       "      <th>2</th>\n",
       "      <td>[1, 2, 3, 4, 5, 6, 7, 8, 9, 10]</td>\n",
       "      <td>{'max_depth': 5, 'n_estimators': 100}</td>\n",
       "      <td>3.756154e+08</td>\n",
       "      <td>5</td>\n",
       "      <td>100</td>\n",
       "    </tr>\n",
       "  </tbody>\n",
       "</table>\n",
       "</div>"
      ],
      "text/plain": [
       "                                                 lags  \\\n",
       "9   [1, 2, 3, 4, 5, 6, 7, 8, 9, 10, 11, 12, 13, 14...   \n",
       "10  [1, 2, 3, 4, 5, 6, 7, 8, 9, 10, 11, 12, 13, 14...   \n",
       "7   [1, 2, 3, 4, 5, 6, 7, 8, 9, 10, 11, 12, 13, 14...   \n",
       "6   [1, 2, 3, 4, 5, 6, 7, 8, 9, 10, 11, 12, 13, 14...   \n",
       "8   [1, 2, 3, 4, 5, 6, 7, 8, 9, 10, 11, 12, 13, 14...   \n",
       "11  [1, 2, 3, 4, 5, 6, 7, 8, 9, 10, 11, 12, 13, 14...   \n",
       "0                     [1, 2, 3, 4, 5, 6, 7, 8, 9, 10]   \n",
       "1                     [1, 2, 3, 4, 5, 6, 7, 8, 9, 10]   \n",
       "4                     [1, 2, 3, 4, 5, 6, 7, 8, 9, 10]   \n",
       "3                     [1, 2, 3, 4, 5, 6, 7, 8, 9, 10]   \n",
       "5                     [1, 2, 3, 4, 5, 6, 7, 8, 9, 10]   \n",
       "2                     [1, 2, 3, 4, 5, 6, 7, 8, 9, 10]   \n",
       "\n",
       "                                    params  mean_squared_error  max_depth  \\\n",
       "9    {'max_depth': 5, 'n_estimators': 500}        2.966058e+08          5   \n",
       "10  {'max_depth': 10, 'n_estimators': 100}        3.076627e+08         10   \n",
       "7    {'max_depth': 3, 'n_estimators': 500}        3.085480e+08          3   \n",
       "6    {'max_depth': 3, 'n_estimators': 100}        3.094522e+08          3   \n",
       "8    {'max_depth': 5, 'n_estimators': 100}        3.096213e+08          5   \n",
       "11  {'max_depth': 10, 'n_estimators': 500}        3.153480e+08         10   \n",
       "0    {'max_depth': 3, 'n_estimators': 100}        3.491654e+08          3   \n",
       "1    {'max_depth': 3, 'n_estimators': 500}        3.572623e+08          3   \n",
       "4   {'max_depth': 10, 'n_estimators': 100}        3.684135e+08         10   \n",
       "3    {'max_depth': 5, 'n_estimators': 500}        3.743440e+08          5   \n",
       "5   {'max_depth': 10, 'n_estimators': 500}        3.751270e+08         10   \n",
       "2    {'max_depth': 5, 'n_estimators': 100}        3.756154e+08          5   \n",
       "\n",
       "    n_estimators  \n",
       "9            500  \n",
       "10           100  \n",
       "7            500  \n",
       "6            100  \n",
       "8            100  \n",
       "11           500  \n",
       "0            100  \n",
       "1            500  \n",
       "4            100  \n",
       "3            500  \n",
       "5            500  \n",
       "2            100  "
      ]
     },
     "execution_count": 48,
     "metadata": {},
     "output_type": "execute_result"
    }
   ],
   "source": [
    "# Grid Search results\n",
    "# ==============================================================================\n",
    "results_grid"
   ]
  },
  {
   "cell_type": "code",
   "execution_count": 49,
   "id": "564d1969",
   "metadata": {},
   "outputs": [],
   "source": [
    "# Create and train forecaster with the best hyperparameters\n",
    "# ==============================================================================\n",
    "regressor = RandomForestRegressor(max_depth=5, n_estimators=500, random_state=123)\n",
    "forecaster = ForecasterAutoreg(\n",
    "                regressor = regressor,\n",
    "                lags      = 20\n",
    "             )\n",
    "\n",
    "forecaster.fit(y=data_train['y'])"
   ]
  },
  {
   "cell_type": "code",
   "execution_count": 50,
   "id": "7fa88e3d",
   "metadata": {},
   "outputs": [],
   "source": [
    "# Predictions\n",
    "# ==============================================================================\n",
    "predictions = forecaster.predict(steps=steps)"
   ]
  },
  {
   "cell_type": "code",
   "execution_count": 51,
   "id": "99cb853d",
   "metadata": {
    "scrolled": false
   },
   "outputs": [
    {
     "data": {
      "image/png": "[encoded data removed]",
      "text/plain": [
       "<Figure size 700x400 with 1 Axes>"
      ]
     },
     "metadata": {},
     "output_type": "display_data"
    }
   ],
   "source": [
    "# Plot\n",
    "# ==============================================================================\n",
    "fig, ax = plt.subplots(figsize=(7, 4))\n",
    "data_train['y'].plot(ax=ax, label='train')\n",
    "data_test['y'].plot(ax=ax, label='test')\n",
    "predictions.plot(ax=ax, label='predictions')\n",
    "ax.legend();"
   ]
  },
  {
   "cell_type": "code",
   "execution_count": 52,
   "id": "423adf12",
   "metadata": {},
   "outputs": [
    {
     "name": "stdout",
     "output_type": "stream",
     "text": [
      "Test error (mse): 290294298.20736974\n"
     ]
    }
   ],
   "source": [
    "# Test error\n",
    "# ==============================================================================\n",
    "error_mse = mean_squared_error(\n",
    "                y_true = data_test['y'],\n",
    "                y_pred = predictions\n",
    "                )\n",
    "\n",
    "print(f\"Test error (mse): {error_mse}\")"
   ]
  },
  {
   "cell_type": "markdown",
   "id": "71087886",
   "metadata": {},
   "source": [
    "*30 days forecasting**"
   ]
  },
  {
   "cell_type": "code",
   "execution_count": 53,
   "id": "257c14e4",
   "metadata": {},
   "outputs": [
    {
     "name": "stdout",
     "output_type": "stream",
     "text": [
      "Train dates : 2009-04-06 00:00:00 --- 2009-05-26 00:00:00  (n=51)\n",
      "Test dates  : 2009-05-27 00:00:00 --- 2009-06-25 00:00:00  (n=30)\n"
     ]
    },
    {
     "data": {
      "image/png": "[encoded data removed]",
      "text/plain": [
       "<Figure size 900x400 with 1 Axes>"
      ]
     },
     "metadata": {},
     "output_type": "display_data"
    }
   ],
   "source": [
    "# Split data into train-test\n",
    "# ==============================================================================\n",
    "steps = 30 # 30 days to predict the 31 day \n",
    "data_train = data[:-steps]\n",
    "data_test  = data[-steps:]\n",
    "\n",
    "print(f\"Train dates : {data_train.index.min()} --- {data_train.index.max()}  (n={len(data_train)})\")\n",
    "print(f\"Test dates  : {data_test.index.min()} --- {data_test.index.max()}  (n={len(data_test)})\")\n",
    "\n",
    "fig, ax=plt.subplots(figsize=(9, 4))\n",
    "data_train['y'].plot(ax=ax, label='train')\n",
    "data_test['y'].plot(ax=ax, label='test')\n",
    "ax.legend();"
   ]
  },
  {
   "cell_type": "code",
   "execution_count": 54,
   "id": "8ed5ae9f",
   "metadata": {},
   "outputs": [
    {
     "data": {
      "text/plain": [
       "================= \n",
       "ForecasterAutoreg \n",
       "================= \n",
       "Regressor: RandomForestRegressor(random_state=123) \n",
       "Lags: [ 1  2  3  4  5  6  7  8  9 10 11 12 13 14 15 16 17 18 19 20 21 22 23 24\n",
       " 25 26 27 28 29 30] \n",
       "Transformer for y: None \n",
       "Transformer for exog: None \n",
       "Window size: 30 \n",
       "Weight function included: False \n",
       "Differentiation order: None \n",
       "Exogenous included: False \n",
       "Type of exogenous variable: None \n",
       "Exogenous variables names: None \n",
       "Training range: [Timestamp('2009-04-06 00:00:00'), Timestamp('2009-05-26 00:00:00')] \n",
       "Training index type: DatetimeIndex \n",
       "Training index frequency: D \n",
       "Regressor parameters: {'bootstrap': True, 'ccp_alpha': 0.0, 'criterion': 'squared_error', 'max_depth': None, 'max_features': 1.0, 'max_leaf_nodes': None, 'max_samples': None, 'min_impurity_decrease': 0.0, 'min_samples_leaf': 1, 'min_samples_split': 2, 'min_weight_fraction_leaf': 0.0, 'n_estimators': 100, 'n_jobs': None, 'oob_score': False, 'random_state': 123, 'verbose': 0, 'warm_start': False} \n",
       "fit_kwargs: {} \n",
       "Creation date: 2023-11-07 13:24:54 \n",
       "Last fit date: 2023-11-07 13:24:54 \n",
       "Skforecast version: 0.10.1 \n",
       "Python version: 3.11.4 \n",
       "Forecaster id: None "
      ]
     },
     "execution_count": 54,
     "metadata": {},
     "output_type": "execute_result"
    }
   ],
   "source": [
    "# Create and train forecaster\n",
    "# ==============================================================================\n",
    "forecaster = ForecasterAutoreg(\n",
    "                regressor = RandomForestRegressor(random_state=123),\n",
    "                lags =30 # 30 days to predict the 31 day \n",
    "                )\n",
    "\n",
    "forecaster.fit(y=data_train['y'])\n",
    "forecaster"
   ]
  },
  {
   "cell_type": "code",
   "execution_count": 55,
   "id": "da5859aa",
   "metadata": {},
   "outputs": [
    {
     "data": {
      "text/plain": [
       "2009-05-27    3485.50\n",
       "2009-05-28    4701.63\n",
       "2009-05-29    6007.77\n",
       "2009-05-30    8693.62\n",
       "2009-05-31    6710.23\n",
       "Freq: D, Name: pred, dtype: float64"
      ]
     },
     "execution_count": 55,
     "metadata": {},
     "output_type": "execute_result"
    }
   ],
   "source": [
    "# Predictions\n",
    "# ==============================================================================\n",
    "steps = 30 # 30 days into the future\n",
    "predictions = forecaster.predict(steps=steps)\n",
    "predictions.head(5)"
   ]
  },
  {
   "cell_type": "code",
   "execution_count": 56,
   "id": "20128c8a",
   "metadata": {},
   "outputs": [
    {
     "data": {
      "image/png": "[encoded data removed]",
      "text/plain": [
       "<Figure size 800x400 with 1 Axes>"
      ]
     },
     "metadata": {},
     "output_type": "display_data"
    }
   ],
   "source": [
    "# Plot\n",
    "# ==============================================================================\n",
    "fig, ax = plt.subplots(figsize=(8, 4))\n",
    "data_train['y'].plot(ax=ax, label='train')\n",
    "data_test['y'].plot(ax=ax, label='test')\n",
    "predictions.plot(ax=ax, label='predictions')\n",
    "ax.legend();"
   ]
  },
  {
   "cell_type": "code",
   "execution_count": 57,
   "id": "4daad18e",
   "metadata": {},
   "outputs": [
    {
     "name": "stdout",
     "output_type": "stream",
     "text": [
      "Test error (mse): 475618509.75405663\n"
     ]
    }
   ],
   "source": [
    "# Test error\n",
    "# ==============================================================================\n",
    "error_mse = mean_squared_error(\n",
    "                y_true = data_test['y'],\n",
    "                y_pred = predictions\n",
    "            )\n",
    "\n",
    "print(f\"Test error (mse): {error_mse}\")"
   ]
  },
  {
   "cell_type": "code",
   "execution_count": 58,
   "id": "1d737db4",
   "metadata": {},
   "outputs": [
    {
     "name": "stdout",
     "output_type": "stream",
     "text": [
      "Number of models compared: 12.\n"
     ]
    },
    {
     "data": {
      "application/vnd.jupyter.widget-view+json": {
       "model_id": "8cd1489865e54b3185b35c33a089bd0c",
       "version_major": 2,
       "version_minor": 0
      },
      "text/plain": [
       "lags grid:   0%|          | 0/2 [00:00<?, ?it/s]"
      ]
     },
     "metadata": {},
     "output_type": "display_data"
    },
    {
     "data": {
      "application/vnd.jupyter.widget-view+json": {
       "model_id": "",
       "version_major": 2,
       "version_minor": 0
      },
      "text/plain": [
       "params grid:   0%|          | 0/6 [00:00<?, ?it/s]"
      ]
     },
     "metadata": {},
     "output_type": "display_data"
    },
    {
     "name": "stdout",
     "output_type": "stream",
     "text": [
      "`Forecaster` refitted using the best-found lags and parameters, and the whole data set: \n",
      "  Lags: [ 1  2  3  4  5  6  7  8  9 10] \n",
      "  Parameters: {'max_depth': 5, 'n_estimators': 100}\n",
      "  Backtesting metric: 45963127.328326926\n",
      "\n"
     ]
    }
   ],
   "source": [
    "# Hyperparameter Grid search\n",
    "# ==============================================================================\n",
    "steps = 30\n",
    "forecaster = ForecasterAutoreg(\n",
    "                regressor = RandomForestRegressor(random_state=123),\n",
    "                lags      = 12 # This value will be replaced in the grid search\n",
    "             )\n",
    "\n",
    "# Lags used as predictors\n",
    "lags_grid = [10, 20]\n",
    "\n",
    "# Regressor's hyperparameters\n",
    "param_grid = {'n_estimators': [100, 500], # number of trees\n",
    "              'max_depth': [3, 5, 10]}  #depth of the tree\n",
    "\n",
    "results_grid = grid_search_forecaster(\n",
    "                        forecaster         = forecaster,\n",
    "                        y                  = data_train['y'],\n",
    "                        param_grid         = param_grid,\n",
    "                        lags_grid          = lags_grid,\n",
    "                        steps              = steps,\n",
    "                        refit              = True,\n",
    "                        metric             = 'mean_squared_error',\n",
    "                        initial_train_size = int(len(data_train)*0.5),\n",
    "                        fixed_train_size   = False,\n",
    "                        return_best        = True,\n",
    "                        verbose            = False\n",
    "               )"
   ]
  },
  {
   "cell_type": "code",
   "execution_count": 59,
   "id": "46d5b71e",
   "metadata": {},
   "outputs": [
    {
     "data": {
      "text/html": [
       "<div>\n",
       "<style scoped>\n",
       "    .dataframe tbody tr th:only-of-type {\n",
       "        vertical-align: middle;\n",
       "    }\n",
       "\n",
       "    .dataframe tbody tr th {\n",
       "        vertical-align: top;\n",
       "    }\n",
       "\n",
       "    .dataframe thead th {\n",
       "        text-align: right;\n",
       "    }\n",
       "</style>\n",
       "<table border=\"1\" class=\"dataframe\">\n",
       "  <thead>\n",
       "    <tr style=\"text-align: right;\">\n",
       "      <th></th>\n",
       "      <th>lags</th>\n",
       "      <th>params</th>\n",
       "      <th>mean_squared_error</th>\n",
       "      <th>max_depth</th>\n",
       "      <th>n_estimators</th>\n",
       "    </tr>\n",
       "  </thead>\n",
       "  <tbody>\n",
       "    <tr>\n",
       "      <th>2</th>\n",
       "      <td>[1, 2, 3, 4, 5, 6, 7, 8, 9, 10]</td>\n",
       "      <td>{'max_depth': 5, 'n_estimators': 100}</td>\n",
       "      <td>4.596313e+07</td>\n",
       "      <td>5</td>\n",
       "      <td>100</td>\n",
       "    </tr>\n",
       "    <tr>\n",
       "      <th>4</th>\n",
       "      <td>[1, 2, 3, 4, 5, 6, 7, 8, 9, 10]</td>\n",
       "      <td>{'max_depth': 10, 'n_estimators': 100}</td>\n",
       "      <td>4.596313e+07</td>\n",
       "      <td>10</td>\n",
       "      <td>100</td>\n",
       "    </tr>\n",
       "    <tr>\n",
       "      <th>0</th>\n",
       "      <td>[1, 2, 3, 4, 5, 6, 7, 8, 9, 10]</td>\n",
       "      <td>{'max_depth': 3, 'n_estimators': 100}</td>\n",
       "      <td>4.666392e+07</td>\n",
       "      <td>3</td>\n",
       "      <td>100</td>\n",
       "    </tr>\n",
       "    <tr>\n",
       "      <th>3</th>\n",
       "      <td>[1, 2, 3, 4, 5, 6, 7, 8, 9, 10]</td>\n",
       "      <td>{'max_depth': 5, 'n_estimators': 500}</td>\n",
       "      <td>6.423380e+07</td>\n",
       "      <td>5</td>\n",
       "      <td>500</td>\n",
       "    </tr>\n",
       "    <tr>\n",
       "      <th>5</th>\n",
       "      <td>[1, 2, 3, 4, 5, 6, 7, 8, 9, 10]</td>\n",
       "      <td>{'max_depth': 10, 'n_estimators': 500}</td>\n",
       "      <td>6.423380e+07</td>\n",
       "      <td>10</td>\n",
       "      <td>500</td>\n",
       "    </tr>\n",
       "    <tr>\n",
       "      <th>1</th>\n",
       "      <td>[1, 2, 3, 4, 5, 6, 7, 8, 9, 10]</td>\n",
       "      <td>{'max_depth': 3, 'n_estimators': 500}</td>\n",
       "      <td>6.487370e+07</td>\n",
       "      <td>3</td>\n",
       "      <td>500</td>\n",
       "    </tr>\n",
       "    <tr>\n",
       "      <th>6</th>\n",
       "      <td>[1, 2, 3, 4, 5, 6, 7, 8, 9, 10, 11, 12, 13, 14...</td>\n",
       "      <td>{'max_depth': 3, 'n_estimators': 100}</td>\n",
       "      <td>6.966069e+07</td>\n",
       "      <td>3</td>\n",
       "      <td>100</td>\n",
       "    </tr>\n",
       "    <tr>\n",
       "      <th>7</th>\n",
       "      <td>[1, 2, 3, 4, 5, 6, 7, 8, 9, 10, 11, 12, 13, 14...</td>\n",
       "      <td>{'max_depth': 3, 'n_estimators': 500}</td>\n",
       "      <td>6.966069e+07</td>\n",
       "      <td>3</td>\n",
       "      <td>500</td>\n",
       "    </tr>\n",
       "    <tr>\n",
       "      <th>8</th>\n",
       "      <td>[1, 2, 3, 4, 5, 6, 7, 8, 9, 10, 11, 12, 13, 14...</td>\n",
       "      <td>{'max_depth': 5, 'n_estimators': 100}</td>\n",
       "      <td>6.966069e+07</td>\n",
       "      <td>5</td>\n",
       "      <td>100</td>\n",
       "    </tr>\n",
       "    <tr>\n",
       "      <th>9</th>\n",
       "      <td>[1, 2, 3, 4, 5, 6, 7, 8, 9, 10, 11, 12, 13, 14...</td>\n",
       "      <td>{'max_depth': 5, 'n_estimators': 500}</td>\n",
       "      <td>6.966069e+07</td>\n",
       "      <td>5</td>\n",
       "      <td>500</td>\n",
       "    </tr>\n",
       "    <tr>\n",
       "      <th>10</th>\n",
       "      <td>[1, 2, 3, 4, 5, 6, 7, 8, 9, 10, 11, 12, 13, 14...</td>\n",
       "      <td>{'max_depth': 10, 'n_estimators': 100}</td>\n",
       "      <td>6.966069e+07</td>\n",
       "      <td>10</td>\n",
       "      <td>100</td>\n",
       "    </tr>\n",
       "    <tr>\n",
       "      <th>11</th>\n",
       "      <td>[1, 2, 3, 4, 5, 6, 7, 8, 9, 10, 11, 12, 13, 14...</td>\n",
       "      <td>{'max_depth': 10, 'n_estimators': 500}</td>\n",
       "      <td>6.966069e+07</td>\n",
       "      <td>10</td>\n",
       "      <td>500</td>\n",
       "    </tr>\n",
       "  </tbody>\n",
       "</table>\n",
       "</div>"
      ],
      "text/plain": [
       "                                                 lags  \\\n",
       "2                     [1, 2, 3, 4, 5, 6, 7, 8, 9, 10]   \n",
       "4                     [1, 2, 3, 4, 5, 6, 7, 8, 9, 10]   \n",
       "0                     [1, 2, 3, 4, 5, 6, 7, 8, 9, 10]   \n",
       "3                     [1, 2, 3, 4, 5, 6, 7, 8, 9, 10]   \n",
       "5                     [1, 2, 3, 4, 5, 6, 7, 8, 9, 10]   \n",
       "1                     [1, 2, 3, 4, 5, 6, 7, 8, 9, 10]   \n",
       "6   [1, 2, 3, 4, 5, 6, 7, 8, 9, 10, 11, 12, 13, 14...   \n",
       "7   [1, 2, 3, 4, 5, 6, 7, 8, 9, 10, 11, 12, 13, 14...   \n",
       "8   [1, 2, 3, 4, 5, 6, 7, 8, 9, 10, 11, 12, 13, 14...   \n",
       "9   [1, 2, 3, 4, 5, 6, 7, 8, 9, 10, 11, 12, 13, 14...   \n",
       "10  [1, 2, 3, 4, 5, 6, 7, 8, 9, 10, 11, 12, 13, 14...   \n",
       "11  [1, 2, 3, 4, 5, 6, 7, 8, 9, 10, 11, 12, 13, 14...   \n",
       "\n",
       "                                    params  mean_squared_error  max_depth  \\\n",
       "2    {'max_depth': 5, 'n_estimators': 100}        4.596313e+07          5   \n",
       "4   {'max_depth': 10, 'n_estimators': 100}        4.596313e+07         10   \n",
       "0    {'max_depth': 3, 'n_estimators': 100}        4.666392e+07          3   \n",
       "3    {'max_depth': 5, 'n_estimators': 500}        6.423380e+07          5   \n",
       "5   {'max_depth': 10, 'n_estimators': 500}        6.423380e+07         10   \n",
       "1    {'max_depth': 3, 'n_estimators': 500}        6.487370e+07          3   \n",
       "6    {'max_depth': 3, 'n_estimators': 100}        6.966069e+07          3   \n",
       "7    {'max_depth': 3, 'n_estimators': 500}        6.966069e+07          3   \n",
       "8    {'max_depth': 5, 'n_estimators': 100}        6.966069e+07          5   \n",
       "9    {'max_depth': 5, 'n_estimators': 500}        6.966069e+07          5   \n",
       "10  {'max_depth': 10, 'n_estimators': 100}        6.966069e+07         10   \n",
       "11  {'max_depth': 10, 'n_estimators': 500}        6.966069e+07         10   \n",
       "\n",
       "    n_estimators  \n",
       "2            100  \n",
       "4            100  \n",
       "0            100  \n",
       "3            500  \n",
       "5            500  \n",
       "1            500  \n",
       "6            100  \n",
       "7            500  \n",
       "8            100  \n",
       "9            500  \n",
       "10           100  \n",
       "11           500  "
      ]
     },
     "execution_count": 59,
     "metadata": {},
     "output_type": "execute_result"
    }
   ],
   "source": [
    "# Grid Search results\n",
    "# ==============================================================================\n",
    "results_grid"
   ]
  },
  {
   "cell_type": "code",
   "execution_count": 60,
   "id": "7d7b8786",
   "metadata": {},
   "outputs": [],
   "source": [
    "# Create and train forecaster with the best hyperparameters\n",
    "# ==============================================================================\n",
    "regressor = RandomForestRegressor(max_depth=5, n_estimators=500, random_state=123)\n",
    "forecaster = ForecasterAutoreg(\n",
    "                regressor = regressor,\n",
    "                lags      = 20\n",
    "             )\n",
    "\n",
    "forecaster.fit(y=data_train['y'])"
   ]
  },
  {
   "cell_type": "code",
   "execution_count": 61,
   "id": "006a4aa8",
   "metadata": {},
   "outputs": [],
   "source": [
    "# Predictions\n",
    "# ==============================================================================\n",
    "predictions = forecaster.predict(steps=steps)"
   ]
  },
  {
   "cell_type": "code",
   "execution_count": 62,
   "id": "8ea256ea",
   "metadata": {},
   "outputs": [
    {
     "data": {
      "image/png": "[encoded data removed]",
      "text/plain": [
       "<Figure size 700x400 with 1 Axes>"
      ]
     },
     "metadata": {},
     "output_type": "display_data"
    }
   ],
   "source": [
    "# Plot\n",
    "# ==============================================================================\n",
    "fig, ax = plt.subplots(figsize=(7, 4))\n",
    "data_train['y'].plot(ax=ax, label='train')\n",
    "data_test['y'].plot(ax=ax, label='test')\n",
    "predictions.plot(ax=ax, label='predictions')\n",
    "ax.legend();"
   ]
  },
  {
   "cell_type": "code",
   "execution_count": 63,
   "id": "8ce5408f",
   "metadata": {},
   "outputs": [
    {
     "name": "stdout",
     "output_type": "stream",
     "text": [
      "Test error (mse): 442384326.7091291\n"
     ]
    }
   ],
   "source": [
    "# Test error\n",
    "# ==============================================================================\n",
    "error_mse = mean_squared_error(\n",
    "                y_true = data_test['y'],\n",
    "                y_pred = predictions\n",
    "                )\n",
    "\n",
    "print(f\"Test error (mse): {error_mse}\")"
   ]
  },
  {
   "cell_type": "markdown",
   "id": "b76d5b10",
   "metadata": {},
   "source": [
    "*ARMA model*"
   ]
  },
  {
   "cell_type": "code",
   "execution_count": 64,
   "id": "faf946a9",
   "metadata": {},
   "outputs": [
    {
     "data": {
      "image/png": "[encoded data removed]",
      "text/plain": [
       "<Figure size 640x480 with 1 Axes>"
      ]
     },
     "metadata": {},
     "output_type": "display_data"
    }
   ],
   "source": [
    "sns.set()\n",
    "plt.ylabel('Sentiment')\n",
    "plt.xlabel('Date')\n",
    "plt.xticks(rotation=45)\n",
    "plt.plot(data.index, data['y'], )\n",
    "plt.show()"
   ]
  },
  {
   "cell_type": "markdown",
   "id": "638e4ca6",
   "metadata": {},
   "source": [
    "We will split our data such that everything before June 2009 will serve as training data, with \n",
    "everything after June 19 2009 becoming the testing data:"
   ]
  },
  {
   "cell_type": "code",
   "execution_count": 65,
   "id": "7cc17bc6",
   "metadata": {},
   "outputs": [
    {
     "data": {
      "text/html": [
       "<div>\n",
       "<style scoped>\n",
       "    .dataframe tbody tr th:only-of-type {\n",
       "        vertical-align: middle;\n",
       "    }\n",
       "\n",
       "    .dataframe tbody tr th {\n",
       "        vertical-align: top;\n",
       "    }\n",
       "\n",
       "    .dataframe thead th {\n",
       "        text-align: right;\n",
       "    }\n",
       "</style>\n",
       "<table border=\"1\" class=\"dataframe\">\n",
       "  <thead>\n",
       "    <tr style=\"text-align: right;\">\n",
       "      <th></th>\n",
       "      <th>y</th>\n",
       "    </tr>\n",
       "    <tr>\n",
       "      <th>date</th>\n",
       "      <th></th>\n",
       "    </tr>\n",
       "  </thead>\n",
       "  <tbody>\n",
       "    <tr>\n",
       "      <th>2009-06-19</th>\n",
       "      <td>30961</td>\n",
       "    </tr>\n",
       "    <tr>\n",
       "      <th>2009-06-20</th>\n",
       "      <td>33465</td>\n",
       "    </tr>\n",
       "    <tr>\n",
       "      <th>2009-06-21</th>\n",
       "      <td>12909</td>\n",
       "    </tr>\n",
       "    <tr>\n",
       "      <th>2009-06-22</th>\n",
       "      <td>7718</td>\n",
       "    </tr>\n",
       "    <tr>\n",
       "      <th>2009-06-23</th>\n",
       "      <td>11195</td>\n",
       "    </tr>\n",
       "    <tr>\n",
       "      <th>2009-06-24</th>\n",
       "      <td>4584</td>\n",
       "    </tr>\n",
       "    <tr>\n",
       "      <th>2009-06-25</th>\n",
       "      <td>14293</td>\n",
       "    </tr>\n",
       "  </tbody>\n",
       "</table>\n",
       "</div>"
      ],
      "text/plain": [
       "                y\n",
       "date             \n",
       "2009-06-19  30961\n",
       "2009-06-20  33465\n",
       "2009-06-21  12909\n",
       "2009-06-22   7718\n",
       "2009-06-23  11195\n",
       "2009-06-24   4584\n",
       "2009-06-25  14293"
      ]
     },
     "execution_count": 65,
     "metadata": {},
     "output_type": "execute_result"
    }
   ],
   "source": [
    "train = data[data.index < pd.to_datetime(\"2009-06-19\", format='%Y-%m-%d')]\n",
    "test = data[data.index >= pd.to_datetime(\"2009-06-19\", format='%Y-%m-%d')]\n",
    "test"
   ]
  },
  {
   "cell_type": "code",
   "execution_count": 66,
   "id": "454aba0b",
   "metadata": {},
   "outputs": [
    {
     "data": {
      "image/png": "[encoded data removed]",
      "text/plain": [
       "<Figure size 640x480 with 1 Axes>"
      ]
     },
     "metadata": {},
     "output_type": "display_data"
    }
   ],
   "source": [
    "plt.plot(train, color = \"black\", label = 'Training')\n",
    "plt.plot(test, color = \"red\", label = 'Testing')\n",
    "plt.ylabel('BTC Price')\n",
    "plt.xlabel('Date')\n",
    "plt.xticks(rotation=45)\n",
    "plt.title(\"Train/Test split for BTC Data\")\n",
    "plt.show()"
   ]
  },
  {
   "cell_type": "code",
   "execution_count": 67,
   "id": "0d2164b3",
   "metadata": {},
   "outputs": [
    {
     "data": {
      "image/png": "[encoded data removed]",
      "text/plain": [
       "<Figure size 640x480 with 1 Axes>"
      ]
     },
     "metadata": {},
     "output_type": "display_data"
    }
   ],
   "source": [
    "from statsmodels.tsa.statespace.sarimax import SARIMAX\n",
    "from statsmodels.tsa.arima_model import ARIMA\n",
    "\n",
    "#relax the display limits on columns and rows\n",
    "pd.set_option('display.max_columns', None)\n",
    "pd.set_option('display.max_rows', None)\n",
    "\n",
    "y = train['y']\n",
    "\n",
    "ARMAmodel = SARIMAX(y, order = (1, 0, 1))\n",
    "ARMAmodel = ARMAmodel.fit()\n",
    "\n",
    "y_pred = ARMAmodel.get_forecast(len(test.index))\n",
    "y_pred_data = y_pred.conf_int(alpha = 0.05) \n",
    "y_pred_data[\"Predictions\"] = ARMAmodel.predict(start = y_pred_data.index[0], \n",
    "                                             end = y_pred_data.index[-1])\n",
    "y_pred_data.index = test.index\n",
    "y_pred_outARMA = y_pred_data[\"Predictions\"] \n",
    "\n",
    "plt.plot(data_train, color = \"black\", label = 'Training')\n",
    "plt.plot(data_test, color = \"red\", label = 'Testing')\n",
    "plt.ylabel('Sentiment')\n",
    "plt.xlabel('Date')\n",
    "plt.xticks(rotation=45)\n",
    "plt.title(\"Train/Test split for sentiment Data\")\n",
    "plt.plot(y_pred_outARMA, color='green', label = 'ARMA Predictions')\n",
    "plt.legend()\n",
    "plt.show()"
   ]
  },
  {
   "cell_type": "code",
   "execution_count": 68,
   "id": "374f983c",
   "metadata": {},
   "outputs": [
    {
     "name": "stdout",
     "output_type": "stream",
     "text": [
      "ARMA RMSE:  8900.10683844985\n"
     ]
    }
   ],
   "source": [
    "import numpy as np\n",
    "from sklearn.metrics import mean_squared_error\n",
    "\n",
    "arma_rmse = np.sqrt(mean_squared_error(test[\"y\"].values, y_pred_data[\"Predictions\"]))\n",
    "print(\"ARMA RMSE: \",arma_rmse)"
   ]
  },
  {
   "cell_type": "code",
   "execution_count": 69,
   "id": "216e01ad",
   "metadata": {},
   "outputs": [],
   "source": [
    "#ARIMAmodel = SARIMAX(y, order = (2, 2, 2))\n",
    "#ARIMAmodel = SARIMAX(y, order = (2, 3, 2))\n",
    "ARIMAmodel = SARIMAX(y, order = (5, 4, 2))\n",
    "ARIMAmodel = ARIMAmodel.fit()\n",
    "\n",
    "y_pred = ARIMAmodel.get_forecast(len(test.index))\n",
    "y_pred_data = y_pred.conf_int(alpha = 0.05) \n",
    "y_pred_data[\"Predictions\"] = ARIMAmodel.predict(start = y_pred_data.index[0],\n",
    "                                              end = y_pred_data.index[-1])\n",
    "y_pred_data.index = test.index\n",
    "y_pred_outARIMA = y_pred_data[\"Predictions\"]"
   ]
  },
  {
   "cell_type": "code",
   "execution_count": 70,
   "id": "583bb976",
   "metadata": {},
   "outputs": [
    {
     "data": {
      "image/png": "[encoded data removed]",
      "text/plain": [
       "<Figure size 640x480 with 1 Axes>"
      ]
     },
     "metadata": {},
     "output_type": "display_data"
    }
   ],
   "source": [
    "plt.plot(train, color = \"black\", label = 'Training')\n",
    "plt.plot(test, color = \"red\", label = 'Testing')\n",
    "plt.ylabel('Sentiment')\n",
    "plt.xlabel('Date')\n",
    "plt.xticks(rotation=45)\n",
    "plt.title(\"Train/Test split for sentiment\")\n",
    "plt.plot(y_pred_outARMA, color='green', label = 'ARMA Predictions')\n",
    "plt.plot(y_pred_outARIMA, color='Yellow', label = 'ARIMA Predictions')\n",
    "plt.legend()\n",
    "plt.show()"
   ]
  },
  {
   "cell_type": "code",
   "execution_count": 71,
   "id": "0af1f27b",
   "metadata": {},
   "outputs": [
    {
     "name": "stdout",
     "output_type": "stream",
     "text": [
      "ARIMA RMSE:  14638.902124278036\n"
     ]
    }
   ],
   "source": [
    "arma_rmse = np.sqrt(mean_squared_error(test[\"y\"].values, y_pred_data[\"Predictions\"]))\n",
    "print(\"ARIMA RMSE: \",arma_rmse)"
   ]
  },
  {
   "cell_type": "markdown",
   "id": "96139d0d",
   "metadata": {},
   "source": [
    "*SARIMA model*"
   ]
  },
  {
   "cell_type": "code",
   "execution_count": 72,
   "id": "93c4ca36",
   "metadata": {},
   "outputs": [],
   "source": [
    "SARIMAXmodel = SARIMAX(y, order = (2,2,2), seasonal_order=(2,2,2,12))\n",
    "SARIMAXmodel = SARIMAXmodel.fit()\n",
    "\n",
    "y_pred = SARIMAXmodel.get_forecast(len(test.index))\n",
    "y_pred_data = y_pred.conf_int(alpha = 0.05) \n",
    "y_pred_data[\"Predictions\"] = SARIMAXmodel.predict(start = y_pred_data.index[0],\n",
    "                                                end = y_pred_data.index[-1])\n",
    "y_pred_data.index = test.index\n",
    "y_pred_outSARIMAX = y_pred_data[\"Predictions\"] "
   ]
  },
  {
   "cell_type": "code",
   "execution_count": 73,
   "id": "f8962314",
   "metadata": {},
   "outputs": [
    {
     "data": {
      "image/png": "[encoded data removed]",
      "text/plain": [
       "<Figure size 640x480 with 1 Axes>"
      ]
     },
     "metadata": {},
     "output_type": "display_data"
    }
   ],
   "source": [
    "plt.plot(train, color = \"black\", label = 'Training')\n",
    "plt.plot(test, color = \"red\", label = 'Testing')\n",
    "plt.ylabel('Sentiment')\n",
    "plt.xlabel('Date')\n",
    "plt.xticks(rotation=45)\n",
    "plt.title(\"Train/Test split for BTC Data\")\n",
    "plt.plot(y_pred_outARMA, color='green', label = 'ARMA Predictions')\n",
    "plt.plot(y_pred_outARIMA, color='Yellow', label = 'ARIMA Predictions')\n",
    "plt.plot(y_pred_outSARIMAX, color='Blue', label = 'SARIMA Predictions')\n",
    "plt.legend()\n",
    "plt.show()"
   ]
  },
  {
   "cell_type": "code",
   "execution_count": 74,
   "id": "4c8a1af9",
   "metadata": {},
   "outputs": [
    {
     "name": "stdout",
     "output_type": "stream",
     "text": [
      "SARIMA RMSE:  30934.474390010742\n"
     ]
    }
   ],
   "source": [
    "arma_rmse = np.sqrt(mean_squared_error(test[\"y\"].values, y_pred_data[\"Predictions\"]))\n",
    "print(\"SARIMA RMSE: \",arma_rmse)"
   ]
  },
  {
   "cell_type": "code",
   "execution_count": null,
   "id": "0bef278d",
   "metadata": {},
   "outputs": [],
   "source": []
  },
  {
   "cell_type": "code",
   "execution_count": 75,
   "id": "41f64edb",
   "metadata": {
    "scrolled": false
   },
   "outputs": [],
   "source": [
    "#Visualisation\n",
    "#data[\"y\"].plot(figsize = (8, 4), legend = True)"
   ]
  },
  {
   "cell_type": "code",
   "execution_count": 76,
   "id": "c3bf5928",
   "metadata": {},
   "outputs": [],
   "source": [
    "#Training and test set \n",
    "#We will use the last month of 2012 --> December 2012\n",
    "#test_days = 30\n",
    "#training_set = data.iloc[:-test_days, :] # it will be everything else\n",
    "#test_set = data.iloc[-test_days:, :] # last 31 days. it will be closer to the last days, closer to the reality"
   ]
  },
  {
   "cell_type": "code",
   "execution_count": 77,
   "id": "f324bf06",
   "metadata": {
    "scrolled": true
   },
   "outputs": [],
   "source": [
    "#training_set.tail(2)"
   ]
  },
  {
   "cell_type": "code",
   "execution_count": 78,
   "id": "d21f8605",
   "metadata": {
    "scrolled": true
   },
   "outputs": [],
   "source": [
    "#test_set.head(2)"
   ]
  },
  {
   "cell_type": "code",
   "execution_count": 79,
   "id": "37137188",
   "metadata": {},
   "outputs": [],
   "source": [
    "#We create the model\n",
    "#model = ExponentialSmoothing(endog = training_set.y,\n",
    "                    #         trend = 'add',\n",
    "                      #       seasonal = 'add',\n",
    "                         #    seasonal_periods = 7).fit()"
   ]
  },
  {
   "cell_type": "code",
   "execution_count": 80,
   "id": "35e5cbd8",
   "metadata": {
    "scrolled": true
   },
   "outputs": [],
   "source": [
    "#Predictions\n",
    "#predictions_hw = model.forecast(steps = len(test_set)).rename(\"HW\")\n",
    "#predictions_hw.head()\n",
    "\n",
    "#we want to predict the size of the test set"
   ]
  },
  {
   "cell_type": "code",
   "execution_count": 81,
   "id": "bc94b727",
   "metadata": {},
   "outputs": [],
   "source": [
    "#Visualisation of our model\n",
    "#training_set['y'].plot(figsize = (7,4), legend = True)"
   ]
  },
  {
   "cell_type": "code",
   "execution_count": 82,
   "id": "5c8add64",
   "metadata": {},
   "outputs": [],
   "source": [
    "#Importing special library\n",
    "#from statsmodels.tsa.holtwinters import ExponentialSmoothing"
   ]
  },
  {
   "cell_type": "code",
   "execution_count": 83,
   "id": "b23185cf",
   "metadata": {
    "scrolled": true
   },
   "outputs": [],
   "source": [
    "#Visualisation of our model\n",
    "#training_set['y'].plot(figsize = (7,4), legend = True)\n",
    "#test_set['y'].plot(legend = True)"
   ]
  },
  {
   "cell_type": "code",
   "execution_count": 84,
   "id": "d3d36d07",
   "metadata": {
    "scrolled": false
   },
   "outputs": [],
   "source": [
    "#Visualisation of our model\n",
    "#training_set['y'].plot(figsize = (7,4), legend = True)\n",
    "#test_set['y'].plot(legend = True)\n",
    "#predictions_hw.plot(legend = True)"
   ]
  },
  {
   "cell_type": "code",
   "execution_count": 85,
   "id": "31398883",
   "metadata": {
    "scrolled": false
   },
   "outputs": [],
   "source": [
    "#Visualisation of our model using less data to see closer (let's use the last 6 months)\n",
    "#training_set['y']['2008-06-10':].plot(figsize = (7,4), legend = True)\n",
    "#test_set['y'].plot(legend = True)\n",
    "#predictions_hw.plot(legend = True)"
   ]
  },
  {
   "cell_type": "code",
   "execution_count": 86,
   "id": "4dee53bc",
   "metadata": {},
   "outputs": [],
   "source": [
    "#We analyse MAE and RMSE\n",
    "#from sklearn.metrics import mean_squared_error, mean_absolute_error\n",
    "#print(round(mean_absolute_error(test_set['y'], predictions_hw),0))\n",
    "#we round the number, and I will include 0 because I don't want decimals in the result for the visualisation\n",
    "#print(round(np.sqrt(mean_squared_error(test_set['y'], predictions_hw)), 0))\n",
    "#we round the number, and I will include 0 because I don't want decimals in the result for the visualisation"
   ]
  },
  {
   "cell_type": "code",
   "execution_count": 87,
   "id": "b7b2ada5",
   "metadata": {},
   "outputs": [],
   "source": [
    "#MAPE function\n",
    "#we trying to identify different rates of the variables that we have, then we will see whether is suitable for us or not\n",
    "# how they are actually impacting\n",
    "# this is not the best model, the accuracy is very low. We need to check with another model\n",
    "#SARIMAX is a better model for seasonal data, like this one ### 1.22\n",
    "#def MAPE(y_true, y_pred):\n",
    " # y_true, y_pred = np.array(y_true), np.array(y_pred)\n",
    "  #return np.mean(np.abs((y_true - y_pred) / y_true)) * 100\n",
    "#MAPE(test_set['y'], predictions_hw)"
   ]
  },
  {
   "cell_type": "code",
   "execution_count": 88,
   "id": "4cbd52f8",
   "metadata": {},
   "outputs": [],
   "source": [
    "#!pip install pmdarima"
   ]
  },
  {
   "cell_type": "code",
   "execution_count": 89,
   "id": "8fc08027",
   "metadata": {},
   "outputs": [],
   "source": [
    "#from statsmodels.tsa.statespace.sarimax import SARIMAX\n",
    "#from statsmodels.tsa.arima_model import ARIMA\n",
    "\n",
    "#relax the display limits on columns and rows\n",
    "#pd.set_option('display.max_columns', None)\n",
    "#pd.set_option('display.max_rows', None)"
   ]
  },
  {
   "cell_type": "code",
   "execution_count": 90,
   "id": "73231739",
   "metadata": {
    "scrolled": true
   },
   "outputs": [],
   "source": [
    "#Training and test set\n",
    "#test_days = 30\n",
    "#training_set = data.iloc[:-test_days, :]\n",
    "#test_set = data.iloc[-test_days:, :]\n",
    "#test_set.tail(5)"
   ]
  },
  {
   "cell_type": "code",
   "execution_count": 91,
   "id": "d31e0c4e",
   "metadata": {},
   "outputs": [],
   "source": [
    "#SARIMAX\n",
    "\n",
    "#exogenous variables\n",
    "#train_exog = data.iloc[:-test_days, :]\n",
    "#test_exog = data.iloc[-test_days:, :] \n",
    "#test_exog.head()"
   ]
  },
  {
   "cell_type": "code",
   "execution_count": 92,
   "id": "a8a74e6b",
   "metadata": {},
   "outputs": [],
   "source": [
    "#Import especial library\n",
    "#from pmdarima import auto_arima"
   ]
  },
  {
   "cell_type": "code",
   "execution_count": 93,
   "id": "c42b096f",
   "metadata": {},
   "outputs": [],
   "source": [
    "#Forecasting model\n",
    "#model = auto_arima(y = training_set['y'],\n",
    "                  # X = train_exog,\n",
    "                  # m = 7,\n",
    "                  # seasonal = True,\n",
    "                  # stepwise = False)"
   ]
  },
  {
   "cell_type": "code",
   "execution_count": 94,
   "id": "bdccec46",
   "metadata": {
    "scrolled": true
   },
   "outputs": [],
   "source": [
    "#Information of the model\n",
    "#model.summary()"
   ]
  },
  {
   "cell_type": "code",
   "execution_count": 95,
   "id": "57c8d9b8",
   "metadata": {
    "scrolled": true
   },
   "outputs": [],
   "source": [
    "#Predictions\n",
    "#predictions_sarimax = pd.Series(model.predict(n_periods= test_days,\n",
    " #                             X = test_exog)).rename(\"SARIMAX\")\n",
    "#predictions_sarimax.index = test_set.index                              \n",
    "#predictions_sarimax"
   ]
  },
  {
   "cell_type": "code",
   "execution_count": 96,
   "id": "4ac3f4cd",
   "metadata": {
    "scrolled": true
   },
   "outputs": [],
   "source": [
    "#Visualisation of the model\n",
    "#training_set['y']['2009-04-20':].plot(figsize = (7,4), legend = True)\n",
    "#test_set['y'].plot(legend = True)\n",
    "#predictions_sarimax.plot(legend = True)"
   ]
  },
  {
   "cell_type": "code",
   "execution_count": 97,
   "id": "c912e90f",
   "metadata": {},
   "outputs": [],
   "source": [
    "#MODEL ASSESSMENT\n",
    "#MAE and RMSE\n",
    "#from sklearn.metrics import mean_squared_error, mean_absolute_error\n",
    "#print(round(mean_absolute_error(test_set['y'], predictions_sarimax),0))\n",
    "#print(round(np.sqrt(mean_squared_error(test_set['y'], predictions_sarimax)), 0))"
   ]
  },
  {
   "cell_type": "code",
   "execution_count": 98,
   "id": "9cf14078",
   "metadata": {},
   "outputs": [],
   "source": [
    "#MAPE function\n",
    "#def MAPE(y_true, y_pred):\n",
    " # y_true, y_pred = np.array(y_true), np.array(y_pred)\n",
    " # return np.mean(np.abs((y_true - y_pred) / y_true)) * 100\n",
    "#MAPE(test_set['y'], predictions_sarimax)"
   ]
  },
  {
   "cell_type": "code",
   "execution_count": 99,
   "id": "e9ac113c",
   "metadata": {},
   "outputs": [],
   "source": [
    "#from statsmodels.tsa.seasonal import seasonal_decompose\n",
    "#from dateutil.parser import parse\n",
    "#%matplotlib inline\n",
    "\n",
    "# Import Data\n",
    "#df = pd.read_csv('https://raw.githubusercontent.com/selva86/datasets/master/a10.csv', parse_dates=['date'], index_col='date')\n",
    "\n",
    "# Multiplicative Decomposition \n",
    "#result_mul = seasonal_decompose(data['sentiment'], model='multiplicative', extrapolate_trend='freq')\n",
    "\n",
    "# Additive Decomposition\n",
    "#result_add = seasonal_decompose(data['sentiment'], model='additive', extrapolate_trend='freq')\n",
    "\n",
    "# Plot\n",
    "#plt.rcParams.update({'figure.figsize': (10,10)})\n",
    "#result_mul.plot().suptitle('Multiplicative Decompose', fontsize=22)\n",
    "#result_add.plot().suptitle('Additive Decompose', fontsize=22)\n",
    "#plt.show()"
   ]
  },
  {
   "cell_type": "code",
   "execution_count": 100,
   "id": "8dc253da",
   "metadata": {},
   "outputs": [],
   "source": [
    "#Data Descomposition\n",
    "#from statsmodels.tsa.seasonal import seasonal_decompose\n",
    "#decomposition = seasonal_decompose(daily_data.index)\n",
    "#decomposition.plot();"
   ]
  },
  {
   "cell_type": "code",
   "execution_count": 101,
   "id": "d04cffe9",
   "metadata": {},
   "outputs": [],
   "source": [
    "#Seasonal decomposition --> We use multiplicative method\n",
    "\n",
    "#from statsmodels.tsa.seasonal import seasonal_decompose\n",
    "#decomposition = seasonal_decompose(daily_data[\"sentiment\"], # dependent variable\n",
    "                                  # model = \"additive\", period=365)\n",
    "                                    #freq = 365 # we want to analize by yeat \n",
    "#decomposition.plot();"
   ]
  },
  {
   "cell_type": "code",
   "execution_count": 102,
   "id": "9d958c66",
   "metadata": {},
   "outputs": [],
   "source": [
    "# Time series data source: fpp pacakge data.\n",
    "#import matplotlib.pyplot as plt\n",
    "#df = pd.read_csv('https://raw.githubusercontent.com/selva86/datasets/master/a10.csv', parse_dates=['date'], index_col='date')\n",
    "\n",
    "# Draw Plot\n",
    "#def plot_daily_data(daily_data, x, y, title=\"\", xlabel='date', ylabel='sentiment', dpi=100):\n",
    "  #  plt.figure(figsize=(16,5), dpi=dpi)\n",
    "   # plt.plot(x, y, color='tab:red')\n",
    "  #  plt.gca().set(title=title, xlabel=xlabel, ylabel=ylabel)\n",
    "  #  plt.show()\n",
    "\n",
    "#plot_daily_data(daily_data, x=daily_data.index, y=daily_data.sentiment, title='Monthly anti-diabetic drug sales in Australia from 1992 to 2008.')    "
   ]
  },
  {
   "cell_type": "code",
   "execution_count": 103,
   "id": "d03c2208",
   "metadata": {},
   "outputs": [],
   "source": [
    "# Draw Plot\n",
    "#def plot_data(data, x, y, title=\"\", xlabel='Date', ylabel='sentiment', dpi=100):\n",
    "   # plt.figure(figsize=(16,5), dpi=dpi)\n",
    "   # plt.plot(x, y, color='tab:red')\n",
    "   # plt.gca().set(title=title, xlabel=xlabel, ylabel=ylabel)\n",
    "   # plt.show()\n",
    "\n",
    "#plot_data(data, x=data.index, y=data.sentiment, title='Daily sentiment for project data.')    "
   ]
  },
  {
   "cell_type": "code",
   "execution_count": 104,
   "id": "45ed1252",
   "metadata": {},
   "outputs": [],
   "source": [
    "#Seasonal decomposition --> We use multiplicative method\n",
    "\n",
    "#from statsmodels.tsa.seasonal import seasonal_decompose\n",
    "#decomposition = seasonal_decompose(data[\"sentiment\"], # dependent variable\n",
    "                                #   model = \"additive\", period=365)\n",
    "                                    #freq = 365 # we want to analize by yeat \n",
    "#decomposition.plot();"
   ]
  },
  {
   "cell_type": "code",
   "execution_count": 105,
   "id": "db66f310",
   "metadata": {},
   "outputs": [],
   "source": [
    "#Data Descomposition\n",
    "#from statsmodels.tsa.seasonal import seasonal_decompose\n",
    "#decomposition = seasonal_decompose(data.index)\n",
    "#decomposition.plot();"
   ]
  },
  {
   "cell_type": "code",
   "execution_count": 106,
   "id": "ffd84155",
   "metadata": {},
   "outputs": [],
   "source": [
    "#from statsmodels.tsa.seasonal import seasonal_decompose\n",
    "#from dateutil.parser import parse\n",
    "#%matplotlib inline\n",
    "\n",
    "# Import Data\n",
    "#df = pd.read_csv('https://raw.githubusercontent.com/selva86/datasets/master/a10.csv', parse_dates=['date'], index_col='date')\n",
    "\n",
    "# Multiplicative Decomposition \n",
    "#result_mul = seasonal_decompose(data['sentiment'], model='multiplicative', extrapolate_trend='freq')\n",
    "\n",
    "# Additive Decomposition\n",
    "#result_add = seasonal_decompose(data['sentiment'], model='additive', extrapolate_trend='freq')\n",
    "\n",
    "# Plot\n",
    "#plt.rcParams.update({'figure.figsize': (10,10)})\n",
    "#result_mul.plot().suptitle('Multiplicative Decompose', fontsize=22)\n",
    "#result_add.plot().suptitle('Additive Decompose', fontsize=22)\n",
    "#plt.show()"
   ]
  },
  {
   "cell_type": "code",
   "execution_count": 107,
   "id": "36505d0e",
   "metadata": {},
   "outputs": [],
   "source": [
    "#data = data.set_index('date')\n",
    "#data = data.sort_index()\n",
    "#data.head()"
   ]
  },
  {
   "cell_type": "code",
   "execution_count": 108,
   "id": "e84c8afc",
   "metadata": {},
   "outputs": [],
   "source": [
    "# Draw Plot\n",
    "#def plot_data(data, x, y, title=\"\", xlabel='Date', ylabel='sentiment', dpi=100):\n",
    " #   plt.figure(figsize=(16,5), dpi=dpi)\n",
    "  #  plt.plot(x, y, color='tab:red')\n",
    "   # plt.gca().set(title=title, xlabel=xlabel, ylabel=ylabel)\n",
    "    #plt.show()\n",
    "\n",
    "#plot_data(data, x=data.index, y=data.sentiment, title='Daily sentiment for project data.')    "
   ]
  },
  {
   "cell_type": "code",
   "execution_count": 109,
   "id": "51b5eb2b",
   "metadata": {},
   "outputs": [],
   "source": [
    "#sns.set()\n",
    "#plt.ylabel('Daily sentiment')\n",
    "#plt.xlabel('Date')\n",
    "#plt.xticks(rotation=45)\n",
    "#plt.plot(data.index, btc['BTC-USD'], )\n",
    "#plt.show()"
   ]
  },
  {
   "cell_type": "code",
   "execution_count": 110,
   "id": "08508b71",
   "metadata": {},
   "outputs": [],
   "source": [
    "#data = data.drop_duplicates('date').sort_values(by=['date'], ascending=True)"
   ]
  },
  {
   "cell_type": "code",
   "execution_count": 111,
   "id": "a10b4f99",
   "metadata": {},
   "outputs": [],
   "source": [
    "#data.shape"
   ]
  },
  {
   "cell_type": "code",
   "execution_count": 112,
   "id": "0cd2b0ed",
   "metadata": {},
   "outputs": [],
   "source": [
    "# plot the dataset\n",
    "#ax = data.plot()\n",
    "#ax.set_ylabel('sentiment')\n",
    "#plt.show()"
   ]
  },
  {
   "cell_type": "code",
   "execution_count": 113,
   "id": "e8c23d4e",
   "metadata": {},
   "outputs": [],
   "source": [
    "#indexeddata.index\n",
    "#data = data.set_index('date')\n",
    "#data = data.sort_index()\n",
    "#data.head()"
   ]
  },
  {
   "cell_type": "code",
   "execution_count": 114,
   "id": "4060e546",
   "metadata": {},
   "outputs": [],
   "source": [
    "#data.index"
   ]
  },
  {
   "cell_type": "code",
   "execution_count": 115,
   "id": "cbf08b34",
   "metadata": {},
   "outputs": [],
   "source": [
    "#data = data.asfreq('D')\n",
    "#data = data.sort_index()\n",
    "#data.head()"
   ]
  },
  {
   "cell_type": "code",
   "execution_count": 116,
   "id": "0507e28e",
   "metadata": {},
   "outputs": [],
   "source": [
    "#data = pd.date_range(start=\"2009-04-06\", end=\"2009-04-12\", freq='D')"
   ]
  },
  {
   "cell_type": "code",
   "execution_count": 117,
   "id": "b7a509ea",
   "metadata": {},
   "outputs": [],
   "source": [
    "#data.head()"
   ]
  },
  {
   "cell_type": "code",
   "execution_count": 118,
   "id": "a905236c",
   "metadata": {},
   "outputs": [],
   "source": [
    "#daily_tweet_count = data['Tweet_ID'].resample('D').count()\n",
    "#daily_tweet_count = data['Tweet_ID'].resample('W').count()"
   ]
  },
  {
   "cell_type": "code",
   "execution_count": 119,
   "id": "2723ee67",
   "metadata": {
    "scrolled": true
   },
   "outputs": [],
   "source": [
    "#daily_tweet_count.head()"
   ]
  },
  {
   "cell_type": "code",
   "execution_count": 120,
   "id": "0af6fc07",
   "metadata": {},
   "outputs": [],
   "source": [
    "#data.index"
   ]
  },
  {
   "cell_type": "code",
   "execution_count": 121,
   "id": "07b771ad",
   "metadata": {
    "scrolled": false
   },
   "outputs": [],
   "source": [
    "# Plot the time series of daily tweet count\n",
    "#plt.figure(figsize=(10, 6))\n",
    "#daily_tweet_count.plot()\n",
    "#plt.xlabel('Date')\n",
    "#plt.ylabel('Tweet Count')\n",
    "#plt.title('Daily sentiment Count')\n",
    "#plt.show()"
   ]
  },
  {
   "cell_type": "code",
   "execution_count": 122,
   "id": "f7f57eed",
   "metadata": {},
   "outputs": [],
   "source": [
    "# plot the dataset\n",
    "#ax = daily_tweet_count.plot()\n",
    "#ax.set_ylabel('Tweet count')\n",
    "#plt.show()"
   ]
  },
  {
   "cell_type": "code",
   "execution_count": 123,
   "id": "9b316e05",
   "metadata": {},
   "outputs": [],
   "source": [
    "#daily_sentiment_count = data['sentiment'].resample('D').count()"
   ]
  },
  {
   "cell_type": "code",
   "execution_count": 124,
   "id": "0bdf974d",
   "metadata": {},
   "outputs": [],
   "source": [
    "#daily_sentiment_count.head()"
   ]
  },
  {
   "cell_type": "code",
   "execution_count": 125,
   "id": "b0c262c0",
   "metadata": {},
   "outputs": [],
   "source": [
    "# Plot the time series of daily sentiment count\n",
    "#plt.figure(figsize=(12, 6))\n",
    "#daily_tweet_count.plot()\n",
    "#plt.xlabel('Date')\n",
    "#plt.ylabel('Sentiment')\n",
    "#plt.title('Daily sentiment Count')\n",
    "#plt.show()"
   ]
  },
  {
   "cell_type": "code",
   "execution_count": 126,
   "id": "26c6c2f7",
   "metadata": {},
   "outputs": [],
   "source": [
    "#data = data[['date', 'sentiment']]\n",
    "#daily_tweet_count.head()"
   ]
  },
  {
   "cell_type": "code",
   "execution_count": 127,
   "id": "71b9f17e",
   "metadata": {},
   "outputs": [],
   "source": [
    "#data.shape"
   ]
  },
  {
   "cell_type": "code",
   "execution_count": 128,
   "id": "a4084b4b",
   "metadata": {},
   "outputs": [],
   "source": [
    "#Seasonal decomposition --> We use multiplicative method\n",
    "\n",
    "#from statsmodels.tsa.seasonal import seasonal_decompose\n",
    "#decomposition = seasonal_decompose(data_da[\"sentiment\"], # dependent variable\n",
    "                                  # model = \"additive\", period=365)\n",
    "                                    #freq = 365 # we want to analize by yeat \n",
    "#decomposition.plot();"
   ]
  },
  {
   "cell_type": "code",
   "execution_count": 129,
   "id": "76ade0f9",
   "metadata": {
    "scrolled": true
   },
   "outputs": [],
   "source": [
    "#data = data[['date', 'sentiment']]\n",
    "#daily_tweet_count.head()"
   ]
  },
  {
   "cell_type": "code",
   "execution_count": 130,
   "id": "9e350c4f",
   "metadata": {},
   "outputs": [],
   "source": [
    "#data = data[['sentiment']]\n",
    "#data.head()"
   ]
  },
  {
   "cell_type": "code",
   "execution_count": 131,
   "id": "f5410a51",
   "metadata": {},
   "outputs": [],
   "source": [
    "#pip install hvplot"
   ]
  },
  {
   "cell_type": "code",
   "execution_count": 132,
   "id": "4aab6388",
   "metadata": {},
   "outputs": [],
   "source": [
    "#from matplotlib.figure import Figure\n",
    "#from matplotlib.backends.backend_agg import FigureCanvas\n",
    "\n",
    "#%matplotlib inline\n",
    "\n",
    "#def mpl_plot(avg, highlight):\n",
    "#    fig = Figure()\n",
    " #   FigureCanvas(fig) # not needed in mpl >= 3.1\n",
    "  #  ax = fig.add_subplot()\n",
    " #   avg.plot(ax=ax)\n",
    "  #  if len(highlight): highlight.plot(style='o', ax=ax)\n",
    "  #  return fig\n",
    "\n",
    "#def find_outliers(variable='sentiment', window=30, sigma=10, view_fn=mpl_plot):\n",
    " #   avg = data[variable].rolling(window=window).mean()\n",
    "   # residual = data[variable] - avg\n",
    "   # std = residual.rolling(window=window).std()\n",
    "  #  outliers = (np.abs(residual) > std * sigma)\n",
    "  #  return view_fn(avg, avg[outliers])"
   ]
  },
  {
   "cell_type": "code",
   "execution_count": 133,
   "id": "f1245701",
   "metadata": {},
   "outputs": [],
   "source": [
    "#find_outliers(variable='sentiment', window=20, sigma=10)"
   ]
  },
  {
   "cell_type": "code",
   "execution_count": 134,
   "id": "dab5a04e",
   "metadata": {},
   "outputs": [],
   "source": [
    "#import panel as pn\n",
    "#pn.extension()\n",
    "\n",
    "#pn.interact(find_outliers)"
   ]
  },
  {
   "cell_type": "code",
   "execution_count": 135,
   "id": "77c7b9a0",
   "metadata": {},
   "outputs": [],
   "source": [
    "#kw = dict(window=(1, 60), variable=sorted(list(data.columns)), sigma=(1, 20))\n",
    "#i = pn.interact(find_outliers, **kw)\n",
    "#i.pprint()"
   ]
  },
  {
   "cell_type": "code",
   "execution_count": 136,
   "id": "3ff8b72d",
   "metadata": {},
   "outputs": [],
   "source": [
    "#import param\n",
    "\n",
    "#class Sentiment(param.Parameterized):\n",
    " #   variable  = param.Selector(objects=list(data.columns))\n",
    "  #  window    = param.Integer(default=10, bounds=(1, 20))\n",
    "   # sigma     = param.Number(default=10, bounds=(0, 20))\n",
    "\n",
    " #   def view(self):\n",
    "  #      return find_outliers(self.variable, self.window, self.sigma)\n",
    "    \n",
    "#obj = Sentiment()\n",
    "#obj"
   ]
  },
  {
   "cell_type": "code",
   "execution_count": 137,
   "id": "a4e1b716",
   "metadata": {},
   "outputs": [],
   "source": [
    "#pn.Row(obj.param, obj.view)"
   ]
  },
  {
   "cell_type": "code",
   "execution_count": 138,
   "id": "2b0c1a44",
   "metadata": {},
   "outputs": [],
   "source": [
    "#text = \"<br>\\n# Room Occupancy\\nSelect the variable, and the time window for smoothing\"\n",
    "\n",
    "#p = pn.Row(i[1][0], pn.Column(text, i[0][0], i[0][1]))\n",
    "#p"
   ]
  },
  {
   "cell_type": "code",
   "execution_count": 139,
   "id": "b30cca45",
   "metadata": {},
   "outputs": [],
   "source": [
    "#import hvplot.pandas\n",
    "\n",
    "#def hvplot(avg, highlight):\n",
    " #   return avg.hvplot(height=200) * highlight.hvplot.scatter(color='orange', padding=0.1)\n",
    "\n",
    "#text2 = \"## Sentiment\\nSelect the variable and the smoothing values\"\n",
    "#hvp   = pn.interact(find_outliers, view_fn=hvplot, **kw)\n",
    "#pn.Column(pn.Row(pn.panel(text2, width=400), hvp[0]), hvp[1]).servable(\"sentiment\")"
   ]
  },
  {
   "cell_type": "code",
   "execution_count": 140,
   "id": "ca944f54",
   "metadata": {},
   "outputs": [],
   "source": [
    "#indexeddata.index\n",
    "#data = data.set_index('date')\n",
    "#data = data.asfreq('MS')\n",
    "#data = data.sort_index()\n",
    "#data.head()"
   ]
  },
  {
   "cell_type": "code",
   "execution_count": 141,
   "id": "4421bc1a",
   "metadata": {},
   "outputs": [],
   "source": [
    "#Checking null values\n",
    "#print(f'Number of rows with missing values: {data.isnull().any(axis=1).mean()}')"
   ]
  },
  {
   "cell_type": "code",
   "execution_count": 142,
   "id": "a0b8dcb3",
   "metadata": {},
   "outputs": [],
   "source": [
    "#We still have null values on my dataset\n",
    "#data.isnull().sum()"
   ]
  },
  {
   "cell_type": "code",
   "execution_count": 143,
   "id": "43fc1263",
   "metadata": {},
   "outputs": [],
   "source": [
    "#Checking for duplicates\n",
    "#duplicate_index = data[data.index.duplicated(keep='first')]\n",
    "#print(duplicate_index)"
   ]
  },
  {
   "cell_type": "code",
   "execution_count": 144,
   "id": "8e2207a8",
   "metadata": {},
   "outputs": [],
   "source": [
    "#data = data[~data.index.duplicated(keep='first')]"
   ]
  },
  {
   "cell_type": "code",
   "execution_count": 145,
   "id": "307f740a",
   "metadata": {},
   "outputs": [],
   "source": [
    "#duplicate_index = data[data.index.duplicated(keep='first')]\n",
    "#print(duplicate_index)"
   ]
  },
  {
   "cell_type": "code",
   "execution_count": 146,
   "id": "46d2a807",
   "metadata": {
    "scrolled": true
   },
   "outputs": [],
   "source": [
    "#data.index"
   ]
  },
  {
   "cell_type": "code",
   "execution_count": 147,
   "id": "9f14026a",
   "metadata": {},
   "outputs": [],
   "source": [
    "#data.shape"
   ]
  },
  {
   "cell_type": "code",
   "execution_count": 148,
   "id": "f10ebefb",
   "metadata": {},
   "outputs": [],
   "source": [
    "#Visualizing the data\n",
    "#plt.xlabel('date')\n",
    "#plt.ylabel('sentiment')\n",
    "#plt.plot(data)\n",
    "#It can be seen that data is increasing over time"
   ]
  },
  {
   "cell_type": "code",
   "execution_count": 149,
   "id": "e4b5d1f1",
   "metadata": {},
   "outputs": [],
   "source": [
    "#data = data.asfreq('D')\n",
    "#data = data.sort_index()\n",
    "#data.head()"
   ]
  },
  {
   "cell_type": "code",
   "execution_count": 150,
   "id": "18dbb70c",
   "metadata": {},
   "outputs": [],
   "source": [
    "#data.shape"
   ]
  },
  {
   "cell_type": "code",
   "execution_count": 151,
   "id": "f5c02e31",
   "metadata": {},
   "outputs": [],
   "source": [
    "#Sorting And Feature Engineering\n",
    "#sorted_data = data.sort_values(by='date')\n",
    "#sorted_data=data.copy()\n",
    "#sorted_data['date'] = pd.to_datetime(data['date']).data.date\n",
    "\n",
    "#sorted_data['year']         = pd.DatetimeIndex(sorted_data['date']).year\n",
    "#sorted_data['month']        = pd.DatetimeIndex(sorted_data['date']).month\n",
    "#sorted_data['day']          = pd.DatetimeIndex(sorted_data['date']).day"
   ]
  },
  {
   "cell_type": "code",
   "execution_count": 152,
   "id": "e9781792",
   "metadata": {},
   "outputs": [],
   "source": [
    "#data['date'].duplicated()"
   ]
  },
  {
   "cell_type": "code",
   "execution_count": 153,
   "id": "7e3f78ac",
   "metadata": {},
   "outputs": [],
   "source": [
    "#data['date'] = pd.to_datetime(data['date'],infer_datetime_format=True)\n",
    "#indexeddata = data.set_index(['date'])\n",
    "#indexeddata.head(5)"
   ]
  },
  {
   "cell_type": "code",
   "execution_count": 154,
   "id": "6880b22b",
   "metadata": {},
   "outputs": [],
   "source": [
    "#Rename the dependent variable\n",
    "#indexeddata = data.rename(columns = {'sentiment' : 'y'})\n",
    "#indexeddata.head(5)"
   ]
  },
  {
   "cell_type": "code",
   "execution_count": 155,
   "id": "7689df8e",
   "metadata": {},
   "outputs": [],
   "source": [
    "#Visualizing the data\n",
    "#plt.xlabel('date')\n",
    "#plt.ylabel('y')\n",
    "#plt.plot(indexeddata)\n",
    "#It can be seen that data is increasing over time"
   ]
  },
  {
   "cell_type": "code",
   "execution_count": 156,
   "id": "09ad35c9",
   "metadata": {},
   "outputs": [],
   "source": [
    "#data['date'] = pd.to_datetime(data['date']).dt.strftime('%Y-%m-%d %H:%M:%S') # '%Y-%m-%d %H:%M:%S'\n",
    "#indexeddata = data.set_index('date')\n",
    "#indexeddata.head()"
   ]
  },
  {
   "cell_type": "code",
   "execution_count": 157,
   "id": "439ed56c",
   "metadata": {},
   "outputs": [],
   "source": [
    "#Rename the dependent variable\n",
    "#indexeddata = data.rename(columns = {'sentiment' : 'y'})\n",
    "#indexeddata.head(5)"
   ]
  },
  {
   "cell_type": "code",
   "execution_count": 158,
   "id": "c81bdcf0",
   "metadata": {},
   "outputs": [],
   "source": [
    "#indexeddata.index\n",
    "#data = data.set_index('date')\n",
    "#data = data.asfreq('MS')\n",
    "#data = data.sort_index()\n",
    "#data.head()"
   ]
  },
  {
   "cell_type": "code",
   "execution_count": 159,
   "id": "13280aec",
   "metadata": {},
   "outputs": [],
   "source": [
    "#data = data.asfreq('D')\n",
    "#data = data.sort_index()\n",
    "#data.head()"
   ]
  },
  {
   "cell_type": "code",
   "execution_count": 160,
   "id": "40d671de",
   "metadata": {},
   "outputs": [],
   "source": [
    "#Visualizing the data\n",
    "#plt.xlabel('date')\n",
    "#plt.ylabel('y')\n",
    "#plt.plot(indexeddata)\n",
    "#It can be seen that data is increasing over time"
   ]
  },
  {
   "cell_type": "code",
   "execution_count": 161,
   "id": "355e54a2",
   "metadata": {},
   "outputs": [],
   "source": [
    "#data = data.asfreq('D')\n",
    "#data.index"
   ]
  },
  {
   "cell_type": "markdown",
   "id": "62074c48",
   "metadata": {},
   "source": [
    "References:\n",
    "\n",
    "https://www.w3schools.com/python/pandas/ref_df_get.asp#:~:text=The%20get()%20method%20returns,be%20a%20new%20DataFrame%20object.\n",
    "\n",
    "timeseries info:\n",
    "\n",
    "https://medium.com/analytics-vidhya/analysis-of-time-series-data-dad4afa56358\n",
    "\n",
    "https://twitterdev.github.io/do_more_with_twitter_data/timeseries.html\n",
    "\n",
    "https://pandas.pydata.org/docs/user_guide/timedeltas.html\n",
    "\n",
    "https://stackoverflow.com/questions/73126976/setting-time-frequency-makes-dataframes-values-all-null\n",
    "\n",
    "https://stackoverflow.com/questions/26342713/changing-time-frequency-in-pandas-dataframe\n",
    "\n",
    "https://stackoverflow.com/questions/54630027/how-to-set-frequency-with-pd-to-datetime?rq=3"
   ]
  }
 ],
 "metadata": {
  "kernelspec": {
   "display_name": "Python 3 (ipykernel)",
   "language": "python",
   "name": "python3"
  },
  "language_info": {
   "codemirror_mode": {
    "name": "ipython",
    "version": 3
   },
   "file_extension": ".py",
   "mimetype": "text/x-python",
   "name": "python",
   "nbconvert_exporter": "python",
   "pygments_lexer": "ipython3",
   "version": "3.11.4"
  }
 },
 "nbformat": 4,
 "nbformat_minor": 5
}
