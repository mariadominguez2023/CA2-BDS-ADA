{
 "cells": [
  {
   "cell_type": "markdown",
   "id": "3c49949a",
   "metadata": {},
   "source": [
    "## Movies.csv file stored in Hadoop"
   ]
  },
  {
   "cell_type": "markdown",
   "id": "422acaef",
   "metadata": {},
   "source": [
    "It will be read the dataset \"Movies\" and uses ML Libraries and some SQL queries"
   ]
  },
  {
   "cell_type": "code",
   "execution_count": 60,
   "id": "85baba9f",
   "metadata": {
    "scrolled": true
   },
   "outputs": [
    {
     "data": {
      "text/html": [
       "\n",
       "        <div>\n",
       "            <p><b>SparkContext</b></p>\n",
       "\n",
       "            <p><a href=\"http://10.0.2.15:4040\">Spark UI</a></p>\n",
       "\n",
       "            <dl>\n",
       "              <dt>Version</dt>\n",
       "                <dd><code>v3.2.4</code></dd>\n",
       "              <dt>Master</dt>\n",
       "                <dd><code>local[*]</code></dd>\n",
       "              <dt>AppName</dt>\n",
       "                <dd><code>PySparkShell</code></dd>\n",
       "            </dl>\n",
       "        </div>\n",
       "        "
      ],
      "text/plain": [
       "<SparkContext master=local[*] appName=PySparkShell>"
      ]
     },
     "execution_count": 60,
     "metadata": {},
     "output_type": "execute_result"
    }
   ],
   "source": [
    "sc"
   ]
  },
  {
   "cell_type": "code",
   "execution_count": 61,
   "id": "39d27f30",
   "metadata": {},
   "outputs": [
    {
     "data": {
      "text/plain": [
       "'local[*]'"
      ]
     },
     "execution_count": 61,
     "metadata": {},
     "output_type": "execute_result"
    }
   ],
   "source": [
    "# sc master - running locally\n",
    "sc.master"
   ]
  },
  {
   "cell_type": "code",
   "execution_count": 62,
   "id": "581a7f00",
   "metadata": {},
   "outputs": [],
   "source": [
    "# Import regex module\n",
    "import re\n",
    "from operator import add"
   ]
  },
  {
   "cell_type": "code",
   "execution_count": 63,
   "id": "1101b80b",
   "metadata": {},
   "outputs": [],
   "source": [
    "import warnings\n",
    "warnings.filterwarnings(\"ignore\")"
   ]
  },
  {
   "cell_type": "code",
   "execution_count": 64,
   "id": "909dff1d",
   "metadata": {},
   "outputs": [],
   "source": [
    "#pip install pandas"
   ]
  },
  {
   "cell_type": "code",
   "execution_count": 65,
   "id": "570fd445",
   "metadata": {},
   "outputs": [],
   "source": [
    "#pip install matplotlib"
   ]
  },
  {
   "cell_type": "code",
   "execution_count": 66,
   "id": "0dd082bf",
   "metadata": {},
   "outputs": [
    {
     "name": "stdout",
     "output_type": "stream",
     "text": [
      "+--------------------+--------------------+-----------------+\n",
      "|                 _c0|                 _c1|              _c2|\n",
      "+--------------------+--------------------+-----------------+\n",
      "|Production Budget(M)|Worldwide Gross I...|            Genre|\n",
      "|                  13|                 230|           action|\n",
      "|                  16|                 224|            drama|\n",
      "|                  15|                 221|thriller_suspense|\n",
      "|                  14|                 202|        adventure|\n",
      "+--------------------+--------------------+-----------------+\n",
      "only showing top 5 rows\n",
      "\n"
     ]
    }
   ],
   "source": [
    "# spark loading file.\n",
    "sc = spark.sparkContext\n",
    "\n",
    "#path\n",
    "path = \"/user3/Movies.csv\"\n",
    "file_path = 'file://///home/hduser/Downloads/Movies.csv'\n",
    "Movies = spark.read.csv(file_path)\n",
    "    \n",
    "Movies.show(5)"
   ]
  },
  {
   "cell_type": "code",
   "execution_count": 67,
   "id": "05867807",
   "metadata": {},
   "outputs": [],
   "source": [
    "from pyspark.sql import SparkSession "
   ]
  },
  {
   "cell_type": "code",
   "execution_count": 68,
   "id": "32d7d53f",
   "metadata": {},
   "outputs": [
    {
     "name": "stdout",
     "output_type": "stream",
     "text": [
      "+--------------------+--------------------------+-----------------+\n",
      "|Production Budget(M)|Worldwide Gross Income (M)|            Genre|\n",
      "+--------------------+--------------------------+-----------------+\n",
      "|                  13|                       230|           action|\n",
      "|                  16|                       224|            drama|\n",
      "|                  15|                       221|thriller_suspense|\n",
      "|                  14|                       202|        adventure|\n",
      "|                  16|                       198|        adventure|\n",
      "|                  14|                       180|           action|\n",
      "|                  18|                       178|           action|\n",
      "|                  14|                       176|        adventure|\n",
      "|                  13|                       176|        adventure|\n",
      "|                  17|                       175|        adventure|\n",
      "|                  18|                       175|        adventure|\n",
      "|                  16|                       172|        adventure|\n",
      "|                  19|                       167|           action|\n",
      "|                  17|                       165|           action|\n",
      "|                  16|                       155|          musical|\n",
      "|                  14|                       230|           action|\n",
      "|                   8|                       224|        adventure|\n",
      "|                   5|                       221|        adventure|\n",
      "|                   2|                       202|           action|\n",
      "|                   3|                       198|        adventure|\n",
      "+--------------------+--------------------------+-----------------+\n",
      "only showing top 20 rows\n",
      "\n"
     ]
    }
   ],
   "source": [
    "Movies = spark.read.csv('file://///home//hduser//Downloads//Movies.csv', inferSchema=True, header=True)\n",
    "Movies.show()"
   ]
  },
  {
   "cell_type": "markdown",
   "id": "ed7ac7b8",
   "metadata": {},
   "source": [
    "**Print the schema**"
   ]
  },
  {
   "cell_type": "code",
   "execution_count": 69,
   "id": "f3b24f66",
   "metadata": {},
   "outputs": [
    {
     "name": "stdout",
     "output_type": "stream",
     "text": [
      "root\n",
      " |-- Production Budget(M): integer (nullable = true)\n",
      " |-- Worldwide Gross Income (M): integer (nullable = true)\n",
      " |-- Genre: string (nullable = true)\n",
      "\n"
     ]
    }
   ],
   "source": [
    "#Type of columns\n",
    "Movies.printSchema()"
   ]
  },
  {
   "cell_type": "markdown",
   "id": "6fcba72e",
   "metadata": {},
   "source": [
    "**Check specific columns from the dataframe**"
   ]
  },
  {
   "cell_type": "code",
   "execution_count": 70,
   "id": "2060b15c",
   "metadata": {
    "scrolled": true
   },
   "outputs": [
    {
     "name": "stdout",
     "output_type": "stream",
     "text": [
      "+--------------------+\n",
      "|Production Budget(M)|\n",
      "+--------------------+\n",
      "|                  13|\n",
      "|                  16|\n",
      "|                  15|\n",
      "|                  14|\n",
      "|                  16|\n",
      "+--------------------+\n",
      "only showing top 5 rows\n",
      "\n"
     ]
    }
   ],
   "source": [
    "#Check column \"Production Budget (M)\"\n",
    "Movies.select('Production Budget(M)').show(5)"
   ]
  },
  {
   "cell_type": "code",
   "execution_count": 71,
   "id": "8406fc21",
   "metadata": {},
   "outputs": [
    {
     "name": "stdout",
     "output_type": "stream",
     "text": [
      "+-----------------+-----+\n",
      "|            genre|count|\n",
      "+-----------------+-----+\n",
      "|           action|   40|\n",
      "|thriller_suspense|    2|\n",
      "|          musical|    2|\n",
      "|        adventure|   53|\n",
      "|            drama|    2|\n",
      "|          western|    1|\n",
      "+-----------------+-----+\n",
      "\n"
     ]
    }
   ],
   "source": [
    "Movies.groupby('genre').count().show()"
   ]
  },
  {
   "cell_type": "markdown",
   "id": "f5863514",
   "metadata": {},
   "source": [
    "## Histograms"
   ]
  },
  {
   "cell_type": "code",
   "execution_count": 72,
   "id": "0dc851d1",
   "metadata": {},
   "outputs": [],
   "source": [
    "#pip install bokeh"
   ]
  },
  {
   "cell_type": "code",
   "execution_count": 84,
   "id": "cf2ea56a",
   "metadata": {},
   "outputs": [],
   "source": [
    "Movies_new = {'obs': Movies.select('genre').rdd.flatMap(lambda row: row).collect()}"
   ]
  },
  {
   "cell_type": "code",
   "execution_count": 85,
   "id": "627a5c66",
   "metadata": {
    "scrolled": false
   },
   "outputs": [
    {
     "data": {
      "text/plain": [
       "Text(0.5, 1.0, \"Histogram of 'genre' using .hist()\")"
      ]
     },
     "execution_count": 85,
     "metadata": {},
     "output_type": "execute_result"
    },
    {
     "data": {
      "image/png": "[encoded data removed]",
      "text/plain": [
       "<Figure size 792x432 with 1 Axes>"
      ]
     },
     "metadata": {
      "needs_background": "light"
     },
     "output_type": "display_data"
    }
   ],
   "source": [
    "import matplotlib.pyplot as plt\n",
    "fig = plt.figure(figsize=(11,6))\n",
    "ax = fig.add_subplot(1, 1, 1)\n",
    "\n",
    "ax.hist(Movies_new['obs'], bins=20)\n",
    "ax.set_title('Histogram of \\'genre\\' using .hist()')\n",
    "\n",
    "\n",
    "#plt.savefig('B05793_05_24.png', dpi=300)"
   ]
  },
  {
   "cell_type": "code",
   "execution_count": 89,
   "id": "5ef6e6e6",
   "metadata": {},
   "outputs": [],
   "source": [
    "hists = Movies.select('Worldwide Gross Income (M)').rdd.flatMap(lambda row: row).histogram(20)"
   ]
  },
  {
   "cell_type": "code",
   "execution_count": 102,
   "id": "a728ea06",
   "metadata": {},
   "outputs": [
    {
     "data": {
      "image/png": "[encoded data removed]",
      "text/plain": [
       "<Figure size 864x648 with 1 Axes>"
      ]
     },
     "metadata": {
      "needs_background": "light"
     },
     "output_type": "display_data"
    }
   ],
   "source": [
    "import matplotlib.pyplot as plt\n",
    "data = {\n",
    "    'bins': hists[0][:-1],\n",
    "    'freq': hists[1]\n",
    "}\n",
    "\n",
    "fig = plt.figure(figsize=(12,9))\n",
    "ax = fig.add_subplot(1, 1, 1)\n",
    "ax.bar(data['bins'], data['freq'], width=10)\n",
    "ax.set_title('Histogram of \\'\\Worlwide Gross Income')\n",
    "\n",
    "plt.savefig('B05793_05_22.png', dpi=5)"
   ]
  },
  {
   "cell_type": "markdown",
   "id": "d68900bd",
   "metadata": {},
   "source": [
    "**check skewness (we will do it for the `'balance'` feature only)**"
   ]
  },
  {
   "cell_type": "code",
   "execution_count": 103,
   "id": "8109d5bd",
   "metadata": {},
   "outputs": [
    {
     "name": "stdout",
     "output_type": "stream",
     "text": [
      "+------------------------------------+\n",
      "|skewness(Worldwide Gross Income (M))|\n",
      "+------------------------------------+\n",
      "|                  0.8056594044021581|\n",
      "+------------------------------------+\n",
      "\n"
     ]
    }
   ],
   "source": [
    "Movies.agg({'Worldwide Gross Income (M)': 'skewness'}).show()"
   ]
  },
  {
   "cell_type": "code",
   "execution_count": 75,
   "id": "0969694b",
   "metadata": {},
   "outputs": [],
   "source": [
    "import pyspark.sql.types as typ"
   ]
  },
  {
   "cell_type": "markdown",
   "id": "93fadf35",
   "metadata": {},
   "source": [
    "### Correlations"
   ]
  },
  {
   "cell_type": "code",
   "execution_count": 104,
   "id": "d66cbc6e",
   "metadata": {},
   "outputs": [
    {
     "data": {
      "text/plain": [
       "-0.3367577715707527"
      ]
     },
     "execution_count": 104,
     "metadata": {},
     "output_type": "execute_result"
    }
   ],
   "source": [
    "Movies.corr('Production Budget(M)','Worldwide Gross Income (M)')"
   ]
  },
  {
   "cell_type": "code",
   "execution_count": 106,
   "id": "9ae9a341",
   "metadata": {},
   "outputs": [],
   "source": [
    "numerical = ['Production Budget(M)','Worldwide Gross Income(M)']"
   ]
  },
  {
   "cell_type": "code",
   "execution_count": 108,
   "id": "1dd30087",
   "metadata": {},
   "outputs": [],
   "source": [
    "#desc = Movies.describe(numerical)\n",
    "#desc.show()"
   ]
  },
  {
   "cell_type": "code",
   "execution_count": 26,
   "id": "01c856b0",
   "metadata": {},
   "outputs": [],
   "source": [
    "import pyspark.sql.types as typ"
   ]
  },
  {
   "cell_type": "code",
   "execution_count": 41,
   "id": "da1b7ed1",
   "metadata": {},
   "outputs": [],
   "source": [
    "#pip install bokeh"
   ]
  },
  {
   "cell_type": "code",
   "execution_count": 42,
   "id": "abc66684",
   "metadata": {},
   "outputs": [
    {
     "name": "stdout",
     "output_type": "stream",
     "text": [
      "Defaulting to user installation because normal site-packages is not writeable\n",
      "Requirement already satisfied: pandas in /home/hduser/.local/lib/python3.10/site-packages (2.1.1)\n",
      "Requirement already satisfied: numpy>=1.22.4 in /home/hduser/.local/lib/python3.10/site-packages (from pandas) (1.26.0)\n",
      "Requirement already satisfied: python-dateutil>=2.8.2 in /home/hduser/.local/lib/python3.10/site-packages (from pandas) (2.8.2)\n",
      "Requirement already satisfied: tzdata>=2022.1 in /home/hduser/.local/lib/python3.10/site-packages (from pandas) (2023.3)\n",
      "Requirement already satisfied: pytz>=2020.1 in /usr/lib/python3/dist-packages (from pandas) (2022.1)\n",
      "Requirement already satisfied: six>=1.5 in /usr/lib/python3/dist-packages (from python-dateutil>=2.8.2->pandas) (1.16.0)\n",
      "Note: you may need to restart the kernel to use updated packages.\n"
     ]
    }
   ],
   "source": [
    "pip install pandas"
   ]
  },
  {
   "cell_type": "code",
   "execution_count": 44,
   "id": "a3feae6f",
   "metadata": {},
   "outputs": [],
   "source": [
    "fields = [\n",
    "    *[\n",
    "        typ.StructField(h[1:-1], typ.IntegerType(), True)\n",
    "        for h in header.split(',')\n",
    "    ]\n",
    "]\n",
    "\n",
    "schema = typ.StructType(fields)"
   ]
  },
  {
   "cell_type": "code",
   "execution_count": 45,
   "id": "6cf027a1",
   "metadata": {},
   "outputs": [
    {
     "data": {
      "text/plain": [
       "DataFrame[roduction Budget(M: int, orldwide Gross Income (M: int, enr: int]"
      ]
     },
     "execution_count": 45,
     "metadata": {},
     "output_type": "execute_result"
    }
   ],
   "source": [
    "Movies_df"
   ]
  },
  {
   "cell_type": "code",
   "execution_count": 46,
   "id": "5b2c3bc0",
   "metadata": {},
   "outputs": [],
   "source": [
    "Movies_df = spark.createDataFrame(Movies, schema)"
   ]
  },
  {
   "cell_type": "code",
   "execution_count": 47,
   "id": "231c5694",
   "metadata": {
    "scrolled": true
   },
   "outputs": [
    {
     "name": "stdout",
     "output_type": "stream",
     "text": [
      "root\n",
      " |-- roduction Budget(M: integer (nullable = true)\n",
      " |-- orldwide Gross Income (M: integer (nullable = true)\n",
      " |-- enr: integer (nullable = true)\n",
      "\n"
     ]
    }
   ],
   "source": [
    "Movies_df.printSchema()"
   ]
  },
  {
   "cell_type": "code",
   "execution_count": 51,
   "id": "145e3e4b",
   "metadata": {},
   "outputs": [],
   "source": [
    "numerical = ['Production Budget', 'orldwide Gross Income']"
   ]
  },
  {
   "cell_type": "code",
   "execution_count": 53,
   "id": "ed242984",
   "metadata": {},
   "outputs": [],
   "source": [
    "#desc = Movies_df.describe(numerical)\n",
    "#desc.show()"
   ]
  },
  {
   "cell_type": "code",
   "execution_count": 36,
   "id": "d7d7f5f5",
   "metadata": {},
   "outputs": [
    {
     "ename": "AnalysisException",
     "evalue": "cannot resolve 'drama' given input columns: [genre]; line 1 pos 8;\n'Filter (genre#94 = 'drama)\n+- Project [genre#94]\n   +- Relation [Production Budget(M)#92,Worldwide Gross Income (M)#93,Genre#94] csv\n",
     "output_type": "error",
     "traceback": [
      "\u001b[0;31m---------------------------------------------------------------------------\u001b[0m",
      "\u001b[0;31mAnalysisException\u001b[0m                         Traceback (most recent call last)",
      "\u001b[0;32m/tmp/ipykernel_7200/2941508884.py\u001b[0m in \u001b[0;36m<module>\u001b[0;34m\u001b[0m\n\u001b[1;32m      1\u001b[0m \u001b[0;31m## Query id and age for swimmers with age = 22 via DataFrame API\u001b[0m\u001b[0;34m\u001b[0m\u001b[0;34m\u001b[0m\u001b[0m\n\u001b[0;32m----> 2\u001b[0;31m \u001b[0mMovies\u001b[0m\u001b[0;34m.\u001b[0m\u001b[0mselect\u001b[0m\u001b[0;34m(\u001b[0m\u001b[0;34m\"genre\"\u001b[0m\u001b[0;34m)\u001b[0m\u001b[0;34m.\u001b[0m\u001b[0mfilter\u001b[0m\u001b[0;34m(\u001b[0m\u001b[0;34m\"genre = drama\"\u001b[0m\u001b[0;34m)\u001b[0m\u001b[0;34m.\u001b[0m\u001b[0mshow\u001b[0m\u001b[0;34m(\u001b[0m\u001b[0;34m)\u001b[0m\u001b[0;34m\u001b[0m\u001b[0;34m\u001b[0m\u001b[0m\n\u001b[0m",
      "\u001b[0;32m/usr/local/spark/python/pyspark/sql/dataframe.py\u001b[0m in \u001b[0;36mfilter\u001b[0;34m(self, condition)\u001b[0m\n\u001b[1;32m   1729\u001b[0m         \"\"\"\n\u001b[1;32m   1730\u001b[0m         \u001b[0;32mif\u001b[0m \u001b[0misinstance\u001b[0m\u001b[0;34m(\u001b[0m\u001b[0mcondition\u001b[0m\u001b[0;34m,\u001b[0m \u001b[0mstr\u001b[0m\u001b[0;34m)\u001b[0m\u001b[0;34m:\u001b[0m\u001b[0;34m\u001b[0m\u001b[0;34m\u001b[0m\u001b[0m\n\u001b[0;32m-> 1731\u001b[0;31m             \u001b[0mjdf\u001b[0m \u001b[0;34m=\u001b[0m \u001b[0mself\u001b[0m\u001b[0;34m.\u001b[0m\u001b[0m_jdf\u001b[0m\u001b[0;34m.\u001b[0m\u001b[0mfilter\u001b[0m\u001b[0;34m(\u001b[0m\u001b[0mcondition\u001b[0m\u001b[0;34m)\u001b[0m\u001b[0;34m\u001b[0m\u001b[0;34m\u001b[0m\u001b[0m\n\u001b[0m\u001b[1;32m   1732\u001b[0m         \u001b[0;32melif\u001b[0m \u001b[0misinstance\u001b[0m\u001b[0;34m(\u001b[0m\u001b[0mcondition\u001b[0m\u001b[0;34m,\u001b[0m \u001b[0mColumn\u001b[0m\u001b[0;34m)\u001b[0m\u001b[0;34m:\u001b[0m\u001b[0;34m\u001b[0m\u001b[0;34m\u001b[0m\u001b[0m\n\u001b[1;32m   1733\u001b[0m             \u001b[0mjdf\u001b[0m \u001b[0;34m=\u001b[0m \u001b[0mself\u001b[0m\u001b[0;34m.\u001b[0m\u001b[0m_jdf\u001b[0m\u001b[0;34m.\u001b[0m\u001b[0mfilter\u001b[0m\u001b[0;34m(\u001b[0m\u001b[0mcondition\u001b[0m\u001b[0;34m.\u001b[0m\u001b[0m_jc\u001b[0m\u001b[0;34m)\u001b[0m\u001b[0;34m\u001b[0m\u001b[0;34m\u001b[0m\u001b[0m\n",
      "\u001b[0;32m/usr/local/spark/python/lib/py4j-0.10.9.5-src.zip/py4j/java_gateway.py\u001b[0m in \u001b[0;36m__call__\u001b[0;34m(self, *args)\u001b[0m\n\u001b[1;32m   1319\u001b[0m \u001b[0;34m\u001b[0m\u001b[0m\n\u001b[1;32m   1320\u001b[0m         \u001b[0manswer\u001b[0m \u001b[0;34m=\u001b[0m \u001b[0mself\u001b[0m\u001b[0;34m.\u001b[0m\u001b[0mgateway_client\u001b[0m\u001b[0;34m.\u001b[0m\u001b[0msend_command\u001b[0m\u001b[0;34m(\u001b[0m\u001b[0mcommand\u001b[0m\u001b[0;34m)\u001b[0m\u001b[0;34m\u001b[0m\u001b[0;34m\u001b[0m\u001b[0m\n\u001b[0;32m-> 1321\u001b[0;31m         return_value = get_return_value(\n\u001b[0m\u001b[1;32m   1322\u001b[0m             answer, self.gateway_client, self.target_id, self.name)\n\u001b[1;32m   1323\u001b[0m \u001b[0;34m\u001b[0m\u001b[0m\n",
      "\u001b[0;32m/usr/local/spark/python/pyspark/sql/utils.py\u001b[0m in \u001b[0;36mdeco\u001b[0;34m(*a, **kw)\u001b[0m\n\u001b[1;32m    115\u001b[0m                 \u001b[0;31m# Hide where the exception came from that shows a non-Pythonic\u001b[0m\u001b[0;34m\u001b[0m\u001b[0;34m\u001b[0m\u001b[0m\n\u001b[1;32m    116\u001b[0m                 \u001b[0;31m# JVM exception message.\u001b[0m\u001b[0;34m\u001b[0m\u001b[0;34m\u001b[0m\u001b[0m\n\u001b[0;32m--> 117\u001b[0;31m                 \u001b[0;32mraise\u001b[0m \u001b[0mconverted\u001b[0m \u001b[0;32mfrom\u001b[0m \u001b[0;32mNone\u001b[0m\u001b[0;34m\u001b[0m\u001b[0;34m\u001b[0m\u001b[0m\n\u001b[0m\u001b[1;32m    118\u001b[0m             \u001b[0;32melse\u001b[0m\u001b[0;34m:\u001b[0m\u001b[0;34m\u001b[0m\u001b[0;34m\u001b[0m\u001b[0m\n\u001b[1;32m    119\u001b[0m                 \u001b[0;32mraise\u001b[0m\u001b[0;34m\u001b[0m\u001b[0;34m\u001b[0m\u001b[0m\n",
      "\u001b[0;31mAnalysisException\u001b[0m: cannot resolve 'drama' given input columns: [genre]; line 1 pos 8;\n'Filter (genre#94 = 'drama)\n+- Project [genre#94]\n   +- Relation [Production Budget(M)#92,Worldwide Gross Income (M)#93,Genre#94] csv\n"
     ]
    }
   ],
   "source": [
    "df_outliers = spark.createDataFrame([\n",
    "        (1, 143.5, 5.3, 28),\n",
    "        (2, 154.2, 5.5, 45),\n",
    "        (3, 342.3, 5.1, 99),\n",
    "        (4, 144.5, 5.5, 33),\n",
    "        (5, 133.2, 5.4, 54),\n",
    "        (6, 124.1, 5.1, 21),\n",
    "        (7, 129.2, 5.3, 42),\n",
    "    ], ['id', 'weight', 'height', 'age'])"
   ]
  }
 ],
 "metadata": {
  "kernelspec": {
   "display_name": "Python 3 (ipykernel)",
   "language": "python",
   "name": "python3"
  },
  "language_info": {
   "codemirror_mode": {
    "name": "ipython",
    "version": 3
   },
   "file_extension": ".py",
   "mimetype": "text/x-python",
   "name": "python",
   "nbconvert_exporter": "python",
   "pygments_lexer": "ipython3",
   "version": "3.10.12"
  }
 },
 "nbformat": 4,
 "nbformat_minor": 5
}
